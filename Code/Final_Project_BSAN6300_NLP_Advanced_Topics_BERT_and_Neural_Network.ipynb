{
  "nbformat": 4,
  "nbformat_minor": 0,
  "metadata": {
    "accelerator": "GPU",
    "colab": {
      "provenance": [],
      "collapsed_sections": [
        "Bpqv34xexKIf",
        "YW0uY4N5w6Hx",
        "Kpfu7B3EhjgF",
        "leR6SZ6VCJie"
      ]
    },
    "kernelspec": {
      "display_name": "Python 3",
      "language": "python",
      "name": "python3"
    },
    "language_info": {
      "codemirror_mode": {
        "name": "ipython",
        "version": 3
      },
      "file_extension": ".py",
      "mimetype": "text/x-python",
      "name": "python",
      "nbconvert_exporter": "python",
      "pygments_lexer": "ipython3",
      "version": "3.8.3"
    },
    "widgets": {
      "application/vnd.jupyter.widget-state+json": {
        "8fac5818a147417bb81ae02cc25d4f1a": {
          "model_module": "@jupyter-widgets/controls",
          "model_name": "HBoxModel",
          "model_module_version": "1.5.0",
          "state": {
            "_dom_classes": [],
            "_model_module": "@jupyter-widgets/controls",
            "_model_module_version": "1.5.0",
            "_model_name": "HBoxModel",
            "_view_count": null,
            "_view_module": "@jupyter-widgets/controls",
            "_view_module_version": "1.5.0",
            "_view_name": "HBoxView",
            "box_style": "",
            "children": [
              "IPY_MODEL_ab4575f6b2134ca8b88d9a484edf972f",
              "IPY_MODEL_abbae9688fcd4f41a42408aa71d93b28",
              "IPY_MODEL_a7003ba0c73749bca85ef6ebcfd3867e"
            ],
            "layout": "IPY_MODEL_9c764e56e53b41f6945011d608f95285"
          }
        },
        "ab4575f6b2134ca8b88d9a484edf972f": {
          "model_module": "@jupyter-widgets/controls",
          "model_name": "HTMLModel",
          "model_module_version": "1.5.0",
          "state": {
            "_dom_classes": [],
            "_model_module": "@jupyter-widgets/controls",
            "_model_module_version": "1.5.0",
            "_model_name": "HTMLModel",
            "_view_count": null,
            "_view_module": "@jupyter-widgets/controls",
            "_view_module_version": "1.5.0",
            "_view_name": "HTMLView",
            "description": "",
            "description_tooltip": null,
            "layout": "IPY_MODEL_a528e260bf6344e7b7ec2189ed44ec4d",
            "placeholder": "​",
            "style": "IPY_MODEL_757a3f409fdc4ee2a9b27779f1e235a5",
            "value": "config.json: 100%"
          }
        },
        "abbae9688fcd4f41a42408aa71d93b28": {
          "model_module": "@jupyter-widgets/controls",
          "model_name": "FloatProgressModel",
          "model_module_version": "1.5.0",
          "state": {
            "_dom_classes": [],
            "_model_module": "@jupyter-widgets/controls",
            "_model_module_version": "1.5.0",
            "_model_name": "FloatProgressModel",
            "_view_count": null,
            "_view_module": "@jupyter-widgets/controls",
            "_view_module_version": "1.5.0",
            "_view_name": "ProgressView",
            "bar_style": "success",
            "description": "",
            "description_tooltip": null,
            "layout": "IPY_MODEL_7c453951a2864c00a1a01a54c52b3092",
            "max": 570,
            "min": 0,
            "orientation": "horizontal",
            "style": "IPY_MODEL_9bda0d2928dc4dfe97d73d9715e32cb8",
            "value": 570
          }
        },
        "a7003ba0c73749bca85ef6ebcfd3867e": {
          "model_module": "@jupyter-widgets/controls",
          "model_name": "HTMLModel",
          "model_module_version": "1.5.0",
          "state": {
            "_dom_classes": [],
            "_model_module": "@jupyter-widgets/controls",
            "_model_module_version": "1.5.0",
            "_model_name": "HTMLModel",
            "_view_count": null,
            "_view_module": "@jupyter-widgets/controls",
            "_view_module_version": "1.5.0",
            "_view_name": "HTMLView",
            "description": "",
            "description_tooltip": null,
            "layout": "IPY_MODEL_666db33a5c734b26918cceae7f8c5361",
            "placeholder": "​",
            "style": "IPY_MODEL_62eb6d338e1048458aa86f51a98ed94f",
            "value": " 570/570 [00:00&lt;00:00, 15.1kB/s]"
          }
        },
        "9c764e56e53b41f6945011d608f95285": {
          "model_module": "@jupyter-widgets/base",
          "model_name": "LayoutModel",
          "model_module_version": "1.2.0",
          "state": {
            "_model_module": "@jupyter-widgets/base",
            "_model_module_version": "1.2.0",
            "_model_name": "LayoutModel",
            "_view_count": null,
            "_view_module": "@jupyter-widgets/base",
            "_view_module_version": "1.2.0",
            "_view_name": "LayoutView",
            "align_content": null,
            "align_items": null,
            "align_self": null,
            "border": null,
            "bottom": null,
            "display": null,
            "flex": null,
            "flex_flow": null,
            "grid_area": null,
            "grid_auto_columns": null,
            "grid_auto_flow": null,
            "grid_auto_rows": null,
            "grid_column": null,
            "grid_gap": null,
            "grid_row": null,
            "grid_template_areas": null,
            "grid_template_columns": null,
            "grid_template_rows": null,
            "height": null,
            "justify_content": null,
            "justify_items": null,
            "left": null,
            "margin": null,
            "max_height": null,
            "max_width": null,
            "min_height": null,
            "min_width": null,
            "object_fit": null,
            "object_position": null,
            "order": null,
            "overflow": null,
            "overflow_x": null,
            "overflow_y": null,
            "padding": null,
            "right": null,
            "top": null,
            "visibility": null,
            "width": null
          }
        },
        "a528e260bf6344e7b7ec2189ed44ec4d": {
          "model_module": "@jupyter-widgets/base",
          "model_name": "LayoutModel",
          "model_module_version": "1.2.0",
          "state": {
            "_model_module": "@jupyter-widgets/base",
            "_model_module_version": "1.2.0",
            "_model_name": "LayoutModel",
            "_view_count": null,
            "_view_module": "@jupyter-widgets/base",
            "_view_module_version": "1.2.0",
            "_view_name": "LayoutView",
            "align_content": null,
            "align_items": null,
            "align_self": null,
            "border": null,
            "bottom": null,
            "display": null,
            "flex": null,
            "flex_flow": null,
            "grid_area": null,
            "grid_auto_columns": null,
            "grid_auto_flow": null,
            "grid_auto_rows": null,
            "grid_column": null,
            "grid_gap": null,
            "grid_row": null,
            "grid_template_areas": null,
            "grid_template_columns": null,
            "grid_template_rows": null,
            "height": null,
            "justify_content": null,
            "justify_items": null,
            "left": null,
            "margin": null,
            "max_height": null,
            "max_width": null,
            "min_height": null,
            "min_width": null,
            "object_fit": null,
            "object_position": null,
            "order": null,
            "overflow": null,
            "overflow_x": null,
            "overflow_y": null,
            "padding": null,
            "right": null,
            "top": null,
            "visibility": null,
            "width": null
          }
        },
        "757a3f409fdc4ee2a9b27779f1e235a5": {
          "model_module": "@jupyter-widgets/controls",
          "model_name": "DescriptionStyleModel",
          "model_module_version": "1.5.0",
          "state": {
            "_model_module": "@jupyter-widgets/controls",
            "_model_module_version": "1.5.0",
            "_model_name": "DescriptionStyleModel",
            "_view_count": null,
            "_view_module": "@jupyter-widgets/base",
            "_view_module_version": "1.2.0",
            "_view_name": "StyleView",
            "description_width": ""
          }
        },
        "7c453951a2864c00a1a01a54c52b3092": {
          "model_module": "@jupyter-widgets/base",
          "model_name": "LayoutModel",
          "model_module_version": "1.2.0",
          "state": {
            "_model_module": "@jupyter-widgets/base",
            "_model_module_version": "1.2.0",
            "_model_name": "LayoutModel",
            "_view_count": null,
            "_view_module": "@jupyter-widgets/base",
            "_view_module_version": "1.2.0",
            "_view_name": "LayoutView",
            "align_content": null,
            "align_items": null,
            "align_self": null,
            "border": null,
            "bottom": null,
            "display": null,
            "flex": null,
            "flex_flow": null,
            "grid_area": null,
            "grid_auto_columns": null,
            "grid_auto_flow": null,
            "grid_auto_rows": null,
            "grid_column": null,
            "grid_gap": null,
            "grid_row": null,
            "grid_template_areas": null,
            "grid_template_columns": null,
            "grid_template_rows": null,
            "height": null,
            "justify_content": null,
            "justify_items": null,
            "left": null,
            "margin": null,
            "max_height": null,
            "max_width": null,
            "min_height": null,
            "min_width": null,
            "object_fit": null,
            "object_position": null,
            "order": null,
            "overflow": null,
            "overflow_x": null,
            "overflow_y": null,
            "padding": null,
            "right": null,
            "top": null,
            "visibility": null,
            "width": null
          }
        },
        "9bda0d2928dc4dfe97d73d9715e32cb8": {
          "model_module": "@jupyter-widgets/controls",
          "model_name": "ProgressStyleModel",
          "model_module_version": "1.5.0",
          "state": {
            "_model_module": "@jupyter-widgets/controls",
            "_model_module_version": "1.5.0",
            "_model_name": "ProgressStyleModel",
            "_view_count": null,
            "_view_module": "@jupyter-widgets/base",
            "_view_module_version": "1.2.0",
            "_view_name": "StyleView",
            "bar_color": null,
            "description_width": ""
          }
        },
        "666db33a5c734b26918cceae7f8c5361": {
          "model_module": "@jupyter-widgets/base",
          "model_name": "LayoutModel",
          "model_module_version": "1.2.0",
          "state": {
            "_model_module": "@jupyter-widgets/base",
            "_model_module_version": "1.2.0",
            "_model_name": "LayoutModel",
            "_view_count": null,
            "_view_module": "@jupyter-widgets/base",
            "_view_module_version": "1.2.0",
            "_view_name": "LayoutView",
            "align_content": null,
            "align_items": null,
            "align_self": null,
            "border": null,
            "bottom": null,
            "display": null,
            "flex": null,
            "flex_flow": null,
            "grid_area": null,
            "grid_auto_columns": null,
            "grid_auto_flow": null,
            "grid_auto_rows": null,
            "grid_column": null,
            "grid_gap": null,
            "grid_row": null,
            "grid_template_areas": null,
            "grid_template_columns": null,
            "grid_template_rows": null,
            "height": null,
            "justify_content": null,
            "justify_items": null,
            "left": null,
            "margin": null,
            "max_height": null,
            "max_width": null,
            "min_height": null,
            "min_width": null,
            "object_fit": null,
            "object_position": null,
            "order": null,
            "overflow": null,
            "overflow_x": null,
            "overflow_y": null,
            "padding": null,
            "right": null,
            "top": null,
            "visibility": null,
            "width": null
          }
        },
        "62eb6d338e1048458aa86f51a98ed94f": {
          "model_module": "@jupyter-widgets/controls",
          "model_name": "DescriptionStyleModel",
          "model_module_version": "1.5.0",
          "state": {
            "_model_module": "@jupyter-widgets/controls",
            "_model_module_version": "1.5.0",
            "_model_name": "DescriptionStyleModel",
            "_view_count": null,
            "_view_module": "@jupyter-widgets/base",
            "_view_module_version": "1.2.0",
            "_view_name": "StyleView",
            "description_width": ""
          }
        },
        "e4edc78e2670417fbfe1f8b69d0314fb": {
          "model_module": "@jupyter-widgets/controls",
          "model_name": "HBoxModel",
          "model_module_version": "1.5.0",
          "state": {
            "_dom_classes": [],
            "_model_module": "@jupyter-widgets/controls",
            "_model_module_version": "1.5.0",
            "_model_name": "HBoxModel",
            "_view_count": null,
            "_view_module": "@jupyter-widgets/controls",
            "_view_module_version": "1.5.0",
            "_view_name": "HBoxView",
            "box_style": "",
            "children": [
              "IPY_MODEL_a9bf6ae821f041b3bcc161f347231333",
              "IPY_MODEL_8f205d37a6ed411bab511fa70b931fa0",
              "IPY_MODEL_85b882826a1f47669d996a7c92ee576b"
            ],
            "layout": "IPY_MODEL_5fd52662481e47f78a7e223e3e666b5c"
          }
        },
        "a9bf6ae821f041b3bcc161f347231333": {
          "model_module": "@jupyter-widgets/controls",
          "model_name": "HTMLModel",
          "model_module_version": "1.5.0",
          "state": {
            "_dom_classes": [],
            "_model_module": "@jupyter-widgets/controls",
            "_model_module_version": "1.5.0",
            "_model_name": "HTMLModel",
            "_view_count": null,
            "_view_module": "@jupyter-widgets/controls",
            "_view_module_version": "1.5.0",
            "_view_name": "HTMLView",
            "description": "",
            "description_tooltip": null,
            "layout": "IPY_MODEL_c71e66d45d6d4638a2df6be606bb5f72",
            "placeholder": "​",
            "style": "IPY_MODEL_a03d22ab036b491e873879742853183c",
            "value": "model.safetensors: 100%"
          }
        },
        "8f205d37a6ed411bab511fa70b931fa0": {
          "model_module": "@jupyter-widgets/controls",
          "model_name": "FloatProgressModel",
          "model_module_version": "1.5.0",
          "state": {
            "_dom_classes": [],
            "_model_module": "@jupyter-widgets/controls",
            "_model_module_version": "1.5.0",
            "_model_name": "FloatProgressModel",
            "_view_count": null,
            "_view_module": "@jupyter-widgets/controls",
            "_view_module_version": "1.5.0",
            "_view_name": "ProgressView",
            "bar_style": "success",
            "description": "",
            "description_tooltip": null,
            "layout": "IPY_MODEL_8be326fe02ea4f729b2c0080f5e9f01c",
            "max": 440449768,
            "min": 0,
            "orientation": "horizontal",
            "style": "IPY_MODEL_8db16e92f10d49a28eba2a9c449a6274",
            "value": 440449768
          }
        },
        "85b882826a1f47669d996a7c92ee576b": {
          "model_module": "@jupyter-widgets/controls",
          "model_name": "HTMLModel",
          "model_module_version": "1.5.0",
          "state": {
            "_dom_classes": [],
            "_model_module": "@jupyter-widgets/controls",
            "_model_module_version": "1.5.0",
            "_model_name": "HTMLModel",
            "_view_count": null,
            "_view_module": "@jupyter-widgets/controls",
            "_view_module_version": "1.5.0",
            "_view_name": "HTMLView",
            "description": "",
            "description_tooltip": null,
            "layout": "IPY_MODEL_d94e29b2910947b8985e8b942aa35814",
            "placeholder": "​",
            "style": "IPY_MODEL_d48ed971a1fd42d6bca38123f88bdf6a",
            "value": " 440M/440M [00:02&lt;00:00, 201MB/s]"
          }
        },
        "5fd52662481e47f78a7e223e3e666b5c": {
          "model_module": "@jupyter-widgets/base",
          "model_name": "LayoutModel",
          "model_module_version": "1.2.0",
          "state": {
            "_model_module": "@jupyter-widgets/base",
            "_model_module_version": "1.2.0",
            "_model_name": "LayoutModel",
            "_view_count": null,
            "_view_module": "@jupyter-widgets/base",
            "_view_module_version": "1.2.0",
            "_view_name": "LayoutView",
            "align_content": null,
            "align_items": null,
            "align_self": null,
            "border": null,
            "bottom": null,
            "display": null,
            "flex": null,
            "flex_flow": null,
            "grid_area": null,
            "grid_auto_columns": null,
            "grid_auto_flow": null,
            "grid_auto_rows": null,
            "grid_column": null,
            "grid_gap": null,
            "grid_row": null,
            "grid_template_areas": null,
            "grid_template_columns": null,
            "grid_template_rows": null,
            "height": null,
            "justify_content": null,
            "justify_items": null,
            "left": null,
            "margin": null,
            "max_height": null,
            "max_width": null,
            "min_height": null,
            "min_width": null,
            "object_fit": null,
            "object_position": null,
            "order": null,
            "overflow": null,
            "overflow_x": null,
            "overflow_y": null,
            "padding": null,
            "right": null,
            "top": null,
            "visibility": null,
            "width": null
          }
        },
        "c71e66d45d6d4638a2df6be606bb5f72": {
          "model_module": "@jupyter-widgets/base",
          "model_name": "LayoutModel",
          "model_module_version": "1.2.0",
          "state": {
            "_model_module": "@jupyter-widgets/base",
            "_model_module_version": "1.2.0",
            "_model_name": "LayoutModel",
            "_view_count": null,
            "_view_module": "@jupyter-widgets/base",
            "_view_module_version": "1.2.0",
            "_view_name": "LayoutView",
            "align_content": null,
            "align_items": null,
            "align_self": null,
            "border": null,
            "bottom": null,
            "display": null,
            "flex": null,
            "flex_flow": null,
            "grid_area": null,
            "grid_auto_columns": null,
            "grid_auto_flow": null,
            "grid_auto_rows": null,
            "grid_column": null,
            "grid_gap": null,
            "grid_row": null,
            "grid_template_areas": null,
            "grid_template_columns": null,
            "grid_template_rows": null,
            "height": null,
            "justify_content": null,
            "justify_items": null,
            "left": null,
            "margin": null,
            "max_height": null,
            "max_width": null,
            "min_height": null,
            "min_width": null,
            "object_fit": null,
            "object_position": null,
            "order": null,
            "overflow": null,
            "overflow_x": null,
            "overflow_y": null,
            "padding": null,
            "right": null,
            "top": null,
            "visibility": null,
            "width": null
          }
        },
        "a03d22ab036b491e873879742853183c": {
          "model_module": "@jupyter-widgets/controls",
          "model_name": "DescriptionStyleModel",
          "model_module_version": "1.5.0",
          "state": {
            "_model_module": "@jupyter-widgets/controls",
            "_model_module_version": "1.5.0",
            "_model_name": "DescriptionStyleModel",
            "_view_count": null,
            "_view_module": "@jupyter-widgets/base",
            "_view_module_version": "1.2.0",
            "_view_name": "StyleView",
            "description_width": ""
          }
        },
        "8be326fe02ea4f729b2c0080f5e9f01c": {
          "model_module": "@jupyter-widgets/base",
          "model_name": "LayoutModel",
          "model_module_version": "1.2.0",
          "state": {
            "_model_module": "@jupyter-widgets/base",
            "_model_module_version": "1.2.0",
            "_model_name": "LayoutModel",
            "_view_count": null,
            "_view_module": "@jupyter-widgets/base",
            "_view_module_version": "1.2.0",
            "_view_name": "LayoutView",
            "align_content": null,
            "align_items": null,
            "align_self": null,
            "border": null,
            "bottom": null,
            "display": null,
            "flex": null,
            "flex_flow": null,
            "grid_area": null,
            "grid_auto_columns": null,
            "grid_auto_flow": null,
            "grid_auto_rows": null,
            "grid_column": null,
            "grid_gap": null,
            "grid_row": null,
            "grid_template_areas": null,
            "grid_template_columns": null,
            "grid_template_rows": null,
            "height": null,
            "justify_content": null,
            "justify_items": null,
            "left": null,
            "margin": null,
            "max_height": null,
            "max_width": null,
            "min_height": null,
            "min_width": null,
            "object_fit": null,
            "object_position": null,
            "order": null,
            "overflow": null,
            "overflow_x": null,
            "overflow_y": null,
            "padding": null,
            "right": null,
            "top": null,
            "visibility": null,
            "width": null
          }
        },
        "8db16e92f10d49a28eba2a9c449a6274": {
          "model_module": "@jupyter-widgets/controls",
          "model_name": "ProgressStyleModel",
          "model_module_version": "1.5.0",
          "state": {
            "_model_module": "@jupyter-widgets/controls",
            "_model_module_version": "1.5.0",
            "_model_name": "ProgressStyleModel",
            "_view_count": null,
            "_view_module": "@jupyter-widgets/base",
            "_view_module_version": "1.2.0",
            "_view_name": "StyleView",
            "bar_color": null,
            "description_width": ""
          }
        },
        "d94e29b2910947b8985e8b942aa35814": {
          "model_module": "@jupyter-widgets/base",
          "model_name": "LayoutModel",
          "model_module_version": "1.2.0",
          "state": {
            "_model_module": "@jupyter-widgets/base",
            "_model_module_version": "1.2.0",
            "_model_name": "LayoutModel",
            "_view_count": null,
            "_view_module": "@jupyter-widgets/base",
            "_view_module_version": "1.2.0",
            "_view_name": "LayoutView",
            "align_content": null,
            "align_items": null,
            "align_self": null,
            "border": null,
            "bottom": null,
            "display": null,
            "flex": null,
            "flex_flow": null,
            "grid_area": null,
            "grid_auto_columns": null,
            "grid_auto_flow": null,
            "grid_auto_rows": null,
            "grid_column": null,
            "grid_gap": null,
            "grid_row": null,
            "grid_template_areas": null,
            "grid_template_columns": null,
            "grid_template_rows": null,
            "height": null,
            "justify_content": null,
            "justify_items": null,
            "left": null,
            "margin": null,
            "max_height": null,
            "max_width": null,
            "min_height": null,
            "min_width": null,
            "object_fit": null,
            "object_position": null,
            "order": null,
            "overflow": null,
            "overflow_x": null,
            "overflow_y": null,
            "padding": null,
            "right": null,
            "top": null,
            "visibility": null,
            "width": null
          }
        },
        "d48ed971a1fd42d6bca38123f88bdf6a": {
          "model_module": "@jupyter-widgets/controls",
          "model_name": "DescriptionStyleModel",
          "model_module_version": "1.5.0",
          "state": {
            "_model_module": "@jupyter-widgets/controls",
            "_model_module_version": "1.5.0",
            "_model_name": "DescriptionStyleModel",
            "_view_count": null,
            "_view_module": "@jupyter-widgets/base",
            "_view_module_version": "1.2.0",
            "_view_name": "StyleView",
            "description_width": ""
          }
        },
        "99ff11963197410f9424137584453be7": {
          "model_module": "@jupyter-widgets/controls",
          "model_name": "HBoxModel",
          "model_module_version": "1.5.0",
          "state": {
            "_dom_classes": [],
            "_model_module": "@jupyter-widgets/controls",
            "_model_module_version": "1.5.0",
            "_model_name": "HBoxModel",
            "_view_count": null,
            "_view_module": "@jupyter-widgets/controls",
            "_view_module_version": "1.5.0",
            "_view_name": "HBoxView",
            "box_style": "",
            "children": [
              "IPY_MODEL_abe7207c4c554e28bb94289b981e80f9",
              "IPY_MODEL_09074fd498094993a5b80b50dfeaae0b",
              "IPY_MODEL_d07338eaf0d94ba3889c8a5ff6c062c2"
            ],
            "layout": "IPY_MODEL_ef23b10db0e949469b48d44c10cc3e1d"
          }
        },
        "abe7207c4c554e28bb94289b981e80f9": {
          "model_module": "@jupyter-widgets/controls",
          "model_name": "HTMLModel",
          "model_module_version": "1.5.0",
          "state": {
            "_dom_classes": [],
            "_model_module": "@jupyter-widgets/controls",
            "_model_module_version": "1.5.0",
            "_model_name": "HTMLModel",
            "_view_count": null,
            "_view_module": "@jupyter-widgets/controls",
            "_view_module_version": "1.5.0",
            "_view_name": "HTMLView",
            "description": "",
            "description_tooltip": null,
            "layout": "IPY_MODEL_9a2d195fdfc140dda3e8d06890967ba0",
            "placeholder": "​",
            "style": "IPY_MODEL_bfcf2eac8bec42b9b2daafe675ab0056",
            "value": "tokenizer_config.json: 100%"
          }
        },
        "09074fd498094993a5b80b50dfeaae0b": {
          "model_module": "@jupyter-widgets/controls",
          "model_name": "FloatProgressModel",
          "model_module_version": "1.5.0",
          "state": {
            "_dom_classes": [],
            "_model_module": "@jupyter-widgets/controls",
            "_model_module_version": "1.5.0",
            "_model_name": "FloatProgressModel",
            "_view_count": null,
            "_view_module": "@jupyter-widgets/controls",
            "_view_module_version": "1.5.0",
            "_view_name": "ProgressView",
            "bar_style": "success",
            "description": "",
            "description_tooltip": null,
            "layout": "IPY_MODEL_b3b350fea1e347ac9ac1917c6856171a",
            "max": 48,
            "min": 0,
            "orientation": "horizontal",
            "style": "IPY_MODEL_1ff2ebbac54149c299b78bf1398e4f73",
            "value": 48
          }
        },
        "d07338eaf0d94ba3889c8a5ff6c062c2": {
          "model_module": "@jupyter-widgets/controls",
          "model_name": "HTMLModel",
          "model_module_version": "1.5.0",
          "state": {
            "_dom_classes": [],
            "_model_module": "@jupyter-widgets/controls",
            "_model_module_version": "1.5.0",
            "_model_name": "HTMLModel",
            "_view_count": null,
            "_view_module": "@jupyter-widgets/controls",
            "_view_module_version": "1.5.0",
            "_view_name": "HTMLView",
            "description": "",
            "description_tooltip": null,
            "layout": "IPY_MODEL_cd009e0114304be0b8a394fdfbd6dc2f",
            "placeholder": "​",
            "style": "IPY_MODEL_f8984653684746f282cf3bf1e4dce02c",
            "value": " 48.0/48.0 [00:00&lt;00:00, 641B/s]"
          }
        },
        "ef23b10db0e949469b48d44c10cc3e1d": {
          "model_module": "@jupyter-widgets/base",
          "model_name": "LayoutModel",
          "model_module_version": "1.2.0",
          "state": {
            "_model_module": "@jupyter-widgets/base",
            "_model_module_version": "1.2.0",
            "_model_name": "LayoutModel",
            "_view_count": null,
            "_view_module": "@jupyter-widgets/base",
            "_view_module_version": "1.2.0",
            "_view_name": "LayoutView",
            "align_content": null,
            "align_items": null,
            "align_self": null,
            "border": null,
            "bottom": null,
            "display": null,
            "flex": null,
            "flex_flow": null,
            "grid_area": null,
            "grid_auto_columns": null,
            "grid_auto_flow": null,
            "grid_auto_rows": null,
            "grid_column": null,
            "grid_gap": null,
            "grid_row": null,
            "grid_template_areas": null,
            "grid_template_columns": null,
            "grid_template_rows": null,
            "height": null,
            "justify_content": null,
            "justify_items": null,
            "left": null,
            "margin": null,
            "max_height": null,
            "max_width": null,
            "min_height": null,
            "min_width": null,
            "object_fit": null,
            "object_position": null,
            "order": null,
            "overflow": null,
            "overflow_x": null,
            "overflow_y": null,
            "padding": null,
            "right": null,
            "top": null,
            "visibility": null,
            "width": null
          }
        },
        "9a2d195fdfc140dda3e8d06890967ba0": {
          "model_module": "@jupyter-widgets/base",
          "model_name": "LayoutModel",
          "model_module_version": "1.2.0",
          "state": {
            "_model_module": "@jupyter-widgets/base",
            "_model_module_version": "1.2.0",
            "_model_name": "LayoutModel",
            "_view_count": null,
            "_view_module": "@jupyter-widgets/base",
            "_view_module_version": "1.2.0",
            "_view_name": "LayoutView",
            "align_content": null,
            "align_items": null,
            "align_self": null,
            "border": null,
            "bottom": null,
            "display": null,
            "flex": null,
            "flex_flow": null,
            "grid_area": null,
            "grid_auto_columns": null,
            "grid_auto_flow": null,
            "grid_auto_rows": null,
            "grid_column": null,
            "grid_gap": null,
            "grid_row": null,
            "grid_template_areas": null,
            "grid_template_columns": null,
            "grid_template_rows": null,
            "height": null,
            "justify_content": null,
            "justify_items": null,
            "left": null,
            "margin": null,
            "max_height": null,
            "max_width": null,
            "min_height": null,
            "min_width": null,
            "object_fit": null,
            "object_position": null,
            "order": null,
            "overflow": null,
            "overflow_x": null,
            "overflow_y": null,
            "padding": null,
            "right": null,
            "top": null,
            "visibility": null,
            "width": null
          }
        },
        "bfcf2eac8bec42b9b2daafe675ab0056": {
          "model_module": "@jupyter-widgets/controls",
          "model_name": "DescriptionStyleModel",
          "model_module_version": "1.5.0",
          "state": {
            "_model_module": "@jupyter-widgets/controls",
            "_model_module_version": "1.5.0",
            "_model_name": "DescriptionStyleModel",
            "_view_count": null,
            "_view_module": "@jupyter-widgets/base",
            "_view_module_version": "1.2.0",
            "_view_name": "StyleView",
            "description_width": ""
          }
        },
        "b3b350fea1e347ac9ac1917c6856171a": {
          "model_module": "@jupyter-widgets/base",
          "model_name": "LayoutModel",
          "model_module_version": "1.2.0",
          "state": {
            "_model_module": "@jupyter-widgets/base",
            "_model_module_version": "1.2.0",
            "_model_name": "LayoutModel",
            "_view_count": null,
            "_view_module": "@jupyter-widgets/base",
            "_view_module_version": "1.2.0",
            "_view_name": "LayoutView",
            "align_content": null,
            "align_items": null,
            "align_self": null,
            "border": null,
            "bottom": null,
            "display": null,
            "flex": null,
            "flex_flow": null,
            "grid_area": null,
            "grid_auto_columns": null,
            "grid_auto_flow": null,
            "grid_auto_rows": null,
            "grid_column": null,
            "grid_gap": null,
            "grid_row": null,
            "grid_template_areas": null,
            "grid_template_columns": null,
            "grid_template_rows": null,
            "height": null,
            "justify_content": null,
            "justify_items": null,
            "left": null,
            "margin": null,
            "max_height": null,
            "max_width": null,
            "min_height": null,
            "min_width": null,
            "object_fit": null,
            "object_position": null,
            "order": null,
            "overflow": null,
            "overflow_x": null,
            "overflow_y": null,
            "padding": null,
            "right": null,
            "top": null,
            "visibility": null,
            "width": null
          }
        },
        "1ff2ebbac54149c299b78bf1398e4f73": {
          "model_module": "@jupyter-widgets/controls",
          "model_name": "ProgressStyleModel",
          "model_module_version": "1.5.0",
          "state": {
            "_model_module": "@jupyter-widgets/controls",
            "_model_module_version": "1.5.0",
            "_model_name": "ProgressStyleModel",
            "_view_count": null,
            "_view_module": "@jupyter-widgets/base",
            "_view_module_version": "1.2.0",
            "_view_name": "StyleView",
            "bar_color": null,
            "description_width": ""
          }
        },
        "cd009e0114304be0b8a394fdfbd6dc2f": {
          "model_module": "@jupyter-widgets/base",
          "model_name": "LayoutModel",
          "model_module_version": "1.2.0",
          "state": {
            "_model_module": "@jupyter-widgets/base",
            "_model_module_version": "1.2.0",
            "_model_name": "LayoutModel",
            "_view_count": null,
            "_view_module": "@jupyter-widgets/base",
            "_view_module_version": "1.2.0",
            "_view_name": "LayoutView",
            "align_content": null,
            "align_items": null,
            "align_self": null,
            "border": null,
            "bottom": null,
            "display": null,
            "flex": null,
            "flex_flow": null,
            "grid_area": null,
            "grid_auto_columns": null,
            "grid_auto_flow": null,
            "grid_auto_rows": null,
            "grid_column": null,
            "grid_gap": null,
            "grid_row": null,
            "grid_template_areas": null,
            "grid_template_columns": null,
            "grid_template_rows": null,
            "height": null,
            "justify_content": null,
            "justify_items": null,
            "left": null,
            "margin": null,
            "max_height": null,
            "max_width": null,
            "min_height": null,
            "min_width": null,
            "object_fit": null,
            "object_position": null,
            "order": null,
            "overflow": null,
            "overflow_x": null,
            "overflow_y": null,
            "padding": null,
            "right": null,
            "top": null,
            "visibility": null,
            "width": null
          }
        },
        "f8984653684746f282cf3bf1e4dce02c": {
          "model_module": "@jupyter-widgets/controls",
          "model_name": "DescriptionStyleModel",
          "model_module_version": "1.5.0",
          "state": {
            "_model_module": "@jupyter-widgets/controls",
            "_model_module_version": "1.5.0",
            "_model_name": "DescriptionStyleModel",
            "_view_count": null,
            "_view_module": "@jupyter-widgets/base",
            "_view_module_version": "1.2.0",
            "_view_name": "StyleView",
            "description_width": ""
          }
        },
        "5333028c3132498294da48beb8124e66": {
          "model_module": "@jupyter-widgets/controls",
          "model_name": "HBoxModel",
          "model_module_version": "1.5.0",
          "state": {
            "_dom_classes": [],
            "_model_module": "@jupyter-widgets/controls",
            "_model_module_version": "1.5.0",
            "_model_name": "HBoxModel",
            "_view_count": null,
            "_view_module": "@jupyter-widgets/controls",
            "_view_module_version": "1.5.0",
            "_view_name": "HBoxView",
            "box_style": "",
            "children": [
              "IPY_MODEL_e0430da9a3254ed689f51836b80a476b",
              "IPY_MODEL_7daaabf087894bcd9eb99af7ce2dc830",
              "IPY_MODEL_3b7dd67b4f674659a8b2d94d1043b7c7"
            ],
            "layout": "IPY_MODEL_c7b8fffa786f4f8297c3343e70f2e6b6"
          }
        },
        "e0430da9a3254ed689f51836b80a476b": {
          "model_module": "@jupyter-widgets/controls",
          "model_name": "HTMLModel",
          "model_module_version": "1.5.0",
          "state": {
            "_dom_classes": [],
            "_model_module": "@jupyter-widgets/controls",
            "_model_module_version": "1.5.0",
            "_model_name": "HTMLModel",
            "_view_count": null,
            "_view_module": "@jupyter-widgets/controls",
            "_view_module_version": "1.5.0",
            "_view_name": "HTMLView",
            "description": "",
            "description_tooltip": null,
            "layout": "IPY_MODEL_0222cd1f7b3e484a97fcca1d29a7a350",
            "placeholder": "​",
            "style": "IPY_MODEL_7f00c17c328049c09e24cfc8cfa55ad3",
            "value": "vocab.txt: 100%"
          }
        },
        "7daaabf087894bcd9eb99af7ce2dc830": {
          "model_module": "@jupyter-widgets/controls",
          "model_name": "FloatProgressModel",
          "model_module_version": "1.5.0",
          "state": {
            "_dom_classes": [],
            "_model_module": "@jupyter-widgets/controls",
            "_model_module_version": "1.5.0",
            "_model_name": "FloatProgressModel",
            "_view_count": null,
            "_view_module": "@jupyter-widgets/controls",
            "_view_module_version": "1.5.0",
            "_view_name": "ProgressView",
            "bar_style": "success",
            "description": "",
            "description_tooltip": null,
            "layout": "IPY_MODEL_27169b82fadd424cb2e4738a6c122541",
            "max": 231508,
            "min": 0,
            "orientation": "horizontal",
            "style": "IPY_MODEL_3f35948a33e742a6b446fc324a084a92",
            "value": 231508
          }
        },
        "3b7dd67b4f674659a8b2d94d1043b7c7": {
          "model_module": "@jupyter-widgets/controls",
          "model_name": "HTMLModel",
          "model_module_version": "1.5.0",
          "state": {
            "_dom_classes": [],
            "_model_module": "@jupyter-widgets/controls",
            "_model_module_version": "1.5.0",
            "_model_name": "HTMLModel",
            "_view_count": null,
            "_view_module": "@jupyter-widgets/controls",
            "_view_module_version": "1.5.0",
            "_view_name": "HTMLView",
            "description": "",
            "description_tooltip": null,
            "layout": "IPY_MODEL_75e63d631c4140a2be2b75f70d3cdf20",
            "placeholder": "​",
            "style": "IPY_MODEL_8f04a4c467cd47ae90455591dedfc638",
            "value": " 232k/232k [00:00&lt;00:00, 3.22MB/s]"
          }
        },
        "c7b8fffa786f4f8297c3343e70f2e6b6": {
          "model_module": "@jupyter-widgets/base",
          "model_name": "LayoutModel",
          "model_module_version": "1.2.0",
          "state": {
            "_model_module": "@jupyter-widgets/base",
            "_model_module_version": "1.2.0",
            "_model_name": "LayoutModel",
            "_view_count": null,
            "_view_module": "@jupyter-widgets/base",
            "_view_module_version": "1.2.0",
            "_view_name": "LayoutView",
            "align_content": null,
            "align_items": null,
            "align_self": null,
            "border": null,
            "bottom": null,
            "display": null,
            "flex": null,
            "flex_flow": null,
            "grid_area": null,
            "grid_auto_columns": null,
            "grid_auto_flow": null,
            "grid_auto_rows": null,
            "grid_column": null,
            "grid_gap": null,
            "grid_row": null,
            "grid_template_areas": null,
            "grid_template_columns": null,
            "grid_template_rows": null,
            "height": null,
            "justify_content": null,
            "justify_items": null,
            "left": null,
            "margin": null,
            "max_height": null,
            "max_width": null,
            "min_height": null,
            "min_width": null,
            "object_fit": null,
            "object_position": null,
            "order": null,
            "overflow": null,
            "overflow_x": null,
            "overflow_y": null,
            "padding": null,
            "right": null,
            "top": null,
            "visibility": null,
            "width": null
          }
        },
        "0222cd1f7b3e484a97fcca1d29a7a350": {
          "model_module": "@jupyter-widgets/base",
          "model_name": "LayoutModel",
          "model_module_version": "1.2.0",
          "state": {
            "_model_module": "@jupyter-widgets/base",
            "_model_module_version": "1.2.0",
            "_model_name": "LayoutModel",
            "_view_count": null,
            "_view_module": "@jupyter-widgets/base",
            "_view_module_version": "1.2.0",
            "_view_name": "LayoutView",
            "align_content": null,
            "align_items": null,
            "align_self": null,
            "border": null,
            "bottom": null,
            "display": null,
            "flex": null,
            "flex_flow": null,
            "grid_area": null,
            "grid_auto_columns": null,
            "grid_auto_flow": null,
            "grid_auto_rows": null,
            "grid_column": null,
            "grid_gap": null,
            "grid_row": null,
            "grid_template_areas": null,
            "grid_template_columns": null,
            "grid_template_rows": null,
            "height": null,
            "justify_content": null,
            "justify_items": null,
            "left": null,
            "margin": null,
            "max_height": null,
            "max_width": null,
            "min_height": null,
            "min_width": null,
            "object_fit": null,
            "object_position": null,
            "order": null,
            "overflow": null,
            "overflow_x": null,
            "overflow_y": null,
            "padding": null,
            "right": null,
            "top": null,
            "visibility": null,
            "width": null
          }
        },
        "7f00c17c328049c09e24cfc8cfa55ad3": {
          "model_module": "@jupyter-widgets/controls",
          "model_name": "DescriptionStyleModel",
          "model_module_version": "1.5.0",
          "state": {
            "_model_module": "@jupyter-widgets/controls",
            "_model_module_version": "1.5.0",
            "_model_name": "DescriptionStyleModel",
            "_view_count": null,
            "_view_module": "@jupyter-widgets/base",
            "_view_module_version": "1.2.0",
            "_view_name": "StyleView",
            "description_width": ""
          }
        },
        "27169b82fadd424cb2e4738a6c122541": {
          "model_module": "@jupyter-widgets/base",
          "model_name": "LayoutModel",
          "model_module_version": "1.2.0",
          "state": {
            "_model_module": "@jupyter-widgets/base",
            "_model_module_version": "1.2.0",
            "_model_name": "LayoutModel",
            "_view_count": null,
            "_view_module": "@jupyter-widgets/base",
            "_view_module_version": "1.2.0",
            "_view_name": "LayoutView",
            "align_content": null,
            "align_items": null,
            "align_self": null,
            "border": null,
            "bottom": null,
            "display": null,
            "flex": null,
            "flex_flow": null,
            "grid_area": null,
            "grid_auto_columns": null,
            "grid_auto_flow": null,
            "grid_auto_rows": null,
            "grid_column": null,
            "grid_gap": null,
            "grid_row": null,
            "grid_template_areas": null,
            "grid_template_columns": null,
            "grid_template_rows": null,
            "height": null,
            "justify_content": null,
            "justify_items": null,
            "left": null,
            "margin": null,
            "max_height": null,
            "max_width": null,
            "min_height": null,
            "min_width": null,
            "object_fit": null,
            "object_position": null,
            "order": null,
            "overflow": null,
            "overflow_x": null,
            "overflow_y": null,
            "padding": null,
            "right": null,
            "top": null,
            "visibility": null,
            "width": null
          }
        },
        "3f35948a33e742a6b446fc324a084a92": {
          "model_module": "@jupyter-widgets/controls",
          "model_name": "ProgressStyleModel",
          "model_module_version": "1.5.0",
          "state": {
            "_model_module": "@jupyter-widgets/controls",
            "_model_module_version": "1.5.0",
            "_model_name": "ProgressStyleModel",
            "_view_count": null,
            "_view_module": "@jupyter-widgets/base",
            "_view_module_version": "1.2.0",
            "_view_name": "StyleView",
            "bar_color": null,
            "description_width": ""
          }
        },
        "75e63d631c4140a2be2b75f70d3cdf20": {
          "model_module": "@jupyter-widgets/base",
          "model_name": "LayoutModel",
          "model_module_version": "1.2.0",
          "state": {
            "_model_module": "@jupyter-widgets/base",
            "_model_module_version": "1.2.0",
            "_model_name": "LayoutModel",
            "_view_count": null,
            "_view_module": "@jupyter-widgets/base",
            "_view_module_version": "1.2.0",
            "_view_name": "LayoutView",
            "align_content": null,
            "align_items": null,
            "align_self": null,
            "border": null,
            "bottom": null,
            "display": null,
            "flex": null,
            "flex_flow": null,
            "grid_area": null,
            "grid_auto_columns": null,
            "grid_auto_flow": null,
            "grid_auto_rows": null,
            "grid_column": null,
            "grid_gap": null,
            "grid_row": null,
            "grid_template_areas": null,
            "grid_template_columns": null,
            "grid_template_rows": null,
            "height": null,
            "justify_content": null,
            "justify_items": null,
            "left": null,
            "margin": null,
            "max_height": null,
            "max_width": null,
            "min_height": null,
            "min_width": null,
            "object_fit": null,
            "object_position": null,
            "order": null,
            "overflow": null,
            "overflow_x": null,
            "overflow_y": null,
            "padding": null,
            "right": null,
            "top": null,
            "visibility": null,
            "width": null
          }
        },
        "8f04a4c467cd47ae90455591dedfc638": {
          "model_module": "@jupyter-widgets/controls",
          "model_name": "DescriptionStyleModel",
          "model_module_version": "1.5.0",
          "state": {
            "_model_module": "@jupyter-widgets/controls",
            "_model_module_version": "1.5.0",
            "_model_name": "DescriptionStyleModel",
            "_view_count": null,
            "_view_module": "@jupyter-widgets/base",
            "_view_module_version": "1.2.0",
            "_view_name": "StyleView",
            "description_width": ""
          }
        },
        "979043281af940039ce48218d56719c2": {
          "model_module": "@jupyter-widgets/controls",
          "model_name": "HBoxModel",
          "model_module_version": "1.5.0",
          "state": {
            "_dom_classes": [],
            "_model_module": "@jupyter-widgets/controls",
            "_model_module_version": "1.5.0",
            "_model_name": "HBoxModel",
            "_view_count": null,
            "_view_module": "@jupyter-widgets/controls",
            "_view_module_version": "1.5.0",
            "_view_name": "HBoxView",
            "box_style": "",
            "children": [
              "IPY_MODEL_6548efc08d314676a02f500e5d638fe3",
              "IPY_MODEL_d78856bb09b34c7d81b5b46139eff852",
              "IPY_MODEL_45ab22f21e164940a458903c20456f5a"
            ],
            "layout": "IPY_MODEL_502a26155719467a8deb93451a5cfdfc"
          }
        },
        "6548efc08d314676a02f500e5d638fe3": {
          "model_module": "@jupyter-widgets/controls",
          "model_name": "HTMLModel",
          "model_module_version": "1.5.0",
          "state": {
            "_dom_classes": [],
            "_model_module": "@jupyter-widgets/controls",
            "_model_module_version": "1.5.0",
            "_model_name": "HTMLModel",
            "_view_count": null,
            "_view_module": "@jupyter-widgets/controls",
            "_view_module_version": "1.5.0",
            "_view_name": "HTMLView",
            "description": "",
            "description_tooltip": null,
            "layout": "IPY_MODEL_b8070cfa66de4792ae4ef95cd632b16a",
            "placeholder": "​",
            "style": "IPY_MODEL_42c16d09ca1040768121b8e1a0377109",
            "value": "tokenizer.json: 100%"
          }
        },
        "d78856bb09b34c7d81b5b46139eff852": {
          "model_module": "@jupyter-widgets/controls",
          "model_name": "FloatProgressModel",
          "model_module_version": "1.5.0",
          "state": {
            "_dom_classes": [],
            "_model_module": "@jupyter-widgets/controls",
            "_model_module_version": "1.5.0",
            "_model_name": "FloatProgressModel",
            "_view_count": null,
            "_view_module": "@jupyter-widgets/controls",
            "_view_module_version": "1.5.0",
            "_view_name": "ProgressView",
            "bar_style": "success",
            "description": "",
            "description_tooltip": null,
            "layout": "IPY_MODEL_83612acf27f64e2d8848b35a33b3201e",
            "max": 466062,
            "min": 0,
            "orientation": "horizontal",
            "style": "IPY_MODEL_719117a3d7e5462d87ab573495a8d2c0",
            "value": 466062
          }
        },
        "45ab22f21e164940a458903c20456f5a": {
          "model_module": "@jupyter-widgets/controls",
          "model_name": "HTMLModel",
          "model_module_version": "1.5.0",
          "state": {
            "_dom_classes": [],
            "_model_module": "@jupyter-widgets/controls",
            "_model_module_version": "1.5.0",
            "_model_name": "HTMLModel",
            "_view_count": null,
            "_view_module": "@jupyter-widgets/controls",
            "_view_module_version": "1.5.0",
            "_view_name": "HTMLView",
            "description": "",
            "description_tooltip": null,
            "layout": "IPY_MODEL_b3f4401a1be448709737df93bb350974",
            "placeholder": "​",
            "style": "IPY_MODEL_103b611d72b34a5398abf06045abcdc7",
            "value": " 466k/466k [00:00&lt;00:00, 6.75MB/s]"
          }
        },
        "502a26155719467a8deb93451a5cfdfc": {
          "model_module": "@jupyter-widgets/base",
          "model_name": "LayoutModel",
          "model_module_version": "1.2.0",
          "state": {
            "_model_module": "@jupyter-widgets/base",
            "_model_module_version": "1.2.0",
            "_model_name": "LayoutModel",
            "_view_count": null,
            "_view_module": "@jupyter-widgets/base",
            "_view_module_version": "1.2.0",
            "_view_name": "LayoutView",
            "align_content": null,
            "align_items": null,
            "align_self": null,
            "border": null,
            "bottom": null,
            "display": null,
            "flex": null,
            "flex_flow": null,
            "grid_area": null,
            "grid_auto_columns": null,
            "grid_auto_flow": null,
            "grid_auto_rows": null,
            "grid_column": null,
            "grid_gap": null,
            "grid_row": null,
            "grid_template_areas": null,
            "grid_template_columns": null,
            "grid_template_rows": null,
            "height": null,
            "justify_content": null,
            "justify_items": null,
            "left": null,
            "margin": null,
            "max_height": null,
            "max_width": null,
            "min_height": null,
            "min_width": null,
            "object_fit": null,
            "object_position": null,
            "order": null,
            "overflow": null,
            "overflow_x": null,
            "overflow_y": null,
            "padding": null,
            "right": null,
            "top": null,
            "visibility": null,
            "width": null
          }
        },
        "b8070cfa66de4792ae4ef95cd632b16a": {
          "model_module": "@jupyter-widgets/base",
          "model_name": "LayoutModel",
          "model_module_version": "1.2.0",
          "state": {
            "_model_module": "@jupyter-widgets/base",
            "_model_module_version": "1.2.0",
            "_model_name": "LayoutModel",
            "_view_count": null,
            "_view_module": "@jupyter-widgets/base",
            "_view_module_version": "1.2.0",
            "_view_name": "LayoutView",
            "align_content": null,
            "align_items": null,
            "align_self": null,
            "border": null,
            "bottom": null,
            "display": null,
            "flex": null,
            "flex_flow": null,
            "grid_area": null,
            "grid_auto_columns": null,
            "grid_auto_flow": null,
            "grid_auto_rows": null,
            "grid_column": null,
            "grid_gap": null,
            "grid_row": null,
            "grid_template_areas": null,
            "grid_template_columns": null,
            "grid_template_rows": null,
            "height": null,
            "justify_content": null,
            "justify_items": null,
            "left": null,
            "margin": null,
            "max_height": null,
            "max_width": null,
            "min_height": null,
            "min_width": null,
            "object_fit": null,
            "object_position": null,
            "order": null,
            "overflow": null,
            "overflow_x": null,
            "overflow_y": null,
            "padding": null,
            "right": null,
            "top": null,
            "visibility": null,
            "width": null
          }
        },
        "42c16d09ca1040768121b8e1a0377109": {
          "model_module": "@jupyter-widgets/controls",
          "model_name": "DescriptionStyleModel",
          "model_module_version": "1.5.0",
          "state": {
            "_model_module": "@jupyter-widgets/controls",
            "_model_module_version": "1.5.0",
            "_model_name": "DescriptionStyleModel",
            "_view_count": null,
            "_view_module": "@jupyter-widgets/base",
            "_view_module_version": "1.2.0",
            "_view_name": "StyleView",
            "description_width": ""
          }
        },
        "83612acf27f64e2d8848b35a33b3201e": {
          "model_module": "@jupyter-widgets/base",
          "model_name": "LayoutModel",
          "model_module_version": "1.2.0",
          "state": {
            "_model_module": "@jupyter-widgets/base",
            "_model_module_version": "1.2.0",
            "_model_name": "LayoutModel",
            "_view_count": null,
            "_view_module": "@jupyter-widgets/base",
            "_view_module_version": "1.2.0",
            "_view_name": "LayoutView",
            "align_content": null,
            "align_items": null,
            "align_self": null,
            "border": null,
            "bottom": null,
            "display": null,
            "flex": null,
            "flex_flow": null,
            "grid_area": null,
            "grid_auto_columns": null,
            "grid_auto_flow": null,
            "grid_auto_rows": null,
            "grid_column": null,
            "grid_gap": null,
            "grid_row": null,
            "grid_template_areas": null,
            "grid_template_columns": null,
            "grid_template_rows": null,
            "height": null,
            "justify_content": null,
            "justify_items": null,
            "left": null,
            "margin": null,
            "max_height": null,
            "max_width": null,
            "min_height": null,
            "min_width": null,
            "object_fit": null,
            "object_position": null,
            "order": null,
            "overflow": null,
            "overflow_x": null,
            "overflow_y": null,
            "padding": null,
            "right": null,
            "top": null,
            "visibility": null,
            "width": null
          }
        },
        "719117a3d7e5462d87ab573495a8d2c0": {
          "model_module": "@jupyter-widgets/controls",
          "model_name": "ProgressStyleModel",
          "model_module_version": "1.5.0",
          "state": {
            "_model_module": "@jupyter-widgets/controls",
            "_model_module_version": "1.5.0",
            "_model_name": "ProgressStyleModel",
            "_view_count": null,
            "_view_module": "@jupyter-widgets/base",
            "_view_module_version": "1.2.0",
            "_view_name": "StyleView",
            "bar_color": null,
            "description_width": ""
          }
        },
        "b3f4401a1be448709737df93bb350974": {
          "model_module": "@jupyter-widgets/base",
          "model_name": "LayoutModel",
          "model_module_version": "1.2.0",
          "state": {
            "_model_module": "@jupyter-widgets/base",
            "_model_module_version": "1.2.0",
            "_model_name": "LayoutModel",
            "_view_count": null,
            "_view_module": "@jupyter-widgets/base",
            "_view_module_version": "1.2.0",
            "_view_name": "LayoutView",
            "align_content": null,
            "align_items": null,
            "align_self": null,
            "border": null,
            "bottom": null,
            "display": null,
            "flex": null,
            "flex_flow": null,
            "grid_area": null,
            "grid_auto_columns": null,
            "grid_auto_flow": null,
            "grid_auto_rows": null,
            "grid_column": null,
            "grid_gap": null,
            "grid_row": null,
            "grid_template_areas": null,
            "grid_template_columns": null,
            "grid_template_rows": null,
            "height": null,
            "justify_content": null,
            "justify_items": null,
            "left": null,
            "margin": null,
            "max_height": null,
            "max_width": null,
            "min_height": null,
            "min_width": null,
            "object_fit": null,
            "object_position": null,
            "order": null,
            "overflow": null,
            "overflow_x": null,
            "overflow_y": null,
            "padding": null,
            "right": null,
            "top": null,
            "visibility": null,
            "width": null
          }
        },
        "103b611d72b34a5398abf06045abcdc7": {
          "model_module": "@jupyter-widgets/controls",
          "model_name": "DescriptionStyleModel",
          "model_module_version": "1.5.0",
          "state": {
            "_model_module": "@jupyter-widgets/controls",
            "_model_module_version": "1.5.0",
            "_model_name": "DescriptionStyleModel",
            "_view_count": null,
            "_view_module": "@jupyter-widgets/base",
            "_view_module_version": "1.2.0",
            "_view_name": "StyleView",
            "description_width": ""
          }
        }
      }
    }
  },
  "cells": [
    {
      "cell_type": "markdown",
      "metadata": {
        "id": "WC70_imPoaqw"
      },
      "source": [
        "BSAN 6300 Marketing Analytics\n",
        "NLP Advanced Topics: BERT and Neural Network\n",
        "By Zhen (Richard) Tang, Zhen.Tang@lmu.edu\n",
        "\n",
        "\n"
      ]
    },
    {
      "cell_type": "markdown",
      "metadata": {
        "id": "XaaIPaKg6Ori"
      },
      "source": [
        "This tutorial is developed for the 2021 Winter AMA pre-conference workshop on NLP in marketing research and for LMU's MSBA program.\n",
        "\n",
        "The workshop is sponsered by the Interorganizational SIG.\n",
        "\n",
        "In this tutorial, we will:\n",
        "  * Familarize with BERT's contextualized enconding, with which we can transform raw texts into meaningful numerical respresentations. (**the texts to numbers step**)\n",
        "  * Utilize BERT's embeddings to measure constructs of interests. (**the numbers to measures step**)  \n",
        "\n",
        "The slides of this tutoria and a self-guided learning package of NLP are here [link text](https://drive.google.com/drive/folders/1hj0_t9v2vGYT2DkCUyx7CtKCo6Ar7uxe?usp=sharing)\n",
        "  "
      ]
    },
    {
      "cell_type": "markdown",
      "metadata": {
        "id": "rcdTKtxOCcpA"
      },
      "source": [
        "In developing this tutorial, I cited codes from Chris McCormich and Nick Ryan ([link text](https://mccormickml.com/tutorials/)) and from Abhishek Kumar Mishra ([link text](https://colab.research.google.com/github/abhimishra91/transformers-tutorials/blob/master/transformers_multi_label_classification.ipynb)).\n",
        "\n",
        "For more tutorials on transfomer-based models, here is a wonderful Huggingface collecton ([link text](https://huggingface.co/transformers/v4.1.1/notebooks.html))\n",
        "\n",
        "If you are interested in text mining without using neural networks, here ([link text](https://github.com/adashofdata/nlp-in-python-tutorial)) are some great tutorials."
      ]
    },
    {
      "cell_type": "markdown",
      "metadata": {
        "id": "Rmg4dtPk9Gab"
      },
      "source": [
        "## Load BERT\n",
        "\n",
        "\n",
        "\n",
        "\n",
        "\n",
        "\n"
      ]
    },
    {
      "cell_type": "markdown",
      "metadata": {
        "id": "sA57Oso9r--v"
      },
      "source": [
        "Install transformers, the interface for using BERT and other pre-trained models from Huggingface:https://huggingface.co/"
      ]
    },
    {
      "cell_type": "code",
      "metadata": {
        "id": "rHBofkROaBzs",
        "colab": {
          "base_uri": "https://localhost:8080/"
        },
        "outputId": "6b4911bb-a835-4cb1-c32f-be21f1172094"
      },
      "source": [
        "!pip install transformers\n",
        "# per the setting of transformers, to use any of its NLP model\n",
        "# we need to have three things: that is BertTokenizer, BertModel, BertConfig\n",
        "import transformers\n",
        "from transformers import BertTokenizer, BertModel, BertConfig"
      ],
      "execution_count": null,
      "outputs": [
        {
          "output_type": "stream",
          "name": "stdout",
          "text": [
            "Requirement already satisfied: transformers in /usr/local/lib/python3.10/dist-packages (4.40.0)\n",
            "Requirement already satisfied: filelock in /usr/local/lib/python3.10/dist-packages (from transformers) (3.13.4)\n",
            "Requirement already satisfied: huggingface-hub<1.0,>=0.19.3 in /usr/local/lib/python3.10/dist-packages (from transformers) (0.20.3)\n",
            "Requirement already satisfied: numpy>=1.17 in /usr/local/lib/python3.10/dist-packages (from transformers) (1.25.2)\n",
            "Requirement already satisfied: packaging>=20.0 in /usr/local/lib/python3.10/dist-packages (from transformers) (24.0)\n",
            "Requirement already satisfied: pyyaml>=5.1 in /usr/local/lib/python3.10/dist-packages (from transformers) (6.0.1)\n",
            "Requirement already satisfied: regex!=2019.12.17 in /usr/local/lib/python3.10/dist-packages (from transformers) (2023.12.25)\n",
            "Requirement already satisfied: requests in /usr/local/lib/python3.10/dist-packages (from transformers) (2.31.0)\n",
            "Requirement already satisfied: tokenizers<0.20,>=0.19 in /usr/local/lib/python3.10/dist-packages (from transformers) (0.19.1)\n",
            "Requirement already satisfied: safetensors>=0.4.1 in /usr/local/lib/python3.10/dist-packages (from transformers) (0.4.3)\n",
            "Requirement already satisfied: tqdm>=4.27 in /usr/local/lib/python3.10/dist-packages (from transformers) (4.66.2)\n",
            "Requirement already satisfied: fsspec>=2023.5.0 in /usr/local/lib/python3.10/dist-packages (from huggingface-hub<1.0,>=0.19.3->transformers) (2023.6.0)\n",
            "Requirement already satisfied: typing-extensions>=3.7.4.3 in /usr/local/lib/python3.10/dist-packages (from huggingface-hub<1.0,>=0.19.3->transformers) (4.11.0)\n",
            "Requirement already satisfied: charset-normalizer<4,>=2 in /usr/local/lib/python3.10/dist-packages (from requests->transformers) (3.3.2)\n",
            "Requirement already satisfied: idna<4,>=2.5 in /usr/local/lib/python3.10/dist-packages (from requests->transformers) (3.7)\n",
            "Requirement already satisfied: urllib3<3,>=1.21.1 in /usr/local/lib/python3.10/dist-packages (from requests->transformers) (2.0.7)\n",
            "Requirement already satisfied: certifi>=2017.4.17 in /usr/local/lib/python3.10/dist-packages (from requests->transformers) (2024.2.2)\n"
          ]
        }
      ]
    },
    {
      "cell_type": "markdown",
      "metadata": {
        "id": "txlCPsextYCB"
      },
      "source": [
        "Import other utilities"
      ]
    },
    {
      "cell_type": "code",
      "metadata": {
        "id": "-3o9S5Fpa6o7",
        "colab": {
          "base_uri": "https://localhost:8080/"
        },
        "outputId": "5b801d3a-5dee-4b03-c53c-b32eefbcb0af"
      },
      "source": [
        "import torch\n",
        "import numpy as np\n",
        "import random\n",
        "import pandas as pd\n",
        "from scipy.spatial.distance import cosine\n",
        "from scipy.stats.stats import pearsonr\n",
        "from torch.utils.data import Dataset, DataLoader, RandomSampler, SequentialSampler\n",
        "from sklearn.model_selection import train_test_split\n",
        "import torch.nn as nn\n",
        "import torch.optim as optim\n"
      ],
      "execution_count": null,
      "outputs": [
        {
          "output_type": "stream",
          "name": "stderr",
          "text": [
            "<ipython-input-2-69b216d5c386>:6: DeprecationWarning: Please use `pearsonr` from the `scipy.stats` namespace, the `scipy.stats.stats` namespace is deprecated.\n",
            "  from scipy.stats.stats import pearsonr\n"
          ]
        }
      ]
    },
    {
      "cell_type": "code",
      "metadata": {
        "id": "KhA_KJINnt7J"
      },
      "source": [
        "# set the random set the same, making the results reproducible\n",
        "seed_val = 42\n",
        "random.seed(seed_val)\n",
        "np.random.seed(seed_val)\n",
        "torch.manual_seed(seed_val)\n",
        "torch.cuda.manual_seed_all(seed_val)"
      ],
      "execution_count": null,
      "outputs": []
    },
    {
      "cell_type": "markdown",
      "metadata": {
        "id": "vPL-pUmasIes"
      },
      "source": [
        "GPU availability"
      ]
    },
    {
      "cell_type": "code",
      "metadata": {
        "id": "pFlTSI0_imqh",
        "colab": {
          "base_uri": "https://localhost:8080/"
        },
        "outputId": "75e1fbe7-66b3-464c-b0d7-d2d84027fd74"
      },
      "source": [
        "# let's see if we have access to GPU\n",
        "# GPU is really good at parallel computation\n",
        "from torch import cuda\n",
        "if torch.cuda.is_available():\n",
        "  device = torch.device('cuda')\n",
        "  print(device)\n"
      ],
      "execution_count": null,
      "outputs": [
        {
          "output_type": "stream",
          "name": "stdout",
          "text": [
            "cuda\n"
          ]
        }
      ]
    },
    {
      "cell_type": "markdown",
      "metadata": {
        "id": "__j68ToisZnU"
      },
      "source": [
        "Create an instance of BERT model, and name it \"**text_to_number**\" becasue this model helps us tranform raw texts into numberical representations.\n",
        "We will use this model later"
      ]
    },
    {
      "cell_type": "code",
      "metadata": {
        "id": "tPvWQ9Hy2jQk",
        "colab": {
          "base_uri": "https://localhost:8080/",
          "height": 185,
          "referenced_widgets": [
            "8fac5818a147417bb81ae02cc25d4f1a",
            "ab4575f6b2134ca8b88d9a484edf972f",
            "abbae9688fcd4f41a42408aa71d93b28",
            "a7003ba0c73749bca85ef6ebcfd3867e",
            "9c764e56e53b41f6945011d608f95285",
            "a528e260bf6344e7b7ec2189ed44ec4d",
            "757a3f409fdc4ee2a9b27779f1e235a5",
            "7c453951a2864c00a1a01a54c52b3092",
            "9bda0d2928dc4dfe97d73d9715e32cb8",
            "666db33a5c734b26918cceae7f8c5361",
            "62eb6d338e1048458aa86f51a98ed94f",
            "e4edc78e2670417fbfe1f8b69d0314fb",
            "a9bf6ae821f041b3bcc161f347231333",
            "8f205d37a6ed411bab511fa70b931fa0",
            "85b882826a1f47669d996a7c92ee576b",
            "5fd52662481e47f78a7e223e3e666b5c",
            "c71e66d45d6d4638a2df6be606bb5f72",
            "a03d22ab036b491e873879742853183c",
            "8be326fe02ea4f729b2c0080f5e9f01c",
            "8db16e92f10d49a28eba2a9c449a6274",
            "d94e29b2910947b8985e8b942aa35814",
            "d48ed971a1fd42d6bca38123f88bdf6a"
          ]
        },
        "outputId": "477e812d-698b-44c4-e537-b9891e475958"
      },
      "source": [
        "# note that it takes some time to download the BERT model (~ 440M)\n",
        "# BERT model is big due to it huge amount of paramters.\n",
        "text_to_number = BertModel.from_pretrained('bert-base-uncased')"
      ],
      "execution_count": null,
      "outputs": [
        {
          "output_type": "stream",
          "name": "stderr",
          "text": [
            "/usr/local/lib/python3.10/dist-packages/huggingface_hub/utils/_token.py:88: UserWarning: \n",
            "The secret `HF_TOKEN` does not exist in your Colab secrets.\n",
            "To authenticate with the Hugging Face Hub, create a token in your settings tab (https://huggingface.co/settings/tokens), set it as secret in your Google Colab and restart your session.\n",
            "You will be able to reuse this secret in all of your notebooks.\n",
            "Please note that authentication is recommended but still optional to access public models or datasets.\n",
            "  warnings.warn(\n"
          ]
        },
        {
          "output_type": "display_data",
          "data": {
            "text/plain": [
              "config.json:   0%|          | 0.00/570 [00:00<?, ?B/s]"
            ],
            "application/vnd.jupyter.widget-view+json": {
              "version_major": 2,
              "version_minor": 0,
              "model_id": "8fac5818a147417bb81ae02cc25d4f1a"
            }
          },
          "metadata": {}
        },
        {
          "output_type": "display_data",
          "data": {
            "text/plain": [
              "model.safetensors:   0%|          | 0.00/440M [00:00<?, ?B/s]"
            ],
            "application/vnd.jupyter.widget-view+json": {
              "version_major": 2,
              "version_minor": 0,
              "model_id": "e4edc78e2670417fbfe1f8b69d0314fb"
            }
          },
          "metadata": {}
        }
      ]
    },
    {
      "cell_type": "markdown",
      "metadata": {
        "id": "ahGQItZqsuwK"
      },
      "source": [
        "Creat an instance of BERT tokenizer, and name it \"**tokenizer**\"\n",
        "We will use tokenizer to transform raw texts into right format to feed into **text_to_number**\n",
        "\n",
        "\n"
      ]
    },
    {
      "cell_type": "code",
      "metadata": {
        "id": "mX9tv9L5bPsE",
        "colab": {
          "base_uri": "https://localhost:8080/",
          "height": 113,
          "referenced_widgets": [
            "99ff11963197410f9424137584453be7",
            "abe7207c4c554e28bb94289b981e80f9",
            "09074fd498094993a5b80b50dfeaae0b",
            "d07338eaf0d94ba3889c8a5ff6c062c2",
            "ef23b10db0e949469b48d44c10cc3e1d",
            "9a2d195fdfc140dda3e8d06890967ba0",
            "bfcf2eac8bec42b9b2daafe675ab0056",
            "b3b350fea1e347ac9ac1917c6856171a",
            "1ff2ebbac54149c299b78bf1398e4f73",
            "cd009e0114304be0b8a394fdfbd6dc2f",
            "f8984653684746f282cf3bf1e4dce02c",
            "5333028c3132498294da48beb8124e66",
            "e0430da9a3254ed689f51836b80a476b",
            "7daaabf087894bcd9eb99af7ce2dc830",
            "3b7dd67b4f674659a8b2d94d1043b7c7",
            "c7b8fffa786f4f8297c3343e70f2e6b6",
            "0222cd1f7b3e484a97fcca1d29a7a350",
            "7f00c17c328049c09e24cfc8cfa55ad3",
            "27169b82fadd424cb2e4738a6c122541",
            "3f35948a33e742a6b446fc324a084a92",
            "75e63d631c4140a2be2b75f70d3cdf20",
            "8f04a4c467cd47ae90455591dedfc638",
            "979043281af940039ce48218d56719c2",
            "6548efc08d314676a02f500e5d638fe3",
            "d78856bb09b34c7d81b5b46139eff852",
            "45ab22f21e164940a458903c20456f5a",
            "502a26155719467a8deb93451a5cfdfc",
            "b8070cfa66de4792ae4ef95cd632b16a",
            "42c16d09ca1040768121b8e1a0377109",
            "83612acf27f64e2d8848b35a33b3201e",
            "719117a3d7e5462d87ab573495a8d2c0",
            "b3f4401a1be448709737df93bb350974",
            "103b611d72b34a5398abf06045abcdc7"
          ]
        },
        "outputId": "e81d340e-54a7-41d9-a256-a997727aa363"
      },
      "source": [
        "# as you can tell, the tokenizer is pretty small, only 232k in size\n",
        "tokenizer = BertTokenizer.from_pretrained('bert-base-uncased')"
      ],
      "execution_count": null,
      "outputs": [
        {
          "output_type": "display_data",
          "data": {
            "text/plain": [
              "tokenizer_config.json:   0%|          | 0.00/48.0 [00:00<?, ?B/s]"
            ],
            "application/vnd.jupyter.widget-view+json": {
              "version_major": 2,
              "version_minor": 0,
              "model_id": "99ff11963197410f9424137584453be7"
            }
          },
          "metadata": {}
        },
        {
          "output_type": "display_data",
          "data": {
            "text/plain": [
              "vocab.txt:   0%|          | 0.00/232k [00:00<?, ?B/s]"
            ],
            "application/vnd.jupyter.widget-view+json": {
              "version_major": 2,
              "version_minor": 0,
              "model_id": "5333028c3132498294da48beb8124e66"
            }
          },
          "metadata": {}
        },
        {
          "output_type": "display_data",
          "data": {
            "text/plain": [
              "tokenizer.json:   0%|          | 0.00/466k [00:00<?, ?B/s]"
            ],
            "application/vnd.jupyter.widget-view+json": {
              "version_major": 2,
              "version_minor": 0,
              "model_id": "979043281af940039ce48218d56719c2"
            }
          },
          "metadata": {}
        }
      ]
    },
    {
      "cell_type": "markdown",
      "metadata": {
        "id": "Bpqv34xexKIf"
      },
      "source": [
        "## BERT Basics\n",
        "Learning outcomes:\n",
        "1. Use a BertTokenizer (i.e., our **tokenizer**) to transform raw texts into token ids and see how the tokenizer handles out of vocabulary(OOV) words.\n",
        "2. Use the tokenizer.encode_plus() function to transform raw texts into proper formats (e.g., **input_ids** and **attention_mask**) to feed into a BERT model (i.e., **text_to_number**).\n",
        "3. Use **text_to_number** to transform the examplary text into numerical reprentations and check the contextual encoding property."
      ]
    },
    {
      "cell_type": "markdown",
      "metadata": {
        "id": "L61noWIbac0H"
      },
      "source": [
        "### 1. Tokenizer\n",
        "Use a BertTokenizer (i.e., our **tokenizer**) to transform raw texts into token ids and see how the tokenizer handles out of vocabulary(OOV) words.\n",
        "\n",
        "\n",
        "\n"
      ]
    },
    {
      "cell_type": "markdown",
      "metadata": {
        "id": "AymG1YKSuQaE"
      },
      "source": [
        "Create an examplary sentence"
      ]
    },
    {
      "cell_type": "code",
      "metadata": {
        "id": "4G_lAnslbZFu"
      },
      "source": [
        "# note that the meanings of two \"banks\" are different\n",
        "example = \"After stealing money from the bank vault and learning NLP, the bank robber was seen fishing on the Mississippi river bank.\"\n"
      ],
      "execution_count": null,
      "outputs": []
    },
    {
      "cell_type": "markdown",
      "metadata": {
        "id": "qtSF4-7wvthC"
      },
      "source": [
        "See how BERT handle out-of-vocbulary (OVV) words\n",
        "  * OVV words are split into word pieces that are in the base dictionary of BERT;\n",
        "therefore, BERT can handle any OVV words in a flexible and meaningful way\n",
        "  * Questions: how do handle emoji? You know, to computer, emoji pictures are just embeddings/numerical vectors\n",
        "    * Paper on training embedding system with emoji as tokens:http://ceur-ws.org/Vol-2491/short125.pdf"
      ]
    },
    {
      "cell_type": "code",
      "metadata": {
        "id": "4MKAK3DJb0cU",
        "colab": {
          "base_uri": "https://localhost:8080/"
        },
        "outputId": "d9d4c852-7994-44e4-afac-cb4d3fc2fe20"
      },
      "source": [
        "# use tokenizer to convert raw input into token\n",
        "tokenized_text = tokenizer.tokenize(example)\n",
        "print(tokenized_text)"
      ],
      "execution_count": null,
      "outputs": [
        {
          "output_type": "stream",
          "name": "stdout",
          "text": [
            "['after', 'stealing', 'money', 'from', 'the', 'bank', 'vault', 'and', 'learning', 'nl', '##p', ',', 'the', 'bank', 'robber', 'was', 'seen', 'fishing', 'on', 'the', 'mississippi', 'river', 'bank', '.']\n"
          ]
        }
      ]
    },
    {
      "cell_type": "markdown",
      "source": [
        "Note that NLP is splited into two tokens, \"nl\" and \"##p\", each of them will have a meaningful embedding, to which we can apply subsequent analysis like neural network classification."
      ],
      "metadata": {
        "id": "84M2yXpjwtEC"
      }
    },
    {
      "cell_type": "code",
      "metadata": {
        "colab": {
          "base_uri": "https://localhost:8080/"
        },
        "id": "QLH-dTecxIfP",
        "outputId": "244fe0db-44fe-42ac-baf5-d29e74038f2d"
      },
      "source": [
        "# some popular terms/brands/concepts are in BERT's basic vacabulary/token set\n",
        "# thus, they will not be split.\n",
        "test1 = 'zhen'\n",
        "tokenized_text1 = tokenizer.tokenize(test1)\n",
        "print(tokenized_text1)"
      ],
      "execution_count": null,
      "outputs": [
        {
          "output_type": "stream",
          "name": "stdout",
          "text": [
            "['z', '##hen']\n"
          ]
        }
      ]
    },
    {
      "cell_type": "markdown",
      "metadata": {
        "id": "DHKHn7-7wGl5"
      },
      "source": [
        "See how each token is correponding to an ID (**input_ids**) in BERT"
      ]
    },
    {
      "cell_type": "code",
      "metadata": {
        "id": "V3xrSzdVcEgC",
        "colab": {
          "base_uri": "https://localhost:8080/"
        },
        "outputId": "94315044-c320-4fe3-e6d4-cfa6c4976e09"
      },
      "source": [
        "# convert token into input_id, which is the inputs that are fed into the BERT model\n",
        "indexed_tokens = tokenizer.convert_tokens_to_ids(tokenized_text)\n",
        "print(tokenized_text)\n",
        "print(indexed_tokens)"
      ],
      "execution_count": null,
      "outputs": [
        {
          "output_type": "stream",
          "name": "stdout",
          "text": [
            "['after', 'stealing', 'money', 'from', 'the', 'bank', 'vault', 'and', 'learning', 'nl', '##p', ',', 'the', 'bank', 'robber', 'was', 'seen', 'fishing', 'on', 'the', 'mississippi', 'river', 'bank', '.']\n",
            "[2044, 11065, 2769, 2013, 1996, 2924, 11632, 1998, 4083, 17953, 2361, 1010, 1996, 2924, 27307, 2001, 2464, 5645, 2006, 1996, 5900, 2314, 2924, 1012]\n"
          ]
        }
      ]
    },
    {
      "cell_type": "markdown",
      "metadata": {
        "id": "SwW7ITzEmewb"
      },
      "source": [
        "If you want to have a glimpse of BERT's base vacabulary/tokens"
      ]
    },
    {
      "cell_type": "code",
      "metadata": {
        "id": "lO0afwaompXm",
        "colab": {
          "base_uri": "https://localhost:8080/"
        },
        "outputId": "af2449b6-e6c0-4822-e919-87f7a993575e"
      },
      "source": [
        "# total size the base token pool\n",
        "print(len(list(tokenizer.vocab.items())))\n",
        "# get a snippet of pool\n",
        "list(tokenizer.vocab.items())[1000:1050]"
      ],
      "execution_count": null,
      "outputs": [
        {
          "output_type": "stream",
          "name": "stdout",
          "text": [
            "30522\n"
          ]
        },
        {
          "output_type": "execute_result",
          "data": {
            "text/plain": [
              "[('\"', 1000),\n",
              " ('#', 1001),\n",
              " ('$', 1002),\n",
              " ('%', 1003),\n",
              " ('&', 1004),\n",
              " (\"'\", 1005),\n",
              " ('(', 1006),\n",
              " (')', 1007),\n",
              " ('*', 1008),\n",
              " ('+', 1009),\n",
              " (',', 1010),\n",
              " ('-', 1011),\n",
              " ('.', 1012),\n",
              " ('/', 1013),\n",
              " ('0', 1014),\n",
              " ('1', 1015),\n",
              " ('2', 1016),\n",
              " ('3', 1017),\n",
              " ('4', 1018),\n",
              " ('5', 1019),\n",
              " ('6', 1020),\n",
              " ('7', 1021),\n",
              " ('8', 1022),\n",
              " ('9', 1023),\n",
              " (':', 1024),\n",
              " (';', 1025),\n",
              " ('<', 1026),\n",
              " ('=', 1027),\n",
              " ('>', 1028),\n",
              " ('?', 1029),\n",
              " ('@', 1030),\n",
              " ('[', 1031),\n",
              " ('\\\\', 1032),\n",
              " (']', 1033),\n",
              " ('^', 1034),\n",
              " ('_', 1035),\n",
              " ('`', 1036),\n",
              " ('a', 1037),\n",
              " ('b', 1038),\n",
              " ('c', 1039),\n",
              " ('d', 1040),\n",
              " ('e', 1041),\n",
              " ('f', 1042),\n",
              " ('g', 1043),\n",
              " ('h', 1044),\n",
              " ('i', 1045),\n",
              " ('j', 1046),\n",
              " ('k', 1047),\n",
              " ('l', 1048),\n",
              " ('m', 1049)]"
            ]
          },
          "metadata": {},
          "execution_count": 11
        }
      ]
    },
    {
      "cell_type": "markdown",
      "metadata": {
        "id": "YW0uY4N5w6Hx"
      },
      "source": [
        "### 2. Tokneizer.encode_plus\n",
        "Use the tokenizer.encode_plus() function to transform raw texts into proper formats (e.g., **input_ids** and **attention_mask**) to feed into a BERT model (i.e., **text_to_number**)."
      ]
    },
    {
      "cell_type": "markdown",
      "metadata": {
        "id": "ptrZrKGEze4z"
      },
      "source": [
        "learn the syntax of encode_plus\n",
        "* it is critically important for us to understand the formats of the inputs and outputs of the function we use.\n",
        "* for encode_plus fucntion\n",
        "  * inputs include\n",
        "    * raw texts\n",
        "    * arguments like the maximum length (of the raw text to be processed); longer ones will be trancated, shorter ones will be padded.  \n",
        "  * outputs include:\n",
        "    * input_ids (IDs of tokens in the raw texts)\n",
        "    * attention_mask (dummies for if the token is from raw texts or padded)\n",
        "    * token_type_ids (IDs of sentences, not commonly used)\n",
        "    * special tokens like [CLS], [SEP] are automatically added\n",
        "      * [CLS] contains the summary information of the raw texts, and can be use in subsequant analysis.\n",
        "      "
      ]
    },
    {
      "cell_type": "code",
      "metadata": {
        "id": "pNcUBfDMgdFn",
        "colab": {
          "base_uri": "https://localhost:8080/"
        },
        "outputId": "a9edb661-72a3-410b-af73-3e439e6a73b4"
      },
      "source": [
        "# see the syntax of encode_plus\n",
        "tokenizer.encode_plus?"
      ],
      "execution_count": null,
      "outputs": [
        {
          "output_type": "stream",
          "name": "stdout",
          "text": [
            "Object `tokenizer.encode_plus` not found.\n"
          ]
        }
      ]
    },
    {
      "cell_type": "code",
      "metadata": {
        "id": "1xsGvm8OejJl",
        "colab": {
          "base_uri": "https://localhost:8080/",
          "height": 211
        },
        "outputId": "f7b0f636-8506-4384-af91-c86af7aec36d"
      },
      "source": [
        "# trancate to max_length\n",
        "# tranction argument tell the encode_plus from where to trancate the sentence beyond the specified max length, which is 20 in our case; maximum is 512\n",
        "encoded_text = tokenizer.encode_plus(example, max_length = 8, truncation = 'longest_first', padding = 'max_length')\n",
        "print(encoded_text)\n",
        "# print the trancated tokens\n",
        "print(tokenizer.convert_ids_to_tokens(encoded_text['input_ids']))"
      ],
      "execution_count": null,
      "outputs": [
        {
          "output_type": "error",
          "ename": "NameError",
          "evalue": "name 'tokenizer' is not defined",
          "traceback": [
            "\u001b[0;31m---------------------------------------------------------------------------\u001b[0m",
            "\u001b[0;31mNameError\u001b[0m                                 Traceback (most recent call last)",
            "\u001b[0;32m<ipython-input-2-0fbbdbc11fdb>\u001b[0m in \u001b[0;36m<cell line: 3>\u001b[0;34m()\u001b[0m\n\u001b[1;32m      1\u001b[0m \u001b[0;31m# trancate to max_length\u001b[0m\u001b[0;34m\u001b[0m\u001b[0;34m\u001b[0m\u001b[0m\n\u001b[1;32m      2\u001b[0m \u001b[0;31m# tranction argument tell the encode_plus from where to trancate the sentence beyond the specified max length, which is 20 in our case; maximum is 512\u001b[0m\u001b[0;34m\u001b[0m\u001b[0;34m\u001b[0m\u001b[0m\n\u001b[0;32m----> 3\u001b[0;31m \u001b[0mencoded_text\u001b[0m \u001b[0;34m=\u001b[0m \u001b[0mtokenizer\u001b[0m\u001b[0;34m.\u001b[0m\u001b[0mencode_plus\u001b[0m\u001b[0;34m(\u001b[0m\u001b[0mexample\u001b[0m\u001b[0;34m,\u001b[0m \u001b[0mmax_length\u001b[0m \u001b[0;34m=\u001b[0m \u001b[0;36m8\u001b[0m\u001b[0;34m,\u001b[0m \u001b[0mtruncation\u001b[0m \u001b[0;34m=\u001b[0m \u001b[0;34m'longest_first'\u001b[0m\u001b[0;34m,\u001b[0m \u001b[0mpadding\u001b[0m \u001b[0;34m=\u001b[0m \u001b[0;34m'max_length'\u001b[0m\u001b[0;34m)\u001b[0m\u001b[0;34m\u001b[0m\u001b[0;34m\u001b[0m\u001b[0m\n\u001b[0m\u001b[1;32m      4\u001b[0m \u001b[0mprint\u001b[0m\u001b[0;34m(\u001b[0m\u001b[0mencoded_text\u001b[0m\u001b[0;34m)\u001b[0m\u001b[0;34m\u001b[0m\u001b[0;34m\u001b[0m\u001b[0m\n\u001b[1;32m      5\u001b[0m \u001b[0;31m# print the trancated tokens\u001b[0m\u001b[0;34m\u001b[0m\u001b[0;34m\u001b[0m\u001b[0m\n",
            "\u001b[0;31mNameError\u001b[0m: name 'tokenizer' is not defined"
          ]
        }
      ]
    },
    {
      "cell_type": "code",
      "metadata": {
        "id": "a1TWsS5UcTxQ"
      },
      "source": [
        "# padding to another max_lenght, here let's use 48 so that we can see the padded tokens\n",
        "encoded_text = tokenizer.encode_plus(example, max_length = 48, truncation = 'longest_first',padding = 'max_length')\n",
        "print(encoded_text)\n",
        "print(tokenizer.convert_ids_to_tokens(encoded_text['input_ids']))\n"
      ],
      "execution_count": null,
      "outputs": []
    },
    {
      "cell_type": "markdown",
      "metadata": {
        "id": "IoYPiEV17uX6"
      },
      "source": [
        "**Recap:**\n",
        "\n",
        "Tokenizer is a tool to pre-process the raw texts into **input_ids** and **attention_mask** that a BERT and other transformer-based NLP models take as inputs.  "
      ]
    },
    {
      "cell_type": "markdown",
      "metadata": {
        "id": "Kpfu7B3EhjgF"
      },
      "source": [
        "### 3. BERT's Inputs and Outputs\n",
        "\n",
        "Use our BERT model, **text_to_number** ,to transform the examplary text into numberical reprentations and check the contextual encoding property.\n",
        "\n",
        "\n"
      ]
    },
    {
      "cell_type": "markdown",
      "metadata": {
        "id": "Jr7ddBXA401f"
      },
      "source": [
        "\n",
        "Set text_to_number into evaluation mode (e.g., do not do training) to save memory.\n",
        "\n",
        "And please make sense of the structure of the model\n",
        "  * In the firtt layer, the dimension of the raw word emeddings is (30522, 768), meaning that there is 30522 basic tokens in base BERT and each embeding has 768 features, i.e., 768-digit in the embedding vector\n",
        "  * In subsequent layers, see the manefest of the self-attention mechanism, i.e., structure of query, key, and value"
      ]
    },
    {
      "cell_type": "code",
      "metadata": {
        "id": "dGyq9GRRpwKw",
        "colab": {
          "base_uri": "https://localhost:8080/"
        },
        "outputId": "5f99cd5a-0042-4134-83b2-4a8b3489a5e1"
      },
      "source": [
        "# set the model into evaluation model to do feed-forward operation only, no training\n",
        "text_to_number.eval()\n",
        "# note that the first layer in BERT model is word_embedding layer\n",
        "# with 30522 basic tokens in BERT's vocabulary and each token has an embedding with length of 768"
      ],
      "execution_count": null,
      "outputs": [
        {
          "output_type": "execute_result",
          "data": {
            "text/plain": [
              "BertModel(\n",
              "  (embeddings): BertEmbeddings(\n",
              "    (word_embeddings): Embedding(30522, 768, padding_idx=0)\n",
              "    (position_embeddings): Embedding(512, 768)\n",
              "    (token_type_embeddings): Embedding(2, 768)\n",
              "    (LayerNorm): LayerNorm((768,), eps=1e-12, elementwise_affine=True)\n",
              "    (dropout): Dropout(p=0.1, inplace=False)\n",
              "  )\n",
              "  (encoder): BertEncoder(\n",
              "    (layer): ModuleList(\n",
              "      (0-11): 12 x BertLayer(\n",
              "        (attention): BertAttention(\n",
              "          (self): BertSelfAttention(\n",
              "            (query): Linear(in_features=768, out_features=768, bias=True)\n",
              "            (key): Linear(in_features=768, out_features=768, bias=True)\n",
              "            (value): Linear(in_features=768, out_features=768, bias=True)\n",
              "            (dropout): Dropout(p=0.1, inplace=False)\n",
              "          )\n",
              "          (output): BertSelfOutput(\n",
              "            (dense): Linear(in_features=768, out_features=768, bias=True)\n",
              "            (LayerNorm): LayerNorm((768,), eps=1e-12, elementwise_affine=True)\n",
              "            (dropout): Dropout(p=0.1, inplace=False)\n",
              "          )\n",
              "        )\n",
              "        (intermediate): BertIntermediate(\n",
              "          (dense): Linear(in_features=768, out_features=3072, bias=True)\n",
              "          (intermediate_act_fn): GELUActivation()\n",
              "        )\n",
              "        (output): BertOutput(\n",
              "          (dense): Linear(in_features=3072, out_features=768, bias=True)\n",
              "          (LayerNorm): LayerNorm((768,), eps=1e-12, elementwise_affine=True)\n",
              "          (dropout): Dropout(p=0.1, inplace=False)\n",
              "        )\n",
              "      )\n",
              "    )\n",
              "  )\n",
              "  (pooler): BertPooler(\n",
              "    (dense): Linear(in_features=768, out_features=768, bias=True)\n",
              "    (activation): Tanh()\n",
              "  )\n",
              ")"
            ]
          },
          "metadata": {},
          "execution_count": 15
        }
      ]
    },
    {
      "cell_type": "markdown",
      "metadata": {
        "id": "0Aq7aitO60iR"
      },
      "source": [
        "2. Use the text_to_number model to transform the raw text. For the syntax of BERT Model, see: https://huggingface.co/transformers/model_doc/bert.html\n",
        "\n",
        "In the codes below:\n",
        "  * We set torch.no_grad(), so gradient will not be calcualted (calculating gradients only for training purpose) to save memory and imporve speed\n",
        "  * Recall that encoded_text, which is derived from: encoded_text = tokenizer.encode_plus(example, max_length = 48, padding = 'max_length'), contains all the information we need to feed into text_to_number\n",
        "    * Note that we need to convert the output of encoded_text into a pytorch tensor using **torch.tensor()** function so that pytorch could process it\n",
        "    * Also note that input of BERT model need to have a batch dimension (i.e., we need to tell BERT how many sentences we feed into it); thus, we need to add one more dimension (representing the batch size) to the output of encoded_text function. Thus, we need to feed **[encoded_text['input_ids']]** instead of **encoded_text['input_ids']** in it\n",
        "\n"
      ]
    },
    {
      "cell_type": "code",
      "source": [
        "print(torch.tensor([encoded_text['input_ids']]))\n",
        "torch.tensor([encoded_text['input_ids']]).shape"
      ],
      "metadata": {
        "colab": {
          "base_uri": "https://localhost:8080/"
        },
        "id": "u5vWGP3V0njR",
        "outputId": "d6580762-9028-444f-f8f2-d40d06bf6c80"
      },
      "execution_count": null,
      "outputs": [
        {
          "output_type": "stream",
          "name": "stdout",
          "text": [
            "tensor([[  101,  2044, 11065,  2769,  2013,  1996,  2924, 11632,  1998,  4083,\n",
            "         17953,  2361,  1010,  1996,  2924, 27307,  2001,  2464,  5645,  2006,\n",
            "          1996,  5900,  2314,  2924,  1012,   102,     0,     0,     0,     0,\n",
            "             0,     0,     0,     0,     0,     0,     0,     0,     0,     0,\n",
            "             0,     0,     0,     0,     0,     0,     0,     0]])\n"
          ]
        },
        {
          "output_type": "execute_result",
          "data": {
            "text/plain": [
              "torch.Size([1, 48])"
            ]
          },
          "metadata": {},
          "execution_count": 16
        }
      ]
    },
    {
      "cell_type": "code",
      "metadata": {
        "id": "uQV_t8w2-cPV",
        "colab": {
          "base_uri": "https://localhost:8080/"
        },
        "outputId": "0093c82e-581f-428e-d75f-b34e1bae87a7"
      },
      "source": [
        "# if you want to check the input format and shape\n",
        "print(torch.tensor([encoded_text['input_ids']]))\n",
        "torch.tensor([encoded_text['input_ids']]).shape"
      ],
      "execution_count": null,
      "outputs": [
        {
          "output_type": "stream",
          "name": "stdout",
          "text": [
            "tensor([[  101,  2044, 11065,  2769,  2013,  1996,  2924, 11632,  1998,  4083,\n",
            "         17953,  2361,  1010,  1996,  2924, 27307,  2001,  2464,  5645,  2006,\n",
            "          1996,  5900,  2314,  2924,  1012,   102,     0,     0,     0,     0,\n",
            "             0,     0,     0,     0,     0,     0,     0,     0,     0,     0,\n",
            "             0,     0,     0,     0,     0,     0,     0,     0]])\n"
          ]
        },
        {
          "output_type": "execute_result",
          "data": {
            "text/plain": [
              "torch.Size([1, 48])"
            ]
          },
          "metadata": {},
          "execution_count": 17
        }
      ]
    },
    {
      "cell_type": "code",
      "metadata": {
        "id": "w-RfCugdro7P"
      },
      "source": [
        "# this is the code for BERT model to generate word embeddings for us\n",
        "with torch.no_grad():\n",
        "  outputs  = text_to_number(input_ids = torch.tensor([encoded_text['input_ids']]),\n",
        "                   attention_mask = torch.tensor([encoded_text['attention_mask']]), output_hidden_states = True)\n",
        "last = outputs.last_hidden_state\n",
        "pooler = outputs.pooler_output\n",
        "all = outputs.hidden_states"
      ],
      "execution_count": null,
      "outputs": []
    },
    {
      "cell_type": "markdown",
      "metadata": {
        "id": "pmmBRhFs-zSv"
      },
      "source": [
        "Check the output format and shape (in our case, batch size = 1, # of tokens in the raw text = 48, specified by the max_len, hidden_sate_size = 768, given by base BERT model)\n",
        "The first two outputs are given by default:\n",
        "  * I call it \"last\": all embeddings in the last layer in the shape of (batch_size, max_length, hidden_state_size),\n",
        "  * I call it \"pooler\": the pooler embedding ([CLS] token went through a linear layer and Tanh activation function) in the shape of (batch_size, hidden_state_size))\n",
        "  * and with the output_hidden_states = True, we get the third input; I call it \"all\": the embeddings of all tokens from all self-attention layer in the shape of (# of layers, batch_size, max_length, hidden_state_size)"
      ]
    },
    {
      "cell_type": "markdown",
      "metadata": {
        "id": "qXuUPxyr_5aY"
      },
      "source": [
        "![output of BERT.png](data:image/png;base64,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)"
      ]
    },
    {
      "cell_type": "code",
      "metadata": {
        "id": "yiye4L40vZPh",
        "colab": {
          "base_uri": "https://localhost:8080/"
        },
        "outputId": "3dfd849b-e126-4d90-b3ee-85f8de118090"
      },
      "source": [
        "# check the type and shape of the three outputs\n",
        "print(\"the last layer output:\", type(last), last.shape, \"\\n\",\n",
        "      \"the pooler output:\", type(pooler), pooler.shape, \"\\n\",\n",
        "      \"the number of total layers:\", type(all), len(all), \"\\n\",\n",
        "      \"the output from the first layer:\", type(all[0]), all[0].shape)"
      ],
      "execution_count": null,
      "outputs": [
        {
          "output_type": "stream",
          "name": "stdout",
          "text": [
            "the last layer output: <class 'torch.Tensor'> torch.Size([1, 48, 768]) \n",
            " the pooler output: <class 'torch.Tensor'> torch.Size([1, 768]) \n",
            " the number of total layers: <class 'tuple'> 13 \n",
            " the output from the first layer: <class 'torch.Tensor'> torch.Size([1, 48, 768])\n"
          ]
        }
      ]
    },
    {
      "cell_type": "code",
      "metadata": {
        "id": "9cE84kQz6lRT",
        "colab": {
          "base_uri": "https://localhost:8080/"
        },
        "outputId": "8638f300-243c-418e-afda-0217550d853c"
      },
      "source": [
        "# check if the output of BERT model consistent with setting\n",
        "# the last layer of the \"all\" output should equal to the \"last\" output\n",
        "last == all[12]"
      ],
      "execution_count": null,
      "outputs": [
        {
          "output_type": "execute_result",
          "data": {
            "text/plain": [
              "tensor([[[True, True, True,  ..., True, True, True],\n",
              "         [True, True, True,  ..., True, True, True],\n",
              "         [True, True, True,  ..., True, True, True],\n",
              "         ...,\n",
              "         [True, True, True,  ..., True, True, True],\n",
              "         [True, True, True,  ..., True, True, True],\n",
              "         [True, True, True,  ..., True, True, True]]])"
            ]
          },
          "metadata": {},
          "execution_count": 20
        }
      ]
    },
    {
      "cell_type": "markdown",
      "metadata": {
        "id": "Nx1DjX-hBH0p"
      },
      "source": [
        "Understanding the structure of BERT output, we can then easily index and fetch the resultant word embeddings.\n",
        "\n",
        "For instance, if we want to extract word embeddings from the last transformer layer.\n",
        "  * Recall that the shape of \"last\" is (batch size, max_len, hidden size), in our case here is (1, 48, 768)"
      ]
    },
    {
      "cell_type": "code",
      "metadata": {
        "id": "46QzrO_-7NQW",
        "colab": {
          "base_uri": "https://localhost:8080/"
        },
        "outputId": "0934b570-2415-40ab-ea58-1d86a2df8083"
      },
      "source": [
        "# extract the word embeddings for non-padded input from last layer\n",
        "\n",
        "# sum of attention_mask gives us the total number of non-padded token\n",
        "print(\"embedding of all non-padded token from the last layer:\", \"\\n\",\n",
        "      last[ :, 0 : sum(encoded_text['attention_mask']), :])\n",
        "\n",
        "# check the shape/dimensions of all tokens\n",
        "print(\"all tokens including padded ones:\", last.shape)\n",
        "# without the padded tokens\n",
        "print(\"only tokens of raw input:\", last[ :, 0 : sum(encoded_text['attention_mask']), :].shape)\n",
        "\n"
      ],
      "execution_count": null,
      "outputs": [
        {
          "output_type": "stream",
          "name": "stdout",
          "text": [
            "embedding of all non-padded token from the last layer: \n",
            " tensor([[[-0.7054, -0.2647, -0.5992,  ..., -0.0765,  0.3991,  0.3729],\n",
            "         [-0.2369, -0.1814, -0.3718,  ..., -0.4018,  0.0893, -0.1481],\n",
            "         [-0.3640, -0.3769,  0.1327,  ..., -0.1980, -0.0027, -0.1216],\n",
            "         ...,\n",
            "         [ 0.2506, -0.3052, -0.0736,  ..., -0.5509, -0.5678,  0.2074],\n",
            "         [ 0.4868, -0.0969, -0.2821,  ...,  0.0487, -0.6154, -0.2020],\n",
            "         [-0.7266, -0.6352, -0.3421,  ...,  0.3469, -0.0791, -0.6001]]])\n",
            "all tokens including padded ones: torch.Size([1, 48, 768])\n",
            "only tokens of raw input: torch.Size([1, 26, 768])\n"
          ]
        }
      ]
    },
    {
      "cell_type": "markdown",
      "metadata": {
        "id": "G1zrLib5Dc2O"
      },
      "source": [
        "Can I use the mean of tokens' embeddigngs as the embedding of the sentence?\n",
        "  * Yes. You have different ways to extract the sentence embeddings: http://jalammar.github.io/illustrated-bert/\n",
        "  "
      ]
    },
    {
      "cell_type": "code",
      "metadata": {
        "id": "N1Mq767wOS2k",
        "colab": {
          "base_uri": "https://localhost:8080/"
        },
        "outputId": "60cbf775-2f33-4fe1-f4c0-fafed80ae2f5"
      },
      "source": [
        "# torch.mean https://pytorch.org/docs/stable/torch.html#torch.mean\n",
        "# note that you could use keep dim = True to keep the original dimension with batch size as the first axis\n",
        "last[ :, 0 : sum(encoded_text['attention_mask']), :].mean(dim = 1)\n",
        "# check its shape\n",
        "last[ :, 0 : sum(encoded_text['attention_mask']), :].mean(dim = 1).shape"
      ],
      "execution_count": null,
      "outputs": [
        {
          "output_type": "execute_result",
          "data": {
            "text/plain": [
              "torch.Size([1, 768])"
            ]
          },
          "metadata": {},
          "execution_count": 22
        }
      ]
    },
    {
      "cell_type": "code",
      "metadata": {
        "id": "DnV3L-lD83pJ",
        "colab": {
          "base_uri": "https://localhost:8080/"
        },
        "outputId": "eee80b71-e800-4f29-a988-60a07d3b4d76"
      },
      "source": [
        "# you can also extract the word embeddings from any other layer; let's call it layer \"n\" ; n is in (0, 12)\n",
        "n = 9\n",
        "all[n][ :, 0 : sum(encoded_text['attention_mask']), :]"
      ],
      "execution_count": null,
      "outputs": [
        {
          "output_type": "execute_result",
          "data": {
            "text/plain": [
              "tensor([[[-0.3416, -0.7685, -0.6851,  ..., -0.0671,  0.2427,  0.1223],\n",
              "         [-0.2170, -0.2830, -0.5524,  ..., -0.6654, -0.0178, -0.1580],\n",
              "         [-0.4943, -0.3955, -0.0968,  ..., -0.5568,  0.5050, -0.1994],\n",
              "         ...,\n",
              "         [ 0.5809, -0.0072, -0.2383,  ..., -0.5579, -0.2557,  0.2601],\n",
              "         [-0.4215,  0.1235, -0.4502,  ..., -0.4727, -0.1443,  0.0363],\n",
              "         [-0.0588, -0.0424,  0.0272,  ..., -0.0593,  0.0085, -0.0539]]])"
            ]
          },
          "metadata": {},
          "execution_count": 23
        }
      ]
    },
    {
      "cell_type": "markdown",
      "metadata": {
        "id": "rSc-N8GZCnqr"
      },
      "source": [
        "Or, fetch the embeddings from the **pooler** output"
      ]
    },
    {
      "cell_type": "code",
      "metadata": {
        "id": "N5f4REI_B84c",
        "colab": {
          "base_uri": "https://localhost:8080/"
        },
        "outputId": "225ccc00-cbc0-495e-88dc-935a7f6caee8"
      },
      "source": [
        "# poller has the [CLS] token that can be used for further classification\n",
        "print(pooler)\n",
        "print(pooler.shape)"
      ],
      "execution_count": null,
      "outputs": [
        {
          "output_type": "stream",
          "name": "stdout",
          "text": [
            "tensor([[-6.0789e-01, -3.7445e-01, -6.1887e-01,  3.2762e-01,  4.9607e-01,\n",
            "         -2.0008e-01,  3.6694e-01,  2.6268e-01, -3.2627e-01, -9.9986e-01,\n",
            "         -2.8680e-01,  5.9604e-01,  9.8146e-01, -6.4765e-02,  7.8185e-01,\n",
            "         -3.0816e-01, -2.7265e-02, -3.6798e-01,  1.0389e-01,  5.0773e-01,\n",
            "          6.2830e-01,  9.9987e-01,  2.0951e-01,  2.3697e-01,  2.5235e-01,\n",
            "          8.5642e-01, -5.2921e-01,  8.6322e-01,  8.9513e-01,  7.5573e-01,\n",
            "         -1.5490e-01,  3.7787e-03, -9.8785e-01, -1.0600e-01, -7.5304e-01,\n",
            "         -9.8067e-01,  1.7966e-01, -6.2294e-01,  1.7449e-01,  4.5779e-02,\n",
            "         -7.6400e-01,  2.1437e-01,  9.9989e-01, -7.9633e-01,  4.6469e-01,\n",
            "         -2.3993e-01, -9.9994e-01,  1.3767e-01, -8.0072e-01,  5.6016e-01,\n",
            "          4.2001e-01,  7.3755e-01,  1.3418e-01,  2.8548e-01,  3.9192e-01,\n",
            "         -2.3462e-01, -1.9785e-01,  4.7312e-02, -1.7071e-01, -4.9537e-01,\n",
            "         -5.1865e-01,  1.5536e-01, -2.8353e-01, -7.7979e-01,  5.5050e-01,\n",
            "          9.0547e-02, -4.0760e-02, -1.4404e-01,  2.8917e-02, -3.9136e-02,\n",
            "          5.8902e-01,  2.6613e-01, -6.4135e-03, -7.7820e-01,  7.5979e-02,\n",
            "          3.0857e-01, -5.6571e-01,  1.0000e+00,  1.3716e-01, -9.6904e-01,\n",
            "          6.2751e-01,  1.3108e-01,  4.4973e-01,  5.5069e-01, -1.5424e-01,\n",
            "         -1.0000e+00,  2.3942e-01, -2.3303e-01, -9.8740e-01,  1.5933e-01,\n",
            "          5.1216e-01, -1.6176e-01,  5.4584e-01,  5.0357e-01, -3.2671e-01,\n",
            "         -4.5858e-01, -3.1267e-01, -6.5794e-01, -1.2796e-01,  2.7251e-02,\n",
            "         -5.1199e-02, -2.5075e-01, -7.2801e-02, -2.2917e-01,  2.2693e-01,\n",
            "         -3.2509e-01,  4.3720e-02,  3.4657e-01, -4.1508e-01,  4.6407e-01,\n",
            "          4.2278e-01, -2.2168e-01,  2.8576e-01, -9.2374e-01,  5.6391e-01,\n",
            "         -3.2792e-01, -9.8594e-01, -4.6540e-01, -9.8923e-01,  6.4261e-01,\n",
            "         -7.0572e-02, -2.0457e-01,  9.1934e-01, -8.7894e-02,  3.5254e-01,\n",
            "          8.1385e-02, -6.6008e-01, -1.0000e+00,  1.3315e-01, -2.9857e-02,\n",
            "         -1.3043e-01, -1.5535e-01, -9.6741e-01, -9.5536e-01,  3.0907e-01,\n",
            "          8.8456e-01,  2.2646e-01,  9.9943e-01, -3.1424e-01,  9.3923e-01,\n",
            "          1.9989e-01, -4.6366e-01,  2.2928e-01, -4.4801e-01,  5.7023e-01,\n",
            "         -4.7671e-01, -4.6078e-02,  3.0220e-01,  6.0077e-02, -5.2425e-02,\n",
            "         -6.4813e-01, -3.3238e-01,  2.5473e-02, -7.6917e-01, -2.3530e-01,\n",
            "          9.0914e-01, -2.9872e-01, -4.8212e-01,  3.4458e-01, -1.5025e-01,\n",
            "         -1.6074e-01,  6.7908e-01,  3.3494e-01,  2.5102e-01,  1.5636e-01,\n",
            "          4.3722e-01, -4.8483e-01,  2.9184e-01, -7.5284e-01,  2.9092e-02,\n",
            "          2.2864e-01, -2.7991e-01, -5.8300e-01, -9.8652e-01, -2.1299e-01,\n",
            "          4.7218e-01,  9.7636e-01,  5.5782e-01,  2.1899e-01,  3.4093e-01,\n",
            "         -2.7941e-01, -8.2949e-02, -9.4574e-01,  9.8127e-01, -6.7594e-02,\n",
            "          2.4060e-01, -7.2793e-01,  5.4149e-01, -7.9721e-01, -5.4787e-01,\n",
            "          6.3164e-01, -1.4298e-01, -6.8254e-01, -5.5581e-03, -2.9808e-01,\n",
            "         -1.6892e-01, -6.7817e-01,  5.4981e-01, -3.0254e-01, -2.5925e-01,\n",
            "          5.5359e-02,  8.7749e-01,  6.2763e-01,  2.4745e-01,  9.4025e-03,\n",
            "          3.1092e-01, -7.4230e-01, -1.8861e-01, -5.5692e-02,  7.3708e-02,\n",
            "         -1.9490e-02,  9.8535e-01, -5.4527e-01, -7.6568e-03, -8.3088e-01,\n",
            "         -9.8390e-01, -1.8348e-01, -6.9300e-01,  6.4063e-02, -5.1324e-01,\n",
            "          4.2507e-01, -7.6336e-01, -3.7084e-01,  9.3964e-02, -2.8205e-01,\n",
            "         -6.6107e-01,  2.1034e-01, -5.7650e-01,  3.4428e-01, -2.9413e-01,\n",
            "          8.6193e-01,  7.6923e-01, -4.8938e-01, -3.1503e-01,  9.2446e-01,\n",
            "         -6.7257e-01, -7.5982e-01, -5.9601e-02, -1.6573e-01,  6.7183e-01,\n",
            "         -5.8400e-01,  9.6889e-01,  5.9536e-01,  2.6238e-01, -9.0292e-01,\n",
            "         -6.6609e-01, -3.4110e-01,  1.1746e-01, -5.1194e-02, -6.4928e-01,\n",
            "          4.8746e-01,  4.1045e-01,  2.5651e-01,  7.8071e-01, -4.0001e-01,\n",
            "          7.6749e-01, -9.4359e-01, -9.3786e-01, -9.7103e-01,  2.4084e-01,\n",
            "         -9.8809e-01,  7.1375e-01,  2.2265e-01,  6.6959e-01, -3.5819e-01,\n",
            "         -3.1761e-01, -9.5418e-01,  3.5816e-01,  4.5302e-02,  8.4569e-01,\n",
            "         -6.0883e-01, -4.8763e-01, -4.0889e-01, -9.1295e-01, -8.3726e-02,\n",
            "         -6.7165e-02,  2.1285e-01,  5.6242e-02, -8.9068e-01,  3.5798e-01,\n",
            "          5.3279e-01,  4.6539e-01, -7.8976e-01,  9.5663e-01,  1.0000e+00,\n",
            "          9.7424e-01,  8.0990e-01,  2.2526e-01, -9.9903e-01, -8.8365e-01,\n",
            "          9.9993e-01, -9.4202e-01, -1.0000e+00, -8.4142e-01, -4.8470e-01,\n",
            "          2.9245e-01, -1.0000e+00, -1.2042e-01,  4.1012e-02, -8.9646e-01,\n",
            "          1.9070e-01,  9.6782e-01,  7.5538e-01, -1.0000e+00,  8.6107e-01,\n",
            "          8.1428e-01, -5.0240e-01,  6.4622e-01, -2.7577e-01,  9.7249e-01,\n",
            "          2.4405e-01,  5.9651e-01, -2.5878e-01,  4.7640e-01, -7.3433e-01,\n",
            "         -5.4708e-01, -3.4084e-01, -7.0192e-01,  9.9325e-01, -6.4526e-02,\n",
            "         -3.7306e-01, -8.7090e-01,  6.0997e-01, -5.3733e-03, -2.4724e-01,\n",
            "         -9.2067e-01, -2.3348e-01,  3.2947e-01,  4.5340e-01,  2.2023e-01,\n",
            "          2.1041e-01, -4.6080e-01,  1.4943e-01,  5.5227e-02, -3.1915e-01,\n",
            "          5.6219e-01, -8.2560e-01, -2.1892e-01,  5.0646e-01, -2.8988e-01,\n",
            "          1.8140e-01, -9.6168e-01,  9.1427e-01, -3.9849e-01,  3.5577e-01,\n",
            "          1.0000e+00,  8.8429e-01, -6.6985e-01,  4.3179e-01,  1.4748e-01,\n",
            "          3.7375e-01,  1.0000e+00,  3.9870e-01, -9.7949e-01, -4.8900e-01,\n",
            "          5.2808e-01, -4.1530e-01, -4.4094e-01,  9.9736e-01, -1.6644e-01,\n",
            "         -4.2042e-01, -1.1020e-01,  9.8446e-01, -9.9112e-01,  9.8641e-01,\n",
            "         -6.6609e-01, -9.5373e-01,  9.6182e-01,  9.1493e-01, -2.1827e-01,\n",
            "         -5.9144e-01,  8.0945e-02,  1.8800e-01,  1.8244e-01, -6.2483e-01,\n",
            "          4.5914e-01,  4.1664e-01, -3.2546e-02,  7.0685e-01,  1.5040e-01,\n",
            "         -4.6443e-01,  2.3735e-01, -4.5636e-01,  2.4185e-01,  8.7017e-01,\n",
            "          3.3654e-01, -4.8766e-02, -3.5845e-02, -2.0290e-01, -8.3623e-01,\n",
            "         -9.3420e-01,  4.1527e-01,  1.0000e+00,  1.4914e-02,  8.0725e-01,\n",
            "          1.9445e-01,  1.3314e-03, -1.9241e-01,  4.7569e-01,  3.4307e-01,\n",
            "         -3.1955e-01, -5.8685e-01,  5.8195e-01, -6.2735e-01, -9.9525e-01,\n",
            "          1.0530e-01,  3.7674e-02,  9.7258e-02,  9.9886e-01,  4.3675e-01,\n",
            "          1.8117e-01,  3.2426e-01,  9.3437e-01, -5.8990e-02, -1.3310e-01,\n",
            "          2.5834e-01,  9.6448e-01, -1.2768e-01,  4.4544e-01,  2.7679e-01,\n",
            "         -2.7272e-01, -1.0989e-01, -5.0901e-01, -1.5332e-01, -8.8517e-01,\n",
            "          3.2792e-01, -9.5585e-01,  9.1113e-01,  8.5707e-01,  4.1097e-01,\n",
            "          6.8900e-02,  5.3935e-01,  1.0000e+00, -9.7620e-01,  7.0260e-02,\n",
            "          8.3236e-01,  5.7739e-02, -9.9910e-01, -4.4120e-01, -3.5128e-01,\n",
            "         -1.6569e-02, -2.0054e-01,  1.8719e-03,  1.3942e-01, -9.6362e-01,\n",
            "          6.2018e-02,  7.5329e-01, -4.3198e-01, -9.8433e-01,  7.3594e-02,\n",
            "          4.5295e-01,  1.6974e-01, -9.6158e-01, -2.6421e-01, -5.2773e-01,\n",
            "          9.2596e-02, -5.6032e-02, -9.1613e-01,  4.8185e-01, -4.1674e-01,\n",
            "          2.8273e-01, -2.1937e-01,  4.3881e-01,  3.1103e-01,  9.4481e-01,\n",
            "         -9.0170e-01, -3.2601e-01, -1.4842e-01, -6.7361e-01,  5.0192e-01,\n",
            "         -3.2378e-01, -6.5608e-01, -1.6364e-01,  1.0000e+00, -4.2726e-01,\n",
            "          4.7863e-01,  4.4495e-01,  1.4891e-01, -1.9779e-01,  2.2899e-01,\n",
            "          8.1271e-01,  1.1909e-01,  6.8625e-02, -3.9523e-01,  7.8240e-01,\n",
            "         -2.1776e-01,  4.2570e-01,  6.6759e-01, -7.7341e-03,  6.6448e-01,\n",
            "          6.9031e-01,  1.3063e-01,  4.6960e-02,  1.4644e-01,  8.8957e-01,\n",
            "          2.2670e-02, -1.5641e-01, -3.2354e-01, -4.3489e-02, -2.8363e-01,\n",
            "          7.2897e-01,  1.0000e+00,  1.3991e-01,  5.0698e-01, -9.9365e-01,\n",
            "         -6.7090e-01, -7.5438e-01,  9.9999e-01,  8.6927e-01, -7.2932e-01,\n",
            "          5.3373e-01,  5.3666e-01, -2.7275e-01, -1.8329e-01, -1.1818e-01,\n",
            "         -2.1684e-01,  2.1315e-01,  1.3639e-02,  9.5810e-01, -5.3471e-01,\n",
            "         -9.8220e-01, -5.4631e-01,  3.1621e-01, -9.2741e-01,  9.9946e-01,\n",
            "         -5.0935e-01, -1.3421e-01, -2.9762e-01, -2.5895e-01, -9.1416e-01,\n",
            "         -8.9587e-02, -9.8141e-01, -1.5338e-01,  1.9193e-01,  9.5776e-01,\n",
            "          2.8631e-01, -4.6818e-01, -7.7258e-01,  8.2236e-01,  4.4260e-01,\n",
            "         -7.3410e-01, -9.2737e-01,  9.6868e-01, -9.1911e-01,  2.4896e-01,\n",
            "          9.9999e-01,  5.3504e-01, -1.0476e-01,  1.1264e-01, -2.5019e-01,\n",
            "          2.6215e-01, -4.3539e-01,  5.2237e-01, -9.1965e-01, -1.4233e-01,\n",
            "         -1.8930e-01,  4.0761e-01, -9.2132e-02, -8.5079e-01,  5.9488e-01,\n",
            "          1.2706e-01, -4.4935e-01, -4.1093e-01, -3.9043e-02,  3.2919e-01,\n",
            "          5.6273e-01, -1.8868e-01,  2.4068e-02,  1.6682e-01, -4.0113e-04,\n",
            "         -7.7206e-01, -2.5344e-01, -3.9465e-01, -9.9992e-01,  4.8555e-01,\n",
            "         -1.0000e+00,  6.1682e-01, -3.0894e-01, -2.2819e-01,  6.5165e-01,\n",
            "          8.0792e-01,  7.1177e-01, -4.3708e-01, -3.9616e-01,  7.6776e-01,\n",
            "          5.9360e-01, -1.3712e-01, -1.0957e-01, -4.5064e-01,  2.5159e-01,\n",
            "          9.1084e-03,  1.5097e-01, -4.2758e-01,  5.7185e-01, -2.7342e-01,\n",
            "          1.0000e+00,  7.3793e-02, -3.2684e-01, -5.0884e-01,  2.3799e-01,\n",
            "         -2.7246e-01,  1.0000e+00, -2.1191e-01, -9.6248e-01,  1.1826e-01,\n",
            "         -5.3284e-01, -5.1914e-01,  4.7644e-01, -1.2950e-02, -7.5709e-01,\n",
            "         -7.7357e-01,  7.7570e-01,  3.5075e-01, -5.8475e-01,  4.2311e-01,\n",
            "         -2.5755e-01, -2.4934e-01, -1.3779e-02,  8.2306e-01,  9.8321e-01,\n",
            "          8.5436e-01,  2.8009e-01, -9.4986e-01, -2.6087e-01,  9.2463e-01,\n",
            "          1.6890e-01, -1.4357e-01,  2.9878e-02,  1.0000e+00,  4.0985e-01,\n",
            "         -6.9064e-01,  2.7397e-01, -8.3925e-01, -2.4789e-01, -7.6356e-01,\n",
            "          2.0169e-01,  7.4701e-02,  8.9905e-01, -2.1188e-01,  9.1715e-01,\n",
            "         -6.4681e-01, -1.0422e-01, -4.3869e-01,  2.5587e-01,  2.3421e-01,\n",
            "         -8.4934e-01, -9.8524e-01, -9.8696e-01,  4.5923e-01, -2.4929e-01,\n",
            "         -1.0395e-01,  3.4401e-01,  1.6587e-01,  2.3953e-01,  4.0023e-01,\n",
            "         -1.0000e+00,  8.9800e-01,  3.1375e-01,  6.4924e-01,  9.6940e-01,\n",
            "          3.9847e-01,  5.7035e-01,  3.3427e-01, -9.7848e-01, -5.6567e-01,\n",
            "         -2.3616e-01, -1.7472e-01,  4.4918e-01,  3.2170e-01,  5.9232e-01,\n",
            "          2.1567e-01, -3.6573e-01, -6.5520e-01, -1.9350e-01, -9.6415e-01,\n",
            "         -9.8483e-01,  4.4060e-01,  1.6316e-01, -3.5005e-01,  9.3520e-01,\n",
            "         -2.5561e-01, -1.8291e-02,  4.4881e-01, -5.5563e-01,  1.3864e-01,\n",
            "          5.8388e-01,  1.4933e-01, -9.2342e-02,  5.9353e-01,  8.0271e-01,\n",
            "          7.5857e-01,  9.8045e-01, -6.8765e-01,  2.8435e-01, -4.7839e-01,\n",
            "          3.5666e-01,  9.1537e-01, -9.3141e-01,  3.9706e-02,  2.6662e-01,\n",
            "         -1.2526e-01,  2.1330e-01, -2.1459e-01, -4.0495e-01,  9.3587e-01,\n",
            "         -7.6748e-02,  3.7777e-01, -2.6752e-01,  1.6343e-01, -3.6616e-01,\n",
            "         -8.7209e-02, -7.8909e-01, -4.4118e-01,  4.8975e-01, -4.8145e-02,\n",
            "          7.7211e-01,  6.7855e-01, -4.3058e-02, -3.5569e-01, -1.4595e-01,\n",
            "         -6.2329e-02, -8.8077e-01,  8.9079e-02, -1.3860e-02,  6.5620e-01,\n",
            "          3.7387e-01, -3.9438e-01,  9.7307e-01, -1.6370e-01, -3.8111e-01,\n",
            "         -2.8669e-01, -5.9382e-01,  5.8113e-01, -6.5939e-01, -3.5084e-01,\n",
            "         -4.5450e-01,  6.6336e-01,  3.1106e-01,  9.9992e-01, -5.2150e-01,\n",
            "         -3.2362e-01, -3.2144e-01, -4.0394e-01,  1.1419e-01, -2.2778e-01,\n",
            "         -1.0000e+00,  2.8700e-01, -2.3867e-01,  3.7355e-01, -4.3301e-01,\n",
            "          8.2815e-01, -3.6167e-01, -7.0501e-01, -1.0804e-01,  5.5674e-01,\n",
            "          5.1795e-01, -4.4856e-01, -1.5024e-01,  5.0889e-01, -2.4803e-01,\n",
            "          8.8020e-01,  5.8907e-01, -2.0250e-01,  6.5265e-01,  5.3577e-01,\n",
            "         -3.9075e-01, -5.6073e-01,  5.7877e-01]])\n",
            "torch.Size([1, 768])\n"
          ]
        }
      ]
    },
    {
      "cell_type": "markdown",
      "metadata": {
        "id": "YNrSh1-G7KbH"
      },
      "source": [
        "Recap:\n",
        "\n",
        "*   Inputs of BERT Model\n",
        "> 1. input_ids: the ids of tokens in the raw texts.\n",
        "> 2. attention_mask: the dummies mark if the token is from the raw texts or padded.\n",
        "> 3. Apply the **encoder_plus** function to raw input gives you both vectors. Note that you need to extract them and transfor them into tensor before feeding into BERT model (as BERT model from transformer package only accept pytorch or tensorflow tensor)\n",
        "\n",
        "*   Outputs of BERT Model\n",
        "> 1. last layer embedding\n",
        "> 2. pooler layer\n",
        "> 3. output of all hidden self-attention layers with output_hidden_states = True\n",
        "\n",
        "It is critical to understand the inputs and outputs of BERT model and their dimensionalities for us to use BERT's embddings in subsequent analysis.\n",
        "\n"
      ]
    },
    {
      "cell_type": "markdown",
      "metadata": {
        "id": "leR6SZ6VCJie"
      },
      "source": [
        "### 4. BERT's contextual Embedding\n",
        "\n",
        "We have learned the shape of inputs and outputs of BERT model. Then, let's extract the tokens of some specific words, see if their embeddings are more or less similar.\n",
        "\n",
        "If so, we can confirm that BERT takes context into its encoding process.\n",
        "\n",
        "For instance, in our example sentence, After stealing money from the **bank vault** and learning NLP, the **bank robber** was seen fishing on the Mississippi **river bank**, the embedding of \"bank\" in \" bank vualt\" should be more similar to that in \"bank robber\" then that in \"river bank\"."
      ]
    },
    {
      "cell_type": "code",
      "metadata": {
        "id": "gBOOknB492Es",
        "colab": {
          "base_uri": "https://localhost:8080/",
          "height": 211
        },
        "outputId": "eb4e040e-fcaf-4dd7-ad37-63c964fac802"
      },
      "source": [
        "# extract embedding of specific tokens: bank\n",
        "# first get the index of the token\n",
        "# encoded_text is the output of encode_plus, the \"input_ids\" is IDs of all raw word input\n",
        "# tokenizer.convert_ids_to_tokens transfer the IDs into real words/tokens, which with we can find the words of our interests\n",
        "# enumerate() create an iterable of the words with index\n",
        "for i, token in enumerate(tokenizer.convert_ids_to_tokens(encoded_text[\"input_ids\"])):\n",
        "  print(i, token)\n",
        "\n",
        "for i, token in enumerate(tokenizer.convert_ids_to_tokens(encoded_text[\"input_ids\"])):\n",
        "  if token == \"bank\":\n",
        "    print(\"bank's position\", i)"
      ],
      "execution_count": null,
      "outputs": [
        {
          "output_type": "error",
          "ename": "NameError",
          "evalue": "name 'tokenizer' is not defined",
          "traceback": [
            "\u001b[0;31m---------------------------------------------------------------------------\u001b[0m",
            "\u001b[0;31mNameError\u001b[0m                                 Traceback (most recent call last)",
            "\u001b[0;32m<ipython-input-3-b23b85880f84>\u001b[0m in \u001b[0;36m<cell line: 6>\u001b[0;34m()\u001b[0m\n\u001b[1;32m      4\u001b[0m \u001b[0;31m# tokenizer.convert_ids_to_tokens transfer the IDs into real words/tokens, which with we can find the words of our interests\u001b[0m\u001b[0;34m\u001b[0m\u001b[0;34m\u001b[0m\u001b[0m\n\u001b[1;32m      5\u001b[0m \u001b[0;31m# enumerate() create an iterable of the words with index\u001b[0m\u001b[0;34m\u001b[0m\u001b[0;34m\u001b[0m\u001b[0m\n\u001b[0;32m----> 6\u001b[0;31m \u001b[0;32mfor\u001b[0m \u001b[0mi\u001b[0m\u001b[0;34m,\u001b[0m \u001b[0mtoken\u001b[0m \u001b[0;32min\u001b[0m \u001b[0menumerate\u001b[0m\u001b[0;34m(\u001b[0m\u001b[0mtokenizer\u001b[0m\u001b[0;34m.\u001b[0m\u001b[0mconvert_ids_to_tokens\u001b[0m\u001b[0;34m(\u001b[0m\u001b[0mencoded_text\u001b[0m\u001b[0;34m[\u001b[0m\u001b[0;34m\"input_ids\"\u001b[0m\u001b[0;34m]\u001b[0m\u001b[0;34m)\u001b[0m\u001b[0;34m)\u001b[0m\u001b[0;34m:\u001b[0m\u001b[0;34m\u001b[0m\u001b[0;34m\u001b[0m\u001b[0m\n\u001b[0m\u001b[1;32m      7\u001b[0m   \u001b[0mprint\u001b[0m\u001b[0;34m(\u001b[0m\u001b[0mi\u001b[0m\u001b[0;34m,\u001b[0m \u001b[0mtoken\u001b[0m\u001b[0;34m)\u001b[0m\u001b[0;34m\u001b[0m\u001b[0;34m\u001b[0m\u001b[0m\n\u001b[1;32m      8\u001b[0m \u001b[0;34m\u001b[0m\u001b[0m\n",
            "\u001b[0;31mNameError\u001b[0m: name 'tokenizer' is not defined"
          ]
        }
      ]
    },
    {
      "cell_type": "code",
      "metadata": {
        "id": "pQj2TfeaBp_m",
        "colab": {
          "base_uri": "https://localhost:8080/",
          "height": 211
        },
        "outputId": "3b7a93b6-af4d-4b7c-a964-5601b1532eae"
      },
      "source": [
        "# extract the embeddings for \"bank\" from the last layer\n",
        "# accroding to the index about: the positions 6, 14, 23 is what we need\n",
        "bank_vault = last[ :, 6, :]\n",
        "bank_robber = last[ :, 14, :]\n",
        "river_bank = last[:, 23, :]"
      ],
      "execution_count": null,
      "outputs": [
        {
          "output_type": "error",
          "ename": "NameError",
          "evalue": "name 'last' is not defined",
          "traceback": [
            "\u001b[0;31m---------------------------------------------------------------------------\u001b[0m",
            "\u001b[0;31mNameError\u001b[0m                                 Traceback (most recent call last)",
            "\u001b[0;32m<ipython-input-4-e9d9cfcb9d92>\u001b[0m in \u001b[0;36m<cell line: 3>\u001b[0;34m()\u001b[0m\n\u001b[1;32m      1\u001b[0m \u001b[0;31m# extract the embeddings for \"bank\" from the last layer\u001b[0m\u001b[0;34m\u001b[0m\u001b[0;34m\u001b[0m\u001b[0m\n\u001b[1;32m      2\u001b[0m \u001b[0;31m# accroding to the index about: the positions 6, 14, 23 is what we need\u001b[0m\u001b[0;34m\u001b[0m\u001b[0;34m\u001b[0m\u001b[0m\n\u001b[0;32m----> 3\u001b[0;31m \u001b[0mbank_vault\u001b[0m \u001b[0;34m=\u001b[0m \u001b[0mlast\u001b[0m\u001b[0;34m[\u001b[0m \u001b[0;34m:\u001b[0m\u001b[0;34m,\u001b[0m \u001b[0;36m6\u001b[0m\u001b[0;34m,\u001b[0m \u001b[0;34m:\u001b[0m\u001b[0;34m]\u001b[0m\u001b[0;34m\u001b[0m\u001b[0;34m\u001b[0m\u001b[0m\n\u001b[0m\u001b[1;32m      4\u001b[0m \u001b[0mbank_robber\u001b[0m \u001b[0;34m=\u001b[0m \u001b[0mlast\u001b[0m\u001b[0;34m[\u001b[0m \u001b[0;34m:\u001b[0m\u001b[0;34m,\u001b[0m \u001b[0;36m14\u001b[0m\u001b[0;34m,\u001b[0m \u001b[0;34m:\u001b[0m\u001b[0;34m]\u001b[0m\u001b[0;34m\u001b[0m\u001b[0;34m\u001b[0m\u001b[0m\n\u001b[1;32m      5\u001b[0m \u001b[0mriver_bank\u001b[0m \u001b[0;34m=\u001b[0m \u001b[0mlast\u001b[0m\u001b[0;34m[\u001b[0m\u001b[0;34m:\u001b[0m\u001b[0;34m,\u001b[0m \u001b[0;36m23\u001b[0m\u001b[0;34m,\u001b[0m \u001b[0;34m:\u001b[0m\u001b[0;34m]\u001b[0m\u001b[0;34m\u001b[0m\u001b[0;34m\u001b[0m\u001b[0m\n",
            "\u001b[0;31mNameError\u001b[0m: name 'last' is not defined"
          ]
        }
      ]
    },
    {
      "cell_type": "code",
      "metadata": {
        "id": "TS6rcS5I7w0O"
      },
      "source": [
        "# check if the word \"bank\" in different contexts has different embeddings\n",
        "river_bank == bank_robber"
      ],
      "execution_count": null,
      "outputs": []
    },
    {
      "cell_type": "code",
      "metadata": {
        "id": "oVxfoCHyC0dC"
      },
      "source": [
        "# check if the three embeddings are in the same shape\n",
        "print(bank_vault.shape, bank_robber.shape, river_bank.shape)"
      ],
      "execution_count": null,
      "outputs": []
    },
    {
      "cell_type": "markdown",
      "metadata": {
        "id": "kJCTt945HT4s"
      },
      "source": [
        "To analyze the similarity of the embeddings, we could do cosine similarity:\n",
        "  * https://stackoverflow.com/questions/58381092/difference-between-cosine-similarity-and-cosine-distance\n",
        "\n",
        "  * Cosine in scipy is calculating cosine distance, which is 1 - cosine similarity to get cosine similarity between A and B, we thus do 1 - cosine(A, B).\n",
        "    * See reference: https://docs.scipy.org/doc/scipy/reference/generated/scipy.spatial.distance.cosine.html"
      ]
    },
    {
      "cell_type": "code",
      "metadata": {
        "id": "k9Q-XYfEmuQm"
      },
      "source": [
        "from scipy.spatial.distance import cosine\n",
        "print(\"similarity between 'bank' in 'bank_vault' and 'bank_robber'\", \"\\n\", 1 - cosine(bank_vault.squeeze(), bank_robber.squeeze()))\n",
        "print(\"similarity between 'bank' in 'bank_vault' and 'river_bank'\", \"\\n\", 1 - cosine(bank_vault.squeeze(), river_bank.squeeze()))\n",
        "print(\"similarity between 'bank' in 'bank_robber' and 'river_bank'\", \"\\n\", 1 - cosine(bank_vault.squeeze(), river_bank.squeeze()))"
      ],
      "execution_count": null,
      "outputs": []
    },
    {
      "cell_type": "code",
      "metadata": {
        "id": "5yvhV1kq8TIg"
      },
      "source": [
        "# alternatively, we can actully using pearson correlation to show the similarity between the embeddings\n",
        "from scipy.stats.stats import pearsonr\n",
        "print(\"similarity between 'bank' in 'bank_vault' and 'bank_robber'\", \"\\n\", pearsonr(bank_vault[0,:], bank_robber[0,:]))\n",
        "print(\"similarity between 'bank' in 'bank_vault' and 'river_bank'\", \"\\n\", pearsonr(bank_vault[0,:], river_bank[0,:]))\n",
        "print(\"similarity between 'bank' in 'bank_robber' and 'river_bank'\", \"\\n\", pearsonr(bank_vault[0,:], river_bank[0,:]))"
      ],
      "execution_count": null,
      "outputs": []
    },
    {
      "cell_type": "markdown",
      "metadata": {
        "id": "5t164X_xFEDa"
      },
      "source": [
        "Here is another fast way to show the capability of Transformer-based model in handling contextual information."
      ]
    },
    {
      "cell_type": "code",
      "metadata": {
        "id": "an2kO5lAE8tG"
      },
      "source": [
        "# sentiment is a great interface that Huggingface developed based on BERT to analyze sentiment in the raw texts.\n",
        "from transformers import pipeline\n",
        "sentiment = pipeline('sentiment-analysis')\n"
      ],
      "execution_count": null,
      "outputs": []
    },
    {
      "cell_type": "code",
      "metadata": {
        "id": "Qj4f5DEmE8tK"
      },
      "source": [
        "# sentence 1: executed vs. terribly executed\n",
        "result1a = sentiment('The capstone project plan was executed')\n",
        "result1b = sentiment('The capstone project plan was terribly executed')\n",
        "# sentence 2: good vs. with terribly good\n",
        "result2a = sentiment('The capstone project plan was good')\n",
        "result2b = sentiment('The capstone project plan was terribly good')\n",
        "\n",
        "print(\"raw: The capstone project plan was executed\", result1a, \"\\n\", \"with terribly: The capstone project plan was terribly executed\", result1b)\n",
        "print(\"raw: The capstone project plan was good\", result2a, \"\\n\", \"with terribly: The capstone project plan was terribly good\", result2b)\n",
        "# note the different effects of \"terribly\" in the two pairs of sentences\n",
        "# it changed the sentiment in the first one but not the second one,\n",
        "# just as human being would do"
      ],
      "execution_count": null,
      "outputs": []
    },
    {
      "cell_type": "markdown",
      "metadata": {
        "id": "BmtNjE_-_RZ_"
      },
      "source": [
        "**Recap:**\n",
        "*   BERT is a encoding machine that generates numerical representation of raw texts.\n",
        "*   BERT's embeddings are superior to thoes of previous encoding machines because BERT produces contextualized embeddings.\n",
        "\n",
        "\n"
      ]
    },
    {
      "cell_type": "markdown",
      "metadata": {
        "id": "7pVoqHneCjBn"
      },
      "source": [
        "## Load the Raw Dataset\n",
        "now, we've learned the input and output of BERT model. Let's explore how to incoporate BERT model into a traditional neural network and train the model to do the tasks we need.\n",
        "\n",
        "but before that, let's first get the datasets we will work on.\n",
        "\n"
      ]
    },
    {
      "cell_type": "code",
      "source": [
        "url = 'beauty_dataset_v1.csv'\n",
        "raw_review = pd.read_csv(url)"
      ],
      "metadata": {
        "id": "XSqzXphJY9k7"
      },
      "execution_count": null,
      "outputs": []
    },
    {
      "cell_type": "code",
      "source": [
        "raw_review"
      ],
      "metadata": {
        "colab": {
          "base_uri": "https://localhost:8080/",
          "height": 424
        },
        "id": "Eoke9VYgW7sb",
        "outputId": "e5371994-bfc4-48a9-86a7-d77f798e42ee"
      },
      "execution_count": null,
      "outputs": [
        {
          "output_type": "execute_result",
          "data": {
            "text/plain": [
              "             asin                                               text  \\\n",
              "0      B0973WGX3D  The media could not be loaded. Buyy it!!!! Ama...   \n",
              "1      B00DLJ7N2U  Item is heavy and uncomfortable after holding....   \n",
              "2      B00DLJ7N2U  So I was excited when I ordered this product. ...   \n",
              "3      B00DLJ7N2U  My daughter purchased it and it was too painfu...   \n",
              "4      B00DLJ7N2U  This can be used as maintenance between the tr...   \n",
              "...           ...                                                ...   \n",
              "19367  B08N7VDKB8  We're going through a oily scalp phase over he...   \n",
              "19368  B08N7VDKB8  This dry shampoo works better than the others ...   \n",
              "19369  B08N7VDKB8  The Authentic Beauty Concept dry shampoo is a ...   \n",
              "19370  B08N7VDKB8  I don’t like the fact that it keeps saying ver...   \n",
              "19371  B08N7VDKB8                         Works great, smells great!   \n",
              "\n",
              "       numberOfHelpful  rating        reviewId  \\\n",
              "0                    0       5  R13DKMYTOTKWJX   \n",
              "1                    0       3  R1BT000GQYEISB   \n",
              "2                    0       1  R1VRRVSFGPZUPW   \n",
              "3                    0       2   RDLUGW9NGVANK   \n",
              "4                    2       3   RN9761C69LUKO   \n",
              "...                ...     ...             ...   \n",
              "19367                0       5  R2ZS7LC9F7OP6I   \n",
              "19368                0       5  R26IAPCYG9RHYV   \n",
              "19369                0       5  R178PPASUDA561   \n",
              "19370                3       1  R2T87E1H8RJ8SZ   \n",
              "19371                0       5  R1AV1T8XE1WRLY   \n",
              "\n",
              "                                                title            username  \\\n",
              "0                                            Yessssss        Boss2021babe   \n",
              "1                               Heavy, takes too long      Debbie Meadows   \n",
              "2                           Not made for black women.             Candace   \n",
              "3                                             Painful  Christina Martinez   \n",
              "4      Not a replacement to the commercial treatments              Adrian   \n",
              "...                                               ...                 ...   \n",
              "19367                               My tweens love it         LazyUnicorn   \n",
              "19368                                Amazing product!                Mitz   \n",
              "19369                    Works well, good travel size       Hunting Creek   \n",
              "19370                           Flammable information     Marcelina ponce   \n",
              "19371                               Excellent Product     Amazon Customer   \n",
              "\n",
              "       verified        country    date_new  \n",
              "0          True  United States  03-13-2022  \n",
              "1          True  United States  04-07-2022  \n",
              "2          True  United States  04-07-2022  \n",
              "3          True  United States  03-26-2022  \n",
              "4          True  United States  03-24-2022  \n",
              "...         ...            ...         ...  \n",
              "19367      True  United States  05-26-2021  \n",
              "19368      True  United States  05-25-2021  \n",
              "19369      True  United States  05-21-2021  \n",
              "19370      True  United States  05-19-2021  \n",
              "19371      True  United States  04-10-2021  \n",
              "\n",
              "[19372 rows x 10 columns]"
            ],
            "text/html": [
              "\n",
              "  <div id=\"df-ec9e6835-1643-475e-8a50-e1964d8a858b\" class=\"colab-df-container\">\n",
              "    <div>\n",
              "<style scoped>\n",
              "    .dataframe tbody tr th:only-of-type {\n",
              "        vertical-align: middle;\n",
              "    }\n",
              "\n",
              "    .dataframe tbody tr th {\n",
              "        vertical-align: top;\n",
              "    }\n",
              "\n",
              "    .dataframe thead th {\n",
              "        text-align: right;\n",
              "    }\n",
              "</style>\n",
              "<table border=\"1\" class=\"dataframe\">\n",
              "  <thead>\n",
              "    <tr style=\"text-align: right;\">\n",
              "      <th></th>\n",
              "      <th>asin</th>\n",
              "      <th>text</th>\n",
              "      <th>numberOfHelpful</th>\n",
              "      <th>rating</th>\n",
              "      <th>reviewId</th>\n",
              "      <th>title</th>\n",
              "      <th>username</th>\n",
              "      <th>verified</th>\n",
              "      <th>country</th>\n",
              "      <th>date_new</th>\n",
              "    </tr>\n",
              "  </thead>\n",
              "  <tbody>\n",
              "    <tr>\n",
              "      <th>0</th>\n",
              "      <td>B0973WGX3D</td>\n",
              "      <td>The media could not be loaded. Buyy it!!!! Ama...</td>\n",
              "      <td>0</td>\n",
              "      <td>5</td>\n",
              "      <td>R13DKMYTOTKWJX</td>\n",
              "      <td>Yessssss</td>\n",
              "      <td>Boss2021babe</td>\n",
              "      <td>True</td>\n",
              "      <td>United States</td>\n",
              "      <td>03-13-2022</td>\n",
              "    </tr>\n",
              "    <tr>\n",
              "      <th>1</th>\n",
              "      <td>B00DLJ7N2U</td>\n",
              "      <td>Item is heavy and uncomfortable after holding....</td>\n",
              "      <td>0</td>\n",
              "      <td>3</td>\n",
              "      <td>R1BT000GQYEISB</td>\n",
              "      <td>Heavy, takes too long</td>\n",
              "      <td>Debbie Meadows</td>\n",
              "      <td>True</td>\n",
              "      <td>United States</td>\n",
              "      <td>04-07-2022</td>\n",
              "    </tr>\n",
              "    <tr>\n",
              "      <th>2</th>\n",
              "      <td>B00DLJ7N2U</td>\n",
              "      <td>So I was excited when I ordered this product. ...</td>\n",
              "      <td>0</td>\n",
              "      <td>1</td>\n",
              "      <td>R1VRRVSFGPZUPW</td>\n",
              "      <td>Not made for black women.</td>\n",
              "      <td>Candace</td>\n",
              "      <td>True</td>\n",
              "      <td>United States</td>\n",
              "      <td>04-07-2022</td>\n",
              "    </tr>\n",
              "    <tr>\n",
              "      <th>3</th>\n",
              "      <td>B00DLJ7N2U</td>\n",
              "      <td>My daughter purchased it and it was too painfu...</td>\n",
              "      <td>0</td>\n",
              "      <td>2</td>\n",
              "      <td>RDLUGW9NGVANK</td>\n",
              "      <td>Painful</td>\n",
              "      <td>Christina Martinez</td>\n",
              "      <td>True</td>\n",
              "      <td>United States</td>\n",
              "      <td>03-26-2022</td>\n",
              "    </tr>\n",
              "    <tr>\n",
              "      <th>4</th>\n",
              "      <td>B00DLJ7N2U</td>\n",
              "      <td>This can be used as maintenance between the tr...</td>\n",
              "      <td>2</td>\n",
              "      <td>3</td>\n",
              "      <td>RN9761C69LUKO</td>\n",
              "      <td>Not a replacement to the commercial treatments</td>\n",
              "      <td>Adrian</td>\n",
              "      <td>True</td>\n",
              "      <td>United States</td>\n",
              "      <td>03-24-2022</td>\n",
              "    </tr>\n",
              "    <tr>\n",
              "      <th>...</th>\n",
              "      <td>...</td>\n",
              "      <td>...</td>\n",
              "      <td>...</td>\n",
              "      <td>...</td>\n",
              "      <td>...</td>\n",
              "      <td>...</td>\n",
              "      <td>...</td>\n",
              "      <td>...</td>\n",
              "      <td>...</td>\n",
              "      <td>...</td>\n",
              "    </tr>\n",
              "    <tr>\n",
              "      <th>19367</th>\n",
              "      <td>B08N7VDKB8</td>\n",
              "      <td>We're going through a oily scalp phase over he...</td>\n",
              "      <td>0</td>\n",
              "      <td>5</td>\n",
              "      <td>R2ZS7LC9F7OP6I</td>\n",
              "      <td>My tweens love it</td>\n",
              "      <td>LazyUnicorn</td>\n",
              "      <td>True</td>\n",
              "      <td>United States</td>\n",
              "      <td>05-26-2021</td>\n",
              "    </tr>\n",
              "    <tr>\n",
              "      <th>19368</th>\n",
              "      <td>B08N7VDKB8</td>\n",
              "      <td>This dry shampoo works better than the others ...</td>\n",
              "      <td>0</td>\n",
              "      <td>5</td>\n",
              "      <td>R26IAPCYG9RHYV</td>\n",
              "      <td>Amazing product!</td>\n",
              "      <td>Mitz</td>\n",
              "      <td>True</td>\n",
              "      <td>United States</td>\n",
              "      <td>05-25-2021</td>\n",
              "    </tr>\n",
              "    <tr>\n",
              "      <th>19369</th>\n",
              "      <td>B08N7VDKB8</td>\n",
              "      <td>The Authentic Beauty Concept dry shampoo is a ...</td>\n",
              "      <td>0</td>\n",
              "      <td>5</td>\n",
              "      <td>R178PPASUDA561</td>\n",
              "      <td>Works well, good travel size</td>\n",
              "      <td>Hunting Creek</td>\n",
              "      <td>True</td>\n",
              "      <td>United States</td>\n",
              "      <td>05-21-2021</td>\n",
              "    </tr>\n",
              "    <tr>\n",
              "      <th>19370</th>\n",
              "      <td>B08N7VDKB8</td>\n",
              "      <td>I don’t like the fact that it keeps saying ver...</td>\n",
              "      <td>3</td>\n",
              "      <td>1</td>\n",
              "      <td>R2T87E1H8RJ8SZ</td>\n",
              "      <td>Flammable information</td>\n",
              "      <td>Marcelina ponce</td>\n",
              "      <td>True</td>\n",
              "      <td>United States</td>\n",
              "      <td>05-19-2021</td>\n",
              "    </tr>\n",
              "    <tr>\n",
              "      <th>19371</th>\n",
              "      <td>B08N7VDKB8</td>\n",
              "      <td>Works great, smells great!</td>\n",
              "      <td>0</td>\n",
              "      <td>5</td>\n",
              "      <td>R1AV1T8XE1WRLY</td>\n",
              "      <td>Excellent Product</td>\n",
              "      <td>Amazon Customer</td>\n",
              "      <td>True</td>\n",
              "      <td>United States</td>\n",
              "      <td>04-10-2021</td>\n",
              "    </tr>\n",
              "  </tbody>\n",
              "</table>\n",
              "<p>19372 rows × 10 columns</p>\n",
              "</div>\n",
              "    <div class=\"colab-df-buttons\">\n",
              "\n",
              "  <div class=\"colab-df-container\">\n",
              "    <button class=\"colab-df-convert\" onclick=\"convertToInteractive('df-ec9e6835-1643-475e-8a50-e1964d8a858b')\"\n",
              "            title=\"Convert this dataframe to an interactive table.\"\n",
              "            style=\"display:none;\">\n",
              "\n",
              "  <svg xmlns=\"http://www.w3.org/2000/svg\" height=\"24px\" viewBox=\"0 -960 960 960\">\n",
              "    <path d=\"M120-120v-720h720v720H120Zm60-500h600v-160H180v160Zm220 220h160v-160H400v160Zm0 220h160v-160H400v160ZM180-400h160v-160H180v160Zm440 0h160v-160H620v160ZM180-180h160v-160H180v160Zm440 0h160v-160H620v160Z\"/>\n",
              "  </svg>\n",
              "    </button>\n",
              "\n",
              "  <style>\n",
              "    .colab-df-container {\n",
              "      display:flex;\n",
              "      gap: 12px;\n",
              "    }\n",
              "\n",
              "    .colab-df-convert {\n",
              "      background-color: #E8F0FE;\n",
              "      border: none;\n",
              "      border-radius: 50%;\n",
              "      cursor: pointer;\n",
              "      display: none;\n",
              "      fill: #1967D2;\n",
              "      height: 32px;\n",
              "      padding: 0 0 0 0;\n",
              "      width: 32px;\n",
              "    }\n",
              "\n",
              "    .colab-df-convert:hover {\n",
              "      background-color: #E2EBFA;\n",
              "      box-shadow: 0px 1px 2px rgba(60, 64, 67, 0.3), 0px 1px 3px 1px rgba(60, 64, 67, 0.15);\n",
              "      fill: #174EA6;\n",
              "    }\n",
              "\n",
              "    .colab-df-buttons div {\n",
              "      margin-bottom: 4px;\n",
              "    }\n",
              "\n",
              "    [theme=dark] .colab-df-convert {\n",
              "      background-color: #3B4455;\n",
              "      fill: #D2E3FC;\n",
              "    }\n",
              "\n",
              "    [theme=dark] .colab-df-convert:hover {\n",
              "      background-color: #434B5C;\n",
              "      box-shadow: 0px 1px 3px 1px rgba(0, 0, 0, 0.15);\n",
              "      filter: drop-shadow(0px 1px 2px rgba(0, 0, 0, 0.3));\n",
              "      fill: #FFFFFF;\n",
              "    }\n",
              "  </style>\n",
              "\n",
              "    <script>\n",
              "      const buttonEl =\n",
              "        document.querySelector('#df-ec9e6835-1643-475e-8a50-e1964d8a858b button.colab-df-convert');\n",
              "      buttonEl.style.display =\n",
              "        google.colab.kernel.accessAllowed ? 'block' : 'none';\n",
              "\n",
              "      async function convertToInteractive(key) {\n",
              "        const element = document.querySelector('#df-ec9e6835-1643-475e-8a50-e1964d8a858b');\n",
              "        const dataTable =\n",
              "          await google.colab.kernel.invokeFunction('convertToInteractive',\n",
              "                                                    [key], {});\n",
              "        if (!dataTable) return;\n",
              "\n",
              "        const docLinkHtml = 'Like what you see? Visit the ' +\n",
              "          '<a target=\"_blank\" href=https://colab.research.google.com/notebooks/data_table.ipynb>data table notebook</a>'\n",
              "          + ' to learn more about interactive tables.';\n",
              "        element.innerHTML = '';\n",
              "        dataTable['output_type'] = 'display_data';\n",
              "        await google.colab.output.renderOutput(dataTable, element);\n",
              "        const docLink = document.createElement('div');\n",
              "        docLink.innerHTML = docLinkHtml;\n",
              "        element.appendChild(docLink);\n",
              "      }\n",
              "    </script>\n",
              "  </div>\n",
              "\n",
              "\n",
              "<div id=\"df-8f5f4457-8d04-445c-a44a-b96f48c35b39\">\n",
              "  <button class=\"colab-df-quickchart\" onclick=\"quickchart('df-8f5f4457-8d04-445c-a44a-b96f48c35b39')\"\n",
              "            title=\"Suggest charts\"\n",
              "            style=\"display:none;\">\n",
              "\n",
              "<svg xmlns=\"http://www.w3.org/2000/svg\" height=\"24px\"viewBox=\"0 0 24 24\"\n",
              "     width=\"24px\">\n",
              "    <g>\n",
              "        <path d=\"M19 3H5c-1.1 0-2 .9-2 2v14c0 1.1.9 2 2 2h14c1.1 0 2-.9 2-2V5c0-1.1-.9-2-2-2zM9 17H7v-7h2v7zm4 0h-2V7h2v10zm4 0h-2v-4h2v4z\"/>\n",
              "    </g>\n",
              "</svg>\n",
              "  </button>\n",
              "\n",
              "<style>\n",
              "  .colab-df-quickchart {\n",
              "      --bg-color: #E8F0FE;\n",
              "      --fill-color: #1967D2;\n",
              "      --hover-bg-color: #E2EBFA;\n",
              "      --hover-fill-color: #174EA6;\n",
              "      --disabled-fill-color: #AAA;\n",
              "      --disabled-bg-color: #DDD;\n",
              "  }\n",
              "\n",
              "  [theme=dark] .colab-df-quickchart {\n",
              "      --bg-color: #3B4455;\n",
              "      --fill-color: #D2E3FC;\n",
              "      --hover-bg-color: #434B5C;\n",
              "      --hover-fill-color: #FFFFFF;\n",
              "      --disabled-bg-color: #3B4455;\n",
              "      --disabled-fill-color: #666;\n",
              "  }\n",
              "\n",
              "  .colab-df-quickchart {\n",
              "    background-color: var(--bg-color);\n",
              "    border: none;\n",
              "    border-radius: 50%;\n",
              "    cursor: pointer;\n",
              "    display: none;\n",
              "    fill: var(--fill-color);\n",
              "    height: 32px;\n",
              "    padding: 0;\n",
              "    width: 32px;\n",
              "  }\n",
              "\n",
              "  .colab-df-quickchart:hover {\n",
              "    background-color: var(--hover-bg-color);\n",
              "    box-shadow: 0 1px 2px rgba(60, 64, 67, 0.3), 0 1px 3px 1px rgba(60, 64, 67, 0.15);\n",
              "    fill: var(--button-hover-fill-color);\n",
              "  }\n",
              "\n",
              "  .colab-df-quickchart-complete:disabled,\n",
              "  .colab-df-quickchart-complete:disabled:hover {\n",
              "    background-color: var(--disabled-bg-color);\n",
              "    fill: var(--disabled-fill-color);\n",
              "    box-shadow: none;\n",
              "  }\n",
              "\n",
              "  .colab-df-spinner {\n",
              "    border: 2px solid var(--fill-color);\n",
              "    border-color: transparent;\n",
              "    border-bottom-color: var(--fill-color);\n",
              "    animation:\n",
              "      spin 1s steps(1) infinite;\n",
              "  }\n",
              "\n",
              "  @keyframes spin {\n",
              "    0% {\n",
              "      border-color: transparent;\n",
              "      border-bottom-color: var(--fill-color);\n",
              "      border-left-color: var(--fill-color);\n",
              "    }\n",
              "    20% {\n",
              "      border-color: transparent;\n",
              "      border-left-color: var(--fill-color);\n",
              "      border-top-color: var(--fill-color);\n",
              "    }\n",
              "    30% {\n",
              "      border-color: transparent;\n",
              "      border-left-color: var(--fill-color);\n",
              "      border-top-color: var(--fill-color);\n",
              "      border-right-color: var(--fill-color);\n",
              "    }\n",
              "    40% {\n",
              "      border-color: transparent;\n",
              "      border-right-color: var(--fill-color);\n",
              "      border-top-color: var(--fill-color);\n",
              "    }\n",
              "    60% {\n",
              "      border-color: transparent;\n",
              "      border-right-color: var(--fill-color);\n",
              "    }\n",
              "    80% {\n",
              "      border-color: transparent;\n",
              "      border-right-color: var(--fill-color);\n",
              "      border-bottom-color: var(--fill-color);\n",
              "    }\n",
              "    90% {\n",
              "      border-color: transparent;\n",
              "      border-bottom-color: var(--fill-color);\n",
              "    }\n",
              "  }\n",
              "</style>\n",
              "\n",
              "  <script>\n",
              "    async function quickchart(key) {\n",
              "      const quickchartButtonEl =\n",
              "        document.querySelector('#' + key + ' button');\n",
              "      quickchartButtonEl.disabled = true;  // To prevent multiple clicks.\n",
              "      quickchartButtonEl.classList.add('colab-df-spinner');\n",
              "      try {\n",
              "        const charts = await google.colab.kernel.invokeFunction(\n",
              "            'suggestCharts', [key], {});\n",
              "      } catch (error) {\n",
              "        console.error('Error during call to suggestCharts:', error);\n",
              "      }\n",
              "      quickchartButtonEl.classList.remove('colab-df-spinner');\n",
              "      quickchartButtonEl.classList.add('colab-df-quickchart-complete');\n",
              "    }\n",
              "    (() => {\n",
              "      let quickchartButtonEl =\n",
              "        document.querySelector('#df-8f5f4457-8d04-445c-a44a-b96f48c35b39 button');\n",
              "      quickchartButtonEl.style.display =\n",
              "        google.colab.kernel.accessAllowed ? 'block' : 'none';\n",
              "    })();\n",
              "  </script>\n",
              "</div>\n",
              "\n",
              "  <div id=\"id_55e051fc-77e2-4b0d-be18-be55660440d0\">\n",
              "    <style>\n",
              "      .colab-df-generate {\n",
              "        background-color: #E8F0FE;\n",
              "        border: none;\n",
              "        border-radius: 50%;\n",
              "        cursor: pointer;\n",
              "        display: none;\n",
              "        fill: #1967D2;\n",
              "        height: 32px;\n",
              "        padding: 0 0 0 0;\n",
              "        width: 32px;\n",
              "      }\n",
              "\n",
              "      .colab-df-generate:hover {\n",
              "        background-color: #E2EBFA;\n",
              "        box-shadow: 0px 1px 2px rgba(60, 64, 67, 0.3), 0px 1px 3px 1px rgba(60, 64, 67, 0.15);\n",
              "        fill: #174EA6;\n",
              "      }\n",
              "\n",
              "      [theme=dark] .colab-df-generate {\n",
              "        background-color: #3B4455;\n",
              "        fill: #D2E3FC;\n",
              "      }\n",
              "\n",
              "      [theme=dark] .colab-df-generate:hover {\n",
              "        background-color: #434B5C;\n",
              "        box-shadow: 0px 1px 3px 1px rgba(0, 0, 0, 0.15);\n",
              "        filter: drop-shadow(0px 1px 2px rgba(0, 0, 0, 0.3));\n",
              "        fill: #FFFFFF;\n",
              "      }\n",
              "    </style>\n",
              "    <button class=\"colab-df-generate\" onclick=\"generateWithVariable('raw_review')\"\n",
              "            title=\"Generate code using this dataframe.\"\n",
              "            style=\"display:none;\">\n",
              "\n",
              "  <svg xmlns=\"http://www.w3.org/2000/svg\" height=\"24px\"viewBox=\"0 0 24 24\"\n",
              "       width=\"24px\">\n",
              "    <path d=\"M7,19H8.4L18.45,9,17,7.55,7,17.6ZM5,21V16.75L18.45,3.32a2,2,0,0,1,2.83,0l1.4,1.43a1.91,1.91,0,0,1,.58,1.4,1.91,1.91,0,0,1-.58,1.4L9.25,21ZM18.45,9,17,7.55Zm-12,3A5.31,5.31,0,0,0,4.9,8.1,5.31,5.31,0,0,0,1,6.5,5.31,5.31,0,0,0,4.9,4.9,5.31,5.31,0,0,0,6.5,1,5.31,5.31,0,0,0,8.1,4.9,5.31,5.31,0,0,0,12,6.5,5.46,5.46,0,0,0,6.5,12Z\"/>\n",
              "  </svg>\n",
              "    </button>\n",
              "    <script>\n",
              "      (() => {\n",
              "      const buttonEl =\n",
              "        document.querySelector('#id_55e051fc-77e2-4b0d-be18-be55660440d0 button.colab-df-generate');\n",
              "      buttonEl.style.display =\n",
              "        google.colab.kernel.accessAllowed ? 'block' : 'none';\n",
              "\n",
              "      buttonEl.onclick = () => {\n",
              "        google.colab.notebook.generateWithVariable('raw_review');\n",
              "      }\n",
              "      })();\n",
              "    </script>\n",
              "  </div>\n",
              "\n",
              "    </div>\n",
              "  </div>\n"
            ],
            "application/vnd.google.colaboratory.intrinsic+json": {
              "type": "dataframe",
              "variable_name": "raw_review",
              "summary": "{\n  \"name\": \"raw_review\",\n  \"rows\": 19372,\n  \"fields\": [\n    {\n      \"column\": \"asin\",\n      \"properties\": {\n        \"dtype\": \"category\",\n        \"num_unique_values\": 52,\n        \"samples\": [\n          \"B002RW9C3A\",\n          \"B092NV1JDY\",\n          \"B07TPYX9DG\"\n        ],\n        \"semantic_type\": \"\",\n        \"description\": \"\"\n      }\n    },\n    {\n      \"column\": \"text\",\n      \"properties\": {\n        \"dtype\": \"string\",\n        \"num_unique_values\": 19371,\n        \"samples\": [\n          \"A tiempo\",\n          \"I like the price and I use every day after cleaning my face.\",\n          \"Wow I never thought I would be able to get rid of the bumps on my arms!! Now it\\u2019s completely gone only took a month. Also I would revoke using the first aid beauty cream with it.\"\n        ],\n        \"semantic_type\": \"\",\n        \"description\": \"\"\n      }\n    },\n    {\n      \"column\": \"numberOfHelpful\",\n      \"properties\": {\n        \"dtype\": \"number\",\n        \"std\": 15,\n        \"min\": 0,\n        \"max\": 877,\n        \"num_unique_values\": 129,\n        \"samples\": [\n          53,\n          21,\n          46\n        ],\n        \"semantic_type\": \"\",\n        \"description\": \"\"\n      }\n    },\n    {\n      \"column\": \"rating\",\n      \"properties\": {\n        \"dtype\": \"number\",\n        \"std\": 1,\n        \"min\": 1,\n        \"max\": 5,\n        \"num_unique_values\": 5,\n        \"samples\": [\n          3,\n          4,\n          1\n        ],\n        \"semantic_type\": \"\",\n        \"description\": \"\"\n      }\n    },\n    {\n      \"column\": \"reviewId\",\n      \"properties\": {\n        \"dtype\": \"string\",\n        \"num_unique_values\": 19372,\n        \"samples\": [\n          \"R2L25ZU838T3QA\",\n          \"R17VIFZWKAGIDG\",\n          \"R1BHUKLJ53CE0T\"\n        ],\n        \"semantic_type\": \"\",\n        \"description\": \"\"\n      }\n    },\n    {\n      \"column\": \"title\",\n      \"properties\": {\n        \"dtype\": \"string\",\n        \"num_unique_values\": 13648,\n        \"samples\": [\n          \"Not Natural! Wish I could return!\",\n          \"Absolutely love the gua sha\",\n          \"Have had others that I like better\"\n        ],\n        \"semantic_type\": \"\",\n        \"description\": \"\"\n      }\n    },\n    {\n      \"column\": \"username\",\n      \"properties\": {\n        \"dtype\": \"string\",\n        \"num_unique_values\": 14725,\n        \"samples\": [\n          \"Abbie Lee\",\n          \"Claudia Morales\",\n          \"Kelly C\"\n        ],\n        \"semantic_type\": \"\",\n        \"description\": \"\"\n      }\n    },\n    {\n      \"column\": \"verified\",\n      \"properties\": {\n        \"dtype\": \"boolean\",\n        \"num_unique_values\": 2,\n        \"samples\": [\n          false,\n          true\n        ],\n        \"semantic_type\": \"\",\n        \"description\": \"\"\n      }\n    },\n    {\n      \"column\": \"country\",\n      \"properties\": {\n        \"dtype\": \"category\",\n        \"num_unique_values\": 2,\n        \"samples\": [\n          \"United Kingdom\",\n          \"United States\"\n        ],\n        \"semantic_type\": \"\",\n        \"description\": \"\"\n      }\n    },\n    {\n      \"column\": \"date_new\",\n      \"properties\": {\n        \"dtype\": \"object\",\n        \"num_unique_values\": 2830,\n        \"samples\": [\n          \"08-28-2021\",\n          \"06-14-2020\"\n        ],\n        \"semantic_type\": \"\",\n        \"description\": \"\"\n      }\n    }\n  ]\n}"
            }
          },
          "metadata": {},
          "execution_count": 34
        }
      ]
    },
    {
      "cell_type": "code",
      "source": [
        "# drop duplicated rows\n",
        "print(raw_review.shape)\n",
        "raw_review.drop_duplicates(subset = \"text\", inplace = True)\n",
        "print(raw_review.shape)\n",
        "\n",
        "# let's use only 1,2 or 4, 5 stars only\n",
        "label_review = raw_review.loc[raw_review['rating']!=3, :]\n",
        "print(label_review.shape)\n",
        "label_review.rating.unique()\n",
        "\n",
        "# define a function called label, with which we can assign label according to the value of rate\n",
        "def label(row):\n",
        "  if row['rating'] <= 2:\n",
        "    value = 0\n",
        "  else:\n",
        "    value = 1\n",
        "  return value\n",
        "\n",
        "# use apply function to get the label function applied to each row of the label_review dataset\n",
        "label_review['label'] = label_review.apply(label, axis = 1)\n",
        "\n",
        "# create a balanced sample\n",
        "good_review = label_review.loc[label_review['label'] == 1,:].sample(n = 2000)\n",
        "bad_review = label_review.loc[label_review['label'] == 0, :].sample(n = 2000)\n",
        "raw_text = pd.concat([good_review, bad_review])\n"
      ],
      "metadata": {
        "colab": {
          "base_uri": "https://localhost:8080/"
        },
        "id": "vn5a8ImwZCcc",
        "outputId": "97560fb9-d0c4-4193-d797-4db72b5e9865"
      },
      "execution_count": null,
      "outputs": [
        {
          "output_type": "stream",
          "name": "stdout",
          "text": [
            "(19372, 10)\n",
            "(19372, 10)\n",
            "(18067, 10)\n"
          ]
        },
        {
          "output_type": "stream",
          "name": "stderr",
          "text": [
            "<ipython-input-35-e84aa51f62a1>:20: SettingWithCopyWarning: \n",
            "A value is trying to be set on a copy of a slice from a DataFrame.\n",
            "Try using .loc[row_indexer,col_indexer] = value instead\n",
            "\n",
            "See the caveats in the documentation: https://pandas.pydata.org/pandas-docs/stable/user_guide/indexing.html#returning-a-view-versus-a-copy\n",
            "  label_review['label'] = label_review.apply(label, axis = 1)\n"
          ]
        }
      ]
    },
    {
      "cell_type": "code",
      "metadata": {
        "id": "JNNMEcgUGFz6",
        "colab": {
          "base_uri": "https://localhost:8080/",
          "height": 207
        },
        "outputId": "7f0bb6a6-d70b-406c-8cb1-8834f17aeb6a"
      },
      "source": [
        "# first of all, let's input the data\n",
        "# text is the raw textual input we need process, label is the target of our classification task\n",
        "raw_text1=raw_text[['label','text']]\n",
        "raw_text1.head()"
      ],
      "execution_count": null,
      "outputs": [
        {
          "output_type": "execute_result",
          "data": {
            "text/plain": [
              "       label                                               text\n",
              "16705      1              Super nice, feels good in the shower!\n",
              "3001       1  This is so refreshing. I use it throughout the...\n",
              "873        1  Very easy to use. Nice and smooth feeling for ...\n",
              "5116       1                        Great product! Smells good!\n",
              "19314      1  Got this for my granddaughter who dances for a..."
            ],
            "text/html": [
              "\n",
              "  <div id=\"df-dd473fad-312c-4d4c-8e45-54241adad4aa\" class=\"colab-df-container\">\n",
              "    <div>\n",
              "<style scoped>\n",
              "    .dataframe tbody tr th:only-of-type {\n",
              "        vertical-align: middle;\n",
              "    }\n",
              "\n",
              "    .dataframe tbody tr th {\n",
              "        vertical-align: top;\n",
              "    }\n",
              "\n",
              "    .dataframe thead th {\n",
              "        text-align: right;\n",
              "    }\n",
              "</style>\n",
              "<table border=\"1\" class=\"dataframe\">\n",
              "  <thead>\n",
              "    <tr style=\"text-align: right;\">\n",
              "      <th></th>\n",
              "      <th>label</th>\n",
              "      <th>text</th>\n",
              "    </tr>\n",
              "  </thead>\n",
              "  <tbody>\n",
              "    <tr>\n",
              "      <th>16705</th>\n",
              "      <td>1</td>\n",
              "      <td>Super nice, feels good in the shower!</td>\n",
              "    </tr>\n",
              "    <tr>\n",
              "      <th>3001</th>\n",
              "      <td>1</td>\n",
              "      <td>This is so refreshing. I use it throughout the...</td>\n",
              "    </tr>\n",
              "    <tr>\n",
              "      <th>873</th>\n",
              "      <td>1</td>\n",
              "      <td>Very easy to use. Nice and smooth feeling for ...</td>\n",
              "    </tr>\n",
              "    <tr>\n",
              "      <th>5116</th>\n",
              "      <td>1</td>\n",
              "      <td>Great product! Smells good!</td>\n",
              "    </tr>\n",
              "    <tr>\n",
              "      <th>19314</th>\n",
              "      <td>1</td>\n",
              "      <td>Got this for my granddaughter who dances for a...</td>\n",
              "    </tr>\n",
              "  </tbody>\n",
              "</table>\n",
              "</div>\n",
              "    <div class=\"colab-df-buttons\">\n",
              "\n",
              "  <div class=\"colab-df-container\">\n",
              "    <button class=\"colab-df-convert\" onclick=\"convertToInteractive('df-dd473fad-312c-4d4c-8e45-54241adad4aa')\"\n",
              "            title=\"Convert this dataframe to an interactive table.\"\n",
              "            style=\"display:none;\">\n",
              "\n",
              "  <svg xmlns=\"http://www.w3.org/2000/svg\" height=\"24px\" viewBox=\"0 -960 960 960\">\n",
              "    <path d=\"M120-120v-720h720v720H120Zm60-500h600v-160H180v160Zm220 220h160v-160H400v160Zm0 220h160v-160H400v160ZM180-400h160v-160H180v160Zm440 0h160v-160H620v160ZM180-180h160v-160H180v160Zm440 0h160v-160H620v160Z\"/>\n",
              "  </svg>\n",
              "    </button>\n",
              "\n",
              "  <style>\n",
              "    .colab-df-container {\n",
              "      display:flex;\n",
              "      gap: 12px;\n",
              "    }\n",
              "\n",
              "    .colab-df-convert {\n",
              "      background-color: #E8F0FE;\n",
              "      border: none;\n",
              "      border-radius: 50%;\n",
              "      cursor: pointer;\n",
              "      display: none;\n",
              "      fill: #1967D2;\n",
              "      height: 32px;\n",
              "      padding: 0 0 0 0;\n",
              "      width: 32px;\n",
              "    }\n",
              "\n",
              "    .colab-df-convert:hover {\n",
              "      background-color: #E2EBFA;\n",
              "      box-shadow: 0px 1px 2px rgba(60, 64, 67, 0.3), 0px 1px 3px 1px rgba(60, 64, 67, 0.15);\n",
              "      fill: #174EA6;\n",
              "    }\n",
              "\n",
              "    .colab-df-buttons div {\n",
              "      margin-bottom: 4px;\n",
              "    }\n",
              "\n",
              "    [theme=dark] .colab-df-convert {\n",
              "      background-color: #3B4455;\n",
              "      fill: #D2E3FC;\n",
              "    }\n",
              "\n",
              "    [theme=dark] .colab-df-convert:hover {\n",
              "      background-color: #434B5C;\n",
              "      box-shadow: 0px 1px 3px 1px rgba(0, 0, 0, 0.15);\n",
              "      filter: drop-shadow(0px 1px 2px rgba(0, 0, 0, 0.3));\n",
              "      fill: #FFFFFF;\n",
              "    }\n",
              "  </style>\n",
              "\n",
              "    <script>\n",
              "      const buttonEl =\n",
              "        document.querySelector('#df-dd473fad-312c-4d4c-8e45-54241adad4aa button.colab-df-convert');\n",
              "      buttonEl.style.display =\n",
              "        google.colab.kernel.accessAllowed ? 'block' : 'none';\n",
              "\n",
              "      async function convertToInteractive(key) {\n",
              "        const element = document.querySelector('#df-dd473fad-312c-4d4c-8e45-54241adad4aa');\n",
              "        const dataTable =\n",
              "          await google.colab.kernel.invokeFunction('convertToInteractive',\n",
              "                                                    [key], {});\n",
              "        if (!dataTable) return;\n",
              "\n",
              "        const docLinkHtml = 'Like what you see? Visit the ' +\n",
              "          '<a target=\"_blank\" href=https://colab.research.google.com/notebooks/data_table.ipynb>data table notebook</a>'\n",
              "          + ' to learn more about interactive tables.';\n",
              "        element.innerHTML = '';\n",
              "        dataTable['output_type'] = 'display_data';\n",
              "        await google.colab.output.renderOutput(dataTable, element);\n",
              "        const docLink = document.createElement('div');\n",
              "        docLink.innerHTML = docLinkHtml;\n",
              "        element.appendChild(docLink);\n",
              "      }\n",
              "    </script>\n",
              "  </div>\n",
              "\n",
              "\n",
              "<div id=\"df-b880c436-693a-4467-b0ba-6c6bb97545ce\">\n",
              "  <button class=\"colab-df-quickchart\" onclick=\"quickchart('df-b880c436-693a-4467-b0ba-6c6bb97545ce')\"\n",
              "            title=\"Suggest charts\"\n",
              "            style=\"display:none;\">\n",
              "\n",
              "<svg xmlns=\"http://www.w3.org/2000/svg\" height=\"24px\"viewBox=\"0 0 24 24\"\n",
              "     width=\"24px\">\n",
              "    <g>\n",
              "        <path d=\"M19 3H5c-1.1 0-2 .9-2 2v14c0 1.1.9 2 2 2h14c1.1 0 2-.9 2-2V5c0-1.1-.9-2-2-2zM9 17H7v-7h2v7zm4 0h-2V7h2v10zm4 0h-2v-4h2v4z\"/>\n",
              "    </g>\n",
              "</svg>\n",
              "  </button>\n",
              "\n",
              "<style>\n",
              "  .colab-df-quickchart {\n",
              "      --bg-color: #E8F0FE;\n",
              "      --fill-color: #1967D2;\n",
              "      --hover-bg-color: #E2EBFA;\n",
              "      --hover-fill-color: #174EA6;\n",
              "      --disabled-fill-color: #AAA;\n",
              "      --disabled-bg-color: #DDD;\n",
              "  }\n",
              "\n",
              "  [theme=dark] .colab-df-quickchart {\n",
              "      --bg-color: #3B4455;\n",
              "      --fill-color: #D2E3FC;\n",
              "      --hover-bg-color: #434B5C;\n",
              "      --hover-fill-color: #FFFFFF;\n",
              "      --disabled-bg-color: #3B4455;\n",
              "      --disabled-fill-color: #666;\n",
              "  }\n",
              "\n",
              "  .colab-df-quickchart {\n",
              "    background-color: var(--bg-color);\n",
              "    border: none;\n",
              "    border-radius: 50%;\n",
              "    cursor: pointer;\n",
              "    display: none;\n",
              "    fill: var(--fill-color);\n",
              "    height: 32px;\n",
              "    padding: 0;\n",
              "    width: 32px;\n",
              "  }\n",
              "\n",
              "  .colab-df-quickchart:hover {\n",
              "    background-color: var(--hover-bg-color);\n",
              "    box-shadow: 0 1px 2px rgba(60, 64, 67, 0.3), 0 1px 3px 1px rgba(60, 64, 67, 0.15);\n",
              "    fill: var(--button-hover-fill-color);\n",
              "  }\n",
              "\n",
              "  .colab-df-quickchart-complete:disabled,\n",
              "  .colab-df-quickchart-complete:disabled:hover {\n",
              "    background-color: var(--disabled-bg-color);\n",
              "    fill: var(--disabled-fill-color);\n",
              "    box-shadow: none;\n",
              "  }\n",
              "\n",
              "  .colab-df-spinner {\n",
              "    border: 2px solid var(--fill-color);\n",
              "    border-color: transparent;\n",
              "    border-bottom-color: var(--fill-color);\n",
              "    animation:\n",
              "      spin 1s steps(1) infinite;\n",
              "  }\n",
              "\n",
              "  @keyframes spin {\n",
              "    0% {\n",
              "      border-color: transparent;\n",
              "      border-bottom-color: var(--fill-color);\n",
              "      border-left-color: var(--fill-color);\n",
              "    }\n",
              "    20% {\n",
              "      border-color: transparent;\n",
              "      border-left-color: var(--fill-color);\n",
              "      border-top-color: var(--fill-color);\n",
              "    }\n",
              "    30% {\n",
              "      border-color: transparent;\n",
              "      border-left-color: var(--fill-color);\n",
              "      border-top-color: var(--fill-color);\n",
              "      border-right-color: var(--fill-color);\n",
              "    }\n",
              "    40% {\n",
              "      border-color: transparent;\n",
              "      border-right-color: var(--fill-color);\n",
              "      border-top-color: var(--fill-color);\n",
              "    }\n",
              "    60% {\n",
              "      border-color: transparent;\n",
              "      border-right-color: var(--fill-color);\n",
              "    }\n",
              "    80% {\n",
              "      border-color: transparent;\n",
              "      border-right-color: var(--fill-color);\n",
              "      border-bottom-color: var(--fill-color);\n",
              "    }\n",
              "    90% {\n",
              "      border-color: transparent;\n",
              "      border-bottom-color: var(--fill-color);\n",
              "    }\n",
              "  }\n",
              "</style>\n",
              "\n",
              "  <script>\n",
              "    async function quickchart(key) {\n",
              "      const quickchartButtonEl =\n",
              "        document.querySelector('#' + key + ' button');\n",
              "      quickchartButtonEl.disabled = true;  // To prevent multiple clicks.\n",
              "      quickchartButtonEl.classList.add('colab-df-spinner');\n",
              "      try {\n",
              "        const charts = await google.colab.kernel.invokeFunction(\n",
              "            'suggestCharts', [key], {});\n",
              "      } catch (error) {\n",
              "        console.error('Error during call to suggestCharts:', error);\n",
              "      }\n",
              "      quickchartButtonEl.classList.remove('colab-df-spinner');\n",
              "      quickchartButtonEl.classList.add('colab-df-quickchart-complete');\n",
              "    }\n",
              "    (() => {\n",
              "      let quickchartButtonEl =\n",
              "        document.querySelector('#df-b880c436-693a-4467-b0ba-6c6bb97545ce button');\n",
              "      quickchartButtonEl.style.display =\n",
              "        google.colab.kernel.accessAllowed ? 'block' : 'none';\n",
              "    })();\n",
              "  </script>\n",
              "</div>\n",
              "\n",
              "    </div>\n",
              "  </div>\n"
            ],
            "application/vnd.google.colaboratory.intrinsic+json": {
              "type": "dataframe",
              "variable_name": "raw_text1",
              "summary": "{\n  \"name\": \"raw_text1\",\n  \"rows\": 4000,\n  \"fields\": [\n    {\n      \"column\": \"label\",\n      \"properties\": {\n        \"dtype\": \"number\",\n        \"std\": 0,\n        \"min\": 0,\n        \"max\": 1,\n        \"num_unique_values\": 2,\n        \"samples\": [\n          0,\n          1\n        ],\n        \"semantic_type\": \"\",\n        \"description\": \"\"\n      }\n    },\n    {\n      \"column\": \"text\",\n      \"properties\": {\n        \"dtype\": \"string\",\n        \"num_unique_values\": 3999,\n        \"samples\": [\n          \"Easy to clean and the softness is nice for blending. Good price\\u2b50\\ufe0f\\u2b50\\ufe0f\\u2b50\\ufe0f\\u2b50\\ufe0f\\u2b50\\ufe0f\",\n          \"Unfortunately this product did not work for me. I used it consistently on my arms and legs, with no results. I have light skin and dark hair. I have to assume that you have to have 5-o'clock shadow type of hair for this to work. I'm disappointed that I didn't return within the time period where I could've received a refund.\"\n        ],\n        \"semantic_type\": \"\",\n        \"description\": \"\"\n      }\n    }\n  ]\n}"
            }
          },
          "metadata": {},
          "execution_count": 36
        }
      ]
    },
    {
      "cell_type": "code",
      "metadata": {
        "id": "xArmtH8_3a95",
        "colab": {
          "base_uri": "https://localhost:8080/"
        },
        "outputId": "9d7c9812-4678-437e-eb11-1485bbdbbf5c"
      },
      "source": [
        "# drop duplicated rows\n",
        "print(raw_text1.shape)\n",
        "raw_text1.drop_duplicates(subset = \"text\", inplace = True)\n",
        "print(raw_text1.shape)"
      ],
      "execution_count": null,
      "outputs": [
        {
          "output_type": "stream",
          "name": "stdout",
          "text": [
            "(4000, 2)\n",
            "(4000, 2)\n"
          ]
        },
        {
          "output_type": "stream",
          "name": "stderr",
          "text": [
            "<ipython-input-37-05010dbdf113>:3: SettingWithCopyWarning: \n",
            "A value is trying to be set on a copy of a slice from a DataFrame\n",
            "\n",
            "See the caveats in the documentation: https://pandas.pydata.org/pandas-docs/stable/user_guide/indexing.html#returning-a-view-versus-a-copy\n",
            "  raw_text1.drop_duplicates(subset = \"text\", inplace = True)\n"
          ]
        }
      ]
    },
    {
      "cell_type": "code",
      "source": [
        "# create a balanced sample\n",
        "label_review = raw_text1\n",
        "good_review = label_review.loc[label_review['label'] == 1,:].sample(n = 2000)\n",
        "bad_review = label_review.loc[label_review['label'] == 0, :].sample(n = 2000)\n",
        "raw_text1 = pd.concat([good_review, bad_review])"
      ],
      "metadata": {
        "id": "Ek4dKcjcK_XY"
      },
      "execution_count": null,
      "outputs": []
    },
    {
      "cell_type": "code",
      "metadata": {
        "colab": {
          "base_uri": "https://localhost:8080/",
          "height": 301
        },
        "id": "j7SE1zcjXC4y",
        "outputId": "fc0198c7-5da8-4616-85f9-c0a1a0549167"
      },
      "source": [
        "raw_text1.describe()"
      ],
      "execution_count": null,
      "outputs": [
        {
          "output_type": "execute_result",
          "data": {
            "text/plain": [
              "             label\n",
              "count  4000.000000\n",
              "mean      0.500000\n",
              "std       0.500063\n",
              "min       0.000000\n",
              "25%       0.000000\n",
              "50%       0.500000\n",
              "75%       1.000000\n",
              "max       1.000000"
            ],
            "text/html": [
              "\n",
              "  <div id=\"df-352718b6-2512-44db-b2a6-7a7f723599ef\" class=\"colab-df-container\">\n",
              "    <div>\n",
              "<style scoped>\n",
              "    .dataframe tbody tr th:only-of-type {\n",
              "        vertical-align: middle;\n",
              "    }\n",
              "\n",
              "    .dataframe tbody tr th {\n",
              "        vertical-align: top;\n",
              "    }\n",
              "\n",
              "    .dataframe thead th {\n",
              "        text-align: right;\n",
              "    }\n",
              "</style>\n",
              "<table border=\"1\" class=\"dataframe\">\n",
              "  <thead>\n",
              "    <tr style=\"text-align: right;\">\n",
              "      <th></th>\n",
              "      <th>label</th>\n",
              "    </tr>\n",
              "  </thead>\n",
              "  <tbody>\n",
              "    <tr>\n",
              "      <th>count</th>\n",
              "      <td>4000.000000</td>\n",
              "    </tr>\n",
              "    <tr>\n",
              "      <th>mean</th>\n",
              "      <td>0.500000</td>\n",
              "    </tr>\n",
              "    <tr>\n",
              "      <th>std</th>\n",
              "      <td>0.500063</td>\n",
              "    </tr>\n",
              "    <tr>\n",
              "      <th>min</th>\n",
              "      <td>0.000000</td>\n",
              "    </tr>\n",
              "    <tr>\n",
              "      <th>25%</th>\n",
              "      <td>0.000000</td>\n",
              "    </tr>\n",
              "    <tr>\n",
              "      <th>50%</th>\n",
              "      <td>0.500000</td>\n",
              "    </tr>\n",
              "    <tr>\n",
              "      <th>75%</th>\n",
              "      <td>1.000000</td>\n",
              "    </tr>\n",
              "    <tr>\n",
              "      <th>max</th>\n",
              "      <td>1.000000</td>\n",
              "    </tr>\n",
              "  </tbody>\n",
              "</table>\n",
              "</div>\n",
              "    <div class=\"colab-df-buttons\">\n",
              "\n",
              "  <div class=\"colab-df-container\">\n",
              "    <button class=\"colab-df-convert\" onclick=\"convertToInteractive('df-352718b6-2512-44db-b2a6-7a7f723599ef')\"\n",
              "            title=\"Convert this dataframe to an interactive table.\"\n",
              "            style=\"display:none;\">\n",
              "\n",
              "  <svg xmlns=\"http://www.w3.org/2000/svg\" height=\"24px\" viewBox=\"0 -960 960 960\">\n",
              "    <path d=\"M120-120v-720h720v720H120Zm60-500h600v-160H180v160Zm220 220h160v-160H400v160Zm0 220h160v-160H400v160ZM180-400h160v-160H180v160Zm440 0h160v-160H620v160ZM180-180h160v-160H180v160Zm440 0h160v-160H620v160Z\"/>\n",
              "  </svg>\n",
              "    </button>\n",
              "\n",
              "  <style>\n",
              "    .colab-df-container {\n",
              "      display:flex;\n",
              "      gap: 12px;\n",
              "    }\n",
              "\n",
              "    .colab-df-convert {\n",
              "      background-color: #E8F0FE;\n",
              "      border: none;\n",
              "      border-radius: 50%;\n",
              "      cursor: pointer;\n",
              "      display: none;\n",
              "      fill: #1967D2;\n",
              "      height: 32px;\n",
              "      padding: 0 0 0 0;\n",
              "      width: 32px;\n",
              "    }\n",
              "\n",
              "    .colab-df-convert:hover {\n",
              "      background-color: #E2EBFA;\n",
              "      box-shadow: 0px 1px 2px rgba(60, 64, 67, 0.3), 0px 1px 3px 1px rgba(60, 64, 67, 0.15);\n",
              "      fill: #174EA6;\n",
              "    }\n",
              "\n",
              "    .colab-df-buttons div {\n",
              "      margin-bottom: 4px;\n",
              "    }\n",
              "\n",
              "    [theme=dark] .colab-df-convert {\n",
              "      background-color: #3B4455;\n",
              "      fill: #D2E3FC;\n",
              "    }\n",
              "\n",
              "    [theme=dark] .colab-df-convert:hover {\n",
              "      background-color: #434B5C;\n",
              "      box-shadow: 0px 1px 3px 1px rgba(0, 0, 0, 0.15);\n",
              "      filter: drop-shadow(0px 1px 2px rgba(0, 0, 0, 0.3));\n",
              "      fill: #FFFFFF;\n",
              "    }\n",
              "  </style>\n",
              "\n",
              "    <script>\n",
              "      const buttonEl =\n",
              "        document.querySelector('#df-352718b6-2512-44db-b2a6-7a7f723599ef button.colab-df-convert');\n",
              "      buttonEl.style.display =\n",
              "        google.colab.kernel.accessAllowed ? 'block' : 'none';\n",
              "\n",
              "      async function convertToInteractive(key) {\n",
              "        const element = document.querySelector('#df-352718b6-2512-44db-b2a6-7a7f723599ef');\n",
              "        const dataTable =\n",
              "          await google.colab.kernel.invokeFunction('convertToInteractive',\n",
              "                                                    [key], {});\n",
              "        if (!dataTable) return;\n",
              "\n",
              "        const docLinkHtml = 'Like what you see? Visit the ' +\n",
              "          '<a target=\"_blank\" href=https://colab.research.google.com/notebooks/data_table.ipynb>data table notebook</a>'\n",
              "          + ' to learn more about interactive tables.';\n",
              "        element.innerHTML = '';\n",
              "        dataTable['output_type'] = 'display_data';\n",
              "        await google.colab.output.renderOutput(dataTable, element);\n",
              "        const docLink = document.createElement('div');\n",
              "        docLink.innerHTML = docLinkHtml;\n",
              "        element.appendChild(docLink);\n",
              "      }\n",
              "    </script>\n",
              "  </div>\n",
              "\n",
              "\n",
              "<div id=\"df-240adeb4-fa9f-42ea-9fb7-8bf42fc7fe4c\">\n",
              "  <button class=\"colab-df-quickchart\" onclick=\"quickchart('df-240adeb4-fa9f-42ea-9fb7-8bf42fc7fe4c')\"\n",
              "            title=\"Suggest charts\"\n",
              "            style=\"display:none;\">\n",
              "\n",
              "<svg xmlns=\"http://www.w3.org/2000/svg\" height=\"24px\"viewBox=\"0 0 24 24\"\n",
              "     width=\"24px\">\n",
              "    <g>\n",
              "        <path d=\"M19 3H5c-1.1 0-2 .9-2 2v14c0 1.1.9 2 2 2h14c1.1 0 2-.9 2-2V5c0-1.1-.9-2-2-2zM9 17H7v-7h2v7zm4 0h-2V7h2v10zm4 0h-2v-4h2v4z\"/>\n",
              "    </g>\n",
              "</svg>\n",
              "  </button>\n",
              "\n",
              "<style>\n",
              "  .colab-df-quickchart {\n",
              "      --bg-color: #E8F0FE;\n",
              "      --fill-color: #1967D2;\n",
              "      --hover-bg-color: #E2EBFA;\n",
              "      --hover-fill-color: #174EA6;\n",
              "      --disabled-fill-color: #AAA;\n",
              "      --disabled-bg-color: #DDD;\n",
              "  }\n",
              "\n",
              "  [theme=dark] .colab-df-quickchart {\n",
              "      --bg-color: #3B4455;\n",
              "      --fill-color: #D2E3FC;\n",
              "      --hover-bg-color: #434B5C;\n",
              "      --hover-fill-color: #FFFFFF;\n",
              "      --disabled-bg-color: #3B4455;\n",
              "      --disabled-fill-color: #666;\n",
              "  }\n",
              "\n",
              "  .colab-df-quickchart {\n",
              "    background-color: var(--bg-color);\n",
              "    border: none;\n",
              "    border-radius: 50%;\n",
              "    cursor: pointer;\n",
              "    display: none;\n",
              "    fill: var(--fill-color);\n",
              "    height: 32px;\n",
              "    padding: 0;\n",
              "    width: 32px;\n",
              "  }\n",
              "\n",
              "  .colab-df-quickchart:hover {\n",
              "    background-color: var(--hover-bg-color);\n",
              "    box-shadow: 0 1px 2px rgba(60, 64, 67, 0.3), 0 1px 3px 1px rgba(60, 64, 67, 0.15);\n",
              "    fill: var(--button-hover-fill-color);\n",
              "  }\n",
              "\n",
              "  .colab-df-quickchart-complete:disabled,\n",
              "  .colab-df-quickchart-complete:disabled:hover {\n",
              "    background-color: var(--disabled-bg-color);\n",
              "    fill: var(--disabled-fill-color);\n",
              "    box-shadow: none;\n",
              "  }\n",
              "\n",
              "  .colab-df-spinner {\n",
              "    border: 2px solid var(--fill-color);\n",
              "    border-color: transparent;\n",
              "    border-bottom-color: var(--fill-color);\n",
              "    animation:\n",
              "      spin 1s steps(1) infinite;\n",
              "  }\n",
              "\n",
              "  @keyframes spin {\n",
              "    0% {\n",
              "      border-color: transparent;\n",
              "      border-bottom-color: var(--fill-color);\n",
              "      border-left-color: var(--fill-color);\n",
              "    }\n",
              "    20% {\n",
              "      border-color: transparent;\n",
              "      border-left-color: var(--fill-color);\n",
              "      border-top-color: var(--fill-color);\n",
              "    }\n",
              "    30% {\n",
              "      border-color: transparent;\n",
              "      border-left-color: var(--fill-color);\n",
              "      border-top-color: var(--fill-color);\n",
              "      border-right-color: var(--fill-color);\n",
              "    }\n",
              "    40% {\n",
              "      border-color: transparent;\n",
              "      border-right-color: var(--fill-color);\n",
              "      border-top-color: var(--fill-color);\n",
              "    }\n",
              "    60% {\n",
              "      border-color: transparent;\n",
              "      border-right-color: var(--fill-color);\n",
              "    }\n",
              "    80% {\n",
              "      border-color: transparent;\n",
              "      border-right-color: var(--fill-color);\n",
              "      border-bottom-color: var(--fill-color);\n",
              "    }\n",
              "    90% {\n",
              "      border-color: transparent;\n",
              "      border-bottom-color: var(--fill-color);\n",
              "    }\n",
              "  }\n",
              "</style>\n",
              "\n",
              "  <script>\n",
              "    async function quickchart(key) {\n",
              "      const quickchartButtonEl =\n",
              "        document.querySelector('#' + key + ' button');\n",
              "      quickchartButtonEl.disabled = true;  // To prevent multiple clicks.\n",
              "      quickchartButtonEl.classList.add('colab-df-spinner');\n",
              "      try {\n",
              "        const charts = await google.colab.kernel.invokeFunction(\n",
              "            'suggestCharts', [key], {});\n",
              "      } catch (error) {\n",
              "        console.error('Error during call to suggestCharts:', error);\n",
              "      }\n",
              "      quickchartButtonEl.classList.remove('colab-df-spinner');\n",
              "      quickchartButtonEl.classList.add('colab-df-quickchart-complete');\n",
              "    }\n",
              "    (() => {\n",
              "      let quickchartButtonEl =\n",
              "        document.querySelector('#df-240adeb4-fa9f-42ea-9fb7-8bf42fc7fe4c button');\n",
              "      quickchartButtonEl.style.display =\n",
              "        google.colab.kernel.accessAllowed ? 'block' : 'none';\n",
              "    })();\n",
              "  </script>\n",
              "</div>\n",
              "\n",
              "    </div>\n",
              "  </div>\n"
            ],
            "application/vnd.google.colaboratory.intrinsic+json": {
              "type": "dataframe",
              "summary": "{\n  \"name\": \"raw_text1\",\n  \"rows\": 8,\n  \"fields\": [\n    {\n      \"column\": \"label\",\n      \"properties\": {\n        \"dtype\": \"number\",\n        \"std\": 1414.0368330344206,\n        \"min\": 0.0,\n        \"max\": 4000.0,\n        \"num_unique_values\": 5,\n        \"samples\": [\n          0.5,\n          1.0,\n          0.500062511721192\n        ],\n        \"semantic_type\": \"\",\n        \"description\": \"\"\n      }\n    }\n  ]\n}"
            }
          },
          "metadata": {},
          "execution_count": 39
        }
      ]
    },
    {
      "cell_type": "code",
      "source": [
        "raw_text1.isna().sum()\n",
        "raw_text1 = raw_text1.dropna()"
      ],
      "metadata": {
        "id": "dJGdg4QcfOol"
      },
      "execution_count": null,
      "outputs": []
    },
    {
      "cell_type": "code",
      "source": [
        "#spot checking dataframe\n",
        "raw_text1.iloc[11:20,:]"
      ],
      "metadata": {
        "colab": {
          "base_uri": "https://localhost:8080/",
          "height": 332
        },
        "id": "h94SPgYC2QGn",
        "outputId": "2eba20c9-cfe1-4896-8df4-1f9e2f094dcc"
      },
      "execution_count": null,
      "outputs": [
        {
          "output_type": "execute_result",
          "data": {
            "text/plain": [
              "       label                                               text\n",
              "16020      1  I used the defoliator for the first time and I...\n",
              "7534       1  ONLY giving it four stars because it hasn’t be...\n",
              "6405       1  I finally found the mascara I've been searchin...\n",
              "14429      1  These pretty hair scrunchies are perfect for m...\n",
              "15717      1  I have never been able to find something that ...\n",
              "6332       1  I bought this because I am having allergic rea...\n",
              "6821       1                                          Very cute\n",
              "17579      1  I was skeptical after some irritating experien...\n",
              "15691      1  I struggle with bad ingrown hairs and exfoliat..."
            ],
            "text/html": [
              "\n",
              "  <div id=\"df-9c4c0c7c-9d79-427f-b361-17d5d966a572\" class=\"colab-df-container\">\n",
              "    <div>\n",
              "<style scoped>\n",
              "    .dataframe tbody tr th:only-of-type {\n",
              "        vertical-align: middle;\n",
              "    }\n",
              "\n",
              "    .dataframe tbody tr th {\n",
              "        vertical-align: top;\n",
              "    }\n",
              "\n",
              "    .dataframe thead th {\n",
              "        text-align: right;\n",
              "    }\n",
              "</style>\n",
              "<table border=\"1\" class=\"dataframe\">\n",
              "  <thead>\n",
              "    <tr style=\"text-align: right;\">\n",
              "      <th></th>\n",
              "      <th>label</th>\n",
              "      <th>text</th>\n",
              "    </tr>\n",
              "  </thead>\n",
              "  <tbody>\n",
              "    <tr>\n",
              "      <th>16020</th>\n",
              "      <td>1</td>\n",
              "      <td>I used the defoliator for the first time and I...</td>\n",
              "    </tr>\n",
              "    <tr>\n",
              "      <th>7534</th>\n",
              "      <td>1</td>\n",
              "      <td>ONLY giving it four stars because it hasn’t be...</td>\n",
              "    </tr>\n",
              "    <tr>\n",
              "      <th>6405</th>\n",
              "      <td>1</td>\n",
              "      <td>I finally found the mascara I've been searchin...</td>\n",
              "    </tr>\n",
              "    <tr>\n",
              "      <th>14429</th>\n",
              "      <td>1</td>\n",
              "      <td>These pretty hair scrunchies are perfect for m...</td>\n",
              "    </tr>\n",
              "    <tr>\n",
              "      <th>15717</th>\n",
              "      <td>1</td>\n",
              "      <td>I have never been able to find something that ...</td>\n",
              "    </tr>\n",
              "    <tr>\n",
              "      <th>6332</th>\n",
              "      <td>1</td>\n",
              "      <td>I bought this because I am having allergic rea...</td>\n",
              "    </tr>\n",
              "    <tr>\n",
              "      <th>6821</th>\n",
              "      <td>1</td>\n",
              "      <td>Very cute</td>\n",
              "    </tr>\n",
              "    <tr>\n",
              "      <th>17579</th>\n",
              "      <td>1</td>\n",
              "      <td>I was skeptical after some irritating experien...</td>\n",
              "    </tr>\n",
              "    <tr>\n",
              "      <th>15691</th>\n",
              "      <td>1</td>\n",
              "      <td>I struggle with bad ingrown hairs and exfoliat...</td>\n",
              "    </tr>\n",
              "  </tbody>\n",
              "</table>\n",
              "</div>\n",
              "    <div class=\"colab-df-buttons\">\n",
              "\n",
              "  <div class=\"colab-df-container\">\n",
              "    <button class=\"colab-df-convert\" onclick=\"convertToInteractive('df-9c4c0c7c-9d79-427f-b361-17d5d966a572')\"\n",
              "            title=\"Convert this dataframe to an interactive table.\"\n",
              "            style=\"display:none;\">\n",
              "\n",
              "  <svg xmlns=\"http://www.w3.org/2000/svg\" height=\"24px\" viewBox=\"0 -960 960 960\">\n",
              "    <path d=\"M120-120v-720h720v720H120Zm60-500h600v-160H180v160Zm220 220h160v-160H400v160Zm0 220h160v-160H400v160ZM180-400h160v-160H180v160Zm440 0h160v-160H620v160ZM180-180h160v-160H180v160Zm440 0h160v-160H620v160Z\"/>\n",
              "  </svg>\n",
              "    </button>\n",
              "\n",
              "  <style>\n",
              "    .colab-df-container {\n",
              "      display:flex;\n",
              "      gap: 12px;\n",
              "    }\n",
              "\n",
              "    .colab-df-convert {\n",
              "      background-color: #E8F0FE;\n",
              "      border: none;\n",
              "      border-radius: 50%;\n",
              "      cursor: pointer;\n",
              "      display: none;\n",
              "      fill: #1967D2;\n",
              "      height: 32px;\n",
              "      padding: 0 0 0 0;\n",
              "      width: 32px;\n",
              "    }\n",
              "\n",
              "    .colab-df-convert:hover {\n",
              "      background-color: #E2EBFA;\n",
              "      box-shadow: 0px 1px 2px rgba(60, 64, 67, 0.3), 0px 1px 3px 1px rgba(60, 64, 67, 0.15);\n",
              "      fill: #174EA6;\n",
              "    }\n",
              "\n",
              "    .colab-df-buttons div {\n",
              "      margin-bottom: 4px;\n",
              "    }\n",
              "\n",
              "    [theme=dark] .colab-df-convert {\n",
              "      background-color: #3B4455;\n",
              "      fill: #D2E3FC;\n",
              "    }\n",
              "\n",
              "    [theme=dark] .colab-df-convert:hover {\n",
              "      background-color: #434B5C;\n",
              "      box-shadow: 0px 1px 3px 1px rgba(0, 0, 0, 0.15);\n",
              "      filter: drop-shadow(0px 1px 2px rgba(0, 0, 0, 0.3));\n",
              "      fill: #FFFFFF;\n",
              "    }\n",
              "  </style>\n",
              "\n",
              "    <script>\n",
              "      const buttonEl =\n",
              "        document.querySelector('#df-9c4c0c7c-9d79-427f-b361-17d5d966a572 button.colab-df-convert');\n",
              "      buttonEl.style.display =\n",
              "        google.colab.kernel.accessAllowed ? 'block' : 'none';\n",
              "\n",
              "      async function convertToInteractive(key) {\n",
              "        const element = document.querySelector('#df-9c4c0c7c-9d79-427f-b361-17d5d966a572');\n",
              "        const dataTable =\n",
              "          await google.colab.kernel.invokeFunction('convertToInteractive',\n",
              "                                                    [key], {});\n",
              "        if (!dataTable) return;\n",
              "\n",
              "        const docLinkHtml = 'Like what you see? Visit the ' +\n",
              "          '<a target=\"_blank\" href=https://colab.research.google.com/notebooks/data_table.ipynb>data table notebook</a>'\n",
              "          + ' to learn more about interactive tables.';\n",
              "        element.innerHTML = '';\n",
              "        dataTable['output_type'] = 'display_data';\n",
              "        await google.colab.output.renderOutput(dataTable, element);\n",
              "        const docLink = document.createElement('div');\n",
              "        docLink.innerHTML = docLinkHtml;\n",
              "        element.appendChild(docLink);\n",
              "      }\n",
              "    </script>\n",
              "  </div>\n",
              "\n",
              "\n",
              "<div id=\"df-7d354dc9-1b2d-4818-a793-8e68cb374e64\">\n",
              "  <button class=\"colab-df-quickchart\" onclick=\"quickchart('df-7d354dc9-1b2d-4818-a793-8e68cb374e64')\"\n",
              "            title=\"Suggest charts\"\n",
              "            style=\"display:none;\">\n",
              "\n",
              "<svg xmlns=\"http://www.w3.org/2000/svg\" height=\"24px\"viewBox=\"0 0 24 24\"\n",
              "     width=\"24px\">\n",
              "    <g>\n",
              "        <path d=\"M19 3H5c-1.1 0-2 .9-2 2v14c0 1.1.9 2 2 2h14c1.1 0 2-.9 2-2V5c0-1.1-.9-2-2-2zM9 17H7v-7h2v7zm4 0h-2V7h2v10zm4 0h-2v-4h2v4z\"/>\n",
              "    </g>\n",
              "</svg>\n",
              "  </button>\n",
              "\n",
              "<style>\n",
              "  .colab-df-quickchart {\n",
              "      --bg-color: #E8F0FE;\n",
              "      --fill-color: #1967D2;\n",
              "      --hover-bg-color: #E2EBFA;\n",
              "      --hover-fill-color: #174EA6;\n",
              "      --disabled-fill-color: #AAA;\n",
              "      --disabled-bg-color: #DDD;\n",
              "  }\n",
              "\n",
              "  [theme=dark] .colab-df-quickchart {\n",
              "      --bg-color: #3B4455;\n",
              "      --fill-color: #D2E3FC;\n",
              "      --hover-bg-color: #434B5C;\n",
              "      --hover-fill-color: #FFFFFF;\n",
              "      --disabled-bg-color: #3B4455;\n",
              "      --disabled-fill-color: #666;\n",
              "  }\n",
              "\n",
              "  .colab-df-quickchart {\n",
              "    background-color: var(--bg-color);\n",
              "    border: none;\n",
              "    border-radius: 50%;\n",
              "    cursor: pointer;\n",
              "    display: none;\n",
              "    fill: var(--fill-color);\n",
              "    height: 32px;\n",
              "    padding: 0;\n",
              "    width: 32px;\n",
              "  }\n",
              "\n",
              "  .colab-df-quickchart:hover {\n",
              "    background-color: var(--hover-bg-color);\n",
              "    box-shadow: 0 1px 2px rgba(60, 64, 67, 0.3), 0 1px 3px 1px rgba(60, 64, 67, 0.15);\n",
              "    fill: var(--button-hover-fill-color);\n",
              "  }\n",
              "\n",
              "  .colab-df-quickchart-complete:disabled,\n",
              "  .colab-df-quickchart-complete:disabled:hover {\n",
              "    background-color: var(--disabled-bg-color);\n",
              "    fill: var(--disabled-fill-color);\n",
              "    box-shadow: none;\n",
              "  }\n",
              "\n",
              "  .colab-df-spinner {\n",
              "    border: 2px solid var(--fill-color);\n",
              "    border-color: transparent;\n",
              "    border-bottom-color: var(--fill-color);\n",
              "    animation:\n",
              "      spin 1s steps(1) infinite;\n",
              "  }\n",
              "\n",
              "  @keyframes spin {\n",
              "    0% {\n",
              "      border-color: transparent;\n",
              "      border-bottom-color: var(--fill-color);\n",
              "      border-left-color: var(--fill-color);\n",
              "    }\n",
              "    20% {\n",
              "      border-color: transparent;\n",
              "      border-left-color: var(--fill-color);\n",
              "      border-top-color: var(--fill-color);\n",
              "    }\n",
              "    30% {\n",
              "      border-color: transparent;\n",
              "      border-left-color: var(--fill-color);\n",
              "      border-top-color: var(--fill-color);\n",
              "      border-right-color: var(--fill-color);\n",
              "    }\n",
              "    40% {\n",
              "      border-color: transparent;\n",
              "      border-right-color: var(--fill-color);\n",
              "      border-top-color: var(--fill-color);\n",
              "    }\n",
              "    60% {\n",
              "      border-color: transparent;\n",
              "      border-right-color: var(--fill-color);\n",
              "    }\n",
              "    80% {\n",
              "      border-color: transparent;\n",
              "      border-right-color: var(--fill-color);\n",
              "      border-bottom-color: var(--fill-color);\n",
              "    }\n",
              "    90% {\n",
              "      border-color: transparent;\n",
              "      border-bottom-color: var(--fill-color);\n",
              "    }\n",
              "  }\n",
              "</style>\n",
              "\n",
              "  <script>\n",
              "    async function quickchart(key) {\n",
              "      const quickchartButtonEl =\n",
              "        document.querySelector('#' + key + ' button');\n",
              "      quickchartButtonEl.disabled = true;  // To prevent multiple clicks.\n",
              "      quickchartButtonEl.classList.add('colab-df-spinner');\n",
              "      try {\n",
              "        const charts = await google.colab.kernel.invokeFunction(\n",
              "            'suggestCharts', [key], {});\n",
              "      } catch (error) {\n",
              "        console.error('Error during call to suggestCharts:', error);\n",
              "      }\n",
              "      quickchartButtonEl.classList.remove('colab-df-spinner');\n",
              "      quickchartButtonEl.classList.add('colab-df-quickchart-complete');\n",
              "    }\n",
              "    (() => {\n",
              "      let quickchartButtonEl =\n",
              "        document.querySelector('#df-7d354dc9-1b2d-4818-a793-8e68cb374e64 button');\n",
              "      quickchartButtonEl.style.display =\n",
              "        google.colab.kernel.accessAllowed ? 'block' : 'none';\n",
              "    })();\n",
              "  </script>\n",
              "</div>\n",
              "\n",
              "    </div>\n",
              "  </div>\n"
            ],
            "application/vnd.google.colaboratory.intrinsic+json": {
              "type": "dataframe",
              "summary": "{\n  \"name\": \"raw_text1\",\n  \"rows\": 9,\n  \"fields\": [\n    {\n      \"column\": \"label\",\n      \"properties\": {\n        \"dtype\": \"number\",\n        \"std\": 0,\n        \"min\": 1,\n        \"max\": 1,\n        \"num_unique_values\": 1,\n        \"samples\": [\n          1\n        ],\n        \"semantic_type\": \"\",\n        \"description\": \"\"\n      }\n    },\n    {\n      \"column\": \"text\",\n      \"properties\": {\n        \"dtype\": \"string\",\n        \"num_unique_values\": 9,\n        \"samples\": [\n          \"I was skeptical after some irritating experiences with whitening products in the past, but since my dentist was trying to sell me on expensive office whitening I started doing more research for cheaper alternatives. Like other reviewers have said, the Q-tip method of application has worked well for me so far. I haven't had any sensitivity and have noticed a little whitening with the first two treatments. I leave it on for 20 minutes -- I was shooting for 30 minutes to start, but at 20 I feel a little like I'm about to choke on my own spit so I stopped there. Will keep using the products and hopefully see a little more improvement.\"\n        ],\n        \"semantic_type\": \"\",\n        \"description\": \"\"\n      }\n    }\n  ]\n}"
            }
          },
          "metadata": {},
          "execution_count": 41
        }
      ]
    },
    {
      "cell_type": "markdown",
      "metadata": {
        "id": "GHSbKo3q6247"
      },
      "source": [
        "**Recap:**\n",
        "Now, we got the dataset ready, we then could start to train a BERT + Neural Network Classification model, here are some main steps:\n",
        "1.   Create an instance of Dataset and Dataloader to pre-process the data before feed it into a neural network\n",
        "2.   Create a neural network\n",
        "3.   Set up the loop for training and validating the model\n",
        "\n",
        "\n"
      ]
    },
    {
      "cell_type": "markdown",
      "metadata": {
        "id": "513Gaudcu56u"
      },
      "source": [
        "## Customized Dataset Class and Dataloader\n",
        "Next Steps:\n",
        "* Get Raw Dataset\n",
        "* Feed the Raw Dataset into a Neural Network (NN) for Classification\n",
        "  * Layer 1 of the NN: text_to_number to transfer raw texts into numerical vector\n",
        "\n"
      ]
    },
    {
      "cell_type": "markdown",
      "metadata": {
        "id": "2-Y4ZsxSb6AW"
      },
      "source": [
        "### 1. Create a customized dataset\n",
        "  * To save GPU RAM, we could not dump all raw data into GUP; we can only feed in samll batches. Thus, we need to utilize two functions **Dataset** and **Dataloader** to pre-process the raw data and schedule them into batches."
      ]
    },
    {
      "cell_type": "code",
      "metadata": {
        "id": "APMXoM-b81B4"
      },
      "source": [
        "# import the libraries we need\n",
        "import numpy as np\n",
        "from torch.utils.data import Dataset, DataLoader, RandomSampler, SequentialSampler"
      ],
      "execution_count": null,
      "outputs": []
    },
    {
      "cell_type": "markdown",
      "metadata": {
        "id": "5qolFGc1WVoa"
      },
      "source": [
        "Here we want to  create a customized Dataset--TextDataset--which could take a raw texts as inputs and encode them in BERT's way with a tokenizer.\n",
        "\n",
        "The embeded inputs will be then fed into a BERT Model in the NN, which we will create later\n",
        "\n",
        "To learn more about Dataset and Dataloader: https://pytorch.org/tutorials/beginner/data_loading_tutorial.html"
      ]
    },
    {
      "cell_type": "code",
      "metadata": {
        "id": "5zOBRz6rvwfh"
      },
      "source": [
        "class TextDataset(Dataset):\n",
        "\n",
        "  # __init__ is a built-in function that defines some necessary attributes for any instance created\n",
        "  # such as: the dataset with raw text reviews, what tokenizer we want to use for encoding,\n",
        "  # the max length of sentence we need to pad or trancate\n",
        "  def __init__(self, dataset, tokenizer, max_len):\n",
        "    self.tokenizer = tokenizer\n",
        "    self.data = dataset\n",
        "    self.text = dataset.text\n",
        "    self.label = dataset.label\n",
        "    self.max_len = max_len\n",
        "\n",
        "  def __len__(self):\n",
        "    return len(self.text)\n",
        "\n",
        "\n",
        "  def __getitem__(self, index):\n",
        "    # __getitem__ is another built-in fucntion take 'index' (e.g., row id) as input,\n",
        "    # in general/without customizatin, it returns the sample of a specific index in the dataset\n",
        "    # further we could customize its functionality,\n",
        "    # making it apply some operations on sample of the specific index\n",
        "    # here we use index to locate a specific raw text we want to pre-process\n",
        "    text = self.text.iloc[index]\n",
        "\n",
        "    # then, we put the text into a BERT's encode_plus function\n",
        "    # important debug tips:\n",
        "    # for encode_plus, to keep all the raw inputs in the same length\n",
        "    # we need to specify BOTH padding and trancation in addition to max_length\n",
        "    # the former for short sentences and the latter for long ones\n",
        "    # failing to do either one will result in uneven lengths of encoded inputs,\n",
        "    # which will create troubles for your Dataloader in the NN training sessions\n",
        "    outputs = self.tokenizer.encode_plus(\n",
        "        text,\n",
        "        max_length = self.max_len,\n",
        "        padding = \"max_length\",\n",
        "        truncation = \"longest_first\",\n",
        "        # note that in some versions of transformer in you local machine, the code should be\n",
        "        # pad_to_max_length = True,\n",
        "        # truncation_strategy = 'longest_first',\n",
        "        # we might need to change the argument name a little to fit different version of transformers\n",
        "        add_special_tokens = True,\n",
        "        return_tensors = 'pt'\n",
        "    )\n",
        "\n",
        "\n",
        "    # recall the BERT Tokenizer session, it takes raw text as input\n",
        "    # and return input_ids, attention_mask as inputs for BERT model\n",
        "    input_ids = outputs['input_ids']\n",
        "    attention_mask = outputs['attention_mask']\n",
        "    # we then store those values and put them together with the label info (the truth we want to predict) in the sample\n",
        "    # as the return of the __getitem__ method\n",
        "    # note that we use torch.tensor() function to make the vectors above into tensors\n",
        "    return {\n",
        "        'input_ids': torch.tensor(input_ids, dtype = torch.long),\n",
        "        'attention_mask': torch.tensor(attention_mask, dtype = torch.long),\n",
        "        'label': torch.tensor(self.label.iloc[index], dtype = torch.float)\n",
        "    }\n",
        "\n"
      ],
      "execution_count": null,
      "outputs": []
    },
    {
      "cell_type": "markdown",
      "metadata": {
        "id": "XoLNeiOIXzds"
      },
      "source": [
        "\n",
        "After create a customized Dataset class **TextDataset** to pre-process the raw data for neural network training. We need then:\n",
        "  * Split raw data into the train and validate dataset\n",
        "  * Feed the raw train and validation datasets into TextDataset to get pre-processed train and validation datasets\n",
        "  * Feed the pre-processed train and validation datasets into a Dataloader to create the schedule to feed them into the neural network whoes first layer is a BERT model (i.e., text_to_number).\n",
        "\n",
        "\n"
      ]
    },
    {
      "cell_type": "markdown",
      "metadata": {
        "id": "OOZ3aAM3bHyF"
      },
      "source": [
        "### 2. Split the raw dataset\n",
        "Split raw data into the train and validate dataset"
      ]
    },
    {
      "cell_type": "code",
      "metadata": {
        "id": "tZLP1R7vBuKL"
      },
      "source": [
        "# test_size argument in the function specify the percentage dividion between train and test datasets.\n",
        "from sklearn.model_selection import train_test_split\n",
        "train_raw, valid_raw = train_test_split(raw_text1, test_size = 0.1)"
      ],
      "execution_count": null,
      "outputs": []
    },
    {
      "cell_type": "markdown",
      "metadata": {
        "id": "Hni98ULgbgSr"
      },
      "source": [
        "### 3. Feed Data into TextDataset\n",
        "Feed the raw train and validation datasets into TextDataset to get pre-processed train and validation datasets"
      ]
    },
    {
      "cell_type": "code",
      "source": [
        "# first let's define some key parameters we will use later\n",
        "# maximum length of raw text to be processed\n",
        "max_length = 64\n",
        "# bath size (# of raw inputs) for training and validation\n",
        "train_batch = 64\n",
        "valid_batch = 32\n",
        "\n",
        "# tpis: set the values of key parameters at the very begining and define them only once"
      ],
      "metadata": {
        "id": "98ckPu4WQZMu"
      },
      "execution_count": null,
      "outputs": []
    },
    {
      "cell_type": "code",
      "metadata": {
        "id": "eRqVwGM5v2_d"
      },
      "source": [
        "# create instances of the TextDataset for raw trianing and validate datasets\n",
        "# recall that tokenizer has be defined by: tokenizer = BertTokenizer.from_pretrained('bert-base-uncased') in the BERT tokenizer session\n",
        "train_processed = TextDataset(train_raw, tokenizer, max_length)\n",
        "valid_processed = TextDataset(valid_raw, tokenizer, max_length)"
      ],
      "execution_count": null,
      "outputs": []
    },
    {
      "cell_type": "code",
      "metadata": {
        "id": "s7HaY0bQCTXw",
        "colab": {
          "base_uri": "https://localhost:8080/"
        },
        "outputId": "999f19f3-6140-4c21-d917-8ebe041da2d7"
      },
      "source": [
        "# compare the raw and pre-processed data\n",
        "# in this case, we fetch the observation with index = 10\n",
        "# see the raw text\n",
        "print(valid_processed.data.iloc[10, ])\n",
        "# see the pre-processed text, i.e., the raw text input is tokenized)\n",
        "print(valid_processed.__getitem__(10))"
      ],
      "execution_count": null,
      "outputs": [
        {
          "output_type": "stream",
          "name": "stdout",
          "text": [
            "label                                                    1\n",
            "text     Adds volume & thickness with one or two coats....\n",
            "Name: 5687, dtype: object\n",
            "{'input_ids': tensor([[  101,  9909,  3872,  1004, 14983,  2007,  2028,  2030,  2048, 15695,\n",
            "          1012,  1045,  2123,  1005,  1056,  9378,  2026,  3239,  5789,  2125,\n",
            "          2169,  2305,  1010,  2000,  3828,  2026,  3239,  2181,  2013,  2062,\n",
            "         23277, 28562,  1010,  2061,  1045,  3543,  2039,  1996, 27700,  1996,\n",
            "          2279,  2154,  1012,  1045,  2298,  2005, 19013,  1010, 12379, 27700,\n",
            "          1010,  2061,  1045,  2064,  3543,  2009,  2039,  1996,  2279,  2154,\n",
            "          1010,  1998,  2025,   102]]), 'attention_mask': tensor([[1, 1, 1, 1, 1, 1, 1, 1, 1, 1, 1, 1, 1, 1, 1, 1, 1, 1, 1, 1, 1, 1, 1, 1,\n",
            "         1, 1, 1, 1, 1, 1, 1, 1, 1, 1, 1, 1, 1, 1, 1, 1, 1, 1, 1, 1, 1, 1, 1, 1,\n",
            "         1, 1, 1, 1, 1, 1, 1, 1, 1, 1, 1, 1, 1, 1, 1, 1]]), 'label': tensor(1.)}\n"
          ]
        },
        {
          "output_type": "stream",
          "name": "stderr",
          "text": [
            "<ipython-input-43-0a9305b5c0ef>:54: UserWarning: To copy construct from a tensor, it is recommended to use sourceTensor.clone().detach() or sourceTensor.clone().detach().requires_grad_(True), rather than torch.tensor(sourceTensor).\n",
            "  'input_ids': torch.tensor(input_ids, dtype = torch.long),\n",
            "<ipython-input-43-0a9305b5c0ef>:55: UserWarning: To copy construct from a tensor, it is recommended to use sourceTensor.clone().detach() or sourceTensor.clone().detach().requires_grad_(True), rather than torch.tensor(sourceTensor).\n",
            "  'attention_mask': torch.tensor(attention_mask, dtype = torch.long),\n"
          ]
        }
      ]
    },
    {
      "cell_type": "markdown",
      "metadata": {
        "id": "YaCZ-5wTcQXB"
      },
      "source": [
        "### 4. Feed data into dataloader\n",
        "Feed the pre-processed train and validation datasets into a Dataloader to create the schedule to feed them into the neural network whoes first layer is a BERT model (i.e., text_to_number).\n"
      ]
    },
    {
      "cell_type": "code",
      "metadata": {
        "id": "k4T7kvxJEpZX"
      },
      "source": [
        "# lastly, set up the dataloader that serves as a pipeline feeding pre-processed data into the neural network\n",
        "# the process needs to specify a sampler first\n",
        "train_sampler = RandomSampler(train_processed)\n",
        "train_loader = DataLoader(train_processed, sampler = train_sampler, batch_size = train_batch, num_workers = 0)\n",
        "valid_sampler = SequentialSampler(valid_processed)\n",
        "valid_loader = DataLoader(valid_processed, sampler = valid_sampler, batch_size = valid_batch, num_workers = 0)"
      ],
      "execution_count": null,
      "outputs": []
    },
    {
      "cell_type": "code",
      "metadata": {
        "id": "Gl3urqqxHeH9",
        "colab": {
          "base_uri": "https://localhost:8080/"
        },
        "outputId": "569e8c03-8997-497f-f29c-d86ae8e13e72"
      },
      "source": [
        "# explore the attributes of dataloder\n",
        "# length of dataloader = len(dataset)/batch size\n",
        "print(len(train_loader))\n",
        "print(len(valid_loader))\n"
      ],
      "execution_count": null,
      "outputs": [
        {
          "output_type": "stream",
          "name": "stdout",
          "text": [
            "57\n",
            "13\n"
          ]
        }
      ]
    },
    {
      "cell_type": "markdown",
      "metadata": {
        "id": "JAL0zZ5zdVoz"
      },
      "source": [
        "\n",
        "**Recap:**\n",
        "  * Up to now, we have defined a customized Dataset instance to pre-process the raw input, encoding them into input_ids and attention_mask that BERT model needs.\n",
        "\n",
        "  * We also set up the Dataloader that feed the pre-processed data into the neural network we are about create now."
      ]
    },
    {
      "cell_type": "markdown",
      "metadata": {
        "id": "B4yLzjne6Tm6"
      },
      "source": [
        "## Define a Neural Network\n",
        "Define a customized neural network with the first hidden layer being a BERT encoding layer to transform raw text into numerical representations.\n",
        "\n",
        "The visualization below helps you understand the structure of the program.\n"
      ]
    },
    {
      "cell_type": "markdown",
      "metadata": {
        "id": "g5qDayuHTmRp"
      },
      "source": [
        "![BERT + NN.png](data:image/png;base64,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)"
      ]
    },
    {
      "cell_type": "code",
      "metadata": {
        "id": "oGetmmKNafv5"
      },
      "source": [
        "# import the functions we need use in the neural network Model\n",
        "import torch.nn.functional as F"
      ],
      "execution_count": null,
      "outputs": []
    },
    {
      "cell_type": "code",
      "metadata": {
        "id": "Ld8Oqz5Jv43c"
      },
      "source": [
        "# the neural network we create is a class called  TextBERT, which inherits\n",
        "# the attributes and structures of the torch.nn.Module\n",
        "\n",
        "# the __init__ functino defines the necessary hidden layers of the NN\n",
        "# and the forward function set up the computation graph: the real calculation procedures of the NN\n",
        "class TextBERT(torch.nn.Module):\n",
        "  def __init__(self):\n",
        "    super(TextBERT, self).__init__()\n",
        "    # the first layer is the BERT Model layer\n",
        "    # recall that, we have defined model as: text_to_number = BertModel.from_pretrained('bert-base-uncased')\n",
        "    # see BERT Model's input and output: https://huggingface.co/transformers/model_doc/bert.html#bertmodel\n",
        "    self.l1 = text_to_number\n",
        "\n",
        "    # the fully connected last layer\n",
        "    self.l2 = torch.nn.Linear(768, 1)\n",
        "\n",
        "  def forward(self, input_ids, attention_mask):\n",
        "    # first layer\n",
        "    # the first layer utilize the BERT model (call \"text_to_number\" in __init__) to transfer the input_ids into\n",
        "    # contextualized word embeddings --numerical vectors\n",
        "    # we have different ways to use outputs of this layer,\n",
        "    # such as using the [CLS] token or the mean of all input tokens\n",
        "    # recall the BERT's inputs and outputs section for indexing and fetching various BERT model's outputs\n",
        "\n",
        "    # if you want to use the BERT output of the last self-attention layer, do this:\n",
        "    last = self.l1(input_ids = input_ids, attention_mask = attention_mask).last_hidden_state\n",
        "    output = last[:, 0, :]\n",
        "\n",
        "    # output from BERT model now be fed into a relu activation funcation to add more non-linearity\n",
        "    # squeeze() function to remove unnecessary dimension of the output, before delivering it to a linear layer\n",
        "    output = F.relu(output.squeeze())\n",
        "    # third layer\n",
        "    output = self.l2(output)\n",
        "\n",
        "  # last sigmoid layer to furhter transfer the single scalar in l3 into a probability\n",
        "    return torch.sigmoid(output)"
      ],
      "execution_count": null,
      "outputs": []
    },
    {
      "cell_type": "markdown",
      "metadata": {
        "id": "1eQJ6bqNrXL9"
      },
      "source": [
        "### Check the Neural Network\n",
        "  * Test each layer in the NN is very important\n",
        "  * Compare the output dimension to your expectation\n",
        "    * https://huggingface.co/transformers/model_doc/bert.html#bertmodel\n",
        "  * We should pay close attention the the dimensions of the inputs and outputs of each layer\n",
        "  * Use .squeeze() to remove uncessary axis whose length is 1 to make the dimensions consistent."
      ]
    },
    {
      "cell_type": "code",
      "metadata": {
        "id": "m8yf6W_iSdCJ",
        "colab": {
          "base_uri": "https://localhost:8080/"
        },
        "outputId": "1add7f96-8033-4f52-899f-4a0fc30445e3"
      },
      "source": [
        "# mimic the first layer of the NN\n",
        "l1 = text_to_number\n",
        "l1.to(device)\n",
        "input_ids = train_processed.__getitem__(10)['input_ids'].to(device)\n",
        "attention_mask = train_processed.__getitem__(10)['attention_mask'].to(device)\n",
        "last= l1(input_ids = input_ids, attention_mask = attention_mask).last_hidden_state\n",
        "print(last.shape)\n",
        "print(last.squeeze().shape)"
      ],
      "execution_count": null,
      "outputs": [
        {
          "output_type": "stream",
          "name": "stderr",
          "text": [
            "<ipython-input-43-0a9305b5c0ef>:54: UserWarning: To copy construct from a tensor, it is recommended to use sourceTensor.clone().detach() or sourceTensor.clone().detach().requires_grad_(True), rather than torch.tensor(sourceTensor).\n",
            "  'input_ids': torch.tensor(input_ids, dtype = torch.long),\n",
            "<ipython-input-43-0a9305b5c0ef>:55: UserWarning: To copy construct from a tensor, it is recommended to use sourceTensor.clone().detach() or sourceTensor.clone().detach().requires_grad_(True), rather than torch.tensor(sourceTensor).\n",
            "  'attention_mask': torch.tensor(attention_mask, dtype = torch.long),\n"
          ]
        },
        {
          "output_type": "stream",
          "name": "stdout",
          "text": [
            "torch.Size([1, 64, 768])\n",
            "torch.Size([64, 768])\n"
          ]
        }
      ]
    },
    {
      "cell_type": "code",
      "metadata": {
        "id": "zuR1CGxHpNDt",
        "colab": {
          "base_uri": "https://localhost:8080/"
        },
        "outputId": "51e9bcb0-1116-490d-b02e-b1fd0015c8c8"
      },
      "source": [
        "# similarly, test the following layers\n",
        "# pay attention to the dimensions of input and output\n",
        "# output of first layer\n",
        "output = last[:,0, :]\n",
        "# Relu for non-linearity\n",
        "output = F.relu(output.squeeze())\n",
        "# layer 2 function\n",
        "l2 = torch.nn.Linear(768, 1).to(device)\n",
        "output = l2(output)\n",
        "torch.sigmoid(output)\n"
      ],
      "execution_count": null,
      "outputs": [
        {
          "output_type": "execute_result",
          "data": {
            "text/plain": [
              "tensor([0.4202], device='cuda:0', grad_fn=<SigmoidBackward0>)"
            ]
          },
          "metadata": {},
          "execution_count": 53
        }
      ]
    },
    {
      "cell_type": "markdown",
      "metadata": {
        "id": "S3g0vSuW3-P0"
      },
      "source": [
        "**Recap:**\n",
        "We just defined a Neural Network class, which is customized for our purpose.\n",
        "the __init__() function defines all the neural network layers available for the NN.\n",
        "the forward() function specifies how those layers are connected.\n",
        "  * first layer: BERT model, in which input_ids and attention mask becomes word imbedding (768-digit vector)\n",
        "  * second layer: fully connected linear layer, in which 768 neurons connect to 1 final neurons\n",
        "  * the final neuron go throughes the sigmoid function and becomes a predicted probability of label = 1.\n",
        "  * next, in the training stage, we will calculate the loss based this prediction and its true label; then, the model will be optimized by minimizing the loss.   "
      ]
    },
    {
      "cell_type": "markdown",
      "source": [
        "Before we train the model, let's get a help function with which we can have the model stop from learning when it starts to overfit.\n"
      ],
      "metadata": {
        "id": "-5A-LG1ANMCp"
      }
    },
    {
      "cell_type": "code",
      "source": [
        "# install the EarlyStopping Module\n",
        "#https://github.com/Bjarten/early-stopping-pytorch/blob/master/MNIST_Early_Stopping_example.ipynb\n",
        "class EarlyStopping:\n",
        "    \"\"\"Early stops the training if validation loss doesn't improve after a given patience.\"\"\"\n",
        "    def __init__(self, patience=7, verbose=False, delta=0, path='checkpoint.pt', trace_func=print):\n",
        "        \"\"\"\n",
        "        Args:\n",
        "            patience (int): How long to wait after last time validation loss improved.\n",
        "                            Default: 7\n",
        "            verbose (bool): If True, prints a message for each validation loss improvement.\n",
        "                            Default: False\n",
        "            delta (float): Minimum change in the monitored quantity to qualify as an improvement.\n",
        "                            Default: 0\n",
        "            path (str): Path for the checkpoint to be saved to.\n",
        "                            Default: 'checkpoint.pt'\n",
        "            trace_func (function): trace print function.\n",
        "                            Default: print\n",
        "        \"\"\"\n",
        "        self.patience = patience\n",
        "        self.verbose = verbose\n",
        "        self.counter = 0\n",
        "        self.best_score = None\n",
        "        self.early_stop = False\n",
        "        self.val_loss_min = np.Inf\n",
        "        self.delta = delta\n",
        "        self.path = path\n",
        "        self.trace_func = trace_func\n",
        "    def __call__(self, val_loss, model):\n",
        "\n",
        "        score = -val_loss\n",
        "\n",
        "        if self.best_score is None:\n",
        "            self.best_score = score\n",
        "            self.save_checkpoint(val_loss, model)\n",
        "        elif score < self.best_score + self.delta:\n",
        "            self.counter += 1\n",
        "            self.trace_func(f'EarlyStopping counter: {self.counter} out of {self.patience}')\n",
        "            if self.counter >= self.patience:\n",
        "                self.early_stop = True\n",
        "        else:\n",
        "            self.best_score = score\n",
        "            self.save_checkpoint(val_loss, model)\n",
        "            self.counter = 0\n",
        "\n",
        "    def save_checkpoint(self, val_loss, model):\n",
        "        '''Saves model when validation loss decrease.'''\n",
        "        if self.verbose:\n",
        "            self.trace_func(f'Validation loss decreased ({self.val_loss_min:.6f} --> {val_loss:.6f}).  Saving model ...')\n",
        "        torch.save(model.state_dict(), self.path)\n",
        "        self.val_loss_min = val_loss"
      ],
      "metadata": {
        "id": "QKkrntWpNLEz"
      },
      "execution_count": null,
      "outputs": []
    },
    {
      "cell_type": "markdown",
      "metadata": {
        "id": "NaSSY_mynUVw"
      },
      "source": [
        "## Train the Neural Network\n",
        "\n",
        "Up to now, we have the Dataset (pre-process/encode the **raw text inputs**, making them into **input_ids** and **attention_mask** that BERT model takes as input), the Dataloader (feed the processed data into the neural network in batchs), the neural network (with the first layer as a BERT model to transfer the input_ids and attentino mask into **word embeddings**, and later layers just work on those embeddings/numerical vectors as a normal neural network does).\n",
        "\n",
        "And finally, we could set up our training loops\n",
        "\n",
        "  * Create a instance of the neural network **TextBERT** we just defined\n",
        "  * Prepare for the training\n",
        "    * loss function\n",
        "    * learning rate, epoch, optimizer, etc.\n",
        "  * Develop the training loop  \n"
      ]
    },
    {
      "cell_type": "markdown",
      "metadata": {
        "id": "GK7sQXF3i7lG"
      },
      "source": [
        "### 1. Create the neural network"
      ]
    },
    {
      "cell_type": "markdown",
      "source": [
        "**VERY IMPORTANT**: please re-create a new instance of your neural network by run the code below (to clean all previous training outcomes) when you need to retrain a model; otherwise, you model will be easily overfitting."
      ],
      "metadata": {
        "id": "UMKhk26wAot4"
      }
    },
    {
      "cell_type": "code",
      "metadata": {
        "id": "aFDDnyD6wlD4",
        "colab": {
          "base_uri": "https://localhost:8080/"
        },
        "outputId": "9ebb1017-7874-4017-f33c-002a16a61473"
      },
      "source": [
        "# create an instance of the TextBERT model\n",
        "# and put the model into GPU memory\n",
        "cls_model = TextBERT()\n",
        "cls_model.to(device)"
      ],
      "execution_count": null,
      "outputs": [
        {
          "output_type": "execute_result",
          "data": {
            "text/plain": [
              "TextBERT(\n",
              "  (l1): BertModel(\n",
              "    (embeddings): BertEmbeddings(\n",
              "      (word_embeddings): Embedding(30522, 768, padding_idx=0)\n",
              "      (position_embeddings): Embedding(512, 768)\n",
              "      (token_type_embeddings): Embedding(2, 768)\n",
              "      (LayerNorm): LayerNorm((768,), eps=1e-12, elementwise_affine=True)\n",
              "      (dropout): Dropout(p=0.1, inplace=False)\n",
              "    )\n",
              "    (encoder): BertEncoder(\n",
              "      (layer): ModuleList(\n",
              "        (0-11): 12 x BertLayer(\n",
              "          (attention): BertAttention(\n",
              "            (self): BertSelfAttention(\n",
              "              (query): Linear(in_features=768, out_features=768, bias=True)\n",
              "              (key): Linear(in_features=768, out_features=768, bias=True)\n",
              "              (value): Linear(in_features=768, out_features=768, bias=True)\n",
              "              (dropout): Dropout(p=0.1, inplace=False)\n",
              "            )\n",
              "            (output): BertSelfOutput(\n",
              "              (dense): Linear(in_features=768, out_features=768, bias=True)\n",
              "              (LayerNorm): LayerNorm((768,), eps=1e-12, elementwise_affine=True)\n",
              "              (dropout): Dropout(p=0.1, inplace=False)\n",
              "            )\n",
              "          )\n",
              "          (intermediate): BertIntermediate(\n",
              "            (dense): Linear(in_features=768, out_features=3072, bias=True)\n",
              "            (intermediate_act_fn): GELUActivation()\n",
              "          )\n",
              "          (output): BertOutput(\n",
              "            (dense): Linear(in_features=3072, out_features=768, bias=True)\n",
              "            (LayerNorm): LayerNorm((768,), eps=1e-12, elementwise_affine=True)\n",
              "            (dropout): Dropout(p=0.1, inplace=False)\n",
              "          )\n",
              "        )\n",
              "      )\n",
              "    )\n",
              "    (pooler): BertPooler(\n",
              "      (dense): Linear(in_features=768, out_features=768, bias=True)\n",
              "      (activation): Tanh()\n",
              "    )\n",
              "  )\n",
              "  (l2): Linear(in_features=768, out_features=1, bias=True)\n",
              ")"
            ]
          },
          "metadata": {},
          "execution_count": 55
        }
      ]
    },
    {
      "cell_type": "markdown",
      "metadata": {
        "id": "iZpo8C-zc-B3"
      },
      "source": [
        "First we start with: the loss function (e.g., crossentropy loss or mean squared error loss) and the optimize schedule (something about learning rate, adaptive learning rate, see class 7)"
      ]
    },
    {
      "cell_type": "markdown",
      "metadata": {
        "id": "MgEpP0R6j6yN"
      },
      "source": [
        "### 2. Prepare for training"
      ]
    },
    {
      "cell_type": "markdown",
      "metadata": {
        "id": "oxPnh9tckDTx"
      },
      "source": [
        "Define loss fucntion\n",
        "\n",
        "  * Here we use Binary CrossEntropy Loss, you can try others see the performance difference: https://pytorch.org/docs/master/generated/torch.nn.BCELoss.html\n",
        "\n",
        "  * Note that loss function in pytorch framework usually take the pair of (prediction, ground_truth) as input and give the loss value as output"
      ]
    },
    {
      "cell_type": "code",
      "metadata": {
        "id": "Q4QtC037dzxO"
      },
      "source": [
        "import torch.nn as nn\n",
        "import torch.optim as optim\n",
        "# criterion is the name of the loss function we use, cross-entrophy\n",
        "criterion = nn.BCELoss()\n"
      ],
      "execution_count": null,
      "outputs": []
    },
    {
      "cell_type": "markdown",
      "metadata": {
        "id": "KEccN7-Nkneu"
      },
      "source": [
        "Set the Optimizer\n",
        "  * Optimizer is our optimize strategy\n",
        "  * Stachastic gradient descending is a common approch to update our model parameters.\n",
        "    * optimizer = optim.SGD(text_to_number.parameters(), lr = learning_rate, momentum = 0.9)\n",
        "    * But let's use Adam here to fine-tune the learning rate as the training lasts, AdamW is a optimizer developed by Huggingface using Adam's mechanism\n",
        "      * http://deeplearning.stanford.edu/tutorial/supervised/OptimizationStochasticGradientDescent/\n",
        "    * You can try out other optimization method and see performance difference\n",
        "    * We need to specify learning rate (how aggressive we update parameters at each training step) and epoch (how many round we put our training dataset into the training loop)."
      ]
    },
    {
      "cell_type": "code",
      "metadata": {
        "id": "d0MvxRbleYiO"
      },
      "source": [
        "# tips: learning rate suggested by BERT's authors include: 3e-4, 1e-4, 5e-5, 3e-5\n",
        "# see here: https://github.com/google-research/bert\n",
        "learning_rate = 1e-05"
      ],
      "execution_count": null,
      "outputs": []
    },
    {
      "cell_type": "code",
      "metadata": {
        "id": "njBahjNyjByc"
      },
      "source": [
        "# set the epoch\n",
        "# epochs means how many rounds each training sample will be fed into the NN.\n",
        "epochs = 50\n",
        "\n",
        "# define the patience parameter for the early_stopping help function\n",
        "patience = 5"
      ],
      "execution_count": null,
      "outputs": []
    },
    {
      "cell_type": "code",
      "metadata": {
        "id": "FEUQBFhMhsHt",
        "colab": {
          "base_uri": "https://localhost:8080/"
        },
        "outputId": "f2a5c7ca-5fc8-427e-b590-42757d76cb03"
      },
      "source": [
        "# set up the optimizer\n",
        "from transformers import AdamW\n",
        "from transformers import get_linear_schedule_with_warmup\n",
        "optimizer = AdamW(cls_model.parameters(),lr = learning_rate,eps = 1e-8)\n",
        "\n",
        "total_steps = len(train_loader) * epochs\n",
        "\n",
        "# Create the learning rate scheduler that update the learning rate gradully, this scheduler is with AdamW\n",
        "scheduler = get_linear_schedule_with_warmup(optimizer, num_warmup_steps = 0, num_training_steps = total_steps)"
      ],
      "execution_count": null,
      "outputs": [
        {
          "output_type": "stream",
          "name": "stderr",
          "text": [
            "/usr/local/lib/python3.10/dist-packages/transformers/optimization.py:521: FutureWarning: This implementation of AdamW is deprecated and will be removed in a future version. Use the PyTorch implementation torch.optim.AdamW instead, or set `no_deprecation_warning=True` to disable this warning\n",
            "  warnings.warn(\n"
          ]
        }
      ]
    },
    {
      "cell_type": "markdown",
      "metadata": {
        "id": "U2WFSgu6_1VL"
      },
      "source": [
        "### Train the BERT + NN Model"
      ]
    },
    {
      "cell_type": "markdown",
      "metadata": {
        "id": "_SCqZW_Dn6x5"
      },
      "source": [
        "OK, finally, we start to train the model"
      ]
    },
    {
      "cell_type": "markdown",
      "metadata": {
        "id": "opgJUFwvmjPc"
      },
      "source": [
        "Import tips:\n",
        "  * Creating the NN model first and then create its optimizer so that the two can be tied together\n",
        "    * see reference: https://pytorch.org/docs/stable/optim.html \"If you need to move a model to GPU via .cuda(), please do so before constructing optimizers for it. Parameters of a model after .cuda() will be different objects with those before the call.\"\n",
        "  * Very Important: Each Time When You Train a Neural Network Again, Plase Terminate the Connection to Colab Host to Clear Up GPU Ram; otherwise, Different Versions of the Network Will be Mixed.\n",
        "\n",
        "  * Further, please start from the section \"split the raw dataset\" to train a new model. You need to create a new instance of the neural network model, consider to adjust the hyper-parameters such as learning rate, batch size of trianing and validation dataset, max length of text being processed, etc.\n",
        "\n"
      ]
    },
    {
      "cell_type": "code",
      "metadata": {
        "id": "H0gMiqrmix5g",
        "colab": {
          "base_uri": "https://localhost:8080/"
        },
        "outputId": "8bd7a08e-bc9f-4437-ab79-36628d53fce6"
      },
      "source": [
        "\n",
        "# train the model\n",
        "# store the total loss and accuracy values of each epoch\n",
        "training_stats = []\n",
        "\n",
        "# initialize the early_stopping object\n",
        "early_stopping = EarlyStopping(patience= patience, verbose=True)\n",
        "\n",
        "# the epoch loop, number of rounds specified by epochs\n",
        "for epoch_i in range(0, epochs):\n",
        "  print('======== Epoch {:} / {:} =========='.format(epoch_i + 1, epochs))\n",
        "  # zero the values of total loss and accuracy of the epoch\n",
        "  total_loss = 0\n",
        "\n",
        "  # in the training stage, set the model into train mode\n",
        "  cls_model.train()\n",
        "\n",
        "  ###################\n",
        "  # the training step loop\n",
        "  ###################\n",
        "\n",
        "  # recall that train_loader feed data into the NN in batchs to save memory and improve efficiency\n",
        "  # then the # of total steps is about (# of samples/batch size)\n",
        "  print(\"training\")\n",
        "  for step, batch in enumerate(train_loader, 0):\n",
        "    # feed the data into GPU using .to(device) function\n",
        "    # note that the input_ids for one raw input is in the shape of (1, max_length)\n",
        "    # after be processed input batch, the input_ids become (batch_size, 1, max_length)\n",
        "    # however, BERT only takes input_ids in the shape of (batch_size, max_length),\n",
        "    # (see here: https://huggingface.co/transformers/model_doc/bert.html#bertmodel)\n",
        "    # so we need to do \"batch['input_ids'].squeeze()\" inestead of \"batch['input_ids']\"\n",
        "    # to remove the unnecessy axis of \"1\".\n",
        "    # same operation for attention_mask\n",
        "    input_ids = batch['input_ids'].squeeze().to(device, dtype = torch.long)\n",
        "    attention_mask = batch['attention_mask'].squeeze().to(device, dtype = torch.long)\n",
        "    label = batch['label'].to(device, dtype = torch.float)\n",
        "\n",
        "    # at each step, before the NN does the feed forward, let's set the gradient to 0\n",
        "    # as pytorch nn.Module automatically cumulates gradient from previous rounds\n",
        "    # this is good for RNN training, but not necessy for us here. Thus, we turn it off.\n",
        "    cls_model.zero_grad()\n",
        "\n",
        "    # note that since we feed the inputs/raw samples in batch,\n",
        "    # the prediciton should be in the shape of (batch_size, # of classes)\n",
        "    prediction = cls_model(input_ids, attention_mask)\n",
        "    prediction = prediction.squeeze()\n",
        "\n",
        "    # calculate the loss\n",
        "    loss = criterion(prediction, label)\n",
        "\n",
        "    # with the loss, we can do back propagation to calculate the gradient\n",
        "    # very easy, just with one line of code all gradients in previous calculations are derived\n",
        "    loss.backward()\n",
        "\n",
        "    # Clip the norm of the gradients to 1.0.\n",
        "    # This is to help prevent the \"exploding gradients\" problem.\n",
        "    torch.nn.utils.clip_grad_norm_(text_to_number.parameters(), 1.0)\n",
        "\n",
        "    # with the gradient, we can update the model paramters.\n",
        "    # recall how we define the optimizer in the previous sections\n",
        "    optimizer.step()\n",
        "\n",
        "    # update the learning rate\n",
        "    scheduler.step()\n",
        "\n",
        "    # to keep tracking on the model performance, we accumulate the total loss in every epoch\n",
        "    total_loss += loss.item()\n",
        "\n",
        "    # for every 10 steps, we print out the epoce # and loss\n",
        "    if step%10 == 0 and step != 0:\n",
        "      print(f'Epoch:{epoch_i + 1}, Total_Loss:{total_loss}, Average_Loss:{total_loss/step}')\n",
        "\n",
        "  # calcualte and store the average training loss of each batch in the current epoch\n",
        "  avg_train_loss = total_loss / len(train_loader)\n",
        "\n",
        "\n",
        "  # now let's set up the validation loop, meaning the trained model above will be used to evaluate the sample in validation dataset\n",
        "  # note that this validation loop is in the same \"indent\" level as the training loop, and they both under the epoches loop\n",
        "  print(\"validating\")\n",
        "\n",
        "  # set the model now in the evaluation mode\n",
        "  cls_model.eval()\n",
        "\n",
        "  # zero the values of total loss\n",
        "  total_loss = 0\n",
        "\n",
        "  ###################\n",
        "  # the validation step loop\n",
        "  ###################\n",
        "\n",
        "  for step, batch in enumerate(valid_loader, 0):\n",
        "    input_ids = batch['input_ids'].squeeze().to(device, dtype = torch.long)\n",
        "    attention_mask = batch['attention_mask'].squeeze().to(device, dtype = torch.long)\n",
        "    label = batch['label'].to(device, dtype = torch.float)\n",
        "\n",
        "    with torch.no_grad():\n",
        "        prediction = cls_model(input_ids, attention_mask)\n",
        "        prediction = prediction.squeeze()\n",
        "        loss = criterion(prediction, label)\n",
        "\n",
        "    total_loss += loss.item()\n",
        "\n",
        "    if step%10 == 0 and step != 0:\n",
        "      print(f'Epoch:{epoch_i + 1}, Total_Loss:{total_loss}, Average_Loss:{total_loss/step}')\n",
        "\n",
        "  # calcualte and store the average training loss of each batch in the current epoch\n",
        "  avg_valid_loss = total_loss / len(valid_loader)\n",
        "\n",
        "  training_stats.append(\n",
        "        {\n",
        "            'epoch': epoch_i + 1,\n",
        "            'Training Loss': avg_train_loss,\n",
        "            'Valid. Loss': avg_valid_loss\n",
        "        }\n",
        "    )\n",
        "\n",
        "  # early_stopping needs the validation loss to check if it has decresed,\n",
        "  # and if it has, it will make a checkpoint of the current model\n",
        "\n",
        "  early_stopping(avg_valid_loss, cls_model)\n",
        "\n",
        "  if early_stopping.early_stop:\n",
        "    print(\"Early stopping\")\n",
        "    break\n",
        "\n",
        "\n",
        "# load the last checkpoint with the best model\n",
        "cls_model.load_state_dict(torch.load('checkpoint.pt'))\n",
        "\n",
        "\n",
        "  # lastly, at the end of each epoch, you can save the model for later use\n",
        "  # you need to define dir first, e.g., \"./content/drive/My Drive\"\n",
        "  # torch.save(cls_model.state_dict(), os.path.join(dir, 'exper-epoch-{}.pt'.format(epoch_i)))\n",
        "\n",
        "print(\"training complete!\")\n",
        "\n"
      ],
      "execution_count": null,
      "outputs": [
        {
          "output_type": "stream",
          "name": "stderr",
          "text": [
            "<ipython-input-43-0a9305b5c0ef>:54: UserWarning: To copy construct from a tensor, it is recommended to use sourceTensor.clone().detach() or sourceTensor.clone().detach().requires_grad_(True), rather than torch.tensor(sourceTensor).\n",
            "  'input_ids': torch.tensor(input_ids, dtype = torch.long),\n",
            "<ipython-input-43-0a9305b5c0ef>:55: UserWarning: To copy construct from a tensor, it is recommended to use sourceTensor.clone().detach() or sourceTensor.clone().detach().requires_grad_(True), rather than torch.tensor(sourceTensor).\n",
            "  'attention_mask': torch.tensor(attention_mask, dtype = torch.long),\n"
          ]
        },
        {
          "output_type": "stream",
          "name": "stdout",
          "text": [
            "======== Epoch 1 / 50 ==========\n",
            "training\n",
            "Epoch:1, Total_Loss:7.48157662153244, Average_Loss:0.748157662153244\n",
            "Epoch:1, Total_Loss:13.748208999633789, Average_Loss:0.6874104499816894\n",
            "Epoch:1, Total_Loss:19.287278294563293, Average_Loss:0.6429092764854432\n",
            "Epoch:1, Total_Loss:23.911551386117935, Average_Loss:0.5977887846529484\n",
            "Epoch:1, Total_Loss:27.415689319372177, Average_Loss:0.5483137863874435\n",
            "validating\n",
            "Epoch:1, Total_Loss:3.0402664244174957, Average_Loss:0.3040266424417496\n",
            "Validation loss decreased (inf --> 0.268506).  Saving model ...\n",
            "======== Epoch 2 / 50 ==========\n",
            "training\n",
            "Epoch:2, Total_Loss:2.9405747801065445, Average_Loss:0.29405747801065446\n",
            "Epoch:2, Total_Loss:5.14783838391304, Average_Loss:0.257391919195652\n",
            "Epoch:2, Total_Loss:7.610918864607811, Average_Loss:0.25369729548692704\n",
            "Epoch:2, Total_Loss:9.733200639486313, Average_Loss:0.2433300159871578\n",
            "Epoch:2, Total_Loss:12.30036561191082, Average_Loss:0.2460073122382164\n",
            "validating\n",
            "Epoch:2, Total_Loss:2.233510822057724, Average_Loss:0.2233510822057724\n",
            "Validation loss decreased (0.268506 --> 0.189995).  Saving model ...\n",
            "======== Epoch 3 / 50 ==========\n",
            "training\n",
            "Epoch:3, Total_Loss:2.113223910331726, Average_Loss:0.2113223910331726\n",
            "Epoch:3, Total_Loss:3.465894728899002, Average_Loss:0.1732947364449501\n",
            "Epoch:3, Total_Loss:4.773904249072075, Average_Loss:0.15913014163573583\n",
            "Epoch:3, Total_Loss:6.307159971445799, Average_Loss:0.15767899928614498\n",
            "Epoch:3, Total_Loss:8.069966841489077, Average_Loss:0.16139933682978153\n",
            "validating\n",
            "Epoch:3, Total_Loss:2.3427933156490326, Average_Loss:0.23427933156490327\n",
            "EarlyStopping counter: 1 out of 5\n",
            "======== Epoch 4 / 50 ==========\n",
            "training\n",
            "Epoch:4, Total_Loss:0.9940391629934311, Average_Loss:0.09940391629934311\n",
            "Epoch:4, Total_Loss:2.1497980691492558, Average_Loss:0.10748990345746279\n",
            "Epoch:4, Total_Loss:3.1491308212280273, Average_Loss:0.10497102737426758\n",
            "Epoch:4, Total_Loss:4.399928383529186, Average_Loss:0.10999820958822966\n",
            "Epoch:4, Total_Loss:5.588758945465088, Average_Loss:0.11177517890930176\n",
            "validating\n",
            "Epoch:4, Total_Loss:2.378612171858549, Average_Loss:0.2378612171858549\n",
            "EarlyStopping counter: 2 out of 5\n",
            "======== Epoch 5 / 50 ==========\n",
            "training\n",
            "Epoch:5, Total_Loss:0.926908316090703, Average_Loss:0.0926908316090703\n",
            "Epoch:5, Total_Loss:1.783281235024333, Average_Loss:0.08916406175121665\n",
            "Epoch:5, Total_Loss:2.653183402493596, Average_Loss:0.08843944674978653\n",
            "Epoch:5, Total_Loss:3.652517084032297, Average_Loss:0.09131292710080743\n",
            "Epoch:5, Total_Loss:4.362966557964683, Average_Loss:0.08725933115929366\n",
            "validating\n",
            "Epoch:5, Total_Loss:2.6494410261511803, Average_Loss:0.264944102615118\n",
            "EarlyStopping counter: 3 out of 5\n",
            "======== Epoch 6 / 50 ==========\n",
            "training\n",
            "Epoch:6, Total_Loss:0.5393603872507811, Average_Loss:0.05393603872507811\n",
            "Epoch:6, Total_Loss:1.198884068056941, Average_Loss:0.05994420340284705\n",
            "Epoch:6, Total_Loss:1.8309299368411303, Average_Loss:0.06103099789470434\n",
            "Epoch:6, Total_Loss:2.6255588196218014, Average_Loss:0.06563897049054504\n",
            "Epoch:6, Total_Loss:3.0176698621362448, Average_Loss:0.0603533972427249\n",
            "validating\n",
            "Epoch:6, Total_Loss:2.83081391826272, Average_Loss:0.283081391826272\n",
            "EarlyStopping counter: 4 out of 5\n",
            "======== Epoch 7 / 50 ==========\n",
            "training\n",
            "Epoch:7, Total_Loss:0.5472013810649514, Average_Loss:0.05472013810649514\n",
            "Epoch:7, Total_Loss:0.8950412832200527, Average_Loss:0.044752064161002636\n",
            "Epoch:7, Total_Loss:1.401400413364172, Average_Loss:0.046713347112139064\n",
            "Epoch:7, Total_Loss:1.9296475118026137, Average_Loss:0.048241187795065345\n",
            "Epoch:7, Total_Loss:2.6434308821335435, Average_Loss:0.05286861764267087\n",
            "validating\n",
            "Epoch:7, Total_Loss:3.205276037566364, Average_Loss:0.32052760375663636\n",
            "EarlyStopping counter: 5 out of 5\n",
            "Early stopping\n",
            "training complete!\n"
          ]
        }
      ]
    },
    {
      "cell_type": "code",
      "metadata": {
        "id": "B5soA_VPd2Ry",
        "colab": {
          "base_uri": "https://localhost:8080/",
          "height": 609
        },
        "outputId": "85e70b02-a657-4227-d29e-e917406ca26c"
      },
      "source": [
        "# plot the train statistics stored in training_stats\n",
        "import matplotlib.pyplot as plt\n",
        "%matplotlib inline\n",
        "\n",
        "import seaborn as sns\n",
        "sns.set(style = \"darkgrid\")\n",
        "\n",
        "sns.set(font_scale = 1.5)\n",
        "plt.rcParams['figure.figsize'] = [12, 6]\n",
        "\n",
        "df_stats = pd.DataFrame(data = training_stats)\n",
        "\n",
        "# Use the 'epoch' as the row index.\n",
        "df_stats = df_stats.set_index('epoch')\n",
        "\n",
        "plt.plot(df_stats['Training Loss'], 'b-o', label=\"Training\")\n",
        "plt.plot(df_stats['Valid. Loss'], 'g-o', label=\"Validation\")\n",
        "\n",
        "plt.title(\"Training loss\")\n",
        "plt.xlabel(\"Epoch\")\n",
        "plt.ylabel(\"Loss\")\n",
        "plt.legend()"
      ],
      "execution_count": null,
      "outputs": [
        {
          "output_type": "execute_result",
          "data": {
            "text/plain": [
              "<matplotlib.legend.Legend at 0x7a346a6c7ca0>"
            ]
          },
          "metadata": {},
          "execution_count": 61
        },
        {
          "output_type": "display_data",
          "data": {
            "text/plain": [
              "<Figure size 1200x600 with 1 Axes>"
            ],
            "image/png": "[encoded data removed]"
          },
          "metadata": {}
        }
      ]
    },
    {
      "cell_type": "markdown",
      "source": [
        "Further learning: we can use callback function in pytorch to fetch the parameter values before the model is overfitted. https://dzlab.github.io/dl/2019/03/16/pytorch-training-loop/\n"
      ],
      "metadata": {
        "id": "VY-glviLa44s"
      }
    },
    {
      "cell_type": "markdown",
      "metadata": {
        "id": "WinIsU6zMpWt"
      },
      "source": [
        "## Evaluate the Model Performance\n",
        "\n",
        "  * Evaluate the model performance using the validation dataset\n",
        "  * Ealculating the confusion matrix, AUC, F-1 Score, MCC, etc."
      ]
    },
    {
      "cell_type": "markdown",
      "metadata": {
        "id": "OTiUW-cVy83A"
      },
      "source": [
        "Evaluate the model performance\n",
        "  * calculate predictions and campare them to the true labels"
      ]
    },
    {
      "cell_type": "code",
      "metadata": {
        "id": "p9MQQ6yU9kLo",
        "colab": {
          "base_uri": "https://localhost:8080/"
        },
        "outputId": "4b9ef157-9d1a-4388-e08a-24b4a8821a90"
      },
      "source": [
        "# apply the trained model to the validation dataset\n",
        "# get the model predictions and compare the comparisons to the true labels\n",
        "cls_model.eval()\n",
        "predictions, labels = [], []\n",
        "for step, batch in enumerate(valid_loader):\n",
        "  input_ids = batch['input_ids'].squeeze().to(device, dtype = torch.long)\n",
        "  attention_mask = batch['attention_mask'].squeeze().to(device, dtype = torch.long)\n",
        "  label = batch['label'].to('cpu').numpy()\n",
        "\n",
        "  with torch.no_grad():\n",
        "    prediction = cls_model(input_ids, attention_mask)\n",
        "\n",
        "  prediction = prediction.detach().cpu().numpy()\n",
        "  predictions.append(prediction)\n",
        "  labels.append(label)"
      ],
      "execution_count": null,
      "outputs": [
        {
          "output_type": "stream",
          "name": "stderr",
          "text": [
            "<ipython-input-43-0a9305b5c0ef>:54: UserWarning: To copy construct from a tensor, it is recommended to use sourceTensor.clone().detach() or sourceTensor.clone().detach().requires_grad_(True), rather than torch.tensor(sourceTensor).\n",
            "  'input_ids': torch.tensor(input_ids, dtype = torch.long),\n",
            "<ipython-input-43-0a9305b5c0ef>:55: UserWarning: To copy construct from a tensor, it is recommended to use sourceTensor.clone().detach() or sourceTensor.clone().detach().requires_grad_(True), rather than torch.tensor(sourceTensor).\n",
            "  'attention_mask': torch.tensor(attention_mask, dtype = torch.long),\n"
          ]
        }
      ]
    },
    {
      "cell_type": "code",
      "metadata": {
        "id": "3ownUI8Ew6H_",
        "colab": {
          "base_uri": "https://localhost:8080/",
          "height": 424
        },
        "outputId": "d0ce27d8-5bdb-4682-ecb3-a7045ee8fec4"
      },
      "source": [
        "# transfer the outcomes into np format\n",
        "# Concatenate the tensors along the batch dimension\n",
        "predictions_concatenated = np.concatenate(predictions)\n",
        "# Flatten the concatenated array to one dimension\n",
        "predictions_flat = predictions_concatenated.flatten()\n",
        "\n",
        "labels_concatenated = np.concatenate(labels)\n",
        "# Flatten the concatenated array to one dimension\n",
        "labels_flat = labels_concatenated.flatten()\n",
        "\n",
        "\n",
        "# put the predictions and labels into the same dataset\n",
        "# df is &nbsp;the data set with which we evaluate the performance\n",
        "df = np.array([predictions_flat, labels_flat]).T\n",
        "df = pd.DataFrame(data=df, columns=[\"preds\", \"labels\"])\n",
        "\n",
        "\n",
        "df"
      ],
      "execution_count": null,
      "outputs": [
        {
          "output_type": "execute_result",
          "data": {
            "text/plain": [
              "        preds  labels\n",
              "0    0.039961     0.0\n",
              "1    0.042312     0.0\n",
              "2    0.043686     0.0\n",
              "3    0.959143     1.0\n",
              "4    0.973963     1.0\n",
              "..        ...     ...\n",
              "395  0.971125     1.0\n",
              "396  0.965067     1.0\n",
              "397  0.774795     1.0\n",
              "398  0.915825     1.0\n",
              "399  0.037111     0.0\n",
              "\n",
              "[400 rows x 2 columns]"
            ],
            "text/html": [
              "\n",
              "  <div id=\"df-c49161cb-0893-4ccb-937f-e285fc39dc08\" class=\"colab-df-container\">\n",
              "    <div>\n",
              "<style scoped>\n",
              "    .dataframe tbody tr th:only-of-type {\n",
              "        vertical-align: middle;\n",
              "    }\n",
              "\n",
              "    .dataframe tbody tr th {\n",
              "        vertical-align: top;\n",
              "    }\n",
              "\n",
              "    .dataframe thead th {\n",
              "        text-align: right;\n",
              "    }\n",
              "</style>\n",
              "<table border=\"1\" class=\"dataframe\">\n",
              "  <thead>\n",
              "    <tr style=\"text-align: right;\">\n",
              "      <th></th>\n",
              "      <th>preds</th>\n",
              "      <th>labels</th>\n",
              "    </tr>\n",
              "  </thead>\n",
              "  <tbody>\n",
              "    <tr>\n",
              "      <th>0</th>\n",
              "      <td>0.039961</td>\n",
              "      <td>0.0</td>\n",
              "    </tr>\n",
              "    <tr>\n",
              "      <th>1</th>\n",
              "      <td>0.042312</td>\n",
              "      <td>0.0</td>\n",
              "    </tr>\n",
              "    <tr>\n",
              "      <th>2</th>\n",
              "      <td>0.043686</td>\n",
              "      <td>0.0</td>\n",
              "    </tr>\n",
              "    <tr>\n",
              "      <th>3</th>\n",
              "      <td>0.959143</td>\n",
              "      <td>1.0</td>\n",
              "    </tr>\n",
              "    <tr>\n",
              "      <th>4</th>\n",
              "      <td>0.973963</td>\n",
              "      <td>1.0</td>\n",
              "    </tr>\n",
              "    <tr>\n",
              "      <th>...</th>\n",
              "      <td>...</td>\n",
              "      <td>...</td>\n",
              "    </tr>\n",
              "    <tr>\n",
              "      <th>395</th>\n",
              "      <td>0.971125</td>\n",
              "      <td>1.0</td>\n",
              "    </tr>\n",
              "    <tr>\n",
              "      <th>396</th>\n",
              "      <td>0.965067</td>\n",
              "      <td>1.0</td>\n",
              "    </tr>\n",
              "    <tr>\n",
              "      <th>397</th>\n",
              "      <td>0.774795</td>\n",
              "      <td>1.0</td>\n",
              "    </tr>\n",
              "    <tr>\n",
              "      <th>398</th>\n",
              "      <td>0.915825</td>\n",
              "      <td>1.0</td>\n",
              "    </tr>\n",
              "    <tr>\n",
              "      <th>399</th>\n",
              "      <td>0.037111</td>\n",
              "      <td>0.0</td>\n",
              "    </tr>\n",
              "  </tbody>\n",
              "</table>\n",
              "<p>400 rows × 2 columns</p>\n",
              "</div>\n",
              "    <div class=\"colab-df-buttons\">\n",
              "\n",
              "  <div class=\"colab-df-container\">\n",
              "    <button class=\"colab-df-convert\" onclick=\"convertToInteractive('df-c49161cb-0893-4ccb-937f-e285fc39dc08')\"\n",
              "            title=\"Convert this dataframe to an interactive table.\"\n",
              "            style=\"display:none;\">\n",
              "\n",
              "  <svg xmlns=\"http://www.w3.org/2000/svg\" height=\"24px\" viewBox=\"0 -960 960 960\">\n",
              "    <path d=\"M120-120v-720h720v720H120Zm60-500h600v-160H180v160Zm220 220h160v-160H400v160Zm0 220h160v-160H400v160ZM180-400h160v-160H180v160Zm440 0h160v-160H620v160ZM180-180h160v-160H180v160Zm440 0h160v-160H620v160Z\"/>\n",
              "  </svg>\n",
              "    </button>\n",
              "\n",
              "  <style>\n",
              "    .colab-df-container {\n",
              "      display:flex;\n",
              "      gap: 12px;\n",
              "    }\n",
              "\n",
              "    .colab-df-convert {\n",
              "      background-color: #E8F0FE;\n",
              "      border: none;\n",
              "      border-radius: 50%;\n",
              "      cursor: pointer;\n",
              "      display: none;\n",
              "      fill: #1967D2;\n",
              "      height: 32px;\n",
              "      padding: 0 0 0 0;\n",
              "      width: 32px;\n",
              "    }\n",
              "\n",
              "    .colab-df-convert:hover {\n",
              "      background-color: #E2EBFA;\n",
              "      box-shadow: 0px 1px 2px rgba(60, 64, 67, 0.3), 0px 1px 3px 1px rgba(60, 64, 67, 0.15);\n",
              "      fill: #174EA6;\n",
              "    }\n",
              "\n",
              "    .colab-df-buttons div {\n",
              "      margin-bottom: 4px;\n",
              "    }\n",
              "\n",
              "    [theme=dark] .colab-df-convert {\n",
              "      background-color: #3B4455;\n",
              "      fill: #D2E3FC;\n",
              "    }\n",
              "\n",
              "    [theme=dark] .colab-df-convert:hover {\n",
              "      background-color: #434B5C;\n",
              "      box-shadow: 0px 1px 3px 1px rgba(0, 0, 0, 0.15);\n",
              "      filter: drop-shadow(0px 1px 2px rgba(0, 0, 0, 0.3));\n",
              "      fill: #FFFFFF;\n",
              "    }\n",
              "  </style>\n",
              "\n",
              "    <script>\n",
              "      const buttonEl =\n",
              "        document.querySelector('#df-c49161cb-0893-4ccb-937f-e285fc39dc08 button.colab-df-convert');\n",
              "      buttonEl.style.display =\n",
              "        google.colab.kernel.accessAllowed ? 'block' : 'none';\n",
              "\n",
              "      async function convertToInteractive(key) {\n",
              "        const element = document.querySelector('#df-c49161cb-0893-4ccb-937f-e285fc39dc08');\n",
              "        const dataTable =\n",
              "          await google.colab.kernel.invokeFunction('convertToInteractive',\n",
              "                                                    [key], {});\n",
              "        if (!dataTable) return;\n",
              "\n",
              "        const docLinkHtml = 'Like what you see? Visit the ' +\n",
              "          '<a target=\"_blank\" href=https://colab.research.google.com/notebooks/data_table.ipynb>data table notebook</a>'\n",
              "          + ' to learn more about interactive tables.';\n",
              "        element.innerHTML = '';\n",
              "        dataTable['output_type'] = 'display_data';\n",
              "        await google.colab.output.renderOutput(dataTable, element);\n",
              "        const docLink = document.createElement('div');\n",
              "        docLink.innerHTML = docLinkHtml;\n",
              "        element.appendChild(docLink);\n",
              "      }\n",
              "    </script>\n",
              "  </div>\n",
              "\n",
              "\n",
              "<div id=\"df-48a9ffa3-49d8-4fcf-8352-635dfd7a41c4\">\n",
              "  <button class=\"colab-df-quickchart\" onclick=\"quickchart('df-48a9ffa3-49d8-4fcf-8352-635dfd7a41c4')\"\n",
              "            title=\"Suggest charts\"\n",
              "            style=\"display:none;\">\n",
              "\n",
              "<svg xmlns=\"http://www.w3.org/2000/svg\" height=\"24px\"viewBox=\"0 0 24 24\"\n",
              "     width=\"24px\">\n",
              "    <g>\n",
              "        <path d=\"M19 3H5c-1.1 0-2 .9-2 2v14c0 1.1.9 2 2 2h14c1.1 0 2-.9 2-2V5c0-1.1-.9-2-2-2zM9 17H7v-7h2v7zm4 0h-2V7h2v10zm4 0h-2v-4h2v4z\"/>\n",
              "    </g>\n",
              "</svg>\n",
              "  </button>\n",
              "\n",
              "<style>\n",
              "  .colab-df-quickchart {\n",
              "      --bg-color: #E8F0FE;\n",
              "      --fill-color: #1967D2;\n",
              "      --hover-bg-color: #E2EBFA;\n",
              "      --hover-fill-color: #174EA6;\n",
              "      --disabled-fill-color: #AAA;\n",
              "      --disabled-bg-color: #DDD;\n",
              "  }\n",
              "\n",
              "  [theme=dark] .colab-df-quickchart {\n",
              "      --bg-color: #3B4455;\n",
              "      --fill-color: #D2E3FC;\n",
              "      --hover-bg-color: #434B5C;\n",
              "      --hover-fill-color: #FFFFFF;\n",
              "      --disabled-bg-color: #3B4455;\n",
              "      --disabled-fill-color: #666;\n",
              "  }\n",
              "\n",
              "  .colab-df-quickchart {\n",
              "    background-color: var(--bg-color);\n",
              "    border: none;\n",
              "    border-radius: 50%;\n",
              "    cursor: pointer;\n",
              "    display: none;\n",
              "    fill: var(--fill-color);\n",
              "    height: 32px;\n",
              "    padding: 0;\n",
              "    width: 32px;\n",
              "  }\n",
              "\n",
              "  .colab-df-quickchart:hover {\n",
              "    background-color: var(--hover-bg-color);\n",
              "    box-shadow: 0 1px 2px rgba(60, 64, 67, 0.3), 0 1px 3px 1px rgba(60, 64, 67, 0.15);\n",
              "    fill: var(--button-hover-fill-color);\n",
              "  }\n",
              "\n",
              "  .colab-df-quickchart-complete:disabled,\n",
              "  .colab-df-quickchart-complete:disabled:hover {\n",
              "    background-color: var(--disabled-bg-color);\n",
              "    fill: var(--disabled-fill-color);\n",
              "    box-shadow: none;\n",
              "  }\n",
              "\n",
              "  .colab-df-spinner {\n",
              "    border: 2px solid var(--fill-color);\n",
              "    border-color: transparent;\n",
              "    border-bottom-color: var(--fill-color);\n",
              "    animation:\n",
              "      spin 1s steps(1) infinite;\n",
              "  }\n",
              "\n",
              "  @keyframes spin {\n",
              "    0% {\n",
              "      border-color: transparent;\n",
              "      border-bottom-color: var(--fill-color);\n",
              "      border-left-color: var(--fill-color);\n",
              "    }\n",
              "    20% {\n",
              "      border-color: transparent;\n",
              "      border-left-color: var(--fill-color);\n",
              "      border-top-color: var(--fill-color);\n",
              "    }\n",
              "    30% {\n",
              "      border-color: transparent;\n",
              "      border-left-color: var(--fill-color);\n",
              "      border-top-color: var(--fill-color);\n",
              "      border-right-color: var(--fill-color);\n",
              "    }\n",
              "    40% {\n",
              "      border-color: transparent;\n",
              "      border-right-color: var(--fill-color);\n",
              "      border-top-color: var(--fill-color);\n",
              "    }\n",
              "    60% {\n",
              "      border-color: transparent;\n",
              "      border-right-color: var(--fill-color);\n",
              "    }\n",
              "    80% {\n",
              "      border-color: transparent;\n",
              "      border-right-color: var(--fill-color);\n",
              "      border-bottom-color: var(--fill-color);\n",
              "    }\n",
              "    90% {\n",
              "      border-color: transparent;\n",
              "      border-bottom-color: var(--fill-color);\n",
              "    }\n",
              "  }\n",
              "</style>\n",
              "\n",
              "  <script>\n",
              "    async function quickchart(key) {\n",
              "      const quickchartButtonEl =\n",
              "        document.querySelector('#' + key + ' button');\n",
              "      quickchartButtonEl.disabled = true;  // To prevent multiple clicks.\n",
              "      quickchartButtonEl.classList.add('colab-df-spinner');\n",
              "      try {\n",
              "        const charts = await google.colab.kernel.invokeFunction(\n",
              "            'suggestCharts', [key], {});\n",
              "      } catch (error) {\n",
              "        console.error('Error during call to suggestCharts:', error);\n",
              "      }\n",
              "      quickchartButtonEl.classList.remove('colab-df-spinner');\n",
              "      quickchartButtonEl.classList.add('colab-df-quickchart-complete');\n",
              "    }\n",
              "    (() => {\n",
              "      let quickchartButtonEl =\n",
              "        document.querySelector('#df-48a9ffa3-49d8-4fcf-8352-635dfd7a41c4 button');\n",
              "      quickchartButtonEl.style.display =\n",
              "        google.colab.kernel.accessAllowed ? 'block' : 'none';\n",
              "    })();\n",
              "  </script>\n",
              "</div>\n",
              "\n",
              "  <div id=\"id_ecca3d18-8b33-4814-a42f-7b1b95cd6471\">\n",
              "    <style>\n",
              "      .colab-df-generate {\n",
              "        background-color: #E8F0FE;\n",
              "        border: none;\n",
              "        border-radius: 50%;\n",
              "        cursor: pointer;\n",
              "        display: none;\n",
              "        fill: #1967D2;\n",
              "        height: 32px;\n",
              "        padding: 0 0 0 0;\n",
              "        width: 32px;\n",
              "      }\n",
              "\n",
              "      .colab-df-generate:hover {\n",
              "        background-color: #E2EBFA;\n",
              "        box-shadow: 0px 1px 2px rgba(60, 64, 67, 0.3), 0px 1px 3px 1px rgba(60, 64, 67, 0.15);\n",
              "        fill: #174EA6;\n",
              "      }\n",
              "\n",
              "      [theme=dark] .colab-df-generate {\n",
              "        background-color: #3B4455;\n",
              "        fill: #D2E3FC;\n",
              "      }\n",
              "\n",
              "      [theme=dark] .colab-df-generate:hover {\n",
              "        background-color: #434B5C;\n",
              "        box-shadow: 0px 1px 3px 1px rgba(0, 0, 0, 0.15);\n",
              "        filter: drop-shadow(0px 1px 2px rgba(0, 0, 0, 0.3));\n",
              "        fill: #FFFFFF;\n",
              "      }\n",
              "    </style>\n",
              "    <button class=\"colab-df-generate\" onclick=\"generateWithVariable('df')\"\n",
              "            title=\"Generate code using this dataframe.\"\n",
              "            style=\"display:none;\">\n",
              "\n",
              "  <svg xmlns=\"http://www.w3.org/2000/svg\" height=\"24px\"viewBox=\"0 0 24 24\"\n",
              "       width=\"24px\">\n",
              "    <path d=\"M7,19H8.4L18.45,9,17,7.55,7,17.6ZM5,21V16.75L18.45,3.32a2,2,0,0,1,2.83,0l1.4,1.43a1.91,1.91,0,0,1,.58,1.4,1.91,1.91,0,0,1-.58,1.4L9.25,21ZM18.45,9,17,7.55Zm-12,3A5.31,5.31,0,0,0,4.9,8.1,5.31,5.31,0,0,0,1,6.5,5.31,5.31,0,0,0,4.9,4.9,5.31,5.31,0,0,0,6.5,1,5.31,5.31,0,0,0,8.1,4.9,5.31,5.31,0,0,0,12,6.5,5.46,5.46,0,0,0,6.5,12Z\"/>\n",
              "  </svg>\n",
              "    </button>\n",
              "    <script>\n",
              "      (() => {\n",
              "      const buttonEl =\n",
              "        document.querySelector('#id_ecca3d18-8b33-4814-a42f-7b1b95cd6471 button.colab-df-generate');\n",
              "      buttonEl.style.display =\n",
              "        google.colab.kernel.accessAllowed ? 'block' : 'none';\n",
              "\n",
              "      buttonEl.onclick = () => {\n",
              "        google.colab.notebook.generateWithVariable('df');\n",
              "      }\n",
              "      })();\n",
              "    </script>\n",
              "  </div>\n",
              "\n",
              "    </div>\n",
              "  </div>\n"
            ],
            "application/vnd.google.colaboratory.intrinsic+json": {
              "type": "dataframe",
              "variable_name": "df",
              "summary": "{\n  \"name\": \"df\",\n  \"rows\": 400,\n  \"fields\": [\n    {\n      \"column\": \"preds\",\n      \"properties\": {\n        \"dtype\": \"float32\",\n        \"num_unique_values\": 399,\n        \"samples\": [\n          0.9715463519096375,\n          0.961794912815094,\n          0.974903404712677\n        ],\n        \"semantic_type\": \"\",\n        \"description\": \"\"\n      }\n    },\n    {\n      \"column\": \"labels\",\n      \"properties\": {\n        \"dtype\": \"float32\",\n        \"num_unique_values\": 2,\n        \"samples\": [\n          1.0,\n          0.0\n        ],\n        \"semantic_type\": \"\",\n        \"description\": \"\"\n      }\n    }\n  ]\n}"
            }
          },
          "metadata": {},
          "execution_count": 63
        }
      ]
    },
    {
      "cell_type": "code",
      "metadata": {
        "colab": {
          "base_uri": "https://localhost:8080/",
          "height": 592
        },
        "id": "sPba7cEvpFAh",
        "outputId": "2135103d-600e-4ce9-abba-344dccf83c2d"
      },
      "source": [
        "import sklearn.metrics as metrics\n",
        "fpr, tpr, threshold = metrics.roc_curve(df['labels'], df['preds'])\n",
        "roc_auc = metrics.auc(fpr, tpr)\n",
        "\n",
        "# method I: plt\n",
        "import matplotlib.pyplot as plt\n",
        "plt.title('Receiver Operating Characteristic')\n",
        "plt.plot(fpr, tpr, 'b', label = 'AUC = %0.2f' % roc_auc)\n",
        "plt.legend(loc = 'lower right')\n",
        "plt.plot([0, 1], [0, 1],'r--')\n",
        "plt.xlim([0, 1])\n",
        "plt.ylim([0, 1])\n",
        "plt.ylabel('True Positive Rate')\n",
        "plt.xlabel('False Positive Rate')\n",
        "plt.show()"
      ],
      "execution_count": null,
      "outputs": [
        {
          "output_type": "display_data",
          "data": {
            "text/plain": [
              "<Figure size 1200x600 with 1 Axes>"
            ],
            "image/png": "[encoded data removed]"
          },
          "metadata": {}
        }
      ]
    },
    {
      "cell_type": "code",
      "metadata": {
        "colab": {
          "base_uri": "https://localhost:8080/"
        },
        "id": "pTfIfvLHsmin",
        "outputId": "fc5cf0f6-ed8e-4236-8b7e-f3bdb8674ed4"
      },
      "source": [
        "# confusion matrix\n",
        "from sklearn.metrics import confusion_matrix, matthews_corrcoef\n",
        "confusion_matrix(df['labels'], df['preds'].round(0))\n",
        "#can chatgpt add labels to make this look nice?"
      ],
      "execution_count": null,
      "outputs": [
        {
          "output_type": "execute_result",
          "data": {
            "text/plain": [
              "array([[176,  19],\n",
              "       [  9, 196]])"
            ]
          },
          "metadata": {},
          "execution_count": 65
        }
      ]
    },
    {
      "cell_type": "code",
      "metadata": {
        "colab": {
          "base_uri": "https://localhost:8080/"
        },
        "id": "QEecuN56ti1b",
        "outputId": "8d9d5ad8-e75d-4868-aa87-f6adfc008f2b"
      },
      "source": [
        "# true negative, false positive, false negative, true positive\n",
        "tn, fp, fn, tp = confusion_matrix(df['labels'], df['preds'].round(0)).ravel()\n",
        "print(\" true negative:\", tn, \"false positive\", fp, \"\\n\",\n",
        "      \"false negative:\", fn, \"true positve:\", tp)\n",
        "print(\"accuracy:\", (tn + tp)/(tn + fp + fp + tp))"
      ],
      "execution_count": null,
      "outputs": [
        {
          "output_type": "stream",
          "name": "stdout",
          "text": [
            " true negative: 176 false positive 19 \n",
            " false negative: 9 true positve: 196\n",
            "accuracy: 0.9073170731707317\n"
          ]
        }
      ]
    },
    {
      "cell_type": "code",
      "metadata": {
        "colab": {
          "base_uri": "https://localhost:8080/"
        },
        "id": "XStkhkT-8kAN",
        "outputId": "18ef48a1-f6ad-453c-cc33-df2b1333f180"
      },
      "source": [
        "# f1 score (review what this means again)\n",
        "metrics.f1_score(df['labels'], df['preds'].round(0))"
      ],
      "execution_count": null,
      "outputs": [
        {
          "output_type": "execute_result",
          "data": {
            "text/plain": [
              "0.9333333333333333"
            ]
          },
          "metadata": {},
          "execution_count": 67
        }
      ]
    },
    {
      "cell_type": "code",
      "metadata": {
        "colab": {
          "base_uri": "https://localhost:8080/"
        },
        "id": "R6Zpg6kQ0Ul4",
        "outputId": "a819ee58-0426-44af-dd5a-79b1c5aae921"
      },
      "source": [
        "# naive f1 score: predicting every case as positive\n",
        "raw_text['label'].mean()*2/(1 + raw_text['label'].mean())\n",
        "#this means that: you want f1_score to be better than this naive score"
      ],
      "execution_count": null,
      "outputs": [
        {
          "output_type": "execute_result",
          "data": {
            "text/plain": [
              "0.6666666666666666"
            ]
          },
          "metadata": {},
          "execution_count": 68
        }
      ]
    },
    {
      "cell_type": "code",
      "metadata": {
        "colab": {
          "base_uri": "https://localhost:8080/"
        },
        "id": "NBm1m9W3Z4HM",
        "outputId": "a5b4f3ef-fb56-4e9b-864d-474381682e44"
      },
      "source": [
        "# matthew's correlation coefficient\n",
        "# why matthew's correlation coefficient is better than F1\n",
        "# https://lettier.github.io/posts/2016-08-05-matthews-correlation-coefficient.html\n",
        "matthews_corrcoef(df['labels'], df['preds'].round(0))"
      ],
      "execution_count": null,
      "outputs": [
        {
          "output_type": "execute_result",
          "data": {
            "text/plain": [
              "0.8608177539736676"
            ]
          },
          "metadata": {},
          "execution_count": 69
        }
      ]
    },
    {
      "cell_type": "code",
      "metadata": {
        "id": "0uBQvEqF7UKf",
        "colab": {
          "base_uri": "https://localhost:8080/"
        },
        "outputId": "c93f000e-9c30-42e8-9605-ce157a5fda68"
      },
      "source": [
        "# test a specific example\n",
        "text = input(\"please enter your text:\")\n",
        "encoded_text = tokenizer.encode_plus(text, max_length = 128, truncation = 'longest_first')\n",
        "input_ids = torch.tensor([encoded_text['input_ids']]).to(device, dtype = torch.long)\n",
        "attention_mask = torch.tensor([encoded_text['attention_mask']]).to(device, dtype = torch.long)\n",
        "with torch.no_grad():\n",
        "    prediction = cls_model(input_ids, attention_mask)\n",
        "print(\"the predicted probability is:\",prediction.item(),\"\\n\",\n",
        "      \"the 'predicted label, when threshold is 0.5, is:\", prediction.round().item())"
      ],
      "execution_count": null,
      "outputs": [
        {
          "output_type": "stream",
          "name": "stdout",
          "text": [
            "please enter your text:Hated this mascara\n",
            "the predicted probability is: 0.14678728580474854 \n",
            " the 'predicted label, when threshold is 0.5, is: 0.0\n"
          ]
        }
      ]
    },
    {
      "cell_type": "code",
      "metadata": {
        "id": "J9PDrrPNhsIN",
        "colab": {
          "base_uri": "https://localhost:8080/",
          "height": 424
        },
        "outputId": "b55a3f61-66ad-47c0-d46a-f9d7d69ee4fb"
      },
      "source": [
        "# for all the observations that have true_label == 1,\n",
        "# let's sort their predicted probabilities\n",
        "df.loc[df['labels'] == 1, :].sort_values('preds')"
      ],
      "execution_count": null,
      "outputs": [
        {
          "output_type": "execute_result",
          "data": {
            "text/plain": [
              "        preds  labels\n",
              "93   0.044277     1.0\n",
              "231  0.199442     1.0\n",
              "306  0.226095     1.0\n",
              "34   0.293144     1.0\n",
              "244  0.301709     1.0\n",
              "..        ...     ...\n",
              "33   0.974903     1.0\n",
              "252  0.975496     1.0\n",
              "272  0.975738     1.0\n",
              "141  0.975817     1.0\n",
              "171  0.976259     1.0\n",
              "\n",
              "[205 rows x 2 columns]"
            ],
            "text/html": [
              "\n",
              "  <div id=\"df-8651a56c-5883-4bcb-bef9-d457663f6647\" class=\"colab-df-container\">\n",
              "    <div>\n",
              "<style scoped>\n",
              "    .dataframe tbody tr th:only-of-type {\n",
              "        vertical-align: middle;\n",
              "    }\n",
              "\n",
              "    .dataframe tbody tr th {\n",
              "        vertical-align: top;\n",
              "    }\n",
              "\n",
              "    .dataframe thead th {\n",
              "        text-align: right;\n",
              "    }\n",
              "</style>\n",
              "<table border=\"1\" class=\"dataframe\">\n",
              "  <thead>\n",
              "    <tr style=\"text-align: right;\">\n",
              "      <th></th>\n",
              "      <th>preds</th>\n",
              "      <th>labels</th>\n",
              "    </tr>\n",
              "  </thead>\n",
              "  <tbody>\n",
              "    <tr>\n",
              "      <th>93</th>\n",
              "      <td>0.044277</td>\n",
              "      <td>1.0</td>\n",
              "    </tr>\n",
              "    <tr>\n",
              "      <th>231</th>\n",
              "      <td>0.199442</td>\n",
              "      <td>1.0</td>\n",
              "    </tr>\n",
              "    <tr>\n",
              "      <th>306</th>\n",
              "      <td>0.226095</td>\n",
              "      <td>1.0</td>\n",
              "    </tr>\n",
              "    <tr>\n",
              "      <th>34</th>\n",
              "      <td>0.293144</td>\n",
              "      <td>1.0</td>\n",
              "    </tr>\n",
              "    <tr>\n",
              "      <th>244</th>\n",
              "      <td>0.301709</td>\n",
              "      <td>1.0</td>\n",
              "    </tr>\n",
              "    <tr>\n",
              "      <th>...</th>\n",
              "      <td>...</td>\n",
              "      <td>...</td>\n",
              "    </tr>\n",
              "    <tr>\n",
              "      <th>33</th>\n",
              "      <td>0.974903</td>\n",
              "      <td>1.0</td>\n",
              "    </tr>\n",
              "    <tr>\n",
              "      <th>252</th>\n",
              "      <td>0.975496</td>\n",
              "      <td>1.0</td>\n",
              "    </tr>\n",
              "    <tr>\n",
              "      <th>272</th>\n",
              "      <td>0.975738</td>\n",
              "      <td>1.0</td>\n",
              "    </tr>\n",
              "    <tr>\n",
              "      <th>141</th>\n",
              "      <td>0.975817</td>\n",
              "      <td>1.0</td>\n",
              "    </tr>\n",
              "    <tr>\n",
              "      <th>171</th>\n",
              "      <td>0.976259</td>\n",
              "      <td>1.0</td>\n",
              "    </tr>\n",
              "  </tbody>\n",
              "</table>\n",
              "<p>205 rows × 2 columns</p>\n",
              "</div>\n",
              "    <div class=\"colab-df-buttons\">\n",
              "\n",
              "  <div class=\"colab-df-container\">\n",
              "    <button class=\"colab-df-convert\" onclick=\"convertToInteractive('df-8651a56c-5883-4bcb-bef9-d457663f6647')\"\n",
              "            title=\"Convert this dataframe to an interactive table.\"\n",
              "            style=\"display:none;\">\n",
              "\n",
              "  <svg xmlns=\"http://www.w3.org/2000/svg\" height=\"24px\" viewBox=\"0 -960 960 960\">\n",
              "    <path d=\"M120-120v-720h720v720H120Zm60-500h600v-160H180v160Zm220 220h160v-160H400v160Zm0 220h160v-160H400v160ZM180-400h160v-160H180v160Zm440 0h160v-160H620v160ZM180-180h160v-160H180v160Zm440 0h160v-160H620v160Z\"/>\n",
              "  </svg>\n",
              "    </button>\n",
              "\n",
              "  <style>\n",
              "    .colab-df-container {\n",
              "      display:flex;\n",
              "      gap: 12px;\n",
              "    }\n",
              "\n",
              "    .colab-df-convert {\n",
              "      background-color: #E8F0FE;\n",
              "      border: none;\n",
              "      border-radius: 50%;\n",
              "      cursor: pointer;\n",
              "      display: none;\n",
              "      fill: #1967D2;\n",
              "      height: 32px;\n",
              "      padding: 0 0 0 0;\n",
              "      width: 32px;\n",
              "    }\n",
              "\n",
              "    .colab-df-convert:hover {\n",
              "      background-color: #E2EBFA;\n",
              "      box-shadow: 0px 1px 2px rgba(60, 64, 67, 0.3), 0px 1px 3px 1px rgba(60, 64, 67, 0.15);\n",
              "      fill: #174EA6;\n",
              "    }\n",
              "\n",
              "    .colab-df-buttons div {\n",
              "      margin-bottom: 4px;\n",
              "    }\n",
              "\n",
              "    [theme=dark] .colab-df-convert {\n",
              "      background-color: #3B4455;\n",
              "      fill: #D2E3FC;\n",
              "    }\n",
              "\n",
              "    [theme=dark] .colab-df-convert:hover {\n",
              "      background-color: #434B5C;\n",
              "      box-shadow: 0px 1px 3px 1px rgba(0, 0, 0, 0.15);\n",
              "      filter: drop-shadow(0px 1px 2px rgba(0, 0, 0, 0.3));\n",
              "      fill: #FFFFFF;\n",
              "    }\n",
              "  </style>\n",
              "\n",
              "    <script>\n",
              "      const buttonEl =\n",
              "        document.querySelector('#df-8651a56c-5883-4bcb-bef9-d457663f6647 button.colab-df-convert');\n",
              "      buttonEl.style.display =\n",
              "        google.colab.kernel.accessAllowed ? 'block' : 'none';\n",
              "\n",
              "      async function convertToInteractive(key) {\n",
              "        const element = document.querySelector('#df-8651a56c-5883-4bcb-bef9-d457663f6647');\n",
              "        const dataTable =\n",
              "          await google.colab.kernel.invokeFunction('convertToInteractive',\n",
              "                                                    [key], {});\n",
              "        if (!dataTable) return;\n",
              "\n",
              "        const docLinkHtml = 'Like what you see? Visit the ' +\n",
              "          '<a target=\"_blank\" href=https://colab.research.google.com/notebooks/data_table.ipynb>data table notebook</a>'\n",
              "          + ' to learn more about interactive tables.';\n",
              "        element.innerHTML = '';\n",
              "        dataTable['output_type'] = 'display_data';\n",
              "        await google.colab.output.renderOutput(dataTable, element);\n",
              "        const docLink = document.createElement('div');\n",
              "        docLink.innerHTML = docLinkHtml;\n",
              "        element.appendChild(docLink);\n",
              "      }\n",
              "    </script>\n",
              "  </div>\n",
              "\n",
              "\n",
              "<div id=\"df-60135dfd-dcc5-4366-98fd-96ce03f6b62a\">\n",
              "  <button class=\"colab-df-quickchart\" onclick=\"quickchart('df-60135dfd-dcc5-4366-98fd-96ce03f6b62a')\"\n",
              "            title=\"Suggest charts\"\n",
              "            style=\"display:none;\">\n",
              "\n",
              "<svg xmlns=\"http://www.w3.org/2000/svg\" height=\"24px\"viewBox=\"0 0 24 24\"\n",
              "     width=\"24px\">\n",
              "    <g>\n",
              "        <path d=\"M19 3H5c-1.1 0-2 .9-2 2v14c0 1.1.9 2 2 2h14c1.1 0 2-.9 2-2V5c0-1.1-.9-2-2-2zM9 17H7v-7h2v7zm4 0h-2V7h2v10zm4 0h-2v-4h2v4z\"/>\n",
              "    </g>\n",
              "</svg>\n",
              "  </button>\n",
              "\n",
              "<style>\n",
              "  .colab-df-quickchart {\n",
              "      --bg-color: #E8F0FE;\n",
              "      --fill-color: #1967D2;\n",
              "      --hover-bg-color: #E2EBFA;\n",
              "      --hover-fill-color: #174EA6;\n",
              "      --disabled-fill-color: #AAA;\n",
              "      --disabled-bg-color: #DDD;\n",
              "  }\n",
              "\n",
              "  [theme=dark] .colab-df-quickchart {\n",
              "      --bg-color: #3B4455;\n",
              "      --fill-color: #D2E3FC;\n",
              "      --hover-bg-color: #434B5C;\n",
              "      --hover-fill-color: #FFFFFF;\n",
              "      --disabled-bg-color: #3B4455;\n",
              "      --disabled-fill-color: #666;\n",
              "  }\n",
              "\n",
              "  .colab-df-quickchart {\n",
              "    background-color: var(--bg-color);\n",
              "    border: none;\n",
              "    border-radius: 50%;\n",
              "    cursor: pointer;\n",
              "    display: none;\n",
              "    fill: var(--fill-color);\n",
              "    height: 32px;\n",
              "    padding: 0;\n",
              "    width: 32px;\n",
              "  }\n",
              "\n",
              "  .colab-df-quickchart:hover {\n",
              "    background-color: var(--hover-bg-color);\n",
              "    box-shadow: 0 1px 2px rgba(60, 64, 67, 0.3), 0 1px 3px 1px rgba(60, 64, 67, 0.15);\n",
              "    fill: var(--button-hover-fill-color);\n",
              "  }\n",
              "\n",
              "  .colab-df-quickchart-complete:disabled,\n",
              "  .colab-df-quickchart-complete:disabled:hover {\n",
              "    background-color: var(--disabled-bg-color);\n",
              "    fill: var(--disabled-fill-color);\n",
              "    box-shadow: none;\n",
              "  }\n",
              "\n",
              "  .colab-df-spinner {\n",
              "    border: 2px solid var(--fill-color);\n",
              "    border-color: transparent;\n",
              "    border-bottom-color: var(--fill-color);\n",
              "    animation:\n",
              "      spin 1s steps(1) infinite;\n",
              "  }\n",
              "\n",
              "  @keyframes spin {\n",
              "    0% {\n",
              "      border-color: transparent;\n",
              "      border-bottom-color: var(--fill-color);\n",
              "      border-left-color: var(--fill-color);\n",
              "    }\n",
              "    20% {\n",
              "      border-color: transparent;\n",
              "      border-left-color: var(--fill-color);\n",
              "      border-top-color: var(--fill-color);\n",
              "    }\n",
              "    30% {\n",
              "      border-color: transparent;\n",
              "      border-left-color: var(--fill-color);\n",
              "      border-top-color: var(--fill-color);\n",
              "      border-right-color: var(--fill-color);\n",
              "    }\n",
              "    40% {\n",
              "      border-color: transparent;\n",
              "      border-right-color: var(--fill-color);\n",
              "      border-top-color: var(--fill-color);\n",
              "    }\n",
              "    60% {\n",
              "      border-color: transparent;\n",
              "      border-right-color: var(--fill-color);\n",
              "    }\n",
              "    80% {\n",
              "      border-color: transparent;\n",
              "      border-right-color: var(--fill-color);\n",
              "      border-bottom-color: var(--fill-color);\n",
              "    }\n",
              "    90% {\n",
              "      border-color: transparent;\n",
              "      border-bottom-color: var(--fill-color);\n",
              "    }\n",
              "  }\n",
              "</style>\n",
              "\n",
              "  <script>\n",
              "    async function quickchart(key) {\n",
              "      const quickchartButtonEl =\n",
              "        document.querySelector('#' + key + ' button');\n",
              "      quickchartButtonEl.disabled = true;  // To prevent multiple clicks.\n",
              "      quickchartButtonEl.classList.add('colab-df-spinner');\n",
              "      try {\n",
              "        const charts = await google.colab.kernel.invokeFunction(\n",
              "            'suggestCharts', [key], {});\n",
              "      } catch (error) {\n",
              "        console.error('Error during call to suggestCharts:', error);\n",
              "      }\n",
              "      quickchartButtonEl.classList.remove('colab-df-spinner');\n",
              "      quickchartButtonEl.classList.add('colab-df-quickchart-complete');\n",
              "    }\n",
              "    (() => {\n",
              "      let quickchartButtonEl =\n",
              "        document.querySelector('#df-60135dfd-dcc5-4366-98fd-96ce03f6b62a button');\n",
              "      quickchartButtonEl.style.display =\n",
              "        google.colab.kernel.accessAllowed ? 'block' : 'none';\n",
              "    })();\n",
              "  </script>\n",
              "</div>\n",
              "\n",
              "    </div>\n",
              "  </div>\n"
            ],
            "application/vnd.google.colaboratory.intrinsic+json": {
              "type": "dataframe",
              "summary": "{\n  \"name\": \"df\",\n  \"rows\": 205,\n  \"fields\": [\n    {\n      \"column\": \"preds\",\n      \"properties\": {\n        \"dtype\": \"float32\",\n        \"num_unique_values\": 204,\n        \"samples\": [\n          0.7105493545532227,\n          0.5287430286407471,\n          0.966535747051239\n        ],\n        \"semantic_type\": \"\",\n        \"description\": \"\"\n      }\n    },\n    {\n      \"column\": \"labels\",\n      \"properties\": {\n        \"dtype\": \"float32\",\n        \"num_unique_values\": 1,\n        \"samples\": [\n          1.0\n        ],\n        \"semantic_type\": \"\",\n        \"description\": \"\"\n      }\n    }\n  ]\n}"
            }
          },
          "metadata": {},
          "execution_count": 71
        }
      ]
    },
    {
      "cell_type": "code",
      "metadata": {
        "id": "wslamubJhsIQ",
        "colab": {
          "base_uri": "https://localhost:8080/",
          "height": 36
        },
        "outputId": "aee2316e-9c3d-4e62-daa7-02ff4127b178"
      },
      "source": [
        "# see a specific observation\n",
        "valid_raw.iloc[12,1]"
      ],
      "execution_count": null,
      "outputs": [
        {
          "output_type": "execute_result",
          "data": {
            "text/plain": [
              "\"It wouldn't stay on my face while lying down, it kept sliding down.\""
            ],
            "application/vnd.google.colaboratory.intrinsic+json": {
              "type": "string"
            }
          },
          "metadata": {},
          "execution_count": 72
        }
      ]
    },
    {
      "cell_type": "code",
      "metadata": {
        "id": "otzAxck1hsIR",
        "colab": {
          "base_uri": "https://localhost:8080/",
          "height": 424
        },
        "outputId": "aa2d332e-242e-444a-bcfa-33a3bf6735f9"
      },
      "source": [
        "# on the other way around, for all the texts whose label == 0,\n",
        "# let's sort their predicted probablities in descending order\n",
        "df.loc[df['labels'] == 0, :].sort_values('preds', ascending = False)"
      ],
      "execution_count": null,
      "outputs": [
        {
          "output_type": "execute_result",
          "data": {
            "text/plain": [
              "        preds  labels\n",
              "84   0.963801     0.0\n",
              "282  0.947415     0.0\n",
              "362  0.939298     0.0\n",
              "30   0.923657     0.0\n",
              "300  0.921202     0.0\n",
              "..        ...     ...\n",
              "94   0.035619     0.0\n",
              "260  0.034698     0.0\n",
              "262  0.033776     0.0\n",
              "330  0.033614     0.0\n",
              "254  0.033403     0.0\n",
              "\n",
              "[195 rows x 2 columns]"
            ],
            "text/html": [
              "\n",
              "  <div id=\"df-0f228033-afbe-400f-831a-999bdbb4639e\" class=\"colab-df-container\">\n",
              "    <div>\n",
              "<style scoped>\n",
              "    .dataframe tbody tr th:only-of-type {\n",
              "        vertical-align: middle;\n",
              "    }\n",
              "\n",
              "    .dataframe tbody tr th {\n",
              "        vertical-align: top;\n",
              "    }\n",
              "\n",
              "    .dataframe thead th {\n",
              "        text-align: right;\n",
              "    }\n",
              "</style>\n",
              "<table border=\"1\" class=\"dataframe\">\n",
              "  <thead>\n",
              "    <tr style=\"text-align: right;\">\n",
              "      <th></th>\n",
              "      <th>preds</th>\n",
              "      <th>labels</th>\n",
              "    </tr>\n",
              "  </thead>\n",
              "  <tbody>\n",
              "    <tr>\n",
              "      <th>84</th>\n",
              "      <td>0.963801</td>\n",
              "      <td>0.0</td>\n",
              "    </tr>\n",
              "    <tr>\n",
              "      <th>282</th>\n",
              "      <td>0.947415</td>\n",
              "      <td>0.0</td>\n",
              "    </tr>\n",
              "    <tr>\n",
              "      <th>362</th>\n",
              "      <td>0.939298</td>\n",
              "      <td>0.0</td>\n",
              "    </tr>\n",
              "    <tr>\n",
              "      <th>30</th>\n",
              "      <td>0.923657</td>\n",
              "      <td>0.0</td>\n",
              "    </tr>\n",
              "    <tr>\n",
              "      <th>300</th>\n",
              "      <td>0.921202</td>\n",
              "      <td>0.0</td>\n",
              "    </tr>\n",
              "    <tr>\n",
              "      <th>...</th>\n",
              "      <td>...</td>\n",
              "      <td>...</td>\n",
              "    </tr>\n",
              "    <tr>\n",
              "      <th>94</th>\n",
              "      <td>0.035619</td>\n",
              "      <td>0.0</td>\n",
              "    </tr>\n",
              "    <tr>\n",
              "      <th>260</th>\n",
              "      <td>0.034698</td>\n",
              "      <td>0.0</td>\n",
              "    </tr>\n",
              "    <tr>\n",
              "      <th>262</th>\n",
              "      <td>0.033776</td>\n",
              "      <td>0.0</td>\n",
              "    </tr>\n",
              "    <tr>\n",
              "      <th>330</th>\n",
              "      <td>0.033614</td>\n",
              "      <td>0.0</td>\n",
              "    </tr>\n",
              "    <tr>\n",
              "      <th>254</th>\n",
              "      <td>0.033403</td>\n",
              "      <td>0.0</td>\n",
              "    </tr>\n",
              "  </tbody>\n",
              "</table>\n",
              "<p>195 rows × 2 columns</p>\n",
              "</div>\n",
              "    <div class=\"colab-df-buttons\">\n",
              "\n",
              "  <div class=\"colab-df-container\">\n",
              "    <button class=\"colab-df-convert\" onclick=\"convertToInteractive('df-0f228033-afbe-400f-831a-999bdbb4639e')\"\n",
              "            title=\"Convert this dataframe to an interactive table.\"\n",
              "            style=\"display:none;\">\n",
              "\n",
              "  <svg xmlns=\"http://www.w3.org/2000/svg\" height=\"24px\" viewBox=\"0 -960 960 960\">\n",
              "    <path d=\"M120-120v-720h720v720H120Zm60-500h600v-160H180v160Zm220 220h160v-160H400v160Zm0 220h160v-160H400v160ZM180-400h160v-160H180v160Zm440 0h160v-160H620v160ZM180-180h160v-160H180v160Zm440 0h160v-160H620v160Z\"/>\n",
              "  </svg>\n",
              "    </button>\n",
              "\n",
              "  <style>\n",
              "    .colab-df-container {\n",
              "      display:flex;\n",
              "      gap: 12px;\n",
              "    }\n",
              "\n",
              "    .colab-df-convert {\n",
              "      background-color: #E8F0FE;\n",
              "      border: none;\n",
              "      border-radius: 50%;\n",
              "      cursor: pointer;\n",
              "      display: none;\n",
              "      fill: #1967D2;\n",
              "      height: 32px;\n",
              "      padding: 0 0 0 0;\n",
              "      width: 32px;\n",
              "    }\n",
              "\n",
              "    .colab-df-convert:hover {\n",
              "      background-color: #E2EBFA;\n",
              "      box-shadow: 0px 1px 2px rgba(60, 64, 67, 0.3), 0px 1px 3px 1px rgba(60, 64, 67, 0.15);\n",
              "      fill: #174EA6;\n",
              "    }\n",
              "\n",
              "    .colab-df-buttons div {\n",
              "      margin-bottom: 4px;\n",
              "    }\n",
              "\n",
              "    [theme=dark] .colab-df-convert {\n",
              "      background-color: #3B4455;\n",
              "      fill: #D2E3FC;\n",
              "    }\n",
              "\n",
              "    [theme=dark] .colab-df-convert:hover {\n",
              "      background-color: #434B5C;\n",
              "      box-shadow: 0px 1px 3px 1px rgba(0, 0, 0, 0.15);\n",
              "      filter: drop-shadow(0px 1px 2px rgba(0, 0, 0, 0.3));\n",
              "      fill: #FFFFFF;\n",
              "    }\n",
              "  </style>\n",
              "\n",
              "    <script>\n",
              "      const buttonEl =\n",
              "        document.querySelector('#df-0f228033-afbe-400f-831a-999bdbb4639e button.colab-df-convert');\n",
              "      buttonEl.style.display =\n",
              "        google.colab.kernel.accessAllowed ? 'block' : 'none';\n",
              "\n",
              "      async function convertToInteractive(key) {\n",
              "        const element = document.querySelector('#df-0f228033-afbe-400f-831a-999bdbb4639e');\n",
              "        const dataTable =\n",
              "          await google.colab.kernel.invokeFunction('convertToInteractive',\n",
              "                                                    [key], {});\n",
              "        if (!dataTable) return;\n",
              "\n",
              "        const docLinkHtml = 'Like what you see? Visit the ' +\n",
              "          '<a target=\"_blank\" href=https://colab.research.google.com/notebooks/data_table.ipynb>data table notebook</a>'\n",
              "          + ' to learn more about interactive tables.';\n",
              "        element.innerHTML = '';\n",
              "        dataTable['output_type'] = 'display_data';\n",
              "        await google.colab.output.renderOutput(dataTable, element);\n",
              "        const docLink = document.createElement('div');\n",
              "        docLink.innerHTML = docLinkHtml;\n",
              "        element.appendChild(docLink);\n",
              "      }\n",
              "    </script>\n",
              "  </div>\n",
              "\n",
              "\n",
              "<div id=\"df-37ed2094-4dd3-4ca4-a4b7-fa316d981e8d\">\n",
              "  <button class=\"colab-df-quickchart\" onclick=\"quickchart('df-37ed2094-4dd3-4ca4-a4b7-fa316d981e8d')\"\n",
              "            title=\"Suggest charts\"\n",
              "            style=\"display:none;\">\n",
              "\n",
              "<svg xmlns=\"http://www.w3.org/2000/svg\" height=\"24px\"viewBox=\"0 0 24 24\"\n",
              "     width=\"24px\">\n",
              "    <g>\n",
              "        <path d=\"M19 3H5c-1.1 0-2 .9-2 2v14c0 1.1.9 2 2 2h14c1.1 0 2-.9 2-2V5c0-1.1-.9-2-2-2zM9 17H7v-7h2v7zm4 0h-2V7h2v10zm4 0h-2v-4h2v4z\"/>\n",
              "    </g>\n",
              "</svg>\n",
              "  </button>\n",
              "\n",
              "<style>\n",
              "  .colab-df-quickchart {\n",
              "      --bg-color: #E8F0FE;\n",
              "      --fill-color: #1967D2;\n",
              "      --hover-bg-color: #E2EBFA;\n",
              "      --hover-fill-color: #174EA6;\n",
              "      --disabled-fill-color: #AAA;\n",
              "      --disabled-bg-color: #DDD;\n",
              "  }\n",
              "\n",
              "  [theme=dark] .colab-df-quickchart {\n",
              "      --bg-color: #3B4455;\n",
              "      --fill-color: #D2E3FC;\n",
              "      --hover-bg-color: #434B5C;\n",
              "      --hover-fill-color: #FFFFFF;\n",
              "      --disabled-bg-color: #3B4455;\n",
              "      --disabled-fill-color: #666;\n",
              "  }\n",
              "\n",
              "  .colab-df-quickchart {\n",
              "    background-color: var(--bg-color);\n",
              "    border: none;\n",
              "    border-radius: 50%;\n",
              "    cursor: pointer;\n",
              "    display: none;\n",
              "    fill: var(--fill-color);\n",
              "    height: 32px;\n",
              "    padding: 0;\n",
              "    width: 32px;\n",
              "  }\n",
              "\n",
              "  .colab-df-quickchart:hover {\n",
              "    background-color: var(--hover-bg-color);\n",
              "    box-shadow: 0 1px 2px rgba(60, 64, 67, 0.3), 0 1px 3px 1px rgba(60, 64, 67, 0.15);\n",
              "    fill: var(--button-hover-fill-color);\n",
              "  }\n",
              "\n",
              "  .colab-df-quickchart-complete:disabled,\n",
              "  .colab-df-quickchart-complete:disabled:hover {\n",
              "    background-color: var(--disabled-bg-color);\n",
              "    fill: var(--disabled-fill-color);\n",
              "    box-shadow: none;\n",
              "  }\n",
              "\n",
              "  .colab-df-spinner {\n",
              "    border: 2px solid var(--fill-color);\n",
              "    border-color: transparent;\n",
              "    border-bottom-color: var(--fill-color);\n",
              "    animation:\n",
              "      spin 1s steps(1) infinite;\n",
              "  }\n",
              "\n",
              "  @keyframes spin {\n",
              "    0% {\n",
              "      border-color: transparent;\n",
              "      border-bottom-color: var(--fill-color);\n",
              "      border-left-color: var(--fill-color);\n",
              "    }\n",
              "    20% {\n",
              "      border-color: transparent;\n",
              "      border-left-color: var(--fill-color);\n",
              "      border-top-color: var(--fill-color);\n",
              "    }\n",
              "    30% {\n",
              "      border-color: transparent;\n",
              "      border-left-color: var(--fill-color);\n",
              "      border-top-color: var(--fill-color);\n",
              "      border-right-color: var(--fill-color);\n",
              "    }\n",
              "    40% {\n",
              "      border-color: transparent;\n",
              "      border-right-color: var(--fill-color);\n",
              "      border-top-color: var(--fill-color);\n",
              "    }\n",
              "    60% {\n",
              "      border-color: transparent;\n",
              "      border-right-color: var(--fill-color);\n",
              "    }\n",
              "    80% {\n",
              "      border-color: transparent;\n",
              "      border-right-color: var(--fill-color);\n",
              "      border-bottom-color: var(--fill-color);\n",
              "    }\n",
              "    90% {\n",
              "      border-color: transparent;\n",
              "      border-bottom-color: var(--fill-color);\n",
              "    }\n",
              "  }\n",
              "</style>\n",
              "\n",
              "  <script>\n",
              "    async function quickchart(key) {\n",
              "      const quickchartButtonEl =\n",
              "        document.querySelector('#' + key + ' button');\n",
              "      quickchartButtonEl.disabled = true;  // To prevent multiple clicks.\n",
              "      quickchartButtonEl.classList.add('colab-df-spinner');\n",
              "      try {\n",
              "        const charts = await google.colab.kernel.invokeFunction(\n",
              "            'suggestCharts', [key], {});\n",
              "      } catch (error) {\n",
              "        console.error('Error during call to suggestCharts:', error);\n",
              "      }\n",
              "      quickchartButtonEl.classList.remove('colab-df-spinner');\n",
              "      quickchartButtonEl.classList.add('colab-df-quickchart-complete');\n",
              "    }\n",
              "    (() => {\n",
              "      let quickchartButtonEl =\n",
              "        document.querySelector('#df-37ed2094-4dd3-4ca4-a4b7-fa316d981e8d button');\n",
              "      quickchartButtonEl.style.display =\n",
              "        google.colab.kernel.accessAllowed ? 'block' : 'none';\n",
              "    })();\n",
              "  </script>\n",
              "</div>\n",
              "\n",
              "    </div>\n",
              "  </div>\n"
            ],
            "application/vnd.google.colaboratory.intrinsic+json": {
              "type": "dataframe",
              "summary": "{\n  \"name\": \"df\",\n  \"rows\": 195,\n  \"fields\": [\n    {\n      \"column\": \"preds\",\n      \"properties\": {\n        \"dtype\": \"float32\",\n        \"num_unique_values\": 195,\n        \"samples\": [\n          0.04505816847085953,\n          0.6939762234687805,\n          0.041778020560741425\n        ],\n        \"semantic_type\": \"\",\n        \"description\": \"\"\n      }\n    },\n    {\n      \"column\": \"labels\",\n      \"properties\": {\n        \"dtype\": \"float32\",\n        \"num_unique_values\": 1,\n        \"samples\": [\n          0.0\n        ],\n        \"semantic_type\": \"\",\n        \"description\": \"\"\n      }\n    }\n  ]\n}"
            }
          },
          "metadata": {},
          "execution_count": 73
        }
      ]
    },
    {
      "cell_type": "code",
      "source": [
        "valid_raw.iloc[101,:]\n",
        "valid_raw.iloc[101, 1]"
      ],
      "metadata": {
        "colab": {
          "base_uri": "https://localhost:8080/",
          "height": 36
        },
        "id": "pelrSNMDGq9m",
        "outputId": "47ab932b-7c9f-4b97-d417-1448e8dd88c3"
      },
      "execution_count": null,
      "outputs": [
        {
          "output_type": "execute_result",
          "data": {
            "text/plain": [
              "'Disappointing results and wondering about returning.'"
            ],
            "application/vnd.google.colaboratory.intrinsic+json": {
              "type": "string"
            }
          },
          "metadata": {},
          "execution_count": 74
        }
      ]
    },
    {
      "cell_type": "markdown",
      "metadata": {
        "id": "DKvG-oo97_Fc"
      },
      "source": [
        "**Recap:**\n",
        "\n",
        "  * Here we have combined BERT (good at transforming raw texts into meaningful numerical vectors) and Neural Network (good at classification)\n",
        "  \n",
        "  * We can easily transfer the method to other contexts and predict and measure other constructs of interests as long as we have proper labels for the constructs.\n",
        "\n",
        "  * MTurk is a useful tool for developing the labels.  "
      ]
    },
    {
      "cell_type": "markdown",
      "metadata": {
        "id": "WxNsB4uOmutS"
      },
      "source": [
        "## Save and Load a Trained Model\n",
        "\n"
      ]
    },
    {
      "cell_type": "code",
      "metadata": {
        "id": "i5bEjhB55O1s",
        "colab": {
          "base_uri": "https://localhost:8080/",
          "height": 356
        },
        "outputId": "12d90598-059b-4699-9a21-7804dccdb289"
      },
      "source": [
        "# check the tutorial here:\n",
        "# https://stackoverflow.com/questions/42703500/best-way-to-save-a-trained-model-in-pytorch\n",
        "\n",
        "import os\n",
        "from google.colab import drive\n",
        "\n",
        "# Mount Google Drive\n",
        "drive.mount('/content/drive')\n",
        "# if you want to save the trained model for later evaluation (not for training)\n",
        "dir = \"/content/drive/My Drive/BSAN 6300 FINAL PROJECT MRK ANALYTICS\"\n",
        "torch.save(cls_model.state_dict(), os.path.join(dir, 'bsan6300_trained_model.pt'))"
      ],
      "execution_count": null,
      "outputs": [
        {
          "output_type": "error",
          "ename": "MessageError",
          "evalue": "Error: credential propagation was unsuccessful",
          "traceback": [
            "\u001b[0;31m---------------------------------------------------------------------------\u001b[0m",
            "\u001b[0;31mMessageError\u001b[0m                              Traceback (most recent call last)",
            "\u001b[0;32m<ipython-input-75-51f93504606e>\u001b[0m in \u001b[0;36m<cell line: 8>\u001b[0;34m()\u001b[0m\n\u001b[1;32m      6\u001b[0m \u001b[0;34m\u001b[0m\u001b[0m\n\u001b[1;32m      7\u001b[0m \u001b[0;31m# Mount Google Drive\u001b[0m\u001b[0;34m\u001b[0m\u001b[0;34m\u001b[0m\u001b[0m\n\u001b[0;32m----> 8\u001b[0;31m \u001b[0mdrive\u001b[0m\u001b[0;34m.\u001b[0m\u001b[0mmount\u001b[0m\u001b[0;34m(\u001b[0m\u001b[0;34m'/content/drive'\u001b[0m\u001b[0;34m)\u001b[0m\u001b[0;34m\u001b[0m\u001b[0;34m\u001b[0m\u001b[0m\n\u001b[0m\u001b[1;32m      9\u001b[0m \u001b[0;31m# if you want to save the trained model for later evaluation (not for training)\u001b[0m\u001b[0;34m\u001b[0m\u001b[0;34m\u001b[0m\u001b[0m\n\u001b[1;32m     10\u001b[0m \u001b[0mdir\u001b[0m \u001b[0;34m=\u001b[0m \u001b[0;34m\"/content/drive/My Drive/BSAN 6300 FINAL PROJECT MRK ANALYTICS\"\u001b[0m\u001b[0;34m\u001b[0m\u001b[0;34m\u001b[0m\u001b[0m\n",
            "\u001b[0;32m/usr/local/lib/python3.10/dist-packages/google/colab/drive.py\u001b[0m in \u001b[0;36mmount\u001b[0;34m(mountpoint, force_remount, timeout_ms, readonly)\u001b[0m\n\u001b[1;32m     98\u001b[0m \u001b[0;32mdef\u001b[0m \u001b[0mmount\u001b[0m\u001b[0;34m(\u001b[0m\u001b[0mmountpoint\u001b[0m\u001b[0;34m,\u001b[0m \u001b[0mforce_remount\u001b[0m\u001b[0;34m=\u001b[0m\u001b[0;32mFalse\u001b[0m\u001b[0;34m,\u001b[0m \u001b[0mtimeout_ms\u001b[0m\u001b[0;34m=\u001b[0m\u001b[0;36m120000\u001b[0m\u001b[0;34m,\u001b[0m \u001b[0mreadonly\u001b[0m\u001b[0;34m=\u001b[0m\u001b[0;32mFalse\u001b[0m\u001b[0;34m)\u001b[0m\u001b[0;34m:\u001b[0m\u001b[0;34m\u001b[0m\u001b[0;34m\u001b[0m\u001b[0m\n\u001b[1;32m     99\u001b[0m   \u001b[0;34m\"\"\"Mount your Google Drive at the specified mountpoint path.\"\"\"\u001b[0m\u001b[0;34m\u001b[0m\u001b[0;34m\u001b[0m\u001b[0m\n\u001b[0;32m--> 100\u001b[0;31m   return _mount(\n\u001b[0m\u001b[1;32m    101\u001b[0m       \u001b[0mmountpoint\u001b[0m\u001b[0;34m,\u001b[0m\u001b[0;34m\u001b[0m\u001b[0;34m\u001b[0m\u001b[0m\n\u001b[1;32m    102\u001b[0m       \u001b[0mforce_remount\u001b[0m\u001b[0;34m=\u001b[0m\u001b[0mforce_remount\u001b[0m\u001b[0;34m,\u001b[0m\u001b[0;34m\u001b[0m\u001b[0;34m\u001b[0m\u001b[0m\n",
            "\u001b[0;32m/usr/local/lib/python3.10/dist-packages/google/colab/drive.py\u001b[0m in \u001b[0;36m_mount\u001b[0;34m(mountpoint, force_remount, timeout_ms, ephemeral, readonly)\u001b[0m\n\u001b[1;32m    131\u001b[0m   )\n\u001b[1;32m    132\u001b[0m   \u001b[0;32mif\u001b[0m \u001b[0mephemeral\u001b[0m\u001b[0;34m:\u001b[0m\u001b[0;34m\u001b[0m\u001b[0;34m\u001b[0m\u001b[0m\n\u001b[0;32m--> 133\u001b[0;31m     _message.blocking_request(\n\u001b[0m\u001b[1;32m    134\u001b[0m         \u001b[0;34m'request_auth'\u001b[0m\u001b[0;34m,\u001b[0m \u001b[0mrequest\u001b[0m\u001b[0;34m=\u001b[0m\u001b[0;34m{\u001b[0m\u001b[0;34m'authType'\u001b[0m\u001b[0;34m:\u001b[0m \u001b[0;34m'dfs_ephemeral'\u001b[0m\u001b[0;34m}\u001b[0m\u001b[0;34m,\u001b[0m \u001b[0mtimeout_sec\u001b[0m\u001b[0;34m=\u001b[0m\u001b[0;32mNone\u001b[0m\u001b[0;34m\u001b[0m\u001b[0;34m\u001b[0m\u001b[0m\n\u001b[1;32m    135\u001b[0m     )\n",
            "\u001b[0;32m/usr/local/lib/python3.10/dist-packages/google/colab/_message.py\u001b[0m in \u001b[0;36mblocking_request\u001b[0;34m(request_type, request, timeout_sec, parent)\u001b[0m\n\u001b[1;32m    174\u001b[0m       \u001b[0mrequest_type\u001b[0m\u001b[0;34m,\u001b[0m \u001b[0mrequest\u001b[0m\u001b[0;34m,\u001b[0m \u001b[0mparent\u001b[0m\u001b[0;34m=\u001b[0m\u001b[0mparent\u001b[0m\u001b[0;34m,\u001b[0m \u001b[0mexpect_reply\u001b[0m\u001b[0;34m=\u001b[0m\u001b[0;32mTrue\u001b[0m\u001b[0;34m\u001b[0m\u001b[0;34m\u001b[0m\u001b[0m\n\u001b[1;32m    175\u001b[0m   )\n\u001b[0;32m--> 176\u001b[0;31m   \u001b[0;32mreturn\u001b[0m \u001b[0mread_reply_from_input\u001b[0m\u001b[0;34m(\u001b[0m\u001b[0mrequest_id\u001b[0m\u001b[0;34m,\u001b[0m \u001b[0mtimeout_sec\u001b[0m\u001b[0;34m)\u001b[0m\u001b[0;34m\u001b[0m\u001b[0;34m\u001b[0m\u001b[0m\n\u001b[0m",
            "\u001b[0;32m/usr/local/lib/python3.10/dist-packages/google/colab/_message.py\u001b[0m in \u001b[0;36mread_reply_from_input\u001b[0;34m(message_id, timeout_sec)\u001b[0m\n\u001b[1;32m    101\u001b[0m     ):\n\u001b[1;32m    102\u001b[0m       \u001b[0;32mif\u001b[0m \u001b[0;34m'error'\u001b[0m \u001b[0;32min\u001b[0m \u001b[0mreply\u001b[0m\u001b[0;34m:\u001b[0m\u001b[0;34m\u001b[0m\u001b[0;34m\u001b[0m\u001b[0m\n\u001b[0;32m--> 103\u001b[0;31m         \u001b[0;32mraise\u001b[0m \u001b[0mMessageError\u001b[0m\u001b[0;34m(\u001b[0m\u001b[0mreply\u001b[0m\u001b[0;34m[\u001b[0m\u001b[0;34m'error'\u001b[0m\u001b[0;34m]\u001b[0m\u001b[0;34m)\u001b[0m\u001b[0;34m\u001b[0m\u001b[0;34m\u001b[0m\u001b[0m\n\u001b[0m\u001b[1;32m    104\u001b[0m       \u001b[0;32mreturn\u001b[0m \u001b[0mreply\u001b[0m\u001b[0;34m.\u001b[0m\u001b[0mget\u001b[0m\u001b[0;34m(\u001b[0m\u001b[0;34m'data'\u001b[0m\u001b[0;34m,\u001b[0m \u001b[0;32mNone\u001b[0m\u001b[0;34m)\u001b[0m\u001b[0;34m\u001b[0m\u001b[0;34m\u001b[0m\u001b[0m\n\u001b[1;32m    105\u001b[0m \u001b[0;34m\u001b[0m\u001b[0m\n",
            "\u001b[0;31mMessageError\u001b[0m: Error: credential propagation was unsuccessful"
          ]
        }
      ]
    },
    {
      "cell_type": "code",
      "source": [
        "# later if you want to load the model and use it for evaluation (not trianing), do this:\n",
        "# the_model = TheModelClass(*args, **kwargs), in our case\n",
        "new_model = TextBERT()\n",
        "\n",
        "# and the_model.load_state_dict(torch.load(PATH)), note that path is specified above\n",
        "new_model.load_state_dict(torch.load(\"/content/drive/My Drive/BSAN 6300 FINAL PROJECT MRK ANALYTICS/bsan6300_trained_model.pt\"))"
      ],
      "metadata": {
        "id": "OeDGyTxfkeeE"
      },
      "execution_count": null,
      "outputs": []
    },
    {
      "cell_type": "markdown",
      "metadata": {
        "id": "iVgV_HNUnnsE"
      },
      "source": [
        "## BERT and Cluster Analysis (based on Yelp Review)\n",
        "\n",
        "  * Up to now we have been focusing on using BERT to generate a contextulized embedding of the raw input texts and feeding the sentence embeddings into a neural network for classification. The classification analysis helps us to check if the text has some attributes (e.g., a positive or negative review, manifiest of some constructs) and to what extent the texts have those attributes (i.e., the predicted probablity)\n",
        "\n",
        "\n",
        " * Now, let's think about another use of the contextualized sentence embedding. We can do cluster analysis on those embeddings and see if there are some patterns in it.\n",
        "\n",
        "\n",
        " * If we dong so with consumer review data, we can learn the representative reviews, keywords, opinions in each cluster, and by comparing the clusters derived from differnt locations, product categories, years, and review types. We can obtain a lot of insights!\n",
        "\n",
        "\n",
        "\n",
        "\n",
        "\n",
        "\n",
        "\n",
        "\n",
        "\n",
        "\n",
        "\n",
        "\n",
        "\n",
        "\n",
        "\n"
      ]
    },
    {
      "cell_type": "markdown",
      "source": [
        "### Get intermediate output using **hook** function in Pytorch\n"
      ],
      "metadata": {
        "id": "wFlp-ba_RQIf"
      }
    },
    {
      "cell_type": "code",
      "metadata": {
        "id": "Y1FUY3ynz6-C"
      },
      "source": [
        "# to do cluster analysis, we first need to transfer the raw text review into embeddings\n",
        "# we can leverage our trianed NN model to do so.\n",
        "# Recall thate the first layer in our NN is a BERT model, whose job is exactly this.\n",
        "# one benefit of using our traind NN rather than a commnon instance of raw BERT Model\n",
        "# is that in our trained model, the BERT layer is also updated, its parameters\n",
        "# has be trained to understand our general context (e.g., Yelp or Amazon reviews)\n",
        "# and thus can encode our text better.\n",
        "\n",
        "# then, our job is to feed the raw text into our trained NN.\n",
        "# However, the final output of  our NN is a predicted probability\n",
        "# we thus need to extract the intermediate output of the NN, i.e., the output of its first layer, the BERT layer\n",
        "# here is a built-in function in Pytorch, call hook, to do the job-- extracting a NN's intermediate output\n",
        "\n",
        "# bascially, hook is just a mark attached to a specific NN layer,\n",
        "# telling the NN to store the intermediate output for later use\n",
        "# here, we store the intermediate output in inter_out\n",
        "\n",
        "inter_output = {}\n",
        "def get_inter_output(name):\n",
        "    def hook(model, input, output):\n",
        "        inter_output[name] = output[0].detach()\n",
        "    return hook\n",
        "\n",
        "handle = cls_model.l1.register_forward_hook(get_inter_output('l1'))\n"
      ],
      "execution_count": null,
      "outputs": []
    },
    {
      "cell_type": "code",
      "source": [
        "input_ids"
      ],
      "metadata": {
        "id": "5Cuo7eCyQTwn"
      },
      "execution_count": null,
      "outputs": []
    },
    {
      "cell_type": "code",
      "metadata": {
        "id": "k-CezcTEaxRV"
      },
      "source": [
        "# run the BERT + NN model once\n",
        "cls_model(input_ids,attention_mask)"
      ],
      "execution_count": null,
      "outputs": []
    },
    {
      "cell_type": "code",
      "metadata": {
        "id": "GgZB6201sODM"
      },
      "source": [
        "# to remove the hook\n",
        "# handle.remove()"
      ],
      "execution_count": null,
      "outputs": []
    },
    {
      "cell_type": "code",
      "source": [
        "# check the intermediate output\n",
        "inter_output\n",
        "inter_output['l1']"
      ],
      "metadata": {
        "id": "AIJl2axBSCup",
        "colab": {
          "base_uri": "https://localhost:8080/"
        },
        "outputId": "bbdf48b4-2d3c-47a0-caa0-2da6d9ffe47a"
      },
      "execution_count": null,
      "outputs": [
        {
          "output_type": "execute_result",
          "data": {
            "text/plain": [
              "tensor([[[-0.5647, -0.0159,  0.0863,  ..., -0.2412,  0.8419, -0.5510],\n",
              "         [-0.0189,  0.2498,  0.0781,  ...,  0.0949,  0.8217, -0.0430],\n",
              "         [-0.6021,  0.0715,  0.5572,  ..., -0.8054,  0.4187,  0.1770],\n",
              "         [ 0.7086,  0.5160,  0.0621,  ..., -0.6149,  0.2614, -0.9406],\n",
              "         [ 0.7562,  0.1478, -0.0104,  ..., -0.1545, -0.3172, -0.3101]]],\n",
              "       device='cuda:0')"
            ]
          },
          "metadata": {},
          "execution_count": 83
        }
      ]
    },
    {
      "cell_type": "code",
      "source": [
        "inter_output['l1'].shape"
      ],
      "metadata": {
        "id": "N9jLY98fNyNo",
        "colab": {
          "base_uri": "https://localhost:8080/"
        },
        "outputId": "26fe7211-e10b-4dac-f36a-a8f896224d6b"
      },
      "execution_count": null,
      "outputs": [
        {
          "output_type": "execute_result",
          "data": {
            "text/plain": [
              "torch.Size([1, 5, 768])"
            ]
          },
          "metadata": {},
          "execution_count": 84
        }
      ]
    },
    {
      "cell_type": "code",
      "metadata": {
        "id": "wkSYOC0hvawQ",
        "colab": {
          "base_uri": "https://localhost:8080/"
        },
        "outputId": "dff76f90-4c1c-4ed6-d373-c1da0d1ff3c0"
      },
      "source": [
        " # using the mean value of CLS and raw input token as sentence embedding\n",
        " inter_output[\"l1\"][:, 0 : attention_mask.sum(), :].mean(dim = 1).shape"
      ],
      "execution_count": null,
      "outputs": [
        {
          "output_type": "execute_result",
          "data": {
            "text/plain": [
              "torch.Size([1, 768])"
            ]
          },
          "metadata": {},
          "execution_count": 85
        }
      ]
    },
    {
      "cell_type": "code",
      "metadata": {
        "id": "YaQPZ0Y1EpCb"
      },
      "source": [
        "# first, let's convert the raw review texts into contextualized numerical embeddings\n",
        "# using encode_plus and BERT model\n",
        "\n",
        "def text_to_embedding(index, dataset, max_len):\n",
        "  # argument input: is the index to locate a specific text reivew\n",
        "  # argument dataset: is the dataset that containing text reviews\n",
        "  # argument max_len: is the max length of each review, for padding or truncating\n",
        "\n",
        "  # extract the review text column in the dataset\n",
        "  # per my experience, extract a column and then using pd.iloc[index] on the column\n",
        "  # experience less bugs than pd.loc[index, 'column name']\n",
        "  reviews = dataset.text\n",
        "\n",
        "  # get the text review\n",
        "  text = reviews.iloc[index]\n",
        "  # transfer the text reivew into input_ids and attentino_mask that are required for BERT model\n",
        "  encoded_text = tokenizer.encode_plus(\n",
        "      text,\n",
        "      max_length = max_len,\n",
        "      # note that in some versions of transformer in you local machine, the code is\n",
        "      # pad_to_max_length = True,\n",
        "      # truncation_strategy = 'longest_first',\n",
        "      # we might need to change the argument name a little to fit different version of transformers\n",
        "      padding = \"max_length\",\n",
        "      truncation = \"longest_first\",\n",
        "      add_special_tokens = True,\n",
        "      return_tensors = \"pt\"\n",
        "  )\n",
        "  # make the input_ids and attention_mask into torch tensors,\n",
        "  # which will make the late use of BERT Model easier\n",
        "  # note that we use to(device) to deliever the data to GPU,\n",
        "  # so that they can be used in model_yelp, which is alread in GPU\n",
        "  input_ids = torch.tensor(encoded_text['input_ids'], dtype = torch.long).to(device)\n",
        "  attention_mask = torch.tensor(encoded_text['attention_mask'], dtype = torch.long).to(device)\n",
        "\n",
        "  # transfer the input_ids and attention_mask into sentence embeddings by\n",
        "  # putting them into our trained NN model: mddel_yelp\n",
        "  cls_model(input_ids, attention_mask)\n",
        "\n",
        "\n",
        "  text_embedding = inter_output[\"l1\"][:, 0 : attention_mask.sum(), :].mean(dim = 1)\n",
        "  # again, we can choose to use differnt outputs from the BERT Model as the embeddings of the sentence/review\n",
        "  # here, we use the mean value of non-padded tokens from the last self-attention layer of BERT\n",
        "\n",
        "  return text_embedding\n",
        "\n"
      ],
      "execution_count": null,
      "outputs": []
    },
    {
      "cell_type": "code",
      "metadata": {
        "id": "UGFM-wq2KWYM",
        "colab": {
          "base_uri": "https://localhost:8080/"
        },
        "outputId": "cb211663-0f7f-4d92-fa93-8fe29eed873a"
      },
      "source": [
        "# test the function, focusing on the output of its shape\n",
        "text_to_embedding(32, valid_raw, 128).shape\n"
      ],
      "execution_count": null,
      "outputs": [
        {
          "output_type": "stream",
          "name": "stderr",
          "text": [
            "<ipython-input-86-db209c7d36c0>:33: UserWarning: To copy construct from a tensor, it is recommended to use sourceTensor.clone().detach() or sourceTensor.clone().detach().requires_grad_(True), rather than torch.tensor(sourceTensor).\n",
            "  input_ids = torch.tensor(encoded_text['input_ids'], dtype = torch.long).to(device)\n",
            "<ipython-input-86-db209c7d36c0>:34: UserWarning: To copy construct from a tensor, it is recommended to use sourceTensor.clone().detach() or sourceTensor.clone().detach().requires_grad_(True), rather than torch.tensor(sourceTensor).\n",
            "  attention_mask = torch.tensor(encoded_text['attention_mask'], dtype = torch.long).to(device)\n"
          ]
        },
        {
          "output_type": "execute_result",
          "data": {
            "text/plain": [
              "torch.Size([1, 768])"
            ]
          },
          "metadata": {},
          "execution_count": 87
        }
      ]
    },
    {
      "cell_type": "markdown",
      "source": [
        "### Get intermediate output using layer\n",
        "\n",
        "\n",
        "\n"
      ],
      "metadata": {
        "id": "ynesgxaeSy9L"
      }
    },
    {
      "cell_type": "markdown",
      "source": [
        "Indeed, we can directly use the trained BERT model (the first layer of cls_model: cls_model.l1) to get the embedding"
      ],
      "metadata": {
        "id": "Z58mUupbTT_q"
      }
    },
    {
      "cell_type": "code",
      "source": [
        "# check if the inter_output from hook is same as the cls_model.l1\n",
        "inter_output['l1'][:,0,:]==cls_model.l1(input_ids, attention_mask).last_hidden_state[:,0,:]"
      ],
      "metadata": {
        "id": "flu4dC2WPZQk",
        "colab": {
          "base_uri": "https://localhost:8080/"
        },
        "outputId": "88a3a918-4045-49a2-a984-aaf335ae0bfa"
      },
      "execution_count": null,
      "outputs": [
        {
          "output_type": "execute_result",
          "data": {
            "text/plain": [
              "tensor([[False, False, False, False, False, False, False, False, False, False,\n",
              "         False, False, False, False, False, False, False, False, False, False,\n",
              "         False, False, False, False, False, False, False, False, False, False,\n",
              "         False, False, False, False, False, False, False, False, False, False,\n",
              "         False, False, False, False, False, False, False, False, False, False,\n",
              "         False, False, False, False, False, False, False, False, False, False,\n",
              "         False, False, False, False, False, False, False, False, False, False,\n",
              "         False, False, False, False, False, False, False, False, False, False,\n",
              "         False, False, False, False, False, False, False, False, False, False,\n",
              "         False, False, False, False, False, False, False, False, False, False,\n",
              "         False, False, False, False, False, False, False, False, False, False,\n",
              "         False, False, False, False, False, False, False, False, False, False,\n",
              "         False, False, False, False, False, False, False, False, False, False,\n",
              "         False, False, False, False, False, False, False, False, False, False,\n",
              "         False, False, False, False, False, False, False, False, False, False,\n",
              "         False, False, False, False, False, False, False, False, False, False,\n",
              "         False, False, False, False, False, False, False, False, False, False,\n",
              "         False, False, False, False, False, False, False, False, False, False,\n",
              "         False, False, False, False, False, False, False, False, False, False,\n",
              "         False, False, False, False, False, False, False, False, False, False,\n",
              "         False, False, False, False, False, False, False, False, False, False,\n",
              "         False, False, False, False, False, False, False, False, False, False,\n",
              "         False, False, False, False, False, False, False, False, False, False,\n",
              "         False, False, False, False, False, False, False, False, False, False,\n",
              "         False, False, False, False, False, False, False, False, False, False,\n",
              "         False, False, False, False, False, False, False, False, False, False,\n",
              "         False, False, False, False, False, False, False, False, False, False,\n",
              "         False, False, False, False, False, False, False, False, False, False,\n",
              "         False, False, False, False, False, False, False, False, False, False,\n",
              "         False, False, False, False, False, False, False, False, False, False,\n",
              "         False, False, False, False, False, False, False, False, False, False,\n",
              "         False, False, False, False, False, False, False, False, False, False,\n",
              "         False, False, False, False, False, False, False, False, False, False,\n",
              "         False, False, False, False, False, False, False, False, False, False,\n",
              "         False, False, False, False, False, False, False, False, False, False,\n",
              "         False, False, False, False, False, False, False, False, False, False,\n",
              "         False, False, False, False, False, False, False, False, False, False,\n",
              "         False, False, False, False, False, False, False, False, False, False,\n",
              "         False, False, False, False, False, False, False, False, False, False,\n",
              "         False, False, False, False, False, False, False, False, False, False,\n",
              "         False, False, False, False, False, False, False, False, False, False,\n",
              "         False, False, False, False, False, False, False, False, False, False,\n",
              "         False, False, False, False, False, False, False, False, False, False,\n",
              "         False, False, False, False, False, False, False, False, False, False,\n",
              "         False, False, False, False, False, False, False, False, False, False,\n",
              "         False, False, False, False, False, False, False, False, False, False,\n",
              "         False, False, False, False, False, False, False, False, False, False,\n",
              "         False, False, False, False, False, False, False, False, False, False,\n",
              "         False, False, False, False, False, False, False, False, False, False,\n",
              "         False, False, False, False, False, False, False, False, False, False,\n",
              "         False, False, False, False, False, False, False, False, False, False,\n",
              "         False, False, False, False, False, False, False, False, False, False,\n",
              "         False, False, False, False, False, False, False, False, False, False,\n",
              "         False, False, False, False, False, False, False, False, False, False,\n",
              "         False, False, False, False, False, False, False, False, False, False,\n",
              "         False, False, False, False, False, False, False, False, False, False,\n",
              "         False, False, False, False, False, False, False, False, False, False,\n",
              "         False, False, False, False, False, False, False, False, False, False,\n",
              "         False, False, False, False, False, False, False, False, False, False,\n",
              "         False, False, False, False, False, False, False, False, False, False,\n",
              "         False, False, False, False, False, False, False, False, False, False,\n",
              "         False, False, False, False, False, False, False, False, False, False,\n",
              "         False, False, False, False, False, False, False, False, False, False,\n",
              "         False, False, False, False, False, False, False, False, False, False,\n",
              "         False, False, False, False, False, False, False, False, False, False,\n",
              "         False, False, False, False, False, False, False, False, False, False,\n",
              "         False, False, False, False, False, False, False, False, False, False,\n",
              "         False, False, False, False, False, False, False, False, False, False,\n",
              "         False, False, False, False, False, False, False, False, False, False,\n",
              "         False, False, False, False, False, False, False, False, False, False,\n",
              "         False, False, False, False, False, False, False, False, False, False,\n",
              "         False, False, False, False, False, False, False, False, False, False,\n",
              "         False, False, False, False, False, False, False, False, False, False,\n",
              "         False, False, False, False, False, False, False, False, False, False,\n",
              "         False, False, False, False, False, False, False, False, False, False,\n",
              "         False, False, False, False, False, False, False, False, False, False,\n",
              "         False, False, False, False, False, False, False, False]],\n",
              "       device='cuda:0')"
            ]
          },
          "metadata": {},
          "execution_count": 88
        }
      ]
    },
    {
      "cell_type": "code",
      "source": [
        "# or if we want to use CLS embedding as the sentence embedding (note that CLS has gone through a tanh activation layer)\n",
        "cls_model.l1(input_ids, attention_mask).pooler_output"
      ],
      "metadata": {
        "id": "TBX6ig_QPKCn",
        "colab": {
          "base_uri": "https://localhost:8080/"
        },
        "outputId": "bf15632a-52ef-46f0-d866-166af6ed3601"
      },
      "execution_count": null,
      "outputs": [
        {
          "output_type": "execute_result",
          "data": {
            "text/plain": [
              "tensor([[-2.7581e-01, -5.6584e-01, -9.9333e-01,  7.4577e-01,  9.6381e-01,\n",
              "         -6.2359e-01,  5.7958e-01,  3.4869e-01, -9.9203e-01, -8.9146e-01,\n",
              "         -8.9957e-01,  9.9726e-01,  2.0474e-01,  8.3727e-01,  1.5194e-02,\n",
              "         -8.4560e-01, -9.3185e-01, -3.7058e-01,  1.7876e-01,  2.9711e-01,\n",
              "          4.9735e-01,  1.0000e+00, -8.1322e-01,  4.2335e-01,  5.1860e-01,\n",
              "          9.9973e-01, -8.2738e-01,  1.0553e-01,  4.7654e-01,  3.3202e-01,\n",
              "         -4.3964e-01,  2.7635e-01, -7.9561e-01, -1.0150e-01, -9.9822e-01,\n",
              "         -6.6932e-01,  5.7844e-01,  1.3165e-01, -2.3700e-01,  1.1103e-01,\n",
              "         -2.5756e-01,  1.2236e-01,  9.9753e-01,  7.3402e-01,  7.5034e-01,\n",
              "         -1.2996e-01, -1.0000e+00,  3.8263e-01, -2.8952e-02,  9.8431e-01,\n",
              "          9.9080e-01,  9.9463e-01,  2.8021e-01,  4.3581e-01,  4.7609e-01,\n",
              "         -9.5816e-01,  3.8212e-01,  3.0217e-01, -2.0805e-01, -4.4128e-01,\n",
              "         -4.3149e-01,  5.4541e-01, -9.9590e-01, -1.9801e-01,  9.9941e-01,\n",
              "          9.6266e-01, -3.8306e-01, -3.0555e-01,  1.5667e-01, -7.9609e-02,\n",
              "          5.0639e-01,  1.2483e-01,  3.0851e-01, -3.9404e-01,  9.7132e-01,\n",
              "          3.6945e-01, -4.4888e-01,  1.0000e+00, -7.1195e-01, -7.4886e-01,\n",
              "          9.8638e-01,  9.4940e-01,  4.1755e-01, -9.0968e-01,  8.1602e-01,\n",
              "         -1.0000e+00,  6.0346e-01, -3.6927e-01, -7.0018e-01,  1.7996e-01,\n",
              "          7.8923e-01, -1.4992e-01,  8.8226e-01,  3.7846e-01, -7.9343e-01,\n",
              "         -8.2381e-01, -4.1505e-02, -9.9113e-01, -5.4800e-01, -8.3475e-01,\n",
              "          2.4526e-01, -3.3863e-01, -5.2480e-01, -2.6120e-01,  5.2032e-01,\n",
              "         -4.7725e-01, -2.9478e-01,  1.8210e-01,  8.8687e-01,  5.3722e-01,\n",
              "          1.3086e-01, -4.7750e-01,  6.1104e-01, -3.9785e-01,  5.5011e-01,\n",
              "         -2.2009e-01, -5.3642e-01, -2.8496e-01, -7.2519e-01,  5.4377e-01,\n",
              "         -9.2366e-01, -4.3513e-01, -1.8779e-02, -8.8506e-01,  4.4815e-01,\n",
              "         -4.6918e-02, -9.9769e-01, -1.0000e+00, -9.6052e-01, -9.2322e-01,\n",
              "         -4.0049e-01, -1.9022e-01, -5.9164e-01, -5.3704e-01,  1.6351e-01,\n",
              "          2.3115e-01, -3.6234e-02,  9.9142e-01, -2.4889e-01,  4.0406e-01,\n",
              "         -8.6244e-01, -9.5027e-01,  9.8104e-01, -2.9176e-01,  9.7296e-01,\n",
              "          1.0429e-01, -3.9795e-01,  3.5491e-01, -8.7041e-01,  6.9030e-01,\n",
              "         -9.1927e-01, -6.6990e-02, -9.8551e-01, -3.2343e-01,  1.1291e-01,\n",
              "          2.8782e-01, -9.7933e-01, -9.9378e-01, -9.1193e-01, -3.7971e-01,\n",
              "         -6.1725e-01, -1.6232e-01,  9.8398e-01,  2.5181e-01, -8.7808e-01,\n",
              "          9.9957e-02,  6.8727e-01,  2.3596e-01,  1.6343e-01, -7.3492e-01,\n",
              "          2.1731e-01, -2.7659e-01, -9.8063e-01, -6.5257e-01, -3.0855e-01,\n",
              "         -1.4626e-01,  5.1387e-01,  1.9626e-01,  3.4587e-01,  9.3498e-01,\n",
              "         -3.2183e-01,  9.1959e-01, -6.5924e-01,  5.5014e-01, -2.6197e-01,\n",
              "          1.6611e-01, -9.5304e-01,  5.0595e-01, -2.0693e-01,  6.1600e-01,\n",
              "          3.9455e-01, -9.4735e-01,  3.2846e-01, -2.7764e-01, -2.9722e-01,\n",
              "         -3.3226e-01, -9.9586e-01,  5.9809e-03, -4.4732e-01, -1.6824e-01,\n",
              "         -7.6033e-02,  3.9039e-01,  8.3210e-01,  1.0617e-01,  9.6830e-01,\n",
              "          8.0516e-01, -1.8755e-01, -4.2063e-01,  2.1721e-01,  2.6772e-01,\n",
              "          4.1848e-01,  6.0055e-01, -9.1653e-01, -2.1210e-01, -5.1187e-01,\n",
              "         -7.7622e-01,  1.0224e-02, -5.9279e-01, -5.1011e-01, -3.6640e-01,\n",
              "          8.1300e-01, -9.5167e-01,  7.9982e-01,  3.4274e-01, -4.9031e-01,\n",
              "         -1.9716e-01,  5.9260e-01, -4.1070e-01,  3.2287e-01, -1.3587e-01,\n",
              "          9.5708e-01,  9.9743e-01, -6.6499e-01,  3.0564e-01,  7.1406e-01,\n",
              "         -9.9831e-01, -5.8225e-01,  4.9249e-01, -5.9892e-01,  3.7962e-01,\n",
              "         -4.3623e-01,  1.0757e-01,  9.9494e-01,  9.1901e-01, -6.8274e-02,\n",
              "         -9.7108e-01,  1.1294e-01, -8.7209e-01, -4.9689e-01,  5.0819e-01,\n",
              "          9.8257e-01,  1.8279e-01,  4.8438e-01, -4.4046e-01, -4.2400e-01,\n",
              "          8.6184e-01, -9.9193e-01, -6.2574e-01, -9.8369e-01, -4.7341e-01,\n",
              "         -6.0560e-01,  9.9458e-01,  3.8674e-01,  9.9010e-01, -4.1533e-01,\n",
              "         -6.4162e-01, -6.2475e-01,  6.5642e-01,  2.6459e-01, -1.3499e-01,\n",
              "         -8.5545e-01, -5.4326e-01, -9.1532e-01, -5.4492e-01,  2.3785e-01,\n",
              "         -3.6594e-01, -9.5047e-01,  8.9904e-02, -2.0042e-01,  4.4804e-01,\n",
              "          1.1012e-01,  2.6352e-01, -9.7345e-01,  9.6474e-01,  1.0000e+00,\n",
              "          5.3654e-01,  2.5981e-01, -3.7096e-01, -9.9999e-01, -9.6309e-01,\n",
              "          9.1258e-01, -9.9973e-01, -1.0000e+00,  3.4825e-02, -9.2467e-01,\n",
              "          7.2373e-02, -1.0000e+00, -2.6042e-01, -1.1794e-01, -3.8732e-01,\n",
              "          9.5470e-01,  9.4508e-02,  6.6233e-01, -1.0000e+00, -5.3814e-01,\n",
              "          5.5903e-02, -3.6497e-01,  9.9913e-01, -8.2459e-01,  3.1011e-01,\n",
              "          4.6703e-01,  6.7402e-01, -1.1961e-01,  3.4512e-01, -9.9573e-01,\n",
              "         -7.0010e-01, -9.7350e-01, -9.9363e-01,  9.9996e-01,  3.6610e-01,\n",
              "         -7.3059e-01, -8.4508e-03,  9.5155e-01, -1.5598e-02,  6.0606e-01,\n",
              "         -4.4370e-01, -2.1258e-01,  9.5002e-01,  9.3187e-01,  2.8928e-01,\n",
              "          1.1537e-01, -8.7548e-02,  3.5029e-01,  8.5344e-01, -5.2449e-01,\n",
              "          4.9090e-01,  3.3577e-01,  1.5838e-01, -8.3344e-01,  5.8786e-01,\n",
              "         -9.3351e-01, -6.6153e-01,  5.0412e-01, -4.7621e-01,  9.9724e-01,\n",
              "          1.0000e+00,  9.2679e-01,  1.4649e-01,  9.6922e-01,  6.5337e-01,\n",
              "         -7.5365e-01,  1.0000e+00,  9.6478e-01, -3.8434e-01, -2.8265e-01,\n",
              "          8.3596e-01, -7.5190e-01, -8.0699e-01,  6.3883e-01, -2.8450e-01,\n",
              "         -9.8694e-01, -9.7640e-01,  8.1706e-01, -6.9103e-01,  9.9981e-01,\n",
              "          3.0959e-01, -6.8614e-01,  3.8506e-01,  5.0256e-01, -9.8916e-01,\n",
              "          2.4367e-01,  4.0807e-01, -6.7139e-01,  4.3161e-01,  2.6961e-02,\n",
              "          9.0338e-01,  5.9157e-01, -1.8523e-01,  5.5214e-01, -2.3609e-01,\n",
              "         -3.1688e-01,  2.3935e-01, -9.8969e-01, -6.8681e-01,  9.9691e-01,\n",
              "          2.2320e-01,  7.8244e-04,  7.4180e-02, -3.0657e-01, -9.3015e-01,\n",
              "         -4.6022e-01,  9.4602e-01,  1.0000e+00, -6.9682e-01,  9.9775e-01,\n",
              "         -5.2697e-01, -6.2938e-02,  5.0167e-01,  4.7065e-01,  5.6463e-01,\n",
              "         -3.1507e-01,  1.2703e-01,  9.7744e-01, -8.3099e-01, -7.9649e-01,\n",
              "          1.3993e-01,  2.0326e-01, -1.2484e-01,  9.9990e-01,  7.0327e-01,\n",
              "          2.6756e-01,  8.0118e-01,  9.9953e-01,  2.1940e-01, -1.7197e-01,\n",
              "          9.9474e-01,  6.6496e-01, -3.7625e-01,  3.6468e-01,  2.0836e-01,\n",
              "         -9.9545e-01, -2.8971e-01, -2.3191e-01,  2.2915e-01, -7.1577e-01,\n",
              "         -7.3605e-02, -4.1482e-01,  5.2916e-01,  9.9791e-01,  2.5390e-01,\n",
              "          3.5193e-01,  9.9171e-01,  1.0000e+00, -9.9069e-01,  6.8906e-01,\n",
              "         -3.8895e-01,  6.5758e-01, -9.9999e-01,  3.7883e-01, -4.2152e-01,\n",
              "         -3.3355e-01, -9.8531e-01, -4.2595e-01,  9.9641e-02, -2.6888e-01,\n",
              "          9.8318e-01,  9.4189e-01, -8.7587e-01, -5.6607e-01, -8.1987e-01,\n",
              "          8.4827e-01,  1.4417e-01, -9.9938e-01, -5.4962e-01,  7.5811e-02,\n",
              "          9.1709e-01, -3.0270e-01, -4.6741e-01, -9.2736e-01, -5.3124e-01,\n",
              "          2.7916e-01, -2.9641e-01,  2.5680e-01,  9.8274e-01, -1.1321e-01,\n",
              "         -9.9013e-01, -9.4846e-01, -2.3046e-01, -6.1246e-01,  7.0920e-01,\n",
              "          2.8883e-02, -9.9681e-01, -2.3053e-01,  1.0000e+00, -7.5326e-01,\n",
              "          9.7858e-01, -2.6614e-01,  5.8707e-01, -3.3114e-01,  1.7621e-01,\n",
              "          9.9125e-01,  4.9698e-01, -8.8046e-01, -9.9766e-01, -3.7945e-01,\n",
              "         -4.9860e-01,  4.1370e-01,  9.9757e-01,  8.6839e-01,  2.9172e-01,\n",
              "          9.6532e-01,  6.0032e-01, -1.6189e-01,  7.7595e-02,  9.5064e-01,\n",
              "         -2.6685e-01, -2.8717e-01, -4.0736e-01, -1.2684e-01, -4.2513e-01,\n",
              "          1.9382e-02,  1.0000e+00,  3.4732e-01,  9.4694e-01, -7.2804e-01,\n",
              "         -9.9615e-01,  2.1774e-01,  1.0000e+00,  5.4674e-01,  1.8008e-01,\n",
              "          8.1590e-01,  9.1053e-01, -3.8188e-01,  6.8885e-01, -2.3617e-01,\n",
              "         -9.2420e-02,  4.9968e-01,  5.2242e-02,  3.7994e-01, -7.5221e-01,\n",
              "         -6.9976e-01, -3.2719e-01,  5.2489e-01, -6.6980e-01,  1.0000e+00,\n",
              "         -5.1302e-01, -3.1775e-01, -4.2798e-01, -8.5140e-01, -5.8804e-01,\n",
              "          4.0103e-01, -5.0709e-01, -1.4406e-01,  6.6536e-01,  4.6901e-01,\n",
              "          1.0048e-01, -4.2985e-01,  3.0060e-01,  9.9308e-01,  9.8307e-01,\n",
              "         -9.9456e-01, -6.1340e-01,  5.5381e-01, -1.8137e-01,  9.0417e-01,\n",
              "          1.0000e+00,  4.5577e-01,  9.3625e-01,  5.0917e-01, -4.8213e-01,\n",
              "          4.2784e-01, -9.5484e-01,  5.3518e-01, -4.8376e-01, -6.3874e-01,\n",
              "         -1.9139e-01,  3.3383e-01, -1.2811e-01, -9.8222e-01,  4.1506e-03,\n",
              "          3.3721e-01, -4.2760e-01, -2.8981e-01, -2.8631e-01,  4.9284e-01,\n",
              "          7.7221e-01, -1.2148e-01, -5.0582e-01,  3.3731e-01, -6.1840e-02,\n",
              "         -3.3157e-01, -6.0551e-01, -3.4534e-01, -1.0000e+00,  2.9734e-01,\n",
              "         -1.0000e+00,  9.5575e-01,  8.2045e-01, -1.5847e-01,  2.9061e-01,\n",
              "          9.1689e-01,  9.5047e-01, -1.1546e-01, -9.9215e-01, -8.2412e-01,\n",
              "          3.3621e-01, -5.3687e-01, -9.4710e-01,  1.6749e-01,  5.4314e-01,\n",
              "         -4.3890e-01,  3.8889e-01, -9.5328e-01,  4.4498e-01, -1.3105e-01,\n",
              "          1.0000e+00,  3.1599e-01, -7.5712e-01, -7.1137e-01,  1.9444e-01,\n",
              "         -4.6865e-01,  1.0000e+00, -5.3514e-01, -4.2464e-01,  1.3562e-01,\n",
              "         -8.5074e-01, -2.0554e-01,  4.6603e-01,  5.0661e-01, -8.0750e-01,\n",
              "         -9.9848e-01, -5.0370e-01,  8.0281e-01, -5.7588e-01,  8.9218e-01,\n",
              "         -2.8652e-01, -8.1832e-01,  1.0404e-01,  9.9573e-01,  7.0395e-01,\n",
              "          9.0931e-01,  4.5213e-01, -9.5135e-01, -8.1774e-01,  4.2953e-01,\n",
              "         -5.5870e-02, -4.5318e-01,  3.4760e-01,  1.0000e+00,  1.2121e-01,\n",
              "          9.1627e-02, -8.7494e-01,  2.6840e-01, -4.1393e-01,  1.4153e-01,\n",
              "          4.7777e-01,  6.2907e-01,  5.8317e-01, -1.9374e-01,  3.5530e-01,\n",
              "         -9.9098e-01, -4.1985e-02, -9.8076e-01, -9.7092e-01,  5.0764e-01,\n",
              "         -3.5911e-01, -6.6595e-01, -6.0102e-01,  9.3702e-01, -4.6078e-01,\n",
              "         -2.0044e-01,  1.8383e-01,  8.6524e-02,  4.8763e-01,  4.1082e-01,\n",
              "         -1.0000e+00,  1.4937e-01,  2.6509e-01,  9.7349e-01,  4.6586e-01,\n",
              "          9.2707e-01,  9.0565e-01,  2.3257e-01, -2.0362e-01, -7.4346e-01,\n",
              "         -3.2446e-01, -2.2233e-01, -1.8687e-01,  4.7788e-01,  1.4501e-01,\n",
              "          4.7113e-01, -4.4435e-01, -6.1705e-01, -9.6417e-01, -9.8677e-01,\n",
              "         -6.5889e-01,  4.4230e-01, -8.9707e-01, -3.5510e-01,  5.5784e-01,\n",
              "          2.2717e-01,  2.2346e-02, -7.6799e-01, -9.7030e-01, -3.4032e-01,\n",
              "         -7.1564e-02, -3.3941e-02,  1.7250e-01, -7.0995e-02,  2.4798e-01,\n",
              "          2.8422e-01,  1.1253e-01, -9.8805e-01,  2.2353e-01, -9.8159e-01,\n",
              "          3.7196e-01,  9.4652e-01, -3.9255e-01,  3.9129e-01,  9.1164e-01,\n",
              "         -6.4602e-01,  1.9687e-01, -3.8377e-01,  3.2746e-02,  9.0489e-01,\n",
              "         -4.5432e-01,  7.0837e-01, -1.8069e-01, -1.4924e-01, -3.8183e-02,\n",
              "         -2.5172e-01,  1.6060e-02, -9.0320e-01,  5.0408e-01,  6.7631e-01,\n",
              "         -5.6774e-02,  9.7513e-01, -7.7251e-02, -7.8567e-01, -4.7992e-01,\n",
              "         -8.9915e-01, -4.2886e-01,  4.3112e-01, -2.7201e-01, -5.4959e-01,\n",
              "          9.9228e-01,  3.6559e-01,  8.4334e-01,  8.0462e-01, -3.3732e-01,\n",
              "         -5.3866e-01, -5.7201e-02,  1.7038e-01, -7.2015e-01, -6.2121e-01,\n",
              "         -7.2022e-01,  5.2613e-01,  5.7854e-01,  1.0000e+00, -9.6556e-01,\n",
              "         -9.9205e-01, -8.5453e-01, -5.6648e-01,  3.9295e-01, -8.0646e-01,\n",
              "         -1.0000e+00,  4.1698e-01, -9.0972e-01,  8.3291e-01, -9.8341e-01,\n",
              "          9.9253e-01, -9.8726e-01, -4.6805e-01, -4.5061e-01,  7.9212e-01,\n",
              "          9.7965e-01, -4.7032e-01, -9.4704e-01,  4.1814e-01, -8.8704e-01,\n",
              "          9.9870e-01, -3.0056e-01, -8.0943e-02, -6.2966e-01,  5.5061e-01,\n",
              "         -9.8315e-01, -4.7602e-01,  4.9399e-01]], device='cuda:0',\n",
              "       grad_fn=<TanhBackward0>)"
            ]
          },
          "metadata": {},
          "execution_count": 89
        }
      ]
    },
    {
      "cell_type": "code",
      "source": [
        "# define the text_to_embedding function again\n",
        "def text_to_embedding(index, dataset, max_len):\n",
        "  reviews = dataset.text\n",
        "  text = reviews.iloc[index]\n",
        "  encoded_text = tokenizer.encode_plus(\n",
        "      text,\n",
        "      max_length = max_len,\n",
        "      padding = \"max_length\",\n",
        "      truncation = \"longest_first\",\n",
        "      add_special_tokens = True,\n",
        "      return_tensors = \"pt\"\n",
        "  )\n",
        "  input_ids = torch.tensor(encoded_text['input_ids'], dtype = torch.long).to(device)\n",
        "  attention_mask = torch.tensor(encoded_text['attention_mask'], dtype = torch.long).to(device)\n",
        "  output = cls_model.l1(input_ids, attention_mask)\n",
        "  text_embedding = output.pooler_output # CLS token as sentence embedding\n",
        "\n",
        "  # again, we can choose to use differnt outputs from the BERT Model as the embeddings of the sentence/review\n",
        "  # here, we use the mean value of non-padded tokens from the last self-attention layer of BERT\n",
        "  # text_embedding = output.last_hidden_state[:, 1 : attention_mask.sum(), :].mean(dim = 1)\n",
        "\n",
        "  return text_embedding\n",
        "\n"
      ],
      "metadata": {
        "id": "q6uVaUMET7lJ"
      },
      "execution_count": null,
      "outputs": []
    },
    {
      "cell_type": "code",
      "metadata": {
        "id": "hqv54jZzNs56",
        "colab": {
          "base_uri": "https://localhost:8080/"
        },
        "outputId": "78c58f1f-5fc2-43e4-e5e7-8d0eaa044e08"
      },
      "source": [
        "# use a loop to embed a number of reviews in the raw dataset\n",
        "review_embeddings = []\n",
        "with torch.no_grad():\n",
        "  for index in range(20):\n",
        "    review_embedding = text_to_embedding(index, valid_raw.loc[valid_raw['label'] == 1,:], 128)\n",
        "    review_embeddings.append(review_embedding)\n",
        "\n",
        "# note that you can filter specific groups of obs in the raw dataset for further analysis\n",
        "# for instance, I only use positive reviews in the sample here.\n",
        "# later, I can find clusters in ONLY positive reviews, which could help me summarize\n",
        "# the main factors that make consumers give a positive review\n",
        "# replace the code below into the loop above\n",
        "#\n",
        "\n",
        "\n",
        "\n"
      ],
      "execution_count": null,
      "outputs": [
        {
          "output_type": "stream",
          "name": "stderr",
          "text": [
            "<ipython-input-90-7db2b7ebd4e2>:13: UserWarning: To copy construct from a tensor, it is recommended to use sourceTensor.clone().detach() or sourceTensor.clone().detach().requires_grad_(True), rather than torch.tensor(sourceTensor).\n",
            "  input_ids = torch.tensor(encoded_text['input_ids'], dtype = torch.long).to(device)\n",
            "<ipython-input-90-7db2b7ebd4e2>:14: UserWarning: To copy construct from a tensor, it is recommended to use sourceTensor.clone().detach() or sourceTensor.clone().detach().requires_grad_(True), rather than torch.tensor(sourceTensor).\n",
            "  attention_mask = torch.tensor(encoded_text['attention_mask'], dtype = torch.long).to(device)\n"
          ]
        }
      ]
    },
    {
      "cell_type": "code",
      "source": [
        "len(review_embeddings)"
      ],
      "metadata": {
        "id": "H7pzq9x-JzLt",
        "colab": {
          "base_uri": "https://localhost:8080/"
        },
        "outputId": "8ee3659e-5667-47e4-80fa-e8d7ec7bf36d"
      },
      "execution_count": null,
      "outputs": [
        {
          "output_type": "execute_result",
          "data": {
            "text/plain": [
              "20"
            ]
          },
          "metadata": {},
          "execution_count": 191
        }
      ]
    },
    {
      "cell_type": "code",
      "metadata": {
        "id": "YkB3ULW6UmCY"
      },
      "source": [
        "# transfer the list of sentence embedings into a numpy array\n",
        "review_embeddings = torch.cat(review_embeddings, 0)\n",
        "review_embeddings = review_embeddings.to('cpu')\n",
        "review_embeddings = review_embeddings.numpy()"
      ],
      "execution_count": null,
      "outputs": []
    },
    {
      "cell_type": "code",
      "metadata": {
        "id": "qQYoRmsI25SH",
        "colab": {
          "base_uri": "https://localhost:8080/"
        },
        "outputId": "d4546c09-fb69-4c82-b31c-b11b8ad0c00f"
      },
      "source": [
        "type(review_embeddings)"
      ],
      "execution_count": null,
      "outputs": [
        {
          "output_type": "execute_result",
          "data": {
            "text/plain": [
              "numpy.ndarray"
            ]
          },
          "metadata": {},
          "execution_count": 193
        }
      ]
    },
    {
      "cell_type": "code",
      "metadata": {
        "id": "2s6TrXetan87"
      },
      "source": [
        "# do the cluster analysis\n",
        "import matplotlib.pyplot as plt\n",
        "import pandas as pd\n",
        "%matplotlib inline\n",
        "import numpy as np\n"
      ],
      "execution_count": null,
      "outputs": []
    },
    {
      "cell_type": "code",
      "metadata": {
        "id": "bsuRnkXvVA7-",
        "colab": {
          "base_uri": "https://localhost:8080/",
          "height": 765
        },
        "outputId": "28c44cfd-467e-46a8-d75d-cad011fc8f2a"
      },
      "source": [
        "# use the dendrogram graph to identify the clusters\n",
        "import scipy.cluster.hierarchy as shc\n",
        "plt.figure(figsize = (100, 50))\n",
        "plt.title(\"review embeddings\")\n",
        "dend = shc.dendrogram(shc.linkage(review_embeddings, method = \"ward\"))"
      ],
      "execution_count": null,
      "outputs": [
        {
          "output_type": "display_data",
          "data": {
            "text/plain": [
              "<Figure size 10000x5000 with 1 Axes>"
            ],
            "image/png": "[encoded data removed]"
          },
          "metadata": {}
        }
      ]
    },
    {
      "cell_type": "code",
      "metadata": {
        "id": "DPFSQNxWVGH-"
      },
      "source": [
        "from sklearn.cluster import AgglomerativeClustering"
      ],
      "execution_count": null,
      "outputs": []
    },
    {
      "cell_type": "code",
      "source": [
        "# specify the n_clusters you want\n",
        "number_of_clusters = 3"
      ],
      "metadata": {
        "id": "RxKmnEbHVEk5"
      },
      "execution_count": null,
      "outputs": []
    },
    {
      "cell_type": "code",
      "metadata": {
        "id": "imJJ0k7bLTSk"
      },
      "source": [
        "cluster = AgglomerativeClustering(n_clusters = number_of_clusters, affinity = 'euclidean', linkage = 'ward')"
      ],
      "execution_count": null,
      "outputs": []
    },
    {
      "cell_type": "code",
      "metadata": {
        "id": "jR6wnRyveAl2",
        "colab": {
          "base_uri": "https://localhost:8080/"
        },
        "outputId": "2af0dad8-1b0f-4a76-dd20-483b2e347e5d"
      },
      "source": [
        "cluster_id = cluster.fit_predict(review_embeddings)"
      ],
      "execution_count": null,
      "outputs": [
        {
          "output_type": "stream",
          "name": "stderr",
          "text": [
            "/usr/local/lib/python3.10/dist-packages/sklearn/cluster/_agglomerative.py:983: FutureWarning: Attribute `affinity` was deprecated in version 1.2 and will be removed in 1.4. Use `metric` instead\n",
            "  warnings.warn(\n"
          ]
        }
      ]
    },
    {
      "cell_type": "code",
      "source": [
        "cluster_id"
      ],
      "metadata": {
        "id": "fnSetVDLKPJN",
        "colab": {
          "base_uri": "https://localhost:8080/"
        },
        "outputId": "d15d040f-652e-4146-e6e3-24475ce0fb8f"
      },
      "execution_count": null,
      "outputs": [
        {
          "output_type": "execute_result",
          "data": {
            "text/plain": [
              "array([5, 2, 5, 4, 3, 1, 0, 0, 1, 2, 2, 1, 2, 0, 5, 4, 0, 0, 2, 2])"
            ]
          },
          "metadata": {},
          "execution_count": 200
        }
      ]
    },
    {
      "cell_type": "code",
      "metadata": {
        "id": "-RJK8HwufQM4",
        "colab": {
          "base_uri": "https://localhost:8080/"
        },
        "outputId": "70fc855f-3bea-4db2-a416-4c7a41fb987d"
      },
      "source": [
        "sample_review = valid_raw.iloc[0:20 ,:]\n",
        "sample_review['cluster_id'] = cluster_id"
      ],
      "execution_count": null,
      "outputs": [
        {
          "output_type": "stream",
          "name": "stderr",
          "text": [
            "<ipython-input-201-576a3a2d9e2c>:2: SettingWithCopyWarning: \n",
            "A value is trying to be set on a copy of a slice from a DataFrame.\n",
            "Try using .loc[row_indexer,col_indexer] = value instead\n",
            "\n",
            "See the caveats in the documentation: https://pandas.pydata.org/pandas-docs/stable/user_guide/indexing.html#returning-a-view-versus-a-copy\n",
            "  sample_review['cluster_id'] = cluster_id\n"
          ]
        }
      ]
    },
    {
      "cell_type": "code",
      "metadata": {
        "id": "mTsxnPOSff6n",
        "colab": {
          "base_uri": "https://localhost:8080/",
          "height": 677
        },
        "outputId": "83d4fe6f-8f06-4d06-d4df-4078b4e347b0"
      },
      "source": [
        "sample_review"
      ],
      "execution_count": null,
      "outputs": [
        {
          "output_type": "execute_result",
          "data": {
            "text/plain": [
              "       label                                               text  cluster_id\n",
              "1278       0  This came with no instructions on how to use. ...           5\n",
              "652        0  I bought this product and within 2 months I ha...           2\n",
              "8544       0  Very sharp with no blade protection. The item ...           5\n",
              "14397      1         Very nice material and dont loose stretch.           4\n",
              "11056      1  Love these sponges. I’ve repurchased them for ...           3\n",
              "18525      0  The DVD didn't work. I thought I was purchasin...           1\n",
              "14617      1  I have long, relatively fine hair. I like thes...           0\n",
              "19146      1                                  Love the classics           0\n",
              "4966       0  I had a favorite self tanner that I absolutely...           1\n",
              "18519      0  Pretty sure it’s fake. No Disney magic points ...           2\n",
              "5687       1  Adds volume & thickness with one or two coats....           2\n",
              "7831       0  I don’t know if I got a bad set or what, but t...           1\n",
              "1121       0  It wouldn't stay on my face while lying down, ...           2\n",
              "16455      1  I love this shampoo brush. It definitely does ...           0\n",
              "60         0  I bought the product because of the reviews an...           5\n",
              "12521      0  I purchased two packages of this product, and ...           4\n",
              "12117      1                Good and has good amount of serum..           0\n",
              "3914       0  This does not stay on for hours as advertised,...           0\n",
              "4030       0  While I liked that this was a vegan lip moistu...           2\n",
              "18895      1                    great movie, very entertaining!           2"
            ],
            "text/html": [
              "\n",
              "  <div id=\"df-0bf5c345-f0d2-4934-840b-a8d2881bf630\" class=\"colab-df-container\">\n",
              "    <div>\n",
              "<style scoped>\n",
              "    .dataframe tbody tr th:only-of-type {\n",
              "        vertical-align: middle;\n",
              "    }\n",
              "\n",
              "    .dataframe tbody tr th {\n",
              "        vertical-align: top;\n",
              "    }\n",
              "\n",
              "    .dataframe thead th {\n",
              "        text-align: right;\n",
              "    }\n",
              "</style>\n",
              "<table border=\"1\" class=\"dataframe\">\n",
              "  <thead>\n",
              "    <tr style=\"text-align: right;\">\n",
              "      <th></th>\n",
              "      <th>label</th>\n",
              "      <th>text</th>\n",
              "      <th>cluster_id</th>\n",
              "    </tr>\n",
              "  </thead>\n",
              "  <tbody>\n",
              "    <tr>\n",
              "      <th>1278</th>\n",
              "      <td>0</td>\n",
              "      <td>This came with no instructions on how to use. ...</td>\n",
              "      <td>5</td>\n",
              "    </tr>\n",
              "    <tr>\n",
              "      <th>652</th>\n",
              "      <td>0</td>\n",
              "      <td>I bought this product and within 2 months I ha...</td>\n",
              "      <td>2</td>\n",
              "    </tr>\n",
              "    <tr>\n",
              "      <th>8544</th>\n",
              "      <td>0</td>\n",
              "      <td>Very sharp with no blade protection. The item ...</td>\n",
              "      <td>5</td>\n",
              "    </tr>\n",
              "    <tr>\n",
              "      <th>14397</th>\n",
              "      <td>1</td>\n",
              "      <td>Very nice material and dont loose stretch.</td>\n",
              "      <td>4</td>\n",
              "    </tr>\n",
              "    <tr>\n",
              "      <th>11056</th>\n",
              "      <td>1</td>\n",
              "      <td>Love these sponges. I’ve repurchased them for ...</td>\n",
              "      <td>3</td>\n",
              "    </tr>\n",
              "    <tr>\n",
              "      <th>18525</th>\n",
              "      <td>0</td>\n",
              "      <td>The DVD didn't work. I thought I was purchasin...</td>\n",
              "      <td>1</td>\n",
              "    </tr>\n",
              "    <tr>\n",
              "      <th>14617</th>\n",
              "      <td>1</td>\n",
              "      <td>I have long, relatively fine hair. I like thes...</td>\n",
              "      <td>0</td>\n",
              "    </tr>\n",
              "    <tr>\n",
              "      <th>19146</th>\n",
              "      <td>1</td>\n",
              "      <td>Love the classics</td>\n",
              "      <td>0</td>\n",
              "    </tr>\n",
              "    <tr>\n",
              "      <th>4966</th>\n",
              "      <td>0</td>\n",
              "      <td>I had a favorite self tanner that I absolutely...</td>\n",
              "      <td>1</td>\n",
              "    </tr>\n",
              "    <tr>\n",
              "      <th>18519</th>\n",
              "      <td>0</td>\n",
              "      <td>Pretty sure it’s fake. No Disney magic points ...</td>\n",
              "      <td>2</td>\n",
              "    </tr>\n",
              "    <tr>\n",
              "      <th>5687</th>\n",
              "      <td>1</td>\n",
              "      <td>Adds volume &amp; thickness with one or two coats....</td>\n",
              "      <td>2</td>\n",
              "    </tr>\n",
              "    <tr>\n",
              "      <th>7831</th>\n",
              "      <td>0</td>\n",
              "      <td>I don’t know if I got a bad set or what, but t...</td>\n",
              "      <td>1</td>\n",
              "    </tr>\n",
              "    <tr>\n",
              "      <th>1121</th>\n",
              "      <td>0</td>\n",
              "      <td>It wouldn't stay on my face while lying down, ...</td>\n",
              "      <td>2</td>\n",
              "    </tr>\n",
              "    <tr>\n",
              "      <th>16455</th>\n",
              "      <td>1</td>\n",
              "      <td>I love this shampoo brush. It definitely does ...</td>\n",
              "      <td>0</td>\n",
              "    </tr>\n",
              "    <tr>\n",
              "      <th>60</th>\n",
              "      <td>0</td>\n",
              "      <td>I bought the product because of the reviews an...</td>\n",
              "      <td>5</td>\n",
              "    </tr>\n",
              "    <tr>\n",
              "      <th>12521</th>\n",
              "      <td>0</td>\n",
              "      <td>I purchased two packages of this product, and ...</td>\n",
              "      <td>4</td>\n",
              "    </tr>\n",
              "    <tr>\n",
              "      <th>12117</th>\n",
              "      <td>1</td>\n",
              "      <td>Good and has good amount of serum..</td>\n",
              "      <td>0</td>\n",
              "    </tr>\n",
              "    <tr>\n",
              "      <th>3914</th>\n",
              "      <td>0</td>\n",
              "      <td>This does not stay on for hours as advertised,...</td>\n",
              "      <td>0</td>\n",
              "    </tr>\n",
              "    <tr>\n",
              "      <th>4030</th>\n",
              "      <td>0</td>\n",
              "      <td>While I liked that this was a vegan lip moistu...</td>\n",
              "      <td>2</td>\n",
              "    </tr>\n",
              "    <tr>\n",
              "      <th>18895</th>\n",
              "      <td>1</td>\n",
              "      <td>great movie, very entertaining!</td>\n",
              "      <td>2</td>\n",
              "    </tr>\n",
              "  </tbody>\n",
              "</table>\n",
              "</div>\n",
              "    <div class=\"colab-df-buttons\">\n",
              "\n",
              "  <div class=\"colab-df-container\">\n",
              "    <button class=\"colab-df-convert\" onclick=\"convertToInteractive('df-0bf5c345-f0d2-4934-840b-a8d2881bf630')\"\n",
              "            title=\"Convert this dataframe to an interactive table.\"\n",
              "            style=\"display:none;\">\n",
              "\n",
              "  <svg xmlns=\"http://www.w3.org/2000/svg\" height=\"24px\" viewBox=\"0 -960 960 960\">\n",
              "    <path d=\"M120-120v-720h720v720H120Zm60-500h600v-160H180v160Zm220 220h160v-160H400v160Zm0 220h160v-160H400v160ZM180-400h160v-160H180v160Zm440 0h160v-160H620v160ZM180-180h160v-160H180v160Zm440 0h160v-160H620v160Z\"/>\n",
              "  </svg>\n",
              "    </button>\n",
              "\n",
              "  <style>\n",
              "    .colab-df-container {\n",
              "      display:flex;\n",
              "      gap: 12px;\n",
              "    }\n",
              "\n",
              "    .colab-df-convert {\n",
              "      background-color: #E8F0FE;\n",
              "      border: none;\n",
              "      border-radius: 50%;\n",
              "      cursor: pointer;\n",
              "      display: none;\n",
              "      fill: #1967D2;\n",
              "      height: 32px;\n",
              "      padding: 0 0 0 0;\n",
              "      width: 32px;\n",
              "    }\n",
              "\n",
              "    .colab-df-convert:hover {\n",
              "      background-color: #E2EBFA;\n",
              "      box-shadow: 0px 1px 2px rgba(60, 64, 67, 0.3), 0px 1px 3px 1px rgba(60, 64, 67, 0.15);\n",
              "      fill: #174EA6;\n",
              "    }\n",
              "\n",
              "    .colab-df-buttons div {\n",
              "      margin-bottom: 4px;\n",
              "    }\n",
              "\n",
              "    [theme=dark] .colab-df-convert {\n",
              "      background-color: #3B4455;\n",
              "      fill: #D2E3FC;\n",
              "    }\n",
              "\n",
              "    [theme=dark] .colab-df-convert:hover {\n",
              "      background-color: #434B5C;\n",
              "      box-shadow: 0px 1px 3px 1px rgba(0, 0, 0, 0.15);\n",
              "      filter: drop-shadow(0px 1px 2px rgba(0, 0, 0, 0.3));\n",
              "      fill: #FFFFFF;\n",
              "    }\n",
              "  </style>\n",
              "\n",
              "    <script>\n",
              "      const buttonEl =\n",
              "        document.querySelector('#df-0bf5c345-f0d2-4934-840b-a8d2881bf630 button.colab-df-convert');\n",
              "      buttonEl.style.display =\n",
              "        google.colab.kernel.accessAllowed ? 'block' : 'none';\n",
              "\n",
              "      async function convertToInteractive(key) {\n",
              "        const element = document.querySelector('#df-0bf5c345-f0d2-4934-840b-a8d2881bf630');\n",
              "        const dataTable =\n",
              "          await google.colab.kernel.invokeFunction('convertToInteractive',\n",
              "                                                    [key], {});\n",
              "        if (!dataTable) return;\n",
              "\n",
              "        const docLinkHtml = 'Like what you see? Visit the ' +\n",
              "          '<a target=\"_blank\" href=https://colab.research.google.com/notebooks/data_table.ipynb>data table notebook</a>'\n",
              "          + ' to learn more about interactive tables.';\n",
              "        element.innerHTML = '';\n",
              "        dataTable['output_type'] = 'display_data';\n",
              "        await google.colab.output.renderOutput(dataTable, element);\n",
              "        const docLink = document.createElement('div');\n",
              "        docLink.innerHTML = docLinkHtml;\n",
              "        element.appendChild(docLink);\n",
              "      }\n",
              "    </script>\n",
              "  </div>\n",
              "\n",
              "\n",
              "<div id=\"df-e5ffa7c6-7c4e-4ef9-ba66-ab0ba9412309\">\n",
              "  <button class=\"colab-df-quickchart\" onclick=\"quickchart('df-e5ffa7c6-7c4e-4ef9-ba66-ab0ba9412309')\"\n",
              "            title=\"Suggest charts\"\n",
              "            style=\"display:none;\">\n",
              "\n",
              "<svg xmlns=\"http://www.w3.org/2000/svg\" height=\"24px\"viewBox=\"0 0 24 24\"\n",
              "     width=\"24px\">\n",
              "    <g>\n",
              "        <path d=\"M19 3H5c-1.1 0-2 .9-2 2v14c0 1.1.9 2 2 2h14c1.1 0 2-.9 2-2V5c0-1.1-.9-2-2-2zM9 17H7v-7h2v7zm4 0h-2V7h2v10zm4 0h-2v-4h2v4z\"/>\n",
              "    </g>\n",
              "</svg>\n",
              "  </button>\n",
              "\n",
              "<style>\n",
              "  .colab-df-quickchart {\n",
              "      --bg-color: #E8F0FE;\n",
              "      --fill-color: #1967D2;\n",
              "      --hover-bg-color: #E2EBFA;\n",
              "      --hover-fill-color: #174EA6;\n",
              "      --disabled-fill-color: #AAA;\n",
              "      --disabled-bg-color: #DDD;\n",
              "  }\n",
              "\n",
              "  [theme=dark] .colab-df-quickchart {\n",
              "      --bg-color: #3B4455;\n",
              "      --fill-color: #D2E3FC;\n",
              "      --hover-bg-color: #434B5C;\n",
              "      --hover-fill-color: #FFFFFF;\n",
              "      --disabled-bg-color: #3B4455;\n",
              "      --disabled-fill-color: #666;\n",
              "  }\n",
              "\n",
              "  .colab-df-quickchart {\n",
              "    background-color: var(--bg-color);\n",
              "    border: none;\n",
              "    border-radius: 50%;\n",
              "    cursor: pointer;\n",
              "    display: none;\n",
              "    fill: var(--fill-color);\n",
              "    height: 32px;\n",
              "    padding: 0;\n",
              "    width: 32px;\n",
              "  }\n",
              "\n",
              "  .colab-df-quickchart:hover {\n",
              "    background-color: var(--hover-bg-color);\n",
              "    box-shadow: 0 1px 2px rgba(60, 64, 67, 0.3), 0 1px 3px 1px rgba(60, 64, 67, 0.15);\n",
              "    fill: var(--button-hover-fill-color);\n",
              "  }\n",
              "\n",
              "  .colab-df-quickchart-complete:disabled,\n",
              "  .colab-df-quickchart-complete:disabled:hover {\n",
              "    background-color: var(--disabled-bg-color);\n",
              "    fill: var(--disabled-fill-color);\n",
              "    box-shadow: none;\n",
              "  }\n",
              "\n",
              "  .colab-df-spinner {\n",
              "    border: 2px solid var(--fill-color);\n",
              "    border-color: transparent;\n",
              "    border-bottom-color: var(--fill-color);\n",
              "    animation:\n",
              "      spin 1s steps(1) infinite;\n",
              "  }\n",
              "\n",
              "  @keyframes spin {\n",
              "    0% {\n",
              "      border-color: transparent;\n",
              "      border-bottom-color: var(--fill-color);\n",
              "      border-left-color: var(--fill-color);\n",
              "    }\n",
              "    20% {\n",
              "      border-color: transparent;\n",
              "      border-left-color: var(--fill-color);\n",
              "      border-top-color: var(--fill-color);\n",
              "    }\n",
              "    30% {\n",
              "      border-color: transparent;\n",
              "      border-left-color: var(--fill-color);\n",
              "      border-top-color: var(--fill-color);\n",
              "      border-right-color: var(--fill-color);\n",
              "    }\n",
              "    40% {\n",
              "      border-color: transparent;\n",
              "      border-right-color: var(--fill-color);\n",
              "      border-top-color: var(--fill-color);\n",
              "    }\n",
              "    60% {\n",
              "      border-color: transparent;\n",
              "      border-right-color: var(--fill-color);\n",
              "    }\n",
              "    80% {\n",
              "      border-color: transparent;\n",
              "      border-right-color: var(--fill-color);\n",
              "      border-bottom-color: var(--fill-color);\n",
              "    }\n",
              "    90% {\n",
              "      border-color: transparent;\n",
              "      border-bottom-color: var(--fill-color);\n",
              "    }\n",
              "  }\n",
              "</style>\n",
              "\n",
              "  <script>\n",
              "    async function quickchart(key) {\n",
              "      const quickchartButtonEl =\n",
              "        document.querySelector('#' + key + ' button');\n",
              "      quickchartButtonEl.disabled = true;  // To prevent multiple clicks.\n",
              "      quickchartButtonEl.classList.add('colab-df-spinner');\n",
              "      try {\n",
              "        const charts = await google.colab.kernel.invokeFunction(\n",
              "            'suggestCharts', [key], {});\n",
              "      } catch (error) {\n",
              "        console.error('Error during call to suggestCharts:', error);\n",
              "      }\n",
              "      quickchartButtonEl.classList.remove('colab-df-spinner');\n",
              "      quickchartButtonEl.classList.add('colab-df-quickchart-complete');\n",
              "    }\n",
              "    (() => {\n",
              "      let quickchartButtonEl =\n",
              "        document.querySelector('#df-e5ffa7c6-7c4e-4ef9-ba66-ab0ba9412309 button');\n",
              "      quickchartButtonEl.style.display =\n",
              "        google.colab.kernel.accessAllowed ? 'block' : 'none';\n",
              "    })();\n",
              "  </script>\n",
              "</div>\n",
              "\n",
              "  <div id=\"id_91cd2fed-fd28-4214-8f80-85ca2cd26bdc\">\n",
              "    <style>\n",
              "      .colab-df-generate {\n",
              "        background-color: #E8F0FE;\n",
              "        border: none;\n",
              "        border-radius: 50%;\n",
              "        cursor: pointer;\n",
              "        display: none;\n",
              "        fill: #1967D2;\n",
              "        height: 32px;\n",
              "        padding: 0 0 0 0;\n",
              "        width: 32px;\n",
              "      }\n",
              "\n",
              "      .colab-df-generate:hover {\n",
              "        background-color: #E2EBFA;\n",
              "        box-shadow: 0px 1px 2px rgba(60, 64, 67, 0.3), 0px 1px 3px 1px rgba(60, 64, 67, 0.15);\n",
              "        fill: #174EA6;\n",
              "      }\n",
              "\n",
              "      [theme=dark] .colab-df-generate {\n",
              "        background-color: #3B4455;\n",
              "        fill: #D2E3FC;\n",
              "      }\n",
              "\n",
              "      [theme=dark] .colab-df-generate:hover {\n",
              "        background-color: #434B5C;\n",
              "        box-shadow: 0px 1px 3px 1px rgba(0, 0, 0, 0.15);\n",
              "        filter: drop-shadow(0px 1px 2px rgba(0, 0, 0, 0.3));\n",
              "        fill: #FFFFFF;\n",
              "      }\n",
              "    </style>\n",
              "    <button class=\"colab-df-generate\" onclick=\"generateWithVariable('sample_review')\"\n",
              "            title=\"Generate code using this dataframe.\"\n",
              "            style=\"display:none;\">\n",
              "\n",
              "  <svg xmlns=\"http://www.w3.org/2000/svg\" height=\"24px\"viewBox=\"0 0 24 24\"\n",
              "       width=\"24px\">\n",
              "    <path d=\"M7,19H8.4L18.45,9,17,7.55,7,17.6ZM5,21V16.75L18.45,3.32a2,2,0,0,1,2.83,0l1.4,1.43a1.91,1.91,0,0,1,.58,1.4,1.91,1.91,0,0,1-.58,1.4L9.25,21ZM18.45,9,17,7.55Zm-12,3A5.31,5.31,0,0,0,4.9,8.1,5.31,5.31,0,0,0,1,6.5,5.31,5.31,0,0,0,4.9,4.9,5.31,5.31,0,0,0,6.5,1,5.31,5.31,0,0,0,8.1,4.9,5.31,5.31,0,0,0,12,6.5,5.46,5.46,0,0,0,6.5,12Z\"/>\n",
              "  </svg>\n",
              "    </button>\n",
              "    <script>\n",
              "      (() => {\n",
              "      const buttonEl =\n",
              "        document.querySelector('#id_91cd2fed-fd28-4214-8f80-85ca2cd26bdc button.colab-df-generate');\n",
              "      buttonEl.style.display =\n",
              "        google.colab.kernel.accessAllowed ? 'block' : 'none';\n",
              "\n",
              "      buttonEl.onclick = () => {\n",
              "        google.colab.notebook.generateWithVariable('sample_review');\n",
              "      }\n",
              "      })();\n",
              "    </script>\n",
              "  </div>\n",
              "\n",
              "    </div>\n",
              "  </div>\n"
            ],
            "application/vnd.google.colaboratory.intrinsic+json": {
              "type": "dataframe",
              "variable_name": "sample_review",
              "summary": "{\n  \"name\": \"sample_review\",\n  \"rows\": 20,\n  \"fields\": [\n    {\n      \"column\": \"label\",\n      \"properties\": {\n        \"dtype\": \"number\",\n        \"std\": 0,\n        \"min\": 0,\n        \"max\": 1,\n        \"num_unique_values\": 2,\n        \"samples\": [\n          1,\n          0\n        ],\n        \"semantic_type\": \"\",\n        \"description\": \"\"\n      }\n    },\n    {\n      \"column\": \"text\",\n      \"properties\": {\n        \"dtype\": \"string\",\n        \"num_unique_values\": 20,\n        \"samples\": [\n          \"This came with no instructions on how to use. Very disappointing.\",\n          \"This does not stay on for hours as advertised, I could not recommend this product.\"\n        ],\n        \"semantic_type\": \"\",\n        \"description\": \"\"\n      }\n    },\n    {\n      \"column\": \"cluster_id\",\n      \"properties\": {\n        \"dtype\": \"number\",\n        \"std\": 1,\n        \"min\": 0,\n        \"max\": 5,\n        \"num_unique_values\": 6,\n        \"samples\": [\n          5,\n          2\n        ],\n        \"semantic_type\": \"\",\n        \"description\": \"\"\n      }\n    }\n  ]\n}"
            }
          },
          "metadata": {},
          "execution_count": 202
        }
      ]
    },
    {
      "cell_type": "code",
      "metadata": {
        "id": "isdaRbDrfjrE"
      },
      "source": [
        "sample = sample_review.groupby('cluster_id').apply(pd.DataFrame.sample, 1).iloc[:,:]\n"
      ],
      "execution_count": null,
      "outputs": []
    },
    {
      "cell_type": "markdown",
      "source": [],
      "metadata": {
        "id": "G6nT9fQX_9-q"
      }
    },
    {
      "cell_type": "code",
      "metadata": {
        "id": "KVvkadi93iCQ",
        "colab": {
          "base_uri": "https://localhost:8080/"
        },
        "outputId": "1c368a44-6978-48a3-bcb8-232e58ab3c84"
      },
      "source": [
        "sample['text']"
      ],
      "execution_count": null,
      "outputs": [
        {
          "output_type": "execute_result",
          "data": {
            "text/plain": [
              "cluster_id       \n",
              "0           14617    I have long, relatively fine hair. I like thes...\n",
              "1           7831     I don’t know if I got a bad set or what, but t...\n",
              "2           5687     Adds volume & thickness with one or two coats....\n",
              "3           11056    Love these sponges. I’ve repurchased them for ...\n",
              "4           12521    I purchased two packages of this product, and ...\n",
              "5           1278     This came with no instructions on how to use. ...\n",
              "Name: text, dtype: object"
            ]
          },
          "metadata": {},
          "execution_count": 204
        }
      ]
    },
    {
      "cell_type": "code",
      "source": [
        "sample = sample_review.groupby('cluster_id').apply(pd.DataFrame.sample, 1)"
      ],
      "metadata": {
        "id": "Uc6P-Sp-TP8C"
      },
      "execution_count": null,
      "outputs": []
    },
    {
      "cell_type": "code",
      "source": [
        "print(\"Cluster 1:\",\"\\n\",sample.iloc[0,1], \"\\n\")\n",
        "print(\"Cluster 2:\",\"\\n\",sample.iloc[1,1], \"\\n\")\n",
        "print(\"Cluster 3:\",\"\\n\",sample.iloc[2,1], \"\\n\")\n",
        "print(\"CLuster 4:\",\"\\n\",sample.iloc[3,1], \"\\n\")\n",
        "print(\"Cluster 5:\",\"\\n\",sample.iloc[4,1], \"\\n\")"
      ],
      "metadata": {
        "id": "IR2t87FWT4xM",
        "colab": {
          "base_uri": "https://localhost:8080/",
          "height": 211
        },
        "outputId": "3916494a-6957-474e-aa89-fd950d4babb5"
      },
      "execution_count": null,
      "outputs": [
        {
          "output_type": "error",
          "ename": "NameError",
          "evalue": "name 'sample' is not defined",
          "traceback": [
            "\u001b[0;31m---------------------------------------------------------------------------\u001b[0m",
            "\u001b[0;31mNameError\u001b[0m                                 Traceback (most recent call last)",
            "\u001b[0;32m<ipython-input-1-85b9c99c6d1e>\u001b[0m in \u001b[0;36m<cell line: 1>\u001b[0;34m()\u001b[0m\n\u001b[0;32m----> 1\u001b[0;31m \u001b[0mprint\u001b[0m\u001b[0;34m(\u001b[0m\u001b[0;34m\"Cluster 1:\"\u001b[0m\u001b[0;34m,\u001b[0m\u001b[0;34m\"\\n\"\u001b[0m\u001b[0;34m,\u001b[0m\u001b[0msample\u001b[0m\u001b[0;34m.\u001b[0m\u001b[0miloc\u001b[0m\u001b[0;34m[\u001b[0m\u001b[0;36m0\u001b[0m\u001b[0;34m,\u001b[0m\u001b[0;36m1\u001b[0m\u001b[0;34m]\u001b[0m\u001b[0;34m,\u001b[0m \u001b[0;34m\"\\n\"\u001b[0m\u001b[0;34m)\u001b[0m\u001b[0;34m\u001b[0m\u001b[0;34m\u001b[0m\u001b[0m\n\u001b[0m\u001b[1;32m      2\u001b[0m \u001b[0mprint\u001b[0m\u001b[0;34m(\u001b[0m\u001b[0;34m\"Cluster 2:\"\u001b[0m\u001b[0;34m,\u001b[0m\u001b[0;34m\"\\n\"\u001b[0m\u001b[0;34m,\u001b[0m\u001b[0msample\u001b[0m\u001b[0;34m.\u001b[0m\u001b[0miloc\u001b[0m\u001b[0;34m[\u001b[0m\u001b[0;36m1\u001b[0m\u001b[0;34m,\u001b[0m\u001b[0;36m1\u001b[0m\u001b[0;34m]\u001b[0m\u001b[0;34m,\u001b[0m \u001b[0;34m\"\\n\"\u001b[0m\u001b[0;34m)\u001b[0m\u001b[0;34m\u001b[0m\u001b[0;34m\u001b[0m\u001b[0m\n\u001b[1;32m      3\u001b[0m \u001b[0mprint\u001b[0m\u001b[0;34m(\u001b[0m\u001b[0;34m\"Cluster 3:\"\u001b[0m\u001b[0;34m,\u001b[0m\u001b[0;34m\"\\n\"\u001b[0m\u001b[0;34m,\u001b[0m\u001b[0msample\u001b[0m\u001b[0;34m.\u001b[0m\u001b[0miloc\u001b[0m\u001b[0;34m[\u001b[0m\u001b[0;36m2\u001b[0m\u001b[0;34m,\u001b[0m\u001b[0;36m1\u001b[0m\u001b[0;34m]\u001b[0m\u001b[0;34m,\u001b[0m \u001b[0;34m\"\\n\"\u001b[0m\u001b[0;34m)\u001b[0m\u001b[0;34m\u001b[0m\u001b[0;34m\u001b[0m\u001b[0m\n\u001b[1;32m      4\u001b[0m \u001b[0mprint\u001b[0m\u001b[0;34m(\u001b[0m\u001b[0;34m\"CLuster 4:\"\u001b[0m\u001b[0;34m,\u001b[0m\u001b[0;34m\"\\n\"\u001b[0m\u001b[0;34m,\u001b[0m\u001b[0msample\u001b[0m\u001b[0;34m.\u001b[0m\u001b[0miloc\u001b[0m\u001b[0;34m[\u001b[0m\u001b[0;36m3\u001b[0m\u001b[0;34m,\u001b[0m\u001b[0;36m1\u001b[0m\u001b[0;34m]\u001b[0m\u001b[0;34m,\u001b[0m \u001b[0;34m\"\\n\"\u001b[0m\u001b[0;34m)\u001b[0m\u001b[0;34m\u001b[0m\u001b[0;34m\u001b[0m\u001b[0m\n\u001b[1;32m      5\u001b[0m \u001b[0mprint\u001b[0m\u001b[0;34m(\u001b[0m\u001b[0;34m\"Cluster 5:\"\u001b[0m\u001b[0;34m,\u001b[0m\u001b[0;34m\"\\n\"\u001b[0m\u001b[0;34m,\u001b[0m\u001b[0msample\u001b[0m\u001b[0;34m.\u001b[0m\u001b[0miloc\u001b[0m\u001b[0;34m[\u001b[0m\u001b[0;36m4\u001b[0m\u001b[0;34m,\u001b[0m\u001b[0;36m1\u001b[0m\u001b[0;34m]\u001b[0m\u001b[0;34m,\u001b[0m \u001b[0;34m\"\\n\"\u001b[0m\u001b[0;34m)\u001b[0m\u001b[0;34m\u001b[0m\u001b[0;34m\u001b[0m\u001b[0m\n",
            "\u001b[0;31mNameError\u001b[0m: name 'sample' is not defined"
          ]
        }
      ]
    }
  ]
}