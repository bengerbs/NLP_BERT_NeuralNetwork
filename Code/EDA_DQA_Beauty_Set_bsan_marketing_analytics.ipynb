{
  "nbformat": 4,
  "nbformat_minor": 0,
  "metadata": {
    "colab": {
      "provenance": []
    },
    "kernelspec": {
      "name": "python3",
      "display_name": "Python 3"
    },
    "language_info": {
      "name": "python"
    }
  },
  "cells": [
    {
      "cell_type": "code",
      "execution_count": null,
      "metadata": {
        "id": "cWdCyQTG_-bP"
      },
      "outputs": [],
      "source": [
        " #insert libraries neededed\n",
        "import numpy as np\n",
        "import pandas as pd\n",
        "import matplotlib as pyplot\n",
        "df = pd.read_csv(\"all_reviews_-Beauty.csv\")"
      ]
    },
    {
      "cell_type": "code",
      "source": [
        "#view sample of dataframe\n",
        "df.head()"
      ],
      "metadata": {
        "colab": {
          "base_uri": "https://localhost:8080/",
          "height": 519
        },
        "id": "oXy98IEQAjdw",
        "outputId": "4724513a-66c2-4c5a-d788-2daf4e06ed8f"
      },
      "execution_count": null,
      "outputs": [
        {
          "output_type": "execute_result",
          "data": {
            "text/plain": [
              "         asin                                             date  \\\n",
              "0  B0973WGX3D  Reviewed in the United States on March 13, 2022   \n",
              "1  B00DLJ7N2U   Reviewed in the United States on April 7, 2022   \n",
              "2  B00DLJ7N2U   Reviewed in the United States on April 7, 2022   \n",
              "3  B00DLJ7N2U  Reviewed in the United States on March 26, 2022   \n",
              "4  B00DLJ7N2U  Reviewed in the United States on March 24, 2022   \n",
              "\n",
              "                                                text  \\\n",
              "0  The media could not be loaded. Buyy it!!!! Ama...   \n",
              "1  Item is heavy and uncomfortable after holding....   \n",
              "2  So I was excited when I ordered this product. ...   \n",
              "3  My daughter purchased it and it was too painfu...   \n",
              "4  This can be used as maintenance between the tr...   \n",
              "\n",
              "                                        imageUrlList  numberOfHelpful  \\\n",
              "0                                                NaN                0   \n",
              "1                                                NaN                0   \n",
              "2  ['https://m.media-amazon.com/images/I/71AAtho7...                0   \n",
              "3                                                NaN                0   \n",
              "4                                                NaN                2   \n",
              "\n",
              "   parentReviewId              rating        reviewId  \\\n",
              "0             NaN  5.0 out of 5 stars  R13DKMYTOTKWJX   \n",
              "1             NaN  3.0 out of 5 stars  R1BT000GQYEISB   \n",
              "2             NaN  1.0 out of 5 stars  R1VRRVSFGPZUPW   \n",
              "3             NaN  2.0 out of 5 stars   RDLUGW9NGVANK   \n",
              "4             NaN  3.0 out of 5 stars   RN9761C69LUKO   \n",
              "\n",
              "                                            title            username  \\\n",
              "0                                        Yessssss        Boss2021babe   \n",
              "1                           Heavy, takes too long      Debbie Meadows   \n",
              "2                       Not made for black women.             Candace   \n",
              "3                                         Painful  Christina Martinez   \n",
              "4  Not a replacement to the commercial treatments              Adrian   \n",
              "\n",
              "   verified keyword  \n",
              "0      True  Beauty  \n",
              "1      True  Beauty  \n",
              "2      True  Beauty  \n",
              "3      True  Beauty  \n",
              "4      True  Beauty  "
            ],
            "text/html": [
              "\n",
              "  <div id=\"df-7be9d5a8-1d7e-4e35-97a0-6bbc8b7f0482\" class=\"colab-df-container\">\n",
              "    <div>\n",
              "<style scoped>\n",
              "    .dataframe tbody tr th:only-of-type {\n",
              "        vertical-align: middle;\n",
              "    }\n",
              "\n",
              "    .dataframe tbody tr th {\n",
              "        vertical-align: top;\n",
              "    }\n",
              "\n",
              "    .dataframe thead th {\n",
              "        text-align: right;\n",
              "    }\n",
              "</style>\n",
              "<table border=\"1\" class=\"dataframe\">\n",
              "  <thead>\n",
              "    <tr style=\"text-align: right;\">\n",
              "      <th></th>\n",
              "      <th>asin</th>\n",
              "      <th>date</th>\n",
              "      <th>text</th>\n",
              "      <th>imageUrlList</th>\n",
              "      <th>numberOfHelpful</th>\n",
              "      <th>parentReviewId</th>\n",
              "      <th>rating</th>\n",
              "      <th>reviewId</th>\n",
              "      <th>title</th>\n",
              "      <th>username</th>\n",
              "      <th>verified</th>\n",
              "      <th>keyword</th>\n",
              "    </tr>\n",
              "  </thead>\n",
              "  <tbody>\n",
              "    <tr>\n",
              "      <th>0</th>\n",
              "      <td>B0973WGX3D</td>\n",
              "      <td>Reviewed in the United States on March 13, 2022</td>\n",
              "      <td>The media could not be loaded. Buyy it!!!! Ama...</td>\n",
              "      <td>NaN</td>\n",
              "      <td>0</td>\n",
              "      <td>NaN</td>\n",
              "      <td>5.0 out of 5 stars</td>\n",
              "      <td>R13DKMYTOTKWJX</td>\n",
              "      <td>Yessssss</td>\n",
              "      <td>Boss2021babe</td>\n",
              "      <td>True</td>\n",
              "      <td>Beauty</td>\n",
              "    </tr>\n",
              "    <tr>\n",
              "      <th>1</th>\n",
              "      <td>B00DLJ7N2U</td>\n",
              "      <td>Reviewed in the United States on April 7, 2022</td>\n",
              "      <td>Item is heavy and uncomfortable after holding....</td>\n",
              "      <td>NaN</td>\n",
              "      <td>0</td>\n",
              "      <td>NaN</td>\n",
              "      <td>3.0 out of 5 stars</td>\n",
              "      <td>R1BT000GQYEISB</td>\n",
              "      <td>Heavy, takes too long</td>\n",
              "      <td>Debbie Meadows</td>\n",
              "      <td>True</td>\n",
              "      <td>Beauty</td>\n",
              "    </tr>\n",
              "    <tr>\n",
              "      <th>2</th>\n",
              "      <td>B00DLJ7N2U</td>\n",
              "      <td>Reviewed in the United States on April 7, 2022</td>\n",
              "      <td>So I was excited when I ordered this product. ...</td>\n",
              "      <td>['https://m.media-amazon.com/images/I/71AAtho7...</td>\n",
              "      <td>0</td>\n",
              "      <td>NaN</td>\n",
              "      <td>1.0 out of 5 stars</td>\n",
              "      <td>R1VRRVSFGPZUPW</td>\n",
              "      <td>Not made for black women.</td>\n",
              "      <td>Candace</td>\n",
              "      <td>True</td>\n",
              "      <td>Beauty</td>\n",
              "    </tr>\n",
              "    <tr>\n",
              "      <th>3</th>\n",
              "      <td>B00DLJ7N2U</td>\n",
              "      <td>Reviewed in the United States on March 26, 2022</td>\n",
              "      <td>My daughter purchased it and it was too painfu...</td>\n",
              "      <td>NaN</td>\n",
              "      <td>0</td>\n",
              "      <td>NaN</td>\n",
              "      <td>2.0 out of 5 stars</td>\n",
              "      <td>RDLUGW9NGVANK</td>\n",
              "      <td>Painful</td>\n",
              "      <td>Christina Martinez</td>\n",
              "      <td>True</td>\n",
              "      <td>Beauty</td>\n",
              "    </tr>\n",
              "    <tr>\n",
              "      <th>4</th>\n",
              "      <td>B00DLJ7N2U</td>\n",
              "      <td>Reviewed in the United States on March 24, 2022</td>\n",
              "      <td>This can be used as maintenance between the tr...</td>\n",
              "      <td>NaN</td>\n",
              "      <td>2</td>\n",
              "      <td>NaN</td>\n",
              "      <td>3.0 out of 5 stars</td>\n",
              "      <td>RN9761C69LUKO</td>\n",
              "      <td>Not a replacement to the commercial treatments</td>\n",
              "      <td>Adrian</td>\n",
              "      <td>True</td>\n",
              "      <td>Beauty</td>\n",
              "    </tr>\n",
              "  </tbody>\n",
              "</table>\n",
              "</div>\n",
              "    <div class=\"colab-df-buttons\">\n",
              "\n",
              "  <div class=\"colab-df-container\">\n",
              "    <button class=\"colab-df-convert\" onclick=\"convertToInteractive('df-7be9d5a8-1d7e-4e35-97a0-6bbc8b7f0482')\"\n",
              "            title=\"Convert this dataframe to an interactive table.\"\n",
              "            style=\"display:none;\">\n",
              "\n",
              "  <svg xmlns=\"http://www.w3.org/2000/svg\" height=\"24px\" viewBox=\"0 -960 960 960\">\n",
              "    <path d=\"M120-120v-720h720v720H120Zm60-500h600v-160H180v160Zm220 220h160v-160H400v160Zm0 220h160v-160H400v160ZM180-400h160v-160H180v160Zm440 0h160v-160H620v160ZM180-180h160v-160H180v160Zm440 0h160v-160H620v160Z\"/>\n",
              "  </svg>\n",
              "    </button>\n",
              "\n",
              "  <style>\n",
              "    .colab-df-container {\n",
              "      display:flex;\n",
              "      gap: 12px;\n",
              "    }\n",
              "\n",
              "    .colab-df-convert {\n",
              "      background-color: #E8F0FE;\n",
              "      border: none;\n",
              "      border-radius: 50%;\n",
              "      cursor: pointer;\n",
              "      display: none;\n",
              "      fill: #1967D2;\n",
              "      height: 32px;\n",
              "      padding: 0 0 0 0;\n",
              "      width: 32px;\n",
              "    }\n",
              "\n",
              "    .colab-df-convert:hover {\n",
              "      background-color: #E2EBFA;\n",
              "      box-shadow: 0px 1px 2px rgba(60, 64, 67, 0.3), 0px 1px 3px 1px rgba(60, 64, 67, 0.15);\n",
              "      fill: #174EA6;\n",
              "    }\n",
              "\n",
              "    .colab-df-buttons div {\n",
              "      margin-bottom: 4px;\n",
              "    }\n",
              "\n",
              "    [theme=dark] .colab-df-convert {\n",
              "      background-color: #3B4455;\n",
              "      fill: #D2E3FC;\n",
              "    }\n",
              "\n",
              "    [theme=dark] .colab-df-convert:hover {\n",
              "      background-color: #434B5C;\n",
              "      box-shadow: 0px 1px 3px 1px rgba(0, 0, 0, 0.15);\n",
              "      filter: drop-shadow(0px 1px 2px rgba(0, 0, 0, 0.3));\n",
              "      fill: #FFFFFF;\n",
              "    }\n",
              "  </style>\n",
              "\n",
              "    <script>\n",
              "      const buttonEl =\n",
              "        document.querySelector('#df-7be9d5a8-1d7e-4e35-97a0-6bbc8b7f0482 button.colab-df-convert');\n",
              "      buttonEl.style.display =\n",
              "        google.colab.kernel.accessAllowed ? 'block' : 'none';\n",
              "\n",
              "      async function convertToInteractive(key) {\n",
              "        const element = document.querySelector('#df-7be9d5a8-1d7e-4e35-97a0-6bbc8b7f0482');\n",
              "        const dataTable =\n",
              "          await google.colab.kernel.invokeFunction('convertToInteractive',\n",
              "                                                    [key], {});\n",
              "        if (!dataTable) return;\n",
              "\n",
              "        const docLinkHtml = 'Like what you see? Visit the ' +\n",
              "          '<a target=\"_blank\" href=https://colab.research.google.com/notebooks/data_table.ipynb>data table notebook</a>'\n",
              "          + ' to learn more about interactive tables.';\n",
              "        element.innerHTML = '';\n",
              "        dataTable['output_type'] = 'display_data';\n",
              "        await google.colab.output.renderOutput(dataTable, element);\n",
              "        const docLink = document.createElement('div');\n",
              "        docLink.innerHTML = docLinkHtml;\n",
              "        element.appendChild(docLink);\n",
              "      }\n",
              "    </script>\n",
              "  </div>\n",
              "\n",
              "\n",
              "<div id=\"df-f0aa04e4-5b7c-48f6-abe7-24b15f527881\">\n",
              "  <button class=\"colab-df-quickchart\" onclick=\"quickchart('df-f0aa04e4-5b7c-48f6-abe7-24b15f527881')\"\n",
              "            title=\"Suggest charts\"\n",
              "            style=\"display:none;\">\n",
              "\n",
              "<svg xmlns=\"http://www.w3.org/2000/svg\" height=\"24px\"viewBox=\"0 0 24 24\"\n",
              "     width=\"24px\">\n",
              "    <g>\n",
              "        <path d=\"M19 3H5c-1.1 0-2 .9-2 2v14c0 1.1.9 2 2 2h14c1.1 0 2-.9 2-2V5c0-1.1-.9-2-2-2zM9 17H7v-7h2v7zm4 0h-2V7h2v10zm4 0h-2v-4h2v4z\"/>\n",
              "    </g>\n",
              "</svg>\n",
              "  </button>\n",
              "\n",
              "<style>\n",
              "  .colab-df-quickchart {\n",
              "      --bg-color: #E8F0FE;\n",
              "      --fill-color: #1967D2;\n",
              "      --hover-bg-color: #E2EBFA;\n",
              "      --hover-fill-color: #174EA6;\n",
              "      --disabled-fill-color: #AAA;\n",
              "      --disabled-bg-color: #DDD;\n",
              "  }\n",
              "\n",
              "  [theme=dark] .colab-df-quickchart {\n",
              "      --bg-color: #3B4455;\n",
              "      --fill-color: #D2E3FC;\n",
              "      --hover-bg-color: #434B5C;\n",
              "      --hover-fill-color: #FFFFFF;\n",
              "      --disabled-bg-color: #3B4455;\n",
              "      --disabled-fill-color: #666;\n",
              "  }\n",
              "\n",
              "  .colab-df-quickchart {\n",
              "    background-color: var(--bg-color);\n",
              "    border: none;\n",
              "    border-radius: 50%;\n",
              "    cursor: pointer;\n",
              "    display: none;\n",
              "    fill: var(--fill-color);\n",
              "    height: 32px;\n",
              "    padding: 0;\n",
              "    width: 32px;\n",
              "  }\n",
              "\n",
              "  .colab-df-quickchart:hover {\n",
              "    background-color: var(--hover-bg-color);\n",
              "    box-shadow: 0 1px 2px rgba(60, 64, 67, 0.3), 0 1px 3px 1px rgba(60, 64, 67, 0.15);\n",
              "    fill: var(--button-hover-fill-color);\n",
              "  }\n",
              "\n",
              "  .colab-df-quickchart-complete:disabled,\n",
              "  .colab-df-quickchart-complete:disabled:hover {\n",
              "    background-color: var(--disabled-bg-color);\n",
              "    fill: var(--disabled-fill-color);\n",
              "    box-shadow: none;\n",
              "  }\n",
              "\n",
              "  .colab-df-spinner {\n",
              "    border: 2px solid var(--fill-color);\n",
              "    border-color: transparent;\n",
              "    border-bottom-color: var(--fill-color);\n",
              "    animation:\n",
              "      spin 1s steps(1) infinite;\n",
              "  }\n",
              "\n",
              "  @keyframes spin {\n",
              "    0% {\n",
              "      border-color: transparent;\n",
              "      border-bottom-color: var(--fill-color);\n",
              "      border-left-color: var(--fill-color);\n",
              "    }\n",
              "    20% {\n",
              "      border-color: transparent;\n",
              "      border-left-color: var(--fill-color);\n",
              "      border-top-color: var(--fill-color);\n",
              "    }\n",
              "    30% {\n",
              "      border-color: transparent;\n",
              "      border-left-color: var(--fill-color);\n",
              "      border-top-color: var(--fill-color);\n",
              "      border-right-color: var(--fill-color);\n",
              "    }\n",
              "    40% {\n",
              "      border-color: transparent;\n",
              "      border-right-color: var(--fill-color);\n",
              "      border-top-color: var(--fill-color);\n",
              "    }\n",
              "    60% {\n",
              "      border-color: transparent;\n",
              "      border-right-color: var(--fill-color);\n",
              "    }\n",
              "    80% {\n",
              "      border-color: transparent;\n",
              "      border-right-color: var(--fill-color);\n",
              "      border-bottom-color: var(--fill-color);\n",
              "    }\n",
              "    90% {\n",
              "      border-color: transparent;\n",
              "      border-bottom-color: var(--fill-color);\n",
              "    }\n",
              "  }\n",
              "</style>\n",
              "\n",
              "  <script>\n",
              "    async function quickchart(key) {\n",
              "      const quickchartButtonEl =\n",
              "        document.querySelector('#' + key + ' button');\n",
              "      quickchartButtonEl.disabled = true;  // To prevent multiple clicks.\n",
              "      quickchartButtonEl.classList.add('colab-df-spinner');\n",
              "      try {\n",
              "        const charts = await google.colab.kernel.invokeFunction(\n",
              "            'suggestCharts', [key], {});\n",
              "      } catch (error) {\n",
              "        console.error('Error during call to suggestCharts:', error);\n",
              "      }\n",
              "      quickchartButtonEl.classList.remove('colab-df-spinner');\n",
              "      quickchartButtonEl.classList.add('colab-df-quickchart-complete');\n",
              "    }\n",
              "    (() => {\n",
              "      let quickchartButtonEl =\n",
              "        document.querySelector('#df-f0aa04e4-5b7c-48f6-abe7-24b15f527881 button');\n",
              "      quickchartButtonEl.style.display =\n",
              "        google.colab.kernel.accessAllowed ? 'block' : 'none';\n",
              "    })();\n",
              "  </script>\n",
              "</div>\n",
              "\n",
              "    </div>\n",
              "  </div>\n"
            ],
            "application/vnd.google.colaboratory.intrinsic+json": {
              "type": "dataframe",
              "variable_name": "df",
              "summary": "{\n  \"name\": \"df\",\n  \"rows\": 20094,\n  \"fields\": [\n    {\n      \"column\": \"asin\",\n      \"properties\": {\n        \"dtype\": \"category\",\n        \"num_unique_values\": 52,\n        \"samples\": [\n          \"B002RW9C3A\",\n          \"B092NV1JDY\",\n          \"B07TPYX9DG\"\n        ],\n        \"semantic_type\": \"\",\n        \"description\": \"\"\n      }\n    },\n    {\n      \"column\": \"date\",\n      \"properties\": {\n        \"dtype\": \"category\",\n        \"num_unique_values\": 3226,\n        \"samples\": [\n          \"Reviewed in the United States on April 12, 2019\",\n          \"Reviewed in the United States on July 29, 2016\",\n          \"Reviewed in the United States on March 6, 2017\"\n        ],\n        \"semantic_type\": \"\",\n        \"description\": \"\"\n      }\n    },\n    {\n      \"column\": \"text\",\n      \"properties\": {\n        \"dtype\": \"string\",\n        \"num_unique_values\": 19371,\n        \"samples\": [\n          \"A tiempo\",\n          \"I like the price and I use every day after cleaning my face.\",\n          \"Wow I never thought I would be able to get rid of the bumps on my arms!! Now it\\u2019s completely gone only took a month. Also I would revoke using the first aid beauty cream with it.\"\n        ],\n        \"semantic_type\": \"\",\n        \"description\": \"\"\n      }\n    },\n    {\n      \"column\": \"imageUrlList\",\n      \"properties\": {\n        \"dtype\": \"category\",\n        \"num_unique_values\": 991,\n        \"samples\": [\n          \"['https://images-na.ssl-images-amazon.com/images/I/61s80EyHUOL._SY88.jpg', 'https://images-na.ssl-images-amazon.com/images/I/61xIZDbY-2L._SY88.jpg']\",\n          \"['https://images-na.ssl-images-amazon.com/images/I/91AeIDRDBrL._SY88.jpg']\",\n          \"['https://images-na.ssl-images-amazon.com/images/I/61WFUa6DhgL._SY88.jpg', 'https://images-na.ssl-images-amazon.com/images/I/71FpvRFqVPL._SY88.jpg', 'https://images-na.ssl-images-amazon.com/images/I/81tsL8uTk7L._SY88.jpg']\"\n        ],\n        \"semantic_type\": \"\",\n        \"description\": \"\"\n      }\n    },\n    {\n      \"column\": \"numberOfHelpful\",\n      \"properties\": {\n        \"dtype\": \"number\",\n        \"std\": 15,\n        \"min\": 0,\n        \"max\": 877,\n        \"num_unique_values\": 129,\n        \"samples\": [\n          53,\n          21,\n          46\n        ],\n        \"semantic_type\": \"\",\n        \"description\": \"\"\n      }\n    },\n    {\n      \"column\": \"parentReviewId\",\n      \"properties\": {\n        \"dtype\": \"number\",\n        \"std\": null,\n        \"min\": null,\n        \"max\": null,\n        \"num_unique_values\": 0,\n        \"samples\": [],\n        \"semantic_type\": \"\",\n        \"description\": \"\"\n      }\n    },\n    {\n      \"column\": \"rating\",\n      \"properties\": {\n        \"dtype\": \"category\",\n        \"num_unique_values\": 5,\n        \"samples\": [],\n        \"semantic_type\": \"\",\n        \"description\": \"\"\n      }\n    },\n    {\n      \"column\": \"reviewId\",\n      \"properties\": {\n        \"dtype\": \"string\",\n        \"num_unique_values\": 20094,\n        \"samples\": [],\n        \"semantic_type\": \"\",\n        \"description\": \"\"\n      }\n    },\n    {\n      \"column\": \"title\",\n      \"properties\": {\n        \"dtype\": \"string\",\n        \"num_unique_values\": 13821,\n        \"samples\": [],\n        \"semantic_type\": \"\",\n        \"description\": \"\"\n      }\n    },\n    {\n      \"column\": \"username\",\n      \"properties\": {\n        \"dtype\": \"string\",\n        \"num_unique_values\": 15253,\n        \"samples\": [],\n        \"semantic_type\": \"\",\n        \"description\": \"\"\n      }\n    },\n    {\n      \"column\": \"verified\",\n      \"properties\": {\n        \"dtype\": \"boolean\",\n        \"num_unique_values\": 2,\n        \"samples\": [],\n        \"semantic_type\": \"\",\n        \"description\": \"\"\n      }\n    },\n    {\n      \"column\": \"keyword\",\n      \"properties\": {\n        \"dtype\": \"category\",\n        \"num_unique_values\": 1,\n        \"samples\": [],\n        \"semantic_type\": \"\",\n        \"description\": \"\"\n      }\n    }\n  ]\n}"
            }
          },
          "metadata": {},
          "execution_count": 4
        }
      ]
    },
    {
      "cell_type": "code",
      "source": [
        "#see columns in df\n",
        "df.columns"
      ],
      "metadata": {
        "colab": {
          "base_uri": "https://localhost:8080/"
        },
        "id": "3hB4Mh69BE2Y",
        "outputId": "e37b988b-36f0-4882-e091-ea616fd415a3"
      },
      "execution_count": null,
      "outputs": [
        {
          "output_type": "execute_result",
          "data": {
            "text/plain": [
              "Index(['asin', 'date', 'text', 'imageUrlList', 'numberOfHelpful',\n",
              "       'parentReviewId', 'rating', 'reviewId', 'title', 'username', 'verified',\n",
              "       'keyword'],\n",
              "      dtype='object')"
            ]
          },
          "metadata": {},
          "execution_count": 5
        }
      ]
    },
    {
      "cell_type": "code",
      "source": [
        "df.dtypes"
      ],
      "metadata": {
        "colab": {
          "base_uri": "https://localhost:8080/"
        },
        "id": "F8DfYOXjEhQm",
        "outputId": "962c3789-916f-4bf6-b9cb-619c744583f9"
      },
      "execution_count": null,
      "outputs": [
        {
          "output_type": "execute_result",
          "data": {
            "text/plain": [
              "asin                object\n",
              "date                object\n",
              "text                object\n",
              "imageUrlList        object\n",
              "numberOfHelpful      int64\n",
              "parentReviewId     float64\n",
              "rating              object\n",
              "reviewId            object\n",
              "title               object\n",
              "username            object\n",
              "verified              bool\n",
              "keyword             object\n",
              "dtype: object"
            ]
          },
          "metadata": {},
          "execution_count": 6
        }
      ]
    },
    {
      "cell_type": "code",
      "source": [
        "df.shape"
      ],
      "metadata": {
        "id": "MVuww7lGbgZc",
        "outputId": "0fa32170-81c5-4951-8758-b8c6a68e88d8",
        "colab": {
          "base_uri": "https://localhost:8080/"
        }
      },
      "execution_count": null,
      "outputs": [
        {
          "output_type": "execute_result",
          "data": {
            "text/plain": [
              "(20094, 12)"
            ]
          },
          "metadata": {},
          "execution_count": 8
        }
      ]
    },
    {
      "cell_type": "code",
      "source": [
        "#code #probably can drop\n",
        "df.asin"
      ],
      "metadata": {
        "colab": {
          "base_uri": "https://localhost:8080/"
        },
        "id": "er6WVty5Cb7K",
        "outputId": "f6fe9708-2ae7-4d69-922c-89e7682b4e9c"
      },
      "execution_count": null,
      "outputs": [
        {
          "output_type": "execute_result",
          "data": {
            "text/plain": [
              "0        B0973WGX3D\n",
              "1        B00DLJ7N2U\n",
              "2        B00DLJ7N2U\n",
              "3        B00DLJ7N2U\n",
              "4        B00DLJ7N2U\n",
              "            ...    \n",
              "20089    B08N7VDKB8\n",
              "20090    B08N7VDKB8\n",
              "20091    B08N7VDKB8\n",
              "20092    B08N7VDKB8\n",
              "20093    B08N7VDKB8\n",
              "Name: asin, Length: 20094, dtype: object"
            ]
          },
          "metadata": {},
          "execution_count": 5
        }
      ]
    },
    {
      "cell_type": "code",
      "source": [
        "#imageUrlList #probably can drop\n",
        "df.imageUrlList"
      ],
      "metadata": {
        "colab": {
          "base_uri": "https://localhost:8080/"
        },
        "id": "VDhZwm9LDUev",
        "outputId": "1e6f7270-832a-4036-a4af-bb70e7e3e987"
      },
      "execution_count": null,
      "outputs": [
        {
          "output_type": "execute_result",
          "data": {
            "text/plain": [
              "0                                                      NaN\n",
              "1                                                      NaN\n",
              "2        ['https://m.media-amazon.com/images/I/71AAtho7...\n",
              "3                                                      NaN\n",
              "4                                                      NaN\n",
              "                               ...                        \n",
              "20089                                                  NaN\n",
              "20090                                                  NaN\n",
              "20091                                                  NaN\n",
              "20092                                                  NaN\n",
              "20093                                                  NaN\n",
              "Name: imageUrlList, Length: 20094, dtype: object"
            ]
          },
          "metadata": {},
          "execution_count": 6
        }
      ]
    },
    {
      "cell_type": "code",
      "source": [
        "#check parent review\n",
        "df.parentReviewId\n",
        "#drop it"
      ],
      "metadata": {
        "colab": {
          "base_uri": "https://localhost:8080/"
        },
        "id": "vl2D5uQ_DbkM",
        "outputId": "0837359d-ae26-4e54-c323-d6cdc7b5f904"
      },
      "execution_count": null,
      "outputs": [
        {
          "output_type": "execute_result",
          "data": {
            "text/plain": [
              "0       NaN\n",
              "1       NaN\n",
              "2       NaN\n",
              "3       NaN\n",
              "4       NaN\n",
              "         ..\n",
              "20089   NaN\n",
              "20090   NaN\n",
              "20091   NaN\n",
              "20092   NaN\n",
              "20093   NaN\n",
              "Name: parentReviewId, Length: 20094, dtype: float64"
            ]
          },
          "metadata": {},
          "execution_count": 7
        }
      ]
    },
    {
      "cell_type": "code",
      "source": [
        "# Drop the 'parentReviewId' column\n",
        "df.drop(columns=['parentReviewId', 'imageUrlList'], inplace=True)\n",
        "#check if its dropped\n",
        "df.columns"
      ],
      "metadata": {
        "colab": {
          "base_uri": "https://localhost:8080/"
        },
        "id": "VHPk1a_EDwKc",
        "outputId": "05955d4d-36b2-495f-c5b6-b8d7e8aa031b"
      },
      "execution_count": null,
      "outputs": [
        {
          "output_type": "execute_result",
          "data": {
            "text/plain": [
              "Index(['asin', 'date', 'text', 'numberOfHelpful', 'rating', 'reviewId',\n",
              "       'title', 'username', 'verified', 'keyword'],\n",
              "      dtype='object')"
            ]
          },
          "metadata": {},
          "execution_count": 8
        }
      ]
    },
    {
      "cell_type": "code",
      "source": [
        "df['rating']"
      ],
      "metadata": {
        "colab": {
          "base_uri": "https://localhost:8080/"
        },
        "id": "ykLavgB7timW",
        "outputId": "08afc9d4-7a4d-48b7-cf49-1218156d74c0"
      },
      "execution_count": null,
      "outputs": [
        {
          "output_type": "execute_result",
          "data": {
            "text/plain": [
              "0        5.0 out of 5 stars\n",
              "1        3.0 out of 5 stars\n",
              "2        1.0 out of 5 stars\n",
              "3        2.0 out of 5 stars\n",
              "4        3.0 out of 5 stars\n",
              "                ...        \n",
              "20089    5.0 out of 5 stars\n",
              "20090    5.0 out of 5 stars\n",
              "20091    5.0 out of 5 stars\n",
              "20092    1.0 out of 5 stars\n",
              "20093    5.0 out of 5 stars\n",
              "Name: rating, Length: 20094, dtype: object"
            ]
          },
          "metadata": {},
          "execution_count": 9
        }
      ]
    },
    {
      "cell_type": "code",
      "source": [
        "# Clean the 'rating' column to extract only numerical values\n",
        "df['rating'] = df['rating'].str.split().str[0]\n",
        "\n",
        "# Convert the 'rating' column to float\n",
        "df['rating'] = df['rating'].astype(float)\n",
        "\n",
        "# Round the float ratings to remove the decimal part\n",
        "df['rating'] = df['rating'].round().astype(int)\n",
        "\n",
        "# Now the 'rating' column contains integer values\n",
        "print(df['rating'])"
      ],
      "metadata": {
        "colab": {
          "base_uri": "https://localhost:8080/"
        },
        "id": "xeXwCL9xDzna",
        "outputId": "5fe99aa6-81cb-4d34-bfb2-91f7bf906469"
      },
      "execution_count": null,
      "outputs": [
        {
          "output_type": "stream",
          "name": "stdout",
          "text": [
            "0        5\n",
            "1        3\n",
            "2        1\n",
            "3        2\n",
            "4        3\n",
            "        ..\n",
            "20089    5\n",
            "20090    5\n",
            "20091    5\n",
            "20092    1\n",
            "20093    5\n",
            "Name: rating, Length: 20094, dtype: int64\n"
          ]
        }
      ]
    },
    {
      "cell_type": "code",
      "source": [
        "# drop duplicated rows\n",
        "print(df.shape)\n",
        "df.drop_duplicates(subset = \"text\", inplace = True)\n",
        "print(df.shape)"
      ],
      "metadata": {
        "id": "ThfrGc2BEWfK",
        "colab": {
          "base_uri": "https://localhost:8080/"
        },
        "outputId": "e4fb5fd9-df18-402f-9966-30ee5012a60f"
      },
      "execution_count": null,
      "outputs": [
        {
          "output_type": "stream",
          "name": "stdout",
          "text": [
            "(20094, 10)\n",
            "(19372, 10)\n"
          ]
        }
      ]
    },
    {
      "cell_type": "code",
      "source": [
        "# let's use only 1,2 or 4, 5 stars only\n",
        "label_review = df.loc[df['rating']!=3, :]\n",
        "print(df.shape)\n",
        "df.rating.unique()"
      ],
      "metadata": {
        "id": "Es3v0DK8-HvZ",
        "colab": {
          "base_uri": "https://localhost:8080/"
        },
        "outputId": "797599b9-e96d-40ed-d4d2-97c03e76f6eb"
      },
      "execution_count": null,
      "outputs": [
        {
          "output_type": "stream",
          "name": "stdout",
          "text": [
            "(19372, 10)\n"
          ]
        },
        {
          "output_type": "execute_result",
          "data": {
            "text/plain": [
              "array([5, 3, 1, 2, 4])"
            ]
          },
          "metadata": {},
          "execution_count": 12
        }
      ]
    },
    {
      "cell_type": "code",
      "source": [
        "#check NaNs\n",
        "nan_counts = {}\n",
        "for column in df.columns:\n",
        "    # Count NaN values in the current column\n",
        "    nan_counts[column] = df[column].isna().sum()\n",
        "\n",
        "print(\"Number of NaN values in each column:\")\n",
        "print(nan_counts)"
      ],
      "metadata": {
        "colab": {
          "base_uri": "https://localhost:8080/"
        },
        "id": "ZIj6dF48Dnpk",
        "outputId": "37310303-21ca-4f01-a047-f7390075cc87"
      },
      "execution_count": null,
      "outputs": [
        {
          "output_type": "stream",
          "name": "stdout",
          "text": [
            "Number of NaN values in each column:\n",
            "{'asin': 0, 'date': 0, 'text': 1, 'numberOfHelpful': 0, 'rating': 0, 'reviewId': 0, 'title': 402, 'username': 3, 'verified': 0, 'keyword': 0}\n"
          ]
        }
      ]
    },
    {
      "cell_type": "code",
      "source": [
        "# Filter rows where the review is not in the United States and display the dates\n",
        "non_us_reviews = df[~df['date'].str.contains(\"in the United States\")]\n",
        "print(\"Reviews not in the United States:\")\n",
        "print(non_us_reviews['date'])"
      ],
      "metadata": {
        "colab": {
          "base_uri": "https://localhost:8080/"
        },
        "id": "WNBsNzhlJhOo",
        "outputId": "eb6e98fb-3778-47e3-e564-ed7f6dec0d26"
      },
      "execution_count": null,
      "outputs": [
        {
          "output_type": "stream",
          "name": "stdout",
          "text": [
            "Reviews not in the United States:\n",
            "685            Reviewed in Australia on September 23, 2021\n",
            "686                 Reviewed in Australia on March 4, 2021\n",
            "687                 Reviewed in Canada on October 12, 2020\n",
            "688                    Reviewed in India on August 9, 2020\n",
            "689                    Reviewed in Canada on June 18, 2020\n",
            "                               ...                        \n",
            "17930                    Reviewed in Italy on May 12, 2018\n",
            "17931                  Reviewed in Spain on April 12, 2018\n",
            "17932                  Reviewed in Italy on April 11, 2018\n",
            "17933                  Reviewed in Italy on March 20, 2018\n",
            "17934    Reviewed in the United Kingdom on February 14,...\n",
            "Name: date, Length: 401, dtype: object\n"
          ]
        }
      ]
    },
    {
      "cell_type": "code",
      "source": [
        "# Extract the country information from each string and create a new column 'country'\n",
        "df['country'] = df['date'].str.extract(r'Reviewed in the (.+?) on')\n",
        "\n",
        "# Extract the date information from each string and create a new column 'date_new'\n",
        "df['date_new'] = pd.to_datetime(df['date'].str.extract(r'on (.+)$')[0], format='%B %d, %Y').dt.strftime('%m-%d-%Y')\n",
        "\n",
        "# Display the DataFrame with extracted country and date_new\n",
        "print(\"Extracted country and date_new:\")\n",
        "print(df[['country', 'date_new']])"
      ],
      "metadata": {
        "colab": {
          "base_uri": "https://localhost:8080/"
        },
        "id": "hlP6ENEpJOyf",
        "outputId": "d3a6680a-948f-4fda-a84b-adc25d39ee87"
      },
      "execution_count": null,
      "outputs": [
        {
          "output_type": "stream",
          "name": "stdout",
          "text": [
            "Extracted country and date_new:\n",
            "             country    date_new\n",
            "0      United States  03-13-2022\n",
            "1      United States  04-07-2022\n",
            "2      United States  04-07-2022\n",
            "3      United States  03-26-2022\n",
            "4      United States  03-24-2022\n",
            "...              ...         ...\n",
            "20089  United States  05-26-2021\n",
            "20090  United States  05-25-2021\n",
            "20091  United States  05-21-2021\n",
            "20092  United States  05-19-2021\n",
            "20093  United States  04-10-2021\n",
            "\n",
            "[19372 rows x 2 columns]\n"
          ]
        }
      ]
    },
    {
      "cell_type": "code",
      "source": [
        "# Drop the original 'date' column\n",
        "df.drop(columns=['date'], inplace=True)"
      ],
      "metadata": {
        "id": "dzEROlwdMitk"
      },
      "execution_count": null,
      "outputs": []
    },
    {
      "cell_type": "code",
      "source": [
        "# Check if all reviews are related to the keyword 'beauty'\n",
        "all_beauty_reviews = df['keyword'].str.contains(\"beauty\").all()\n",
        "\n",
        "if all_beauty_reviews:\n",
        "    print(\"All reviews are related to the keyword 'beauty'.\")\n",
        "    # Drop the 'keyword' column\n",
        "    df.drop(columns=['keyword'], inplace=True)\n",
        "else:\n",
        "    print(\"Not all reviews are related to the keyword 'beauty'.\")"
      ],
      "metadata": {
        "colab": {
          "base_uri": "https://localhost:8080/"
        },
        "id": "aNlN_NCdN7pl",
        "outputId": "488b7140-0ffc-4fcd-d82a-39cf4af95f59"
      },
      "execution_count": null,
      "outputs": [
        {
          "output_type": "stream",
          "name": "stdout",
          "text": [
            "Not all reviews are related to the keyword 'beauty'.\n"
          ]
        }
      ]
    },
    {
      "cell_type": "code",
      "source": [
        "#drop column keyword and new column beauty as all reviews are in beauty\n",
        "df.drop(columns=['keyword'], inplace=True)"
      ],
      "metadata": {
        "id": "j2jrOTQHOcPj"
      },
      "execution_count": null,
      "outputs": []
    },
    {
      "cell_type": "code",
      "source": [
        "#check how many are verified or not\n",
        "verified_percentage = (df['verified'].sum() / df['verified'].count()) * 100\n",
        "\n",
        "print(\"Percentage of verified reviews:\", verified_percentage, \"%\")\n",
        "\n",
        "# Count the number of verified reviews\n",
        "verified_count = df['verified'].sum()\n",
        "total_reviews = df['verified'].count()\n",
        "\n",
        "print(\"Number of verified reviews:\", verified_count, \"out of\", total_reviews)"
      ],
      "metadata": {
        "colab": {
          "base_uri": "https://localhost:8080/"
        },
        "id": "9cadBqkeOnF4",
        "outputId": "0b611c34-74f4-4bb3-f83a-a1c487d828ff"
      },
      "execution_count": null,
      "outputs": [
        {
          "output_type": "stream",
          "name": "stdout",
          "text": [
            "Percentage of verified reviews: 92.82469543671277 %\n",
            "Number of verified reviews: 17982 out of 19372\n"
          ]
        }
      ]
    },
    {
      "cell_type": "code",
      "source": [
        "#download df as csv\n",
        "df.to_csv('df', index=False)"
      ],
      "metadata": {
        "id": "3MCOPXCqQl6k"
      },
      "execution_count": null,
      "outputs": []
    }
  ]
}